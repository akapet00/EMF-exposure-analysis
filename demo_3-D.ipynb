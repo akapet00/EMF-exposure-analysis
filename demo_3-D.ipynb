{
 "cells": [
  {
   "cell_type": "markdown",
   "id": "confused-creativity",
   "metadata": {},
   "source": [
    "# 3-D"
   ]
  },
  {
   "cell_type": "code",
   "execution_count": null,
   "id": "otherwise-petroleum",
   "metadata": {},
   "outputs": [],
   "source": [
    "## imports\n",
    "import os\n",
    "\n",
    "import matplotlib.pyplot as plt\n",
    "import numpy as np\n",
    "\n",
    "from pycbem.bhte import (init_temp, delta_temp_analytic, delta_temp3)\n",
    "from pycbem.constants import (eps_0, mu_0)\n",
    "from pycbem.field import (efield, hfield)\n",
    "from pycbem.utils.dataloader import (load_tissue_diel_properties,\n",
    "                                     load_antenna_el_properties)\n",
    "from pycbem.utils.integrate import elementwise_dblquad\n",
    "from pycbem.utils.viz import fig_config"
   ]
  },
  {
   "cell_type": "code",
   "execution_count": null,
   "id": "photographic-saturn",
   "metadata": {},
   "outputs": [],
   "source": [
    "## constants\n",
    "# dry skin bhte parameters from IT'IS database\n",
    "# https://itis.swiss/virtual-population/tissue-properties/database/\n",
    "k = 0.37       # thermal conductivity [W/m/°C]\n",
    "rho = 1109.    # dry skin density [kg/m^3]\n",
    "C = 3391.      # specific heat of dry skin [Ws/kg/°C]\n",
    "m_b = 1.76e-6  # blood perfusion [m^3/kg/s], equivalent to 106 mL/min/kg\n",
    "\n",
    "# for blood\n",
    "k_b = 0.52     # thermal conductivity [W/m/°C]\n",
    "rho_b = 1000.  # kg/m^3\n",
    "C_b = 3617.    # specific heat of blood [J/kg/°C]\n",
    "\n",
    "# additional parameters\n",
    "h_0 = 10.      # heat convection coefficient skin surface - air [W/m^2/°C]\n",
    "T_a = 37.      # arterial temperature [°C]     \n",
    "T_c = 37.      # body core temperature [°C]\n",
    "T_f = 25.      # surrounding air temperature [°C]\n",
    "Q_m = 33800.   # metabolic heat generation [W/m^3]"
   ]
  },
  {
   "cell_type": "markdown",
   "id": "annoying-precipitation",
   "metadata": {},
   "source": [
    "## 3-D bioheat transfer equation in time\n",
    "\n",
    "Comparisson of the spectral method time domain solution and the analytic solution proposed in Foster et al. 2016.\n",
    "This time, the model for the SMTD method is three-dimensional. Additionally, realistic antenna is considered -- half-wave dipole centrally powered by a voltage source set to 1V."
   ]
  },
  {
   "cell_type": "markdown",
   "id": "compliant-soldier",
   "metadata": {},
   "source": [
    "### Setup"
   ]
  },
  {
   "cell_type": "code",
   "execution_count": null,
   "id": "seventh-plant",
   "metadata": {},
   "outputs": [],
   "source": [
    "# frequency\n",
    "f = 10e9\n",
    "\n",
    "# conductivity, relative permitivity, tangent loss and penetration depth (Gabriel et al. 1996)\n",
    "sigma, eps_r, tan_loss, pen_depth = load_tissue_diel_properties('skin_dry', f)\n",
    "\n",
    "# `pen_depth` is the energy penetration depth into tissue, which is defined as the distance \n",
    "# beneath the surface at which the SAR has fallen to a factor of 1/e below that at the surface;\n",
    "# one-half of the more commonly reported wave penetration depth\n",
    "pen_depth = pen_depth / 2\n",
    "\n",
    "# air (vacuum) resistance \n",
    "Z_air = np.sqrt(mu_0 / eps_0)\n",
    "\n",
    "# dry skin resistance\n",
    "Z_skin_dry = np.sqrt(mu_0 / (eps_r * eps_0))\n",
    "\n",
    "# energy (Fresnel) transmission coefficient into the tissue\n",
    "T_tr = 2 * Z_skin_dry / (Z_air + Z_skin_dry)\n",
    "\n",
    "# antenna electric properties (Poljak 2005)\n",
    "antenna_data = load_antenna_el_properties(f)\n",
    "Is = antenna_data.ireal.to_numpy() + antenna_data.iimag.to_numpy() * 1j\n",
    "\n",
    "# antenna position -- coordinates\n",
    "xs = antenna_data.x.to_numpy()\n",
    "ys = np.zeros_like(xs)\n",
    "zs = np.zeros_like(xs)\n",
    "\n",
    "# effective radiated skin area\n",
    "target_area = (0.02, 0.02)  # 2 x 2 cm2\n",
    "A = target_area[0] * target_area[1]\n",
    "h = - 15 / 1000  # distance from the antenna\n",
    "N = [11, 11, 11]\n",
    "xt = np.linspace(-target_area[0]/2, target_area[0]/2, N[0]) + xs[-1] / 2\n",
    "yt = np.linspace(-target_area[1]/2, target_area[1]/2, N[1])\n",
    "zt = np.array([h])"
   ]
  },
  {
   "cell_type": "markdown",
   "id": "harmful-pound",
   "metadata": {},
   "source": [
    "### EM-field"
   ]
  },
  {
   "cell_type": "code",
   "execution_count": null,
   "id": "administrative-worcester",
   "metadata": {},
   "outputs": [],
   "source": [
    "Ex = np.empty((xt.size, yt.size, zt.size), dtype=np.complex128)\n",
    "Ey = np.empty((xt.size, yt.size, zt.size), dtype=np.complex128)\n",
    "Ez = np.empty((xt.size, yt.size, zt.size), dtype=np.complex128)\n",
    "Hx = np.empty((xt.size, yt.size, zt.size), dtype=np.complex128)\n",
    "Hy = np.empty((xt.size, yt.size, zt.size), dtype=np.complex128)\n",
    "Hz = np.empty((xt.size, yt.size, zt.size), dtype=np.complex128)\n",
    "for x_idx, _xt in enumerate(xt):\n",
    "    for y_idx, _yt in enumerate(yt):\n",
    "        for z_idx, _zt in enumerate(zt):\n",
    "            ex, ey, ez = efield(_xt, _yt, _zt, xs, ys, zs, Is, f)\n",
    "            hx, hy, hz = hfield(_xt, _yt, _zt, xs, ys, zs, Is, f)\n",
    "            Ex[x_idx, y_idx, z_idx], Ey[x_idx, y_idx, z_idx], Ez[x_idx, y_idx, z_idx] = ex.item(), ey.item(), ez.item()\n",
    "            Hx[x_idx, y_idx, z_idx], Hy[x_idx, y_idx, z_idx], Hz[x_idx, y_idx, z_idx] = hx.item(), hy.item(), hz.item()"
   ]
  },
  {
   "cell_type": "code",
   "execution_count": null,
   "id": "realistic-destination",
   "metadata": {},
   "outputs": [],
   "source": [
    "I0m = np.sqrt(np.power(Ey * Hz.conj() - Ez * Hy.conj(), 2)\n",
    "              + np.power(Ex * Hz.conj(), 2)\n",
    "              + np.power(Ex * Hy.conj(), 2))\n",
    "I0 = np.abs(I0m)\n",
    "S0 = 1 / 2 * np.real(I0m)"
   ]
  },
  {
   "cell_type": "code",
   "execution_count": null,
   "id": "electrical-paragraph",
   "metadata": {},
   "outputs": [],
   "source": [
    "IPD = 1 / A * elementwise_dblquad(I0, xt, yt, 31)\n",
    "APD = 1 / A * elementwise_dblquad(S0, xt, yt, 31)\n",
    "\n",
    "print(f'{IPD = }')\n",
    "print(f'{APD = }')"
   ]
  },
  {
   "cell_type": "markdown",
   "id": "manufactured-investment",
   "metadata": {},
   "source": [
    "### Simulation"
   ]
  },
  {
   "cell_type": "code",
   "execution_count": null,
   "id": "located-greene",
   "metadata": {},
   "outputs": [],
   "source": [
    "sim_time = 1080\n",
    "tg = 1001\n",
    "t = np.linspace(0, sim_time, tg)\n",
    "SAR_sur = I0[:, :, 0] * T_tr / (rho * pen_depth)\n",
    "deltaT = delta_temp3(t, N, target_area, pen_depth, k, rho, C, m_b , SAR_sur)\n",
    "\n",
    "# save simulation into npy\n",
    "#fname = (f'deltaT_source-HWdipole_'\n",
    "#         f'grid-{N[0]}x{N[1]}x{N[2]}_'\n",
    "#         f'surface-{int(target_area[0]*target_area[1]*1e4)}cm_'\n",
    "#         f'timegrid-{tg}_'\n",
    "#         f'simtime-{sim_time}s.npy')\n",
    "#np.save(os.path.join('simulations', fname ), deltaT, allow_pickle=True, fix_imports=True)"
   ]
  },
  {
   "cell_type": "markdown",
   "id": "stock-radiation",
   "metadata": {},
   "source": [
    "### Visualization\n",
    "\n",
    "Temperature change on the surface."
   ]
  },
  {
   "cell_type": "code",
   "execution_count": null,
   "id": "environmental-integer",
   "metadata": {},
   "outputs": [],
   "source": [
    "fig_config(nrows=1, ncols=1, scaler=2.5)\n",
    "fig = plt.figure()\n",
    "ax = fig.add_subplot()\n",
    "cs = ax.imshow(deltaT[-1, :, :, 0], origin='lower',\n",
    "               extent=(xt.min(), xt.max(), yt.min(), yt.max()))\n",
    "ax.plot(xs, ys, 'r-', linewidth=4, label='dipole antenna')\n",
    "cbar = fig.colorbar(cs, ax=ax)\n",
    "cbar.ax.set_ylabel('$\\\\Delta T_{sur}$ [°C]')\n",
    "ax.set_xlabel('$x$ [m]')\n",
    "ax.set_ylabel('$y$ [m]')\n",
    "ax.legend()\n",
    "plt.tight_layout()\n",
    "plt.show()"
   ]
  },
  {
   "cell_type": "markdown",
   "id": "cleared-radiation",
   "metadata": {},
   "source": [
    "Temperature evolution on the surface and the distribution of temperature before (Deng2002) and after the exposure (depth-wise)."
   ]
  },
  {
   "cell_type": "code",
   "execution_count": null,
   "id": "behind-camcorder",
   "metadata": {},
   "outputs": [],
   "source": [
    "z = np.linspace(0, pen_depth, N[2])\n",
    "T0 = init_temp(z, k, rho, C, rho_b, C_b, m_b, h_0, T_a, T_c, T_f, Q_m)\n",
    "\n",
    "fig_config(nrows=1, ncols=2, scaler=1.25)\n",
    "fig = plt.figure()\n",
    "ax1 = fig.add_subplot(1, 2, 1)\n",
    "ax1.plot(t, np.ones_like(t) * T0[0] + delta_temp_analytic(t, pen_depth, k, rho, C, I0.max(), T_tr),\n",
    "         'k--', label='$T_{sur}(t)$, $m_b = 0$, Foster et al.')\n",
    "ax1.plot(t, np.ones_like(t) * T0[0] + np.max(deltaT[:, :, :, 0], axis=(1, 2)),\n",
    "         'k-', label='$T_{sur}(t)$, 3-D PSTD')\n",
    "ax1.set_xlabel('$t$ [s]')\n",
    "ax1.set_ylabel('$T$ [°C]')\n",
    "ax1.legend(loc='upper left')\n",
    "ax1.grid()\n",
    "\n",
    "ax2 = fig.add_subplot(1, 2, 2)\n",
    "xargmax, yargmax = np.where(deltaT[-1, :, :, 0] == deltaT[-1, :, :, 0].max())\n",
    "ax2.plot(z * 1e3, T0 + deltaT[-1, int(xargmax), int(yargmax), :], 'k-',\n",
    "         label=f'$T(z, t={int(t[-1])})$, 3-D PSTD')\n",
    "ax2.plot(z * 1e3, T0, 'k--', label='$T(z)$, Deng et al.')\n",
    "ax2.set_xlabel('$z$ [mm]')\n",
    "ax2.set_ylabel('$T$ [°C]')\n",
    "ax2.legend(loc='center left')\n",
    "ax2.grid()\n",
    "\n",
    "plt.tight_layout()\n",
    "plt.show()"
   ]
  },
  {
   "cell_type": "code",
   "execution_count": null,
   "id": "dying-italic",
   "metadata": {},
   "outputs": [],
   "source": []
  }
 ],
 "metadata": {
  "kernelspec": {
   "display_name": "Python 3",
   "language": "python",
   "name": "python3"
  },
  "language_info": {
   "codemirror_mode": {
    "name": "ipython",
    "version": 3
   },
   "file_extension": ".py",
   "mimetype": "text/x-python",
   "name": "python",
   "nbconvert_exporter": "python",
   "pygments_lexer": "ipython3",
   "version": "3.8.5"
  }
 },
 "nbformat": 4,
 "nbformat_minor": 5
}
