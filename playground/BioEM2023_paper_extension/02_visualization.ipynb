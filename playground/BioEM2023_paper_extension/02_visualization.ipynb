{
 "cells": [
  {
   "cell_type": "code",
   "execution_count": null,
   "id": "1be8410b-051c-4aee-90c1-95829b21b74d",
   "metadata": {},
   "outputs": [],
   "source": [
    "import numpy as np\n",
    "import pandas as pd\n",
    "\n",
    "from dosipy.utils.viz import scatter_3d, set_axes_equal\n",
    "\n",
    "from utils import load_processed_surface_data\n",
    "from utils import load_processed_volume_data"
   ]
  },
  {
   "cell_type": "markdown",
   "id": "476337fd-1448-440e-890e-4c0273476f86",
   "metadata": {},
   "source": [
    "# Surface"
   ]
  },
  {
   "cell_type": "code",
   "execution_count": null,
   "id": "6e8dcdff-b552-4a17-b20a-639e706089c7",
   "metadata": {},
   "outputs": [],
   "source": [
    "# visualize power density distributions for each exposure scenario\n",
    "\n",
    "antennas = ['DipoleVertical', 'DipoleHorizontal',\n",
    "            'ArrayVertical', 'ArrayHorizontal']\n",
    "distances = [5, 10, 15]\n",
    "for antenna in antennas:\n",
    "    for distance in distances:\n",
    "        df = load_processed_surface_data(antenna, distance)\n",
    "        xyz = df[['x', 'y', 'z']].to_numpy()\n",
    "        PD = df[['PD']].to_numpy()\n",
    "        psPD = PD.max()\n",
    "\n",
    "        fig, ax = scatter_3d({'x [m]': xyz[:, 0],\n",
    "                              'y [m]': xyz[:, 1],\n",
    "                              'z [m]': xyz[:, 2],\n",
    "                              'PD [W/m2]': PD}, azim=[180], elev=[10])\n",
    "        ax.set_box_aspect([1, 1, 1])\n",
    "        ax = set_axes_equal(ax)\n",
    "        ax.set_title(f'{antenna} antenna at d = {distance} mm\\n'\n",
    "                     f' psPD = {psPD:.2f} W/m2')"
   ]
  },
  {
   "cell_type": "markdown",
   "id": "7c21e4f8-115d-487a-980c-9d9eeccf87e5",
   "metadata": {},
   "source": [
    "# Volume"
   ]
  },
  {
   "cell_type": "code",
   "execution_count": null,
   "id": "e5475b64-561a-4d1d-aa05-b11190101210",
   "metadata": {},
   "outputs": [],
   "source": [
    "# visualize power density distributions for each exposure scenario\n",
    "\n",
    "antennas = ['DipoleVertical', 'DipoleHorizontal',\n",
    "            'ArrayVertical', 'ArrayHorizontal']\n",
    "distances = [5, 10, 15]\n",
    "for antenna in antennas:\n",
    "    for distance in distances:\n",
    "        df = load_processed_volume_data(antenna, distance)\n",
    "        xyz = df[['x', 'y', 'z']].to_numpy()\n",
    "        SAR = df[['SAR']].to_numpy()\n",
    "        psSAR = SAR.max()\n",
    "\n",
    "        fig, ax = scatter_3d({'x [m]': xyz[:, 0],\n",
    "                              'y [m]': xyz[:, 1],\n",
    "                              'z [m]': xyz[:, 2],\n",
    "                              'SAR [W/kg]': SAR}, azim=[180], elev=[10])\n",
    "        ax.set_box_aspect([1, 1, 1])\n",
    "        ax = set_axes_equal(ax)\n",
    "        ax.set_title(f'{antenna} antenna at d = {distance} mm\\n'\n",
    "                     f' psSAR = {psSAR:.2f} W/kg')"
   ]
  },
  {
   "cell_type": "code",
   "execution_count": null,
   "id": "eff095e6-f806-4cb1-ac58-bee58dfe9ff0",
   "metadata": {},
   "outputs": [],
   "source": []
  }
 ],
 "metadata": {
  "kernelspec": {
   "display_name": "Python 3 (ipykernel)",
   "language": "python",
   "name": "python3"
  },
  "language_info": {
   "codemirror_mode": {
    "name": "ipython",
    "version": 3
   },
   "file_extension": ".py",
   "mimetype": "text/x-python",
   "name": "python",
   "nbconvert_exporter": "python",
   "pygments_lexer": "ipython3",
   "version": "3.9.12"
  }
 },
 "nbformat": 4,
 "nbformat_minor": 5
}
