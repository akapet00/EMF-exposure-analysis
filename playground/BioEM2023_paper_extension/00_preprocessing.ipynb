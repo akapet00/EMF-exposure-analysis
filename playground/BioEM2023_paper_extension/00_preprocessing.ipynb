{
 "cells": [
  {
   "cell_type": "code",
   "execution_count": null,
   "id": "8fd8c531-6fbb-422e-8228-bac43f1323c6",
   "metadata": {},
   "outputs": [],
   "source": [
    "import os\n",
    "\n",
    "import pandas as pd\n",
    "\n",
    "from utils import load_raw_surface_data\n",
    "from utils import load_raw_volume_data"
   ]
  },
  {
   "cell_type": "markdown",
   "id": "ca985d14-ae76-41d5-9dcd-f3793181a77c",
   "metadata": {},
   "source": [
    "# Surface"
   ]
  },
  {
   "cell_type": "code",
   "execution_count": null,
   "id": "2126f6eb-c9f4-43e3-af54-901bb94d4714",
   "metadata": {},
   "outputs": [],
   "source": [
    "# remove rows from all files that are corresponding to the one missing in\n",
    "# DipoleVertical_Im_Ey_d5mm.txt and DipoleHorizontal_Re_Hx_d15mm.txt files\n",
    "\n",
    "path_raw = os.path.join('data', 'surface', 'raw')\n",
    "antennas = ['DipoleVertical', 'DipoleVertical', 'DipoleHorizontal']\n",
    "distances = [5, 15, 15]\n",
    "components = ['Im_Ey', 'Im_Hy', 'Re_Hx']\n",
    "critical_idxs = []\n",
    "\n",
    "for antenna, distance, component in zip(antennas, distances, components):\n",
    "    # load the problematic data\n",
    "    df_1 = pd.read_csv(  # take this file as the reference\n",
    "        os.path.join(path_raw, f'{antenna}_Re_Ex_d{distance}mm.txt'),\n",
    "        sep='\\s+', comment='%', header=None,\n",
    "        usecols=[0, 1, 2], names=['x', 'y', 'z']\n",
    "    )\n",
    "    df_2 = pd.read_csv(\n",
    "        os.path.join(path_raw, f'{antenna}_{component}_d{distance}mm.txt'),\n",
    "        sep='\\s+', comment='%', header=None,\n",
    "        usecols=[0, 1, 2], names=['x', 'y', 'z']\n",
    "    )\n",
    "\n",
    "    # find where the files differ\n",
    "    for idx, (row_1, row_2) in enumerate(zip(df_1.values[:-1], df_2.values)):\n",
    "        diff = sum(row_1 - row_2)\n",
    "        if diff != 0.0:\n",
    "            critical_idxs.append(idx)\n",
    "            break"
   ]
  },
  {
   "cell_type": "code",
   "execution_count": null,
   "id": "044ecb8f-3328-434a-918a-ee01a519d34c",
   "metadata": {},
   "outputs": [],
   "source": [
    "critical_idxs"
   ]
  },
  {
   "cell_type": "code",
   "execution_count": null,
   "id": "3d9d3b91-fb85-43ab-a0f5-a56944300629",
   "metadata": {},
   "outputs": [],
   "source": [
    "# create a clean dataset\n",
    "\n",
    "path_clean = os.path.join('data', 'surface', 'clean')\n",
    "antennas = ['DipoleVertical', 'DipoleHorizontal',\n",
    "            'ArrayVertical', 'ArrayHorizontal']\n",
    "distances = [5, 10, 15]\n",
    "\n",
    "for antenna in antennas:\n",
    "    for distance in distances:\n",
    "        if (antenna == 'DipoleVertical') and (distance == 5):\n",
    "            critical_idx = critical_idxs[0]\n",
    "        elif (antenna == 'DipoleVertical') and (distance == 15):\n",
    "            critical_idx = critical_idxs[1]\n",
    "        elif antenna == 'DipoleHorizontal':\n",
    "            critical_idx = critical_idxs[2]\n",
    "        else:\n",
    "            critical_idx = None\n",
    "        xyz, (Ex, Ey, Ez), (Hx, Hy, Hz) = load_raw_surface_data(antenna,\n",
    "                                                                distance,\n",
    "                                                                critical_idx)\n",
    "        df = pd.DataFrame(data=xyz)\n",
    "        df = pd.concat([df,\n",
    "                        Ex.rename('Ex').astype('complex128'), Ey.rename('Ey'), Ez.rename('Ez'),\n",
    "                        Hx.rename('Hx'), Hy.rename('Hy'), Hz.rename('Hz'),\n",
    "                        ], axis=1)\n",
    "        # df.to_csv(os.path.join(path_clean, f'{antenna}_d{distance}mm.csv'))"
   ]
  },
  {
   "cell_type": "markdown",
   "id": "858efbb0-9bac-4f49-b26d-02f9141eabff",
   "metadata": {},
   "source": [
    "# Volume"
   ]
  },
  {
   "cell_type": "code",
   "execution_count": null,
   "id": "e01845c6-1cd1-445e-af99-f9a0f9923754",
   "metadata": {},
   "outputs": [],
   "source": [
    "# create a clean dataset\n",
    "\n",
    "path_clean = os.path.join('data', 'volume', 'clean')\n",
    "antennas = ['DipoleVertical', 'DipoleHorizontal',\n",
    "            'ArrayVertical', 'ArrayHorizontal']\n",
    "distances = [5, 10, 15]\n",
    "\n",
    "for antenna in antennas:\n",
    "    for distance in distances:\n",
    "        df = load_raw_volume_data(antenna, distance)\n",
    "        # df.to_csv(os.path.join(path_clean, f'{antenna}_d{distance}mm.csv'))"
   ]
  },
  {
   "cell_type": "code",
   "execution_count": null,
   "id": "fd734518-0b32-4e4e-ab63-a2a199c036e2",
   "metadata": {},
   "outputs": [],
   "source": []
  }
 ],
 "metadata": {
  "kernelspec": {
   "display_name": "Python 3 (ipykernel)",
   "language": "python",
   "name": "python3"
  },
  "language_info": {
   "codemirror_mode": {
    "name": "ipython",
    "version": 3
   },
   "file_extension": ".py",
   "mimetype": "text/x-python",
   "name": "python",
   "nbconvert_exporter": "python",
   "pygments_lexer": "ipython3",
   "version": "3.9.12"
  }
 },
 "nbformat": 4,
 "nbformat_minor": 5
}
