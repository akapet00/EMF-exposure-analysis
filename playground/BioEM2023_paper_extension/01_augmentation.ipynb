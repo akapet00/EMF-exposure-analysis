{
 "cells": [
  {
   "cell_type": "code",
   "execution_count": null,
   "id": "15bc26be-598d-429a-95ff-6e00ea894034",
   "metadata": {},
   "outputs": [],
   "source": [
    "import os\n",
    "\n",
    "import numpy as np\n",
    "import pandas as pd\n",
    "\n",
    "from utils import load_clean_surface_data\n",
    "from utils import compute_power_density\n",
    "from utils import estimate_normals"
   ]
  },
  {
   "cell_type": "markdown",
   "id": "585f78a9-4dd5-4810-955b-6f22e3cbb069",
   "metadata": {},
   "source": [
    "# Surface"
   ]
  },
  {
   "cell_type": "code",
   "execution_count": null,
   "id": "a73f39d6-1914-4686-981b-6be307524f1c",
   "metadata": {},
   "outputs": [],
   "source": [
    "# compute power density and normal distributions for each exposure scenario\n",
    "# create an augmented dataset\n",
    "\n",
    "path_processed = os.path.join('data', 'surface', 'processed')\n",
    "antennas = ['DipoleVertical', 'DipoleHorizontal',\n",
    "            'ArrayVertical', 'ArrayHorizontal']\n",
    "distances = [5, 10, 15]\n",
    "for antenna in antennas:\n",
    "    for distance in distances:\n",
    "        df = load_clean_surface_data(antenna, distance)\n",
    "        xyz = df[['x', 'y', 'z']].to_numpy()\n",
    "        n = estimate_normals(xyz)\n",
    "        E = tuple(component for component\n",
    "                  in df[['Ex', 'Ey', 'Ez']].astype('complex128').to_numpy().T)\n",
    "        H = tuple(component for component\n",
    "                  in df[['Hx', 'Hy', 'Hz']].astype('complex128').to_numpy().T)\n",
    "        S = compute_power_density(E, H)\n",
    "        PD = np.abs(S[0].real * n[:, 0] + S[1].real * n[:, 1] + S[2].real * n[:, 2])\n",
    "        df['Sx'] = S[0]\n",
    "        df['Sy'] = S[1]\n",
    "        df['Sz'] = S[2]\n",
    "        df['nx'] = n[:, 0]\n",
    "        df['ny'] = n[:, 1]\n",
    "        df['nz'] = n[:, 2]\n",
    "        df['PD'] = PD\n",
    "        # df.to_csv(os.path.join(path_processed, f'{antenna}_d{distance}mm.csv'))"
   ]
  },
  {
   "cell_type": "code",
   "execution_count": null,
   "id": "ad1009e0-dbfa-4c56-b74e-a99d456f8f7c",
   "metadata": {},
   "outputs": [],
   "source": []
  }
 ],
 "metadata": {
  "kernelspec": {
   "display_name": "Python 3 (ipykernel)",
   "language": "python",
   "name": "python3"
  },
  "language_info": {
   "codemirror_mode": {
    "name": "ipython",
    "version": 3
   },
   "file_extension": ".py",
   "mimetype": "text/x-python",
   "name": "python",
   "nbconvert_exporter": "python",
   "pygments_lexer": "ipython3",
   "version": "3.9.12"
  }
 },
 "nbformat": 4,
 "nbformat_minor": 5
}
