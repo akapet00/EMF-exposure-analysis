{
 "cells": [
  {
   "cell_type": "code",
   "execution_count": null,
   "id": "4ec1ac89-f63d-4797-bde0-00d7bae76bc0",
   "metadata": {},
   "outputs": [],
   "source": [
    "import os\n",
    "\n",
    "from matplotlib import ticker\n",
    "import matplotlib.pyplot as plt\n",
    "from matplotlib.patches import Rectangle\n",
    "from mpl_toolkits.mplot3d.art3d import pathpatch_2d_to_3d\n",
    "import numpy as np\n",
    "import pandas as pd\n",
    "import seaborn as sns\n",
    "\n",
    "from dosipy.utils.viz import (fig_config, set_axes_equal, set_colorblind,\n",
    "                              save_fig)\n",
    "\n",
    "from utils import load_processed_data, load_apd_data"
   ]
  },
  {
   "cell_type": "code",
   "execution_count": null,
   "id": "b423a9c8-810c-4e65-ab0b-907d4daa5b1d",
   "metadata": {},
   "outputs": [],
   "source": [
    "set_colorblind()\n",
    "%config InlineBackend.figure_format = 'retina'"
   ]
  },
  {
   "cell_type": "code",
   "execution_count": null,
   "id": "69b9408b-ce3e-4fdb-94db-2076bd833d2c",
   "metadata": {},
   "outputs": [],
   "source": [
    "# load data\n",
    "ds = load_apd_data()\n",
    "ds"
   ]
  },
  {
   "cell_type": "markdown",
   "id": "b9338af4-04e9-44b2-b8bd-d9c22c1533de",
   "metadata": {},
   "source": [
    "# PD distribution"
   ]
  },
  {
   "cell_type": "code",
   "execution_count": null,
   "id": "1b8ef9fc-9c34-41c9-a1ce-428244782d63",
   "metadata": {},
   "outputs": [],
   "source": [
    "# visuals - apd distributions\n",
    "\n",
    "edge = 0.02\n",
    "orientation = 'Horizontal'\n",
    "ds_partial = ds[ds['orientation']==orientation].reset_index()\n",
    "show_labels = False\n",
    "for i in range(ds_partial.shape[0]):\n",
    "    # extract input data\n",
    "    antenna = ds_partial.loc[i, 'antenna']\n",
    "    orientation = ds_partial.loc[i, 'orientation']\n",
    "    distance = ds_partial.loc[i, 'distance']\n",
    "    origin = eval(ds_partial.loc[i, 'origin'])\n",
    "    \n",
    "    # extract point cloud and power density distribution data\n",
    "    df = load_processed_data(f'{antenna}{orientation}', distance)\n",
    "    xyz = df[['x', 'y', 'z']].values\n",
    "    PD = df['PD'].values\n",
    "    \n",
    "    # set up figure\n",
    "    fig_config(latex=True, text_size=24, scaler=2)\n",
    "    fig = plt.figure()\n",
    "    ax = plt.axes(projection ='3d')\n",
    "\n",
    "    # point cloud and power ddensity spatial distribution\n",
    "    cs = ax.scatter(-xyz[:, 0], -xyz[:, 1], xyz[:, 2],\n",
    "                    c=PD.ravel(), cmap='mako', s=0.75)\n",
    "\n",
    "    # set averaging surface contours\n",
    "    rect_pos = xyz[:, 0].max()\n",
    "    patch_rect = Rectangle(origin, edge, edge,\n",
    "                           ec='w', fc='None', lw=3)\n",
    "    ax.add_patch(patch_rect)\n",
    "    pathpatch_2d_to_3d(patch_rect, z=rect_pos, zdir='x')\n",
    "\n",
    "    # set colorbar\n",
    "    cbar = fig.colorbar(cs, shrink=0.65, pad=-0.05)\n",
    "    tick_locator = ticker.MaxNLocator(nbins=4)\n",
    "    cbar.locator = tick_locator\n",
    "    cbar.update_ticks()\n",
    "    if i in [2, 5]:\n",
    "        cbar.ax.set_ylabel('power density [W/m$^{2}$]')\n",
    "        cbar.ax.yaxis.labelpad = 20\n",
    "\n",
    "    # set axes to be equal in size\n",
    "    ax.set_box_aspect([1, 1, 1])\n",
    "    ax = set_axes_equal(ax)\n",
    "    fig.tight_layout()\n",
    "    \n",
    "    # additional figure configuration and setting labels\n",
    "    ax.set(xlabel='',\n",
    "           ylabel='',\n",
    "           zlabel='',\n",
    "           xticks=[],\n",
    "           yticks=[-0.02, 0, 0.02],\n",
    "           zticks=[-0.02, 0, 0.02],\n",
    "           yticklabels=[-2, 0, 2],\n",
    "           zticklabels=[-2, 0, 2])\n",
    "    ax.xaxis.pane.fill = False\n",
    "    ax.yaxis.pane.fill = False\n",
    "    ax.zaxis.pane.fill = False\n",
    "    ax.view_init(1, 0)\n",
    "    if show_labels:\n",
    "        ax.set_ylabel('$y$ [cm]')\n",
    "        ax.yaxis.labelpad = 20\n",
    "        ax.zaxis.set_rotate_label(False)\n",
    "        ax.set_zlabel('$z$ [cm]', rotation=90)\n",
    "        ax.zaxis.labelpad = 20\n",
    "    elif i in [3, 4, 5]:\n",
    "        ax.set_ylabel('$y$ [cm]')\n",
    "        ax.yaxis.labelpad = 20\n",
    "    elif i in [0, 3]:\n",
    "        ax.zaxis.set_rotate_label(False)\n",
    "        ax.set_zlabel('$z$ [cm]', rotation=90)\n",
    "        ax.zaxis.labelpad = 20\n",
    "\n",
    "    # save figure\n",
    "    # if show_labels:\n",
    "    #     fname = os.path.join('figures',\n",
    "    #                          f'{antenna}{orientation}_d{distance}mm_labels')\n",
    "    # else:\n",
    "    #     fname = os.path.join('figures',\n",
    "    #                          f'{antenna}{orientation}_d{distance}mm')\n",
    "    # save_fig(fig, fname=fname, formats=['png'], dpi=250)"
   ]
  },
  {
   "cell_type": "markdown",
   "id": "986a211d-6c1e-4025-bf0c-64d9e339b8fa",
   "metadata": {},
   "source": [
    "# APD values"
   ]
  },
  {
   "cell_type": "code",
   "execution_count": null,
   "id": "1081d94c-2326-4f84-878a-dc6fe8cffa24",
   "metadata": {},
   "outputs": [],
   "source": [
    "ds['Antenna'] = ds['orientation'] + ' ' + ds['antenna'].str.lower()"
   ]
  },
  {
   "cell_type": "code",
   "execution_count": null,
   "id": "52aa351d-3a92-4bfb-8795-a3da0c630e29",
   "metadata": {},
   "outputs": [],
   "source": [
    "fig_config(latex=True, scaler=1.5)\n",
    "sns.set(style='ticks', font='serif', font_scale=1.75)\n",
    "fig, ax = plt.subplots()\n",
    "ax = sns.barplot(ds.sort_values('APD_CST'),\n",
    "                 x='distance', y='APD_CST', hue='Antenna',\n",
    "                 palette='mako',\n",
    "                 ax=ax)\n",
    "for container in ax.containers:\n",
    "    ax.bar_label(container, rotation=90, label_type='center', color='w')\n",
    "ax.set(xlabel='distance [mm]',\n",
    "       ylabel='power density [W/m$^{2}$]',\n",
    "       yticks=[0, 3, 6],\n",
    "       yticklabels=[0, 3, 6])\n",
    "sns.move_legend(ax, 'upper left', bbox_to_anchor=(1, 0.7))\n",
    "sns.despine(fig=fig, ax=ax)\n",
    "\n",
    "# save figure\n",
    "# fname = os.path.join('figures', 'apd')\n",
    "# save_fig(fig, fname=fname, formats=['png'], dpi=285)"
   ]
  },
  {
   "cell_type": "code",
   "execution_count": null,
   "id": "57c3a385-98b5-417d-a53f-e4e69849cd0c",
   "metadata": {},
   "outputs": [],
   "source": []
  }
 ],
 "metadata": {
  "kernelspec": {
   "display_name": "Python 3 (ipykernel)",
   "language": "python",
   "name": "python3"
  },
  "language_info": {
   "codemirror_mode": {
    "name": "ipython",
    "version": 3
   },
   "file_extension": ".py",
   "mimetype": "text/x-python",
   "name": "python",
   "nbconvert_exporter": "python",
   "pygments_lexer": "ipython3",
   "version": "3.9.12"
  }
 },
 "nbformat": 4,
 "nbformat_minor": 5
}
