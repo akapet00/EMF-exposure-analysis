{
 "cells": [
  {
   "cell_type": "code",
   "execution_count": null,
   "id": "35aa9789-0d2f-4aff-91bd-93c27ea79eda",
   "metadata": {},
   "outputs": [],
   "source": [
    "import os\n",
    "\n",
    "import numpy as np\n",
    "import pandas as pd\n",
    "\n",
    "from utils import sph2cart, sph_normals, IPD"
   ]
  },
  {
   "cell_type": "code",
   "execution_count": null,
   "id": "d657bbd3-51ac-482c-bc78-e845fcaa6fac",
   "metadata": {},
   "outputs": [],
   "source": [
    "total_radii = {3: [3.6258, 9.9, 16.1742],\n",
    "               5: [2.5599, 5.5384, 9.9, 14.2616, 17.2401],\n",
    "               7: [2.2122, 3.8936, 6.6127, 9.9, 13.1873, 15.9064, 17.5878],\n",
    "               9: [2.0579, 3.1281, 4.9317, 7.2735, 9.9, 12.5265, 14.8683, 16.6719, 17.7421]} \n",
    "frequencies = [2.4, 3.0, 3.5, 5.0, 6.0, 10.0]  # frequency\n",
    "distances = [2.5, 5, 10, 50, 150]  # separation distance\n",
    "deg = 33  # degree of integration\n",
    "edge_length = 0.02\n",
    "rows = 0\n",
    "for key in total_radii.keys():\n",
    "    rows += len(total_radii[key])\n",
    "rows *= len(frequencies) * len(distances)\n",
    "col_names = ['radius [cm]', 'frequency [GHz]', 'distance [mm]', 'col_points', 'sPDn_pln [W/m2]', 'sPDn_sph [W/m2]']\n",
    "cols = len(col_names)"
   ]
  },
  {
   "cell_type": "code",
   "execution_count": null,
   "id": "b3f509cf-7edd-4edd-8726-a33ebc4b0b80",
   "metadata": {},
   "outputs": [],
   "source": [
    "curvature = np.empty((rows, cols))\n",
    "row_idx = 0\n",
    "for col_point in total_radii.keys():\n",
    "    radii = total_radii[col_point]\n",
    "    for radius in radii:\n",
    "        for frequency in frequencies:\n",
    "            for distance in distances:\n",
    "                sPDn_pln, sPDn_sph = IPD(radius/100, frequency*1e9, -distance/1000, deg, edge_length)\n",
    "                curvature[row_idx] = radius, frequency, distance, col_point, sPDn_pln, sPDn_sph\n",
    "                message = (f'[{row_idx+1}/{rows} {round((row_idx+1)/rows*100, 2)}%]\\t'\n",
    "                           f'sPDn_pln = {round(sPDn_pln, 2)} W/m2\\t'\n",
    "                           f'sPDn_sph = {round(sPDn_sph, 2)} W/m2')\n",
    "                print(message, end='\\r')\n",
    "                row_idx += 1\n",
    "                \n",
    "fname = 'curvature'\n",
    "df = pd.DataFrame(data=eval(fname), columns=col_names)\n",
    "df.to_csv(os.path.join('data', fname+'.csv'), index_label='index')"
   ]
  },
  {
   "cell_type": "code",
   "execution_count": null,
   "id": "355a77db-f0e0-494e-8372-afba04b5af89",
   "metadata": {},
   "outputs": [],
   "source": []
  }
 ],
 "metadata": {
  "kernelspec": {
   "display_name": "Python 3 (ipykernel)",
   "language": "python",
   "name": "python3"
  },
  "language_info": {
   "codemirror_mode": {
    "name": "ipython",
    "version": 3
   },
   "file_extension": ".py",
   "mimetype": "text/x-python",
   "name": "python",
   "nbconvert_exporter": "python",
   "pygments_lexer": "ipython3",
   "version": "3.9.12"
  }
 },
 "nbformat": 4,
 "nbformat_minor": 5
}
