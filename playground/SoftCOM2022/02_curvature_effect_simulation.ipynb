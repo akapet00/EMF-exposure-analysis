{
 "cells": [
  {
   "cell_type": "code",
   "execution_count": null,
   "id": "35aa9789-0d2f-4aff-91bd-93c27ea79eda",
   "metadata": {},
   "outputs": [],
   "source": [
    "import os\n",
    "\n",
    "import numpy as np\n",
    "import pandas as pd\n",
    "\n",
    "from utils import sph2cart, sph_normals, IPD"
   ]
  },
  {
   "cell_type": "code",
   "execution_count": null,
   "id": "d657bbd3-51ac-482c-bc78-e845fcaa6fac",
   "metadata": {},
   "outputs": [],
   "source": [
    "radii = [1.8, 18]  # min and max curvature given as radii in cm\n",
    "frequencies = [2.4, 3.0, 3.5, 5.0, 6.0, 10.0]  # frequency in GHz\n",
    "distances = [2.5, 5, 10, 50, 150]  # separation distance in mm\n",
    "deg = 33  # degree of integration\n",
    "edge_length = 0.02  # integration domain lenght/width in m\n",
    "col_names = ['radius [cm]', 'frequency [GHz]', 'distance [mm]',\n",
    "             'sPDn_pln [W/m2]', 'sPDn_sph [W/m2]']  # column names"
   ]
  },
  {
   "cell_type": "code",
   "execution_count": null,
   "id": "b3f509cf-7edd-4edd-8726-a33ebc4b0b80",
   "metadata": {},
   "outputs": [],
   "source": [
    "nrows = len(radii) * len(frequencies) * len(distances)\n",
    "ncols = len(col_names)\n",
    "curvature = np.empty((nrows, ncols))\n",
    "irow = 0\n",
    "for radius in radii:\n",
    "    for frequency in frequencies:\n",
    "        for distance in distances:\n",
    "            sPDn_pln, sPDn_sph = IPD(radius/100, frequency*1e9, -distance/1000,\n",
    "                                     deg, edge_length)\n",
    "            curvature[irow] = (radius, frequency, distance, sPDn_pln, sPDn_sph)\n",
    "            print(f'{irow+1}/{nrows}', end='\\r')\n",
    "            irow+=1\n",
    "\n",
    "# fname = 'curvature'\n",
    "# df = pd.DataFrame(data=eval(fname), columns=col_names)\n",
    "# df.to_csv(os.path.join('data', fname+'.csv'), index_label='index')"
   ]
  },
  {
   "cell_type": "code",
   "execution_count": null,
   "id": "8b527173-b5ba-40ca-b84a-b94ae9f0d089",
   "metadata": {},
   "outputs": [],
   "source": []
  }
 ],
 "metadata": {
  "kernelspec": {
   "display_name": "Python 3 (ipykernel)",
   "language": "python",
   "name": "python3"
  },
  "language_info": {
   "codemirror_mode": {
    "name": "ipython",
    "version": 3
   },
   "file_extension": ".py",
   "mimetype": "text/x-python",
   "name": "python",
   "nbconvert_exporter": "python",
   "pygments_lexer": "ipython3",
   "version": "3.9.12"
  }
 },
 "nbformat": 4,
 "nbformat_minor": 5
}
