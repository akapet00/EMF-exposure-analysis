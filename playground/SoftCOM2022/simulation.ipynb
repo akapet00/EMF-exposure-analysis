{
 "cells": [
  {
   "cell_type": "code",
   "execution_count": null,
   "id": "eb7f1d1c-37a1-4eb4-93bd-03bf1834ca88",
   "metadata": {},
   "outputs": [],
   "source": [
    "import numpy as np\n",
    "\n",
    "from dosipy.field import poynting\n",
    "from dosipy.utils.derive import holoborodko\n",
    "from dosipy.utils.integrate import elementwise_dblquad\n",
    "from dosipy.utils.dataloader import load_antenna_el_properties\n",
    "\n",
    "from utils import sph2cart, sph_normals"
   ]
  },
  {
   "cell_type": "code",
   "execution_count": null,
   "id": "8583925b-ca04-4b10-b44e-c9c0924e9cfe",
   "metadata": {},
   "outputs": [],
   "source": [
    "head_breadth_adult = {3: [13.8987, 15.2000, 16.5013],\n",
    "                      5: [13.6776, 14.2954, 15.2000, 16.1046, 16.7224],\n",
    "                      7: [13.6055, 13.9542, 14.5182, 15.2000, 15.8818, 16.4458, 16.7945]}\n",
    "head_breadth_child = {3: [10.4240, 11.4000, 12.3760],\n",
    "                      5: [10.2582, 10.7215, 11.4000, 12.0785, 12.5418],\n",
    "                      7: [10.2041, 10.4657, 10.8886, 11.4000, 11.9114, 12.3343, 12.5959]}\n",
    "p = [3, 5, 7]  # number of collocation points\n",
    "f = [2.4, 3.0, 3.5, 5.0, 6.0, 10.0]  # frequency\n",
    "d = [2.5, 5, 10, 50, 150]  # separation distance\n",
    "deg = 33  # degree of integration\n",
    "edge_length = 0.02\n",
    "A_pln = edge_length ** 2"
   ]
  },
  {
   "cell_type": "code",
   "execution_count": null,
   "id": "0b47201e-f7ae-4a37-9e99-85bfac8cf633",
   "metadata": {},
   "outputs": [],
   "source": [
    "def IPD(r, f, d, deg):\n",
    "    # source\n",
    "    data = load_antenna_el_properties(f)\n",
    "    xs = data.x.to_numpy()\n",
    "    xs -= xs.max() / 2\n",
    "    ys = np.zeros_like(xs) + d\n",
    "    zs = np.zeros_like(xs)\n",
    "    Is = np.abs(data.ireal.to_numpy() + 1j * data.iimag.to_numpy())\n",
    "    dx = xs[1] - xs[0]\n",
    "    Is_x = holoborodko(Is, dx)\n",
    "    \n",
    "    # planar target\n",
    "    N = 33\n",
    "    x = np.linspace(-edge_length/2, edge_length/2, N)\n",
    "    z = np.linspace(-edge_length/2, edge_length/2, N)\n",
    "    X, Z = np.meshgrid(x, z)\n",
    "    xt_pln = X.ravel()\n",
    "    yt_pln = np.zeros_like(xt_pln)\n",
    "    zt_pln = Z.ravel()\n",
    "    \n",
    "    nx_pln = 0\n",
    "    ny_pln = -1\n",
    "    nz_pln = 0\n",
    "    n_len_pln = np.sqrt(nx_pln ** 2 + ny_pln ** 2 + nz_pln ** 2)\n",
    "    \n",
    "    S_pln = np.empty_like(xt_pln)\n",
    "    for idx, (xt, yt, zt) in enumerate(zip(xt_pln, yt_pln, zt_pln)):\n",
    "        Sx, Sy, Sz = poynting(xt, yt, zt, xs, ys, zs, f, Is, Is_x)\n",
    "        S_pln[idx] = Sx.real * nx_pln + Sy.real * ny_pln + Sz.real * nz_pln\n",
    "    sPDn_pln = 1 / (2 * A_pln) * elementwise_dblquad(points=np.c_[xt_pln, zt_pln],\n",
    "                                                     values=S_pln/n_len_pln,\n",
    "                                                     degree=deg)\n",
    "    \n",
    "    # spherical target\n",
    "    alpha = 2 * np.arcsin(edge_length/2/r)\n",
    "    N = 33\n",
    "    theta = np.linspace(np.pi/2 - alpha/2, np.pi/2 + alpha/2, N)\n",
    "    phi = np.linspace(np.pi-alpha/2, np.pi+alpha/2, N)\n",
    "    Theta, Phi = np.meshgrid(theta, phi)\n",
    "    yt_sph, xt_sph, zt_sph = sph2cart(r, Theta.ravel(), Phi.ravel())\n",
    "    yt_sph -= yt_sph.min()\n",
    "    \n",
    "    ny_sph, nx_sph, nz_sph = sph_normals(r, Theta.ravel(), Phi.ravel())\n",
    "    n_len_sph = np.sqrt(nx_sph ** 2 + ny_sph ** 2 + nz_sph ** 2)\n",
    "    \n",
    "    A_sph = elementwise_dblquad(points=np.c_[xt_sph, zt_sph],\n",
    "                                values=np.sin(Theta.ravel())*r**2/n_len_sph,\n",
    "                                degree=deg)\n",
    "    \n",
    "    S_sph = np.empty_like(xt_sph)\n",
    "    for idx, (xt, yt, zt) in enumerate(zip(xt_sph, yt_sph, zt_sph)):\n",
    "        Sx, Sy, Sz = poynting(xt, yt, zt, xs, ys, zs, f, Is, Is_x)\n",
    "        S_sph[idx] = Sx.real * nx_sph[idx] + Sy.real * ny_sph[idx] + Sz.real * nz_sph[idx]\n",
    "    sPDn_sph = 1 / (2 * A_sph) * elementwise_dblquad(points=np.c_[xt_sph, zt_sph],\n",
    "                                                     values=S_sph/n_len_sph,\n",
    "                                                     degree=deg)\n",
    "    return sPDn_pln, sPDn_sph"
   ]
  },
  {
   "cell_type": "code",
   "execution_count": null,
   "id": "84f2aef1-e894-419f-a6c2-2f100243d8bc",
   "metadata": {},
   "outputs": [],
   "source": []
  }
 ],
 "metadata": {
  "kernelspec": {
   "display_name": "Python 3 (ipykernel)",
   "language": "python",
   "name": "python3"
  },
  "language_info": {
   "codemirror_mode": {
    "name": "ipython",
    "version": 3
   },
   "file_extension": ".py",
   "mimetype": "text/x-python",
   "name": "python",
   "nbconvert_exporter": "python",
   "pygments_lexer": "ipython3",
   "version": "3.9.12"
  }
 },
 "nbformat": 4,
 "nbformat_minor": 5
}
