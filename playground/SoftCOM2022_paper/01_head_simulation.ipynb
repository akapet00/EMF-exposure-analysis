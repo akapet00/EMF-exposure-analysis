{
 "cells": [
  {
   "cell_type": "code",
   "execution_count": null,
   "id": "eb7f1d1c-37a1-4eb4-93bd-03bf1834ca88",
   "metadata": {},
   "outputs": [],
   "source": [
    "import os\n",
    "\n",
    "import numpy as np\n",
    "import pandas as pd\n",
    "\n",
    "from utils import sph2cart, sph_normals, IPD"
   ]
  },
  {
   "cell_type": "code",
   "execution_count": null,
   "id": "8583925b-ca04-4b10-b44e-c9c0924e9cfe",
   "metadata": {},
   "outputs": [],
   "source": [
    "head_breadth_adult = {3: [13.8987, 15.2000, 16.5013],\n",
    "                      5: [13.6776, 14.2954, 15.2000, 16.1046, 16.7224],\n",
    "                      7: [13.6055, 13.9542, 14.5182, 15.2000, 15.8818, 16.4458, 16.7945]}\n",
    "head_breadth_child = {3: [10.4240, 11.4000, 12.3760],\n",
    "                      5: [10.2582, 10.7215, 11.4000, 12.0785, 12.5418],\n",
    "                      7: [10.2041, 10.4657, 10.8886, 11.4000, 11.9114, 12.3343, 12.5959]}\n",
    "frequencies = [2.4, 3.0, 3.5, 5.0, 6.0, 10.0]  # frequency\n",
    "distances = [2.5, 5, 10, 50, 150]  # separation distance\n",
    "deg = 33  # degree of integration\n",
    "edge_length = 0.02\n",
    "rows = 0\n",
    "for key in head_breadth_child.keys():\n",
    "    rows += len(head_breadth_child[key])\n",
    "rows *= len(frequencies) * len(distances)\n",
    "cols = 7\n",
    "col_names = ['col_points', 'diameter [cm]', 'radius [m]', 'frequency [GHz]',\n",
    "             'distance [mm]', 'sPDn_pln [W/m2]', 'sPDn_sph [W/m2]']"
   ]
  },
  {
   "cell_type": "code",
   "execution_count": null,
   "id": "84f2aef1-e894-419f-a6c2-2f100243d8bc",
   "metadata": {},
   "outputs": [],
   "source": [
    "# child\n",
    "child = np.empty((rows, cols))\n",
    "row_idx = 0\n",
    "for col_point in head_breadth_child.keys():\n",
    "    diameters = head_breadth_child[col_point]\n",
    "    for diameter in diameters:\n",
    "        radius = diameter / 100 / 2  # in meters\n",
    "        for frequency in frequencies:\n",
    "            for distance in distances:\n",
    "                sPDn_pln, sPDn_sph = IPD(radius, frequency*1e9, -distance/1000, deg, edge_length)\n",
    "                child[row_idx] = col_point, diameter, radius, frequency, distance, sPDn_pln, sPDn_sph\n",
    "                message = (f'[{row_idx+1}/{rows} {round((row_idx+1)/rows*100, 2)}%]\\t'\n",
    "                           f'sPDn_pln = {round(sPDn_pln, 2)} W/m2\\t'\n",
    "                           f'sPDn_sph = {round(sPDn_sph, 2)} W/m2')\n",
    "                print(message, end='\\r')\n",
    "                row_idx += 1\n",
    "                \n",
    "# fname = 'child_head'\n",
    "# df = pd.DataFrame(data=eval(fname), columns=col_names)\n",
    "# df.to_csv(os.path.join('data', fname+'.csv'), index_label='index')"
   ]
  },
  {
   "cell_type": "code",
   "execution_count": null,
   "id": "dd4794f9-dfd1-4146-8ab8-fd8836aec90f",
   "metadata": {},
   "outputs": [],
   "source": [
    "# adult\n",
    "adult = np.empty((rows, cols))\n",
    "row_idx = 0\n",
    "for col_point in head_breadth_adult.keys():\n",
    "    diameters = head_breadth_adult[col_point]\n",
    "    for diameter in diameters:\n",
    "        radius = diameter / 100 / 2  # in meters\n",
    "        for frequency in frequencies:\n",
    "            for distance in distances:\n",
    "                sPDn_pln, sPDn_sph = IPD(radius, frequency*1e9, -distance/1000, deg)\n",
    "                adult[row_idx] = col_point, diameter, radius, frequency, distance, sPDn_pln, sPDn_sph\n",
    "                message = (f'[{row_idx+1}/{rows} {round((row_idx+1)/rows*100, 2)}%]\\t'\n",
    "                           f'sPDn_pln = {round(sPDn_pln, 2)} W/m2\\t'\n",
    "                           f'sPDn_sph = {round(sPDn_sph, 2)} W/m2')\n",
    "                print(message, end='\\r')\n",
    "                row_idx += 1\n",
    "                \n",
    "# fname = 'adult_head'\n",
    "# df = pd.DataFrame(data=eval(fname), columns=col_names)\n",
    "# df.to_csv(os.path.join('data', fname+'.csv'), index_label='index')"
   ]
  },
  {
   "cell_type": "code",
   "execution_count": null,
   "id": "f17619d1-07ae-463b-9079-656990aee7a6",
   "metadata": {},
   "outputs": [],
   "source": []
  }
 ],
 "metadata": {
  "kernelspec": {
   "display_name": "Python 3 (ipykernel)",
   "language": "python",
   "name": "python3"
  },
  "language_info": {
   "codemirror_mode": {
    "name": "ipython",
    "version": 3
   },
   "file_extension": ".py",
   "mimetype": "text/x-python",
   "name": "python",
   "nbconvert_exporter": "python",
   "pygments_lexer": "ipython3",
   "version": "3.9.12"
  }
 },
 "nbformat": 4,
 "nbformat_minor": 5
}
