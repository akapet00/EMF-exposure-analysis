{
 "cells": [
  {
   "cell_type": "code",
   "execution_count": null,
   "id": "3c60969f-f780-41c4-8b5c-55f627d8d672",
   "metadata": {},
   "outputs": [],
   "source": [
    "import os\n",
    "\n",
    "import numpy as np\n",
    "import matplotlib.pyplot as plt\n",
    "import pandas as pd\n",
    "import scipy.io\n",
    "import seaborn as sns\n",
    "\n",
    "from dosipy.utils.viz import save_fig"
   ]
  },
  {
   "cell_type": "markdown",
   "id": "3a8ed82b-1889-4bbe-b29d-29bafc656e79",
   "metadata": {},
   "source": [
    "# head"
   ]
  },
  {
   "cell_type": "code",
   "execution_count": null,
   "id": "f194ea7a-8eda-4aff-812c-f2057304cb79",
   "metadata": {},
   "outputs": [],
   "source": [
    "frequencies = {5: 10}\n",
    "distances = [2.5, 5, 10, 50, 150]\n",
    "cp = 7\n",
    "# simulation\n",
    "adult = pd.read_csv(os.path.join('data', 'adult_head.csv'))\n",
    "adult = adult[adult['col_points'] == cp]\n",
    "child = pd.read_csv(os.path.join('data', 'child_head.csv'))\n",
    "child = child[child['col_points'] == cp]\n",
    "# stochastic analysis\n",
    "mean_adult_mat = scipy.io.loadmat(os.path.join('data', f'adult_M_SC{cp}'))\n",
    "var_adult_mat = scipy.io.loadmat(os.path.join('data', f'adult_V_SC{cp}'))\n",
    "mean_child_mat = scipy.io.loadmat(os.path.join('data', f'child_M_SC{cp}'))\n",
    "var_child_mat = scipy.io.loadmat(os.path.join('data', f'child_V_SC{cp}'))"
   ]
  },
  {
   "cell_type": "code",
   "execution_count": null,
   "id": "1d54307a-1f5f-4d57-afdc-0594c0ca9810",
   "metadata": {},
   "outputs": [],
   "source": [
    "f = frequencies[5]\n",
    "mu_adult = mean_adult_mat[f'M_SC{cp}'][5]\n",
    "mu_child = mean_child_mat[f'M_SC{cp}'][5]\n",
    "var_adult = var_adult_mat[f'V_SC{cp}'][5]\n",
    "var_child = var_child_mat[f'V_SC{cp}'][5]\n",
    "f_cond_adult = adult['frequency [GHz]'] == f\n",
    "y_ref_adult = adult[f_cond_adult]['sPDn_pln [W/m2]'].unique()\n",
    "f_cond_child = child['frequency [GHz]'] == f\n",
    "y_ref_child = child[f_cond_child]['sPDn_pln [W/m2]'].unique()\n",
    "assert (y_ref_adult == y_ref_child).all()\n",
    "y_ref = y_ref_child.copy()\n",
    "child_adult_perc_diff = (mu_child - mu_adult) / y_ref * 100\n",
    "adult_planar_perc_diff = (mu_adult - y_ref) / y_ref * 100\n",
    "child_planar_perc_diff = (mu_child - y_ref) / y_ref * 100"
   ]
  },
  {
   "cell_type": "code",
   "execution_count": null,
   "id": "b35728f4-ef63-47a5-9e14-0b6035a9b73f",
   "metadata": {},
   "outputs": [],
   "source": [
    "sns.set_context('talk', font_scale=1.1, rc={'lines.linewidth': 3,\n",
    "                                            'lines.markersize': 12})\n",
    "c = sns.color_palette(palette='colorblind', n_colors=3)\n",
    "\n",
    "fig = plt.figure(figsize=(5, 5))\n",
    "ax = fig.add_subplot()\n",
    "ax.hlines(y=1, xmin=distances[0], xmax=distances[-1], color='k', lw=2)\n",
    "ax.text(distances[0], 0.55, 'margin of\\nnegligible effect', size=12)\n",
    "ax.plot(distances, y_ref, 'o-', c=c[0], mew=3, mfc='w',\n",
    "        label='planar')\n",
    "ax.errorbar(distances, mu_adult, yerr=3*np.sqrt(var_adult),\n",
    "            ls='--', marker='o', c=c[1], mew=3, mfc='w',\n",
    "            label='adult, 99% CI')\n",
    "ax.errorbar(distances, mu_child, yerr=3*np.sqrt(var_child),\n",
    "            ls=':', marker='d', c=c[2], mew=3, mfc='w',\n",
    "        label='child, 99% CI')\n",
    "ax.set(xlabel='distance [mm]',\n",
    "       ylabel='incident PD [W/m$^2$]',\n",
    "       xscale='log',\n",
    "       xticks=distances,\n",
    "       xticklabels=distances,\n",
    "       yticks=(0, 4, 8),\n",
    "       yticklabels=(0, 4, 8),\n",
    "       ylim=(-1.25, 9.25))\n",
    "ax.legend()\n",
    "\n",
    "sns.despine()\n",
    "fig.tight_layout()\n",
    "\n",
    "fname = 'presentation_head_IPD'\n",
    "save_fig(fig, os.path.join('figures', fname))"
   ]
  },
  {
   "cell_type": "code",
   "execution_count": null,
   "id": "dc02c145-7c70-470a-a088-8d0da84c72d7",
   "metadata": {},
   "outputs": [],
   "source": [
    "fig = plt.figure(figsize=(5, 5))\n",
    "ax = fig.add_subplot()\n",
    "ax.plot(distances, child_adult_perc_diff, 'o-', c=c[0], mew=3, mfc='w',\n",
    "        label='child - adult')\n",
    "ax.plot(distances, adult_planar_perc_diff, 'x--', c=c[1], mew=3, mfc='w',\n",
    "        label='adult - planar')\n",
    "ax.plot(distances, child_planar_perc_diff, 'd:', c=c[2], mew=3, mfc='w',\n",
    "        label='child - planar')\n",
    "ax.set(xlabel='distance [mm]',\n",
    "       ylabel='incident PD % diff.',\n",
    "       xscale='log',\n",
    "       xticks=distances,\n",
    "       xticklabels=distances,\n",
    "       yticks=(0, 6, 12),\n",
    "       yticklabels=(0, 6, 12),\n",
    "       ylim=(-2, 14))\n",
    "ax.legend()\n",
    "\n",
    "sns.despine()\n",
    "fig.tight_layout()\n",
    "\n",
    "fname = 'presentation_head_diff'\n",
    "save_fig(fig, os.path.join('figures', fname))"
   ]
  },
  {
   "cell_type": "markdown",
   "id": "7a5348bb-bc40-423a-8be7-2783b4466f7d",
   "metadata": {},
   "source": [
    "# curvature effect"
   ]
  },
  {
   "cell_type": "code",
   "execution_count": null,
   "id": "e312260a-dd09-464b-98b8-cbeec79a70f4",
   "metadata": {},
   "outputs": [],
   "source": [
    "frequency = 10\n",
    "distances = [2.5, 5, 10, 50, 150]\n",
    "radii = [1.8, 18]\n",
    "curvature = pd.read_csv(os.path.join('data', 'curvature.csv'))"
   ]
  },
  {
   "cell_type": "code",
   "execution_count": null,
   "id": "045fd4fa-96fd-4a2a-b4bf-8458e42e600b",
   "metadata": {},
   "outputs": [],
   "source": [
    "f_cond = curvature['frequency [GHz]'] == frequency\n",
    "extracted_curvature = curvature[f_cond]\n",
    "r_cond_small = extracted_curvature['radius [cm]'] == min(radii)\n",
    "r_cond_big = extracted_curvature['radius [cm]'] == max(radii)\n",
    "y_small = extracted_curvature[r_cond_small]['sPDn_sph [W/m2]'].to_numpy()\n",
    "y_big = extracted_curvature[r_cond_big]['sPDn_sph [W/m2]'].to_numpy()\n",
    "y_ref_1 = extracted_curvature[r_cond_small]['sPDn_pln [W/m2]'].to_numpy()\n",
    "y_ref_2 = extracted_curvature[r_cond_big]['sPDn_pln [W/m2]'].to_numpy()\n",
    "assert (y_ref_1 == y_ref_2).all()\n",
    "y_ref = y_ref_1.copy()\n",
    "small_big_perc_diff = (y_small - y_big) / y_ref * 100\n",
    "big_planar_perc_diff = (y_big - y_ref) / y_ref * 100\n",
    "small_planar_perc_diff = (y_small - y_ref) / y_ref * 100\n",
    "d_nf = 3e8 / (f * 1e9) / (2 * np.pi) * 1000"
   ]
  },
  {
   "cell_type": "code",
   "execution_count": null,
   "id": "d1f9dac9-55d3-44ab-805d-09743bd75365",
   "metadata": {},
   "outputs": [],
   "source": [
    "sns.set_context('talk', font_scale=1.1, rc={'lines.linewidth': 3,\n",
    "                                             'lines.markersize': 12})\n",
    "c = sns.color_palette(palette='colorblind', n_colors=3)\n",
    "\n",
    "fig = plt.figure(figsize=(5, 5))\n",
    "ax = fig.add_subplot()\n",
    "ax.plot(distances, y_ref, 'o-', c=c[0], mew=3, mfc='w',\n",
    "        label='planar')\n",
    "ax.plot(distances, y_big, 'x--', c=c[1], mew=3, mfc='w',\n",
    "        label='$r_{max}$ = 18 cm')\n",
    "ax.plot(distances, y_small, 'd:', c=c[2], mew=3, mfc='w',\n",
    "        label='$r_{min}$ = 1.8 cm')\n",
    "ax.set(xlabel='distance [mm]',\n",
    "       ylabel='incident PD [W/m$^2$]',\n",
    "       xscale='log',\n",
    "       xticks=distances,\n",
    "       xticklabels=distances,\n",
    "       yticks=(0, 5, 10),\n",
    "       yticklabels=(0, 5, 10),\n",
    "       ylim=(-1, 11))\n",
    "ax.legend()\n",
    "\n",
    "sns.despine()\n",
    "fig.tight_layout()"
   ]
  },
  {
   "cell_type": "code",
   "execution_count": null,
   "id": "f3054080-5994-48ba-82a1-f155d5a563fa",
   "metadata": {},
   "outputs": [],
   "source": [
    "fname = 'presentation_curvature_IPD'\n",
    "save_fig(fig, os.path.join('figures', fname))\n",
    "\n",
    "fig = plt.figure(figsize=(5, 5))\n",
    "ax = fig.add_subplot()\n",
    "ax.vlines(x=d_nf, ymin=-12, ymax=24, color='k', lw=2)\n",
    "ax.text(distances[0], -10, 'radiative\\nnear field', rotation=90, size=12)\n",
    "ax.plot(distances, small_big_perc_diff, 'o-', c=c[0], mew=3, mfc='w',\n",
    "        label='$r_{min}$ - $r_{max}$')\n",
    "ax.plot(distances, big_planar_perc_diff, 'x--', c=c[1], mew=3, mfc='w',\n",
    "        label='$r_{max}$ - planar')\n",
    "ax.plot(distances, small_planar_perc_diff, 'd:', c=c[2], mew=3, mfc='w',\n",
    "        label='$r_{min}$ - planar')\n",
    "ax.set(xlabel='distance [mm]',\n",
    "       ylabel='incident PD % diff.',\n",
    "       xscale='log',\n",
    "       xticks=distances,\n",
    "       xticklabels=distances,\n",
    "       yticks=(-12, 0, 12, 24),\n",
    "       yticklabels=(-12, 0, 12, 24),\n",
    "       ylim=(-14.4, 26.4))\n",
    "ax.legend()\n",
    "\n",
    "sns.despine()\n",
    "fig.tight_layout()\n",
    "\n",
    "fname = 'presentation_curvature_diff'\n",
    "save_fig(fig, os.path.join('figures', fname))"
   ]
  },
  {
   "cell_type": "code",
   "execution_count": null,
   "id": "fb1ad98e-989c-4798-a66c-e1006c8e246c",
   "metadata": {},
   "outputs": [],
   "source": []
  }
 ],
 "metadata": {
  "kernelspec": {
   "display_name": "Python 3 (ipykernel)",
   "language": "python",
   "name": "python3"
  },
  "language_info": {
   "codemirror_mode": {
    "name": "ipython",
    "version": 3
   },
   "file_extension": ".py",
   "mimetype": "text/x-python",
   "name": "python",
   "nbconvert_exporter": "python",
   "pygments_lexer": "ipython3",
   "version": "3.9.12"
  }
 },
 "nbformat": 4,
 "nbformat_minor": 5
}
