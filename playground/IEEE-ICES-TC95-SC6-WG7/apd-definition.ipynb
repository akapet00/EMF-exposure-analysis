{
 "cells": [
  {
   "cell_type": "code",
   "execution_count": null,
   "id": "7a3faa19-a0d9-44aa-8202-a707c13152ee",
   "metadata": {},
   "outputs": [],
   "source": [
    "import matplotlib.pyplot as plt\n",
    "from mpl_toolkits.axes_grid1.inset_locator import inset_axes\n",
    "import seaborn as sns\n",
    "from scipy import integrate\n",
    "import numpy as np\n",
    "import jax\n",
    "import jax.numpy as jnp\n",
    "\n",
    "from dosipy.constants import eps_0\n",
    "from dosipy.field import poynting\n",
    "from dosipy.utils.dataloader import (load_tissue_diel_properties,\n",
    "                                     load_antenna_el_properties)\n",
    "from dosipy.utils.integrate import elementwise_quad, elementwise_rectquad\n",
    "from dosipy.utils.derive import holoborodko\n",
    "\n",
    "from utils import reflection_coefficient"
   ]
  },
  {
   "cell_type": "markdown",
   "id": "48360cc4-5116-4f9c-a604-fdbdab7ca0e4",
   "metadata": {},
   "source": [
    "# Input data"
   ]
  },
  {
   "cell_type": "code",
   "execution_count": null,
   "id": "a2b4e036-f27b-47ef-9291-66fb78537f24",
   "metadata": {},
   "outputs": [],
   "source": [
    "# working frequency, Hz\n",
    "f = 60e9\n",
    "\n",
    "# dry skin density, kg/m3\n",
    "rho = 1109\n",
    "\n",
    "# conductivity, relative permitivitya and penetration depth\n",
    "sigma, eps_r, _, pen_depth = load_tissue_diel_properties('skin_dry', f)\n",
    "L = pen_depth / 2  # energy penetration depth in m\n",
    "\n",
    "# reflection coefficient\n",
    "eps_i = sigma / (2 * np.pi * f * eps_0)\n",
    "eps = eps_r - 1j * eps_i\n",
    "gamma = reflection_coefficient(eps)\n",
    "\n",
    "# power transmission coefficient\n",
    "T_tr = 1 - gamma ** 2"
   ]
  },
  {
   "cell_type": "markdown",
   "id": "7c0e6587-a108-41b9-a58f-f723d564684c",
   "metadata": {},
   "source": [
    "# Solution domain setup"
   ]
  },
  {
   "cell_type": "code",
   "execution_count": null,
   "id": "49e3db7e-1a57-4086-b5bf-6ded462f63fd",
   "metadata": {},
   "outputs": [],
   "source": [
    "# exposed surface extent\n",
    "if f < 30e9:\n",
    "    exposure_extent = (0.02, 0.02)  # meters x meters\n",
    "else:\n",
    "    exposure_extent = (0.01, 0.01)  # meters x meters\n",
    "\n",
    "# exposed surface area\n",
    "A = exposure_extent[0] * exposure_extent[1]  # meters^2\n",
    "\n",
    "# exposed volume coordinates\n",
    "xt = jnp.linspace(-exposure_extent[0]/2, exposure_extent[0]/2)\n",
    "yt = jnp.linspace(-exposure_extent[1]/2, exposure_extent[1]/2)\n",
    "Xt, Yt = np.meshgrid(xt, yt)\n",
    "z_max = 0.02  # in meters\n",
    "zt = jnp.linspace(0, z_max)\n",
    "\n",
    "# distance from the antenna\n",
    "h = 5 / 1000  # meters"
   ]
  },
  {
   "cell_type": "markdown",
   "id": "64adab3e-fe46-46c1-9dda-da07eb08f650",
   "metadata": {},
   "source": [
    "# Current across dipole in free space"
   ]
  },
  {
   "cell_type": "code",
   "execution_count": null,
   "id": "b30fa998-364b-453b-9cd6-eb7109271ef7",
   "metadata": {},
   "outputs": [],
   "source": [
    "# antenna electric properties, free space (Poljak 2005)\n",
    "antenna_data = load_antenna_el_properties(f)\n",
    "\n",
    "# antenna position - coordinates\n",
    "xs = antenna_data.x.to_numpy()\n",
    "xs = xs - xs.max() / 2\n",
    "xs = jnp.asarray(xs)\n",
    "ys = jnp.zeros_like(xs)\n",
    "zs = jnp.full_like(xs, h)\n",
    "\n",
    "# current through the antenna\n",
    "Is = antenna_data.ireal.to_numpy() + antenna_data.iimag.to_numpy() * 1j\n",
    "\n",
    "# current gradients\n",
    "Is_x = holoborodko(Is, xs[1]-xs[0])"
   ]
  },
  {
   "cell_type": "code",
   "execution_count": null,
   "id": "d56459f6-1b9b-4aa6-b196-a8d2a75030ce",
   "metadata": {},
   "outputs": [],
   "source": [
    "sns.set_theme(style='ticks', font_scale=1.25, palette='colorblind')\n",
    "fig, ax = plt.subplots()\n",
    "width = (np.ptp(xs) / np.ptp(xt) * 100).item()\n",
    "axin = inset_axes(ax, width=f'{width}%', height='20%', loc='center',\n",
    "                  bbox_to_anchor=(0, 0.1, 1, 1), bbox_transform=ax.transAxes)\n",
    "\n",
    "# main axes, exposed surface\n",
    "bbox = [xt.min(), xt.max(), yt.min(), yt.max()]\n",
    "xmin, xmax = bbox[:2]\n",
    "ymin, ymax = bbox[2:]\n",
    "ax.vlines(x=bbox[:2], ymin=ymin, ymax=ymax,\n",
    "          color='k', lw=2)\n",
    "ax.hlines(y=bbox[2:], xmin=xmin, xmax=xmax,\n",
    "          color='k', lw=2)\n",
    "ax.hlines(y=ys[0], xmin=xs.min(), xmax=xs.max(),\n",
    "          color='r', lw=4)\n",
    "ax.set_aspect('equal', 'box')\n",
    "ax.set(xlabel='$x$ (cm)',\n",
    "       ylabel='$y$ (cm)',\n",
    "       xticks=[xmin, xs.min(), xs.max(), xmax],\n",
    "       yticks=[ymin, 0, ymax],\n",
    "       xticklabels=[xmin * 100,\n",
    "                    np.round(xs.min() * 100, 2),\n",
    "                    np.round(xs.max() * 100, 2),\n",
    "                    xmax * 100],\n",
    "       yticklabels=[ymin * 100, 0, ymax * 100])\n",
    "sns.despine(fig=fig, ax=ax)\n",
    "\n",
    "# inserted axes, antenna position relative to surface\n",
    "axin.plot(xs, np.abs(Is))\n",
    "axin.set(xlabel='dipole',\n",
    "         ylabel='|$I$| (mA)',\n",
    "         xticks=[xs.min(), xs.max()],\n",
    "         yticks=[0, np.abs(Is).max()],\n",
    "         xticklabels=[],\n",
    "         yticklabels=[0, np.round(np.abs(Is).max() * 1000, 1)])\n",
    "axin.patch.set_alpha(0)"
   ]
  },
  {
   "cell_type": "markdown",
   "id": "e8d9c46b-7886-41d2-9aec-bdc844cb8fd5",
   "metadata": {},
   "source": [
    "# EM field distribution in free space"
   ]
  },
  {
   "cell_type": "code",
   "execution_count": null,
   "id": "3c054a5c-9214-4aad-be54-ade12544c948",
   "metadata": {},
   "outputs": [],
   "source": [
    "# incident PD components on the exposed surface\n",
    "PDinc = np.empty((xt.size, yt.size, 3), dtype=np.complex128)\n",
    "for xi, _xt in enumerate(xt):\n",
    "    for yi, _yt in enumerate(yt):\n",
    "        PDinc[xi, yi, :] = poynting(_xt, _yt, zt[0], xs, ys, zs, f, Is, Is_x)\n",
    "        \n",
    "# averaged total and normal incident power density on the surface\n",
    "PDinc_tot = np.abs(np.sqrt(PDinc[:, :, 0] ** 2\n",
    "                           + PDinc[:, :, 1] ** 2\n",
    "                           + PDinc[:, :, 2] **2))\n",
    "PDinc_n = np.abs(PDinc[:, :, 1].real)"
   ]
  },
  {
   "cell_type": "markdown",
   "id": "2da0f39c-8934-4995-ad9b-fe2c6f149938",
   "metadata": {},
   "source": [
    "# Specific absorption rate within the exposed tissue"
   ]
  },
  {
   "cell_type": "code",
   "execution_count": null,
   "id": "e7856d9f-7153-424b-a931-3602fb9a43fd",
   "metadata": {},
   "outputs": [],
   "source": [
    "# specific absorbtion rate in the exposed volume\n",
    "sar_surf = PDinc_tot * T_tr / (rho * L)\n",
    "sar = np.outer(\n",
    "    sar_surf, np.exp(-zt / L)\n",
    ").reshape(*sar_surf.shape, *zt.shape)"
   ]
  },
  {
   "cell_type": "code",
   "execution_count": null,
   "id": "3e4ffb38-a05f-4e06-ad9b-7265ec79bec7",
   "metadata": {},
   "outputs": [],
   "source": [
    "sns.set_theme(style='ticks', font_scale=1.25, palette='colorblind')\n",
    "fig, ax = plt.subplots()\n",
    "\n",
    "# main axes, exposed surface\n",
    "cm = ax.imshow(sar_surf,\n",
    "               extent=bbox,\n",
    "               origin='lower',\n",
    "               interpolation='bicubic',\n",
    "               cmap='viridis')\n",
    "cb = fig.colorbar(cm, ax=ax,\n",
    "                  label='SAR (W$/$m$^3$)')\n",
    "ax.hlines(y=ys[0], xmin=xs.min(), xmax=xs.max(),\n",
    "          color='r', lw=4)\n",
    "ax.set(xlabel='$x$ (cm)',\n",
    "       ylabel='$y$ (cm)',\n",
    "       xticks=[xmin, xs.min(), xs.max(), xmax],\n",
    "       yticks=[ymin, 0, ymax],\n",
    "       xticklabels=[xmin * 100,\n",
    "                    np.round(xs.min() * 100, 2),\n",
    "                    np.round(xs.max() * 100, 2),\n",
    "                    xmax * 100],\n",
    "       yticklabels=[ymin * 100, 0, ymax * 100])\n",
    "sns.despine(fig=fig, ax=ax)"
   ]
  },
  {
   "cell_type": "markdown",
   "id": "96e8c629-821f-4842-9ca0-9d6504aff009",
   "metadata": {},
   "source": [
    "# Spatially averaged abosorbed power density"
   ]
  },
  {
   "cell_type": "markdown",
   "id": "ea2328cb-67f1-4ea7-9f5e-9de8ed70bfa4",
   "metadata": {},
   "source": [
    "## 1) via tranmistted power"
   ]
  },
  {
   "cell_type": "code",
   "execution_count": null,
   "id": "63be6392-a7ee-4906-b558-f4a653fc1654",
   "metadata": {},
   "outputs": [],
   "source": [
    "# compute transmitted power density and its coresponding surface average\n",
    "PD_ab_tot = np.zeros_like(sar_surf)\n",
    "for i in range(sar_surf.shape[0]):\n",
    "    for j in range(sar_surf.shape[1]):\n",
    "        PD_ab_tot[i, j] = integrate.trapezoid(sigma * sar[i, j, :], zt, dx=np.diff(zt))\n",
    "sPDab_tot = 1 / (2 * A) * elementwise_rectquad(xt, yt, PD_ab_tot)"
   ]
  },
  {
   "cell_type": "code",
   "execution_count": null,
   "id": "71d7c9e6-6a34-41a7-bfa7-f761e69f6656",
   "metadata": {},
   "outputs": [],
   "source": [
    "sns.set_theme(style='ticks', font_scale=1.25, palette='colorblind')\n",
    "fig, ax = plt.subplots()\n",
    "\n",
    "# main axes, exposed surface\n",
    "cm = ax.imshow(PD_ab_tot,\n",
    "               extent=bbox,\n",
    "               origin='lower',\n",
    "               interpolation='bicubic',\n",
    "               cmap='viridis')\n",
    "cb = fig.colorbar(cm, ax=ax,\n",
    "                  label='TPD (W$/$m$^2$)')\n",
    "ax.hlines(y=ys[0], xmin=xs.min(), xmax=xs.max(),\n",
    "          color='r', lw=4)\n",
    "ax.set(xlabel='$x$ (cm)',\n",
    "       ylabel='$y$ (cm)',\n",
    "       xticks=[xmin, xs.min(), xs.max(), xmax],\n",
    "       yticks=[ymin, 0, ymax],\n",
    "       xticklabels=[xmin * 100,\n",
    "                    np.round(xs.min() * 100, 2),\n",
    "                    np.round(xs.max() * 100, 2),\n",
    "                    xmax * 100],\n",
    "       yticklabels=[ymin * 100, 0, ymax * 100],\n",
    "       title=f'APD = {sPDab_tot:.2f} W$/$m$^2$')\n",
    "sns.despine(fig=fig, ax=ax)"
   ]
  },
  {
   "cell_type": "markdown",
   "id": "8f53492d-f8b5-4a7c-822f-dfe4c39a2c47",
   "metadata": {},
   "source": [
    "## 2) flux defintion"
   ]
  },
  {
   "cell_type": "code",
   "execution_count": null,
   "id": "e0ea23af-5077-4a9b-a9ed-0e0d268bf7e5",
   "metadata": {},
   "outputs": [],
   "source": [
    "sPDinc_n = 1 / (2 * A) * elementwise_rectquad(xt, yt, PDinc_n)\n",
    "sPDapd_n = T_tr * sPDinc_n\n",
    "sPDapd_n"
   ]
  },
  {
   "cell_type": "code",
   "execution_count": null,
   "id": "a0f78c26-10c9-43b4-a460-91c69ee1140b",
   "metadata": {},
   "outputs": [],
   "source": []
  }
 ],
 "metadata": {
  "kernelspec": {
   "display_name": "Python 3 (ipykernel)",
   "language": "python",
   "name": "python3"
  },
  "language_info": {
   "codemirror_mode": {
    "name": "ipython",
    "version": 3
   },
   "file_extension": ".py",
   "mimetype": "text/x-python",
   "name": "python",
   "nbconvert_exporter": "python",
   "pygments_lexer": "ipython3",
   "version": "3.9.12"
  }
 },
 "nbformat": 4,
 "nbformat_minor": 5
}
