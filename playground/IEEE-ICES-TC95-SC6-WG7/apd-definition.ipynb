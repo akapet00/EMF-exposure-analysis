{
 "cells": [
  {
   "cell_type": "code",
   "execution_count": 1,
   "id": "7a3faa19-a0d9-44aa-8202-a707c13152ee",
   "metadata": {},
   "outputs": [],
   "source": [
    "import matplotlib.pyplot as plt\n",
    "import numpy as np\n",
    "\n",
    "from dosipy.constants import eps_0\n",
    "from dosipy.utils.dataloader import load_tissue_diel_properties\n",
    "\n",
    "from utils import reflection_coefficient"
   ]
  },
  {
   "cell_type": "code",
   "execution_count": 113,
   "id": "a2b4e036-f27b-47ef-9291-66fb78537f24",
   "metadata": {},
   "outputs": [],
   "source": [
    "# working frequency, Hz\n",
    "f = 100e9\n",
    "\n",
    "# peak incident power density, W/m2\n",
    "ipd = 100\n",
    "\n",
    "# dry skin density, kg/m3\n",
    "rho = 1109\n",
    "\n",
    "# conductivity, relative permitivitya and penetration depth\n",
    "sigma, eps_r, _, pen_depth = load_tissue_diel_properties('skin_dry', f)\n",
    "\n",
    "# reflection coefficient\n",
    "eps_i = sigma / (2 * np.pi * f * eps_0)\n",
    "eps = eps_r - 1j * eps_i\n",
    "gamma = reflection_coefficient(eps)\n",
    "\n",
    "# power transmission coefficient\n",
    "T_tr = 1 - gamma ** 2"
   ]
  },
  {
   "cell_type": "code",
   "execution_count": 121,
   "id": "8ce6df07-f813-4e1d-ba59-f72a59f6b59b",
   "metadata": {},
   "outputs": [],
   "source": [
    "# control volume\n",
    "target_area = (0.02, 0.02)  # meters x meters\n",
    "A = target_area[0] * target_area[1]  # meters^2\n",
    "x = np.linspace(-target_area[0]/2, target_area[0]/2)\n",
    "y = np.linspace(-target_area[1]/2, target_area[1]/2)\n",
    "z = np.linspace(0, pen_depth)"
   ]
  },
  {
   "cell_type": "code",
   "execution_count": 180,
   "id": "153f4815-946b-4b6f-93be-84dd80a661bb",
   "metadata": {},
   "outputs": [],
   "source": [
    "# compute sar\n",
    "R0 = 0.007\n",
    "X, Y = np.meshgrid(x, y)\n",
    "r = np.sqrt(X ** 2 + Y ** 2)\n",
    "sar_surf = ipd * T_tr / (rho * pen_depth) * np.exp(-r / R0)\n",
    "sar = np.outer(\n",
    "    sar_surf, np.exp(-z / pen_depth)\n",
    ").reshape(*sar_surf.shape, *z.shape)"
   ]
  },
  {
   "cell_type": "code",
   "execution_count": 181,
   "id": "fd4eda11-9cb3-4a11-b1e1-9a1bac0a64ec",
   "metadata": {},
   "outputs": [
    {
     "data": {
      "text/plain": [
       "<matplotlib.image.AxesImage at 0x7fba06386100>"
      ]
     },
     "execution_count": 181,
     "metadata": {},
     "output_type": "execute_result"
    },
    {
     "data": {
      "image/png": "[encoded data removed]",
      "text/plain": [
       "<Figure size 432x288 with 1 Axes>"
      ]
     },
     "metadata": {
      "needs_background": "light"
     },
     "output_type": "display_data"
    }
   ],
   "source": [
    "plt.imshow(sar_surf)"
   ]
  },
  {
   "cell_type": "code",
   "execution_count": 164,
   "id": "e3bdf806-88f3-48f7-bb99-0688e00adcc6",
   "metadata": {},
   "outputs": [],
   "source": []
  },
  {
   "cell_type": "code",
   "execution_count": null,
   "id": "7725fe08-81df-49ff-a0a2-561edebc5c5c",
   "metadata": {},
   "outputs": [],
   "source": []
  }
 ],
 "metadata": {
  "kernelspec": {
   "display_name": "Python 3 (ipykernel)",
   "language": "python",
   "name": "python3"
  },
  "language_info": {
   "codemirror_mode": {
    "name": "ipython",
    "version": 3
   },
   "file_extension": ".py",
   "mimetype": "text/x-python",
   "name": "python",
   "nbconvert_exporter": "python",
   "pygments_lexer": "ipython3",
   "version": "3.9.12"
  }
 },
 "nbformat": 4,
 "nbformat_minor": 5
}
