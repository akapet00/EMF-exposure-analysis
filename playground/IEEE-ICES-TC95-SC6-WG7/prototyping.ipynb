{
 "cells": [
  {
   "cell_type": "code",
   "execution_count": null,
   "id": "7a3faa19-a0d9-44aa-8202-a707c13152ee",
   "metadata": {},
   "outputs": [],
   "source": [
    "# configuration setup based on IEEE Std 2889TM-2021\n",
    "\n",
    "# frequency-distance pairs\n",
    "fd = {10: [5, 10],\n",
    "      30: [5, 10],\n",
    "      90: [2, 5]}"
   ]
  },
  {
   "cell_type": "code",
   "execution_count": null,
   "id": "a2b4e036-f27b-47ef-9291-66fb78537f24",
   "metadata": {},
   "outputs": [],
   "source": []
  }
 ],
 "metadata": {
  "kernelspec": {
   "display_name": "Python 3 (ipykernel)",
   "language": "python",
   "name": "python3"
  },
  "language_info": {
   "codemirror_mode": {
    "name": "ipython",
    "version": 3
   },
   "file_extension": ".py",
   "mimetype": "text/x-python",
   "name": "python",
   "nbconvert_exporter": "python",
   "pygments_lexer": "ipython3",
   "version": "3.9.12"
  }
 },
 "nbformat": 4,
 "nbformat_minor": 5
}
