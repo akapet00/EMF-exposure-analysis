{
 "cells": [
  {
   "cell_type": "code",
   "execution_count": null,
   "id": "7a3faa19-a0d9-44aa-8202-a707c13152ee",
   "metadata": {},
   "outputs": [],
   "source": [
    "import os\n",
    "\n",
    "import matplotlib.pyplot as plt\n",
    "import seaborn as sns\n",
    "import numpy as np\n",
    "import pandas as pd\n",
    "\n",
    "from dosipy.constants import eps_0\n",
    "from dosipy.utils.integrate import elementwise_quad, elementwise_rectquad\n",
    "\n",
    "from utils import fraunhofer_distance, reflection_coefficient"
   ]
  },
  {
   "cell_type": "code",
   "execution_count": null,
   "id": "a85c03e7-07ca-409f-94b5-fc4576e0cdcb",
   "metadata": {},
   "outputs": [],
   "source": [
    "sns.set_theme(style='ticks',\n",
    "              font_scale=1.5,\n",
    "              palette='colorblind',\n",
    "              rc={'text.usetex': True,\n",
    "                  'text.latex.preamble': r'\\usepackage{amsmath}',\n",
    "                  'font.family': 'serif'})"
   ]
  },
  {
   "cell_type": "code",
   "execution_count": null,
   "id": "0012f023-2d98-4079-8940-5120e719febf",
   "metadata": {},
   "outputs": [],
   "source": [
    "%matplotlib inline\n",
    "%config InlineBackend.figure_format='retina'"
   ]
  },
  {
   "cell_type": "code",
   "execution_count": null,
   "id": "dcfc4c4e-4945-45f9-b4f6-ab676a5e5618",
   "metadata": {},
   "outputs": [],
   "source": [
    "# working frequency, Hz\n",
    "f = np.array([10, 30, 90]) * 1e9\n",
    "\n",
    "# distance from the antenna\n",
    "d_10_30 = np.array([5, 10, 15]) / 1000  # meters\n",
    "d_90 = np.array([2, 5, 10]) / 1000  # meters\n",
    "\n",
    "# dry skin density, kg/m3\n",
    "rho = 1109\n",
    "\n",
    "# conductivity, S/m\n",
    "sigma = np.array([8.48, 27.31, 41.94])\n",
    "\n",
    "# dielectric constant\n",
    "eps_r = np.array([32.41, 16.63, 6.83])\n",
    "\n",
    "# reflection coefficient\n",
    "eps_i = sigma / (2 * np.pi * f * eps_0)\n",
    "eps = eps_r - 1j * eps_i\n",
    "gamma = reflection_coefficient(eps)\n",
    "\n",
    "# power transmission coefficient\n",
    "T_tr = 1 - gamma ** 2\n",
    "\n",
    "# exposed surface extent\n",
    "exposure_extent = (0.02, 0.02)  # meters x meters\n",
    "\n",
    "# integration area\n",
    "A_4 = exposure_extent[0] * exposure_extent[1]  # meters squared\n",
    "A_1 = A_4 / 4  # meters squared\n",
    "\n",
    "# exposed surface coordinates\n",
    "xt = np.linspace(-exposure_extent[0]/2, exposure_extent[0]/2)\n",
    "yt = np.linspace(-exposure_extent[1]/2, exposure_extent[1]/2)"
   ]
  },
  {
   "cell_type": "code",
   "execution_count": null,
   "id": "8d9f4197-b5e7-4695-8776-183988d03423",
   "metadata": {},
   "outputs": [],
   "source": [
    "# power density distribution on the exposed surface\n",
    "PDinc = np.load(os.path.join('data', '02_power_density_d10mm_f90GHz.npy'))"
   ]
  },
  {
   "cell_type": "code",
   "execution_count": null,
   "id": "338e130a-ad20-435c-9d3f-cfb5e6a118d0",
   "metadata": {},
   "outputs": [],
   "source": [
    "# averaged total incident power density on the surface\n",
    "PDinc_tot = np.linalg.norm(PDinc.real, ord=2, axis=2)"
   ]
  },
  {
   "cell_type": "code",
   "execution_count": null,
   "id": "158c97fe-9d77-4ba7-a440-8c42c37339cc",
   "metadata": {},
   "outputs": [],
   "source": [
    "sPDinc_tot_4 = 1 / (2 * A_4) * elementwise_rectquad(xt, yt, PDinc_tot)\n",
    "sPDinc_tot_1 = 1 / (2 * A_1) * elementwise_rectquad(xt, yt, PDinc_tot)\n",
    "sPDinc_tot_4, sPDinc_tot_1"
   ]
  },
  {
   "cell_type": "code",
   "execution_count": null,
   "id": "2cb3fae0-5907-4245-906e-aa36287baef8",
   "metadata": {},
   "outputs": [],
   "source": [
    "# averaged total incident power density on the surface\n",
    "PDinc_n = -PDinc[:, :, 2].real"
   ]
  },
  {
   "cell_type": "code",
   "execution_count": null,
   "id": "0477542d-6be6-440d-a7be-0162abc12b47",
   "metadata": {},
   "outputs": [],
   "source": [
    "sPDinc_n_4 = 1 / (2 * A_4) * elementwise_rectquad(xt, yt, PDinc_n)\n",
    "sPDinc_n_1 = 1 / (2 * A_1) * elementwise_rectquad(xt, yt, PDinc_n)\n",
    "sPDinc_n_4, sPDinc_n_1"
   ]
  },
  {
   "cell_type": "code",
   "execution_count": null,
   "id": "3c054a5c-9214-4aad-be54-ade12544c948",
   "metadata": {},
   "outputs": [],
   "source": [
    "# visualize\n",
    "fig, ax = plt.subplots()\n",
    "xmin, xmax = xt.min(), xt.max()\n",
    "ymin, ymax = yt.min(), yt.max()\n",
    "bbox = [xmin, xmax, ymin, ymax]\n",
    "cm = ax.imshow(PDinc_n,\n",
    "               extent=bbox,\n",
    "               origin='lower',\n",
    "               interpolation='bicubic',\n",
    "               cmap='viridis')\n",
    "cb = fig.colorbar(cm, ax=ax,\n",
    "                  label='power density (W$/$m$^3$)')\n",
    "ax.set(xlabel='$x$ (cm)',\n",
    "       ylabel='$y$ (cm)',\n",
    "       xticks=[xmin, 0, xmax],\n",
    "       yticks=[ymin, 0, ymax],\n",
    "       xticklabels=[xmin * 100, 0, xmax * 100],\n",
    "       yticklabels=[ymin * 100, 0, ymax * 100])\n",
    "sns.despine(fig=fig, ax=ax)"
   ]
  },
  {
   "cell_type": "markdown",
   "id": "96e8c629-821f-4842-9ca0-9d6504aff009",
   "metadata": {},
   "source": [
    "# Spatially averaged abosorbed power density"
   ]
  },
  {
   "cell_type": "code",
   "execution_count": null,
   "id": "e0ea23af-5077-4a9b-a9ed-0e0d268bf7e5",
   "metadata": {},
   "outputs": [],
   "source": [
    "sPDab_1 = T_tr[2] * sPDinc_n_1\n",
    "sPDab_1"
   ]
  },
  {
   "cell_type": "code",
   "execution_count": null,
   "id": "4ec27d88-9163-4d53-af94-85f36a3f7734",
   "metadata": {},
   "outputs": [],
   "source": []
  }
 ],
 "metadata": {
  "kernelspec": {
   "display_name": "Python 3 (ipykernel)",
   "language": "python",
   "name": "python3"
  },
  "language_info": {
   "codemirror_mode": {
    "name": "ipython",
    "version": 3
   },
   "file_extension": ".py",
   "mimetype": "text/x-python",
   "name": "python",
   "nbconvert_exporter": "python",
   "pygments_lexer": "ipython3",
   "version": "3.9.12"
  }
 },
 "nbformat": 4,
 "nbformat_minor": 5
}
