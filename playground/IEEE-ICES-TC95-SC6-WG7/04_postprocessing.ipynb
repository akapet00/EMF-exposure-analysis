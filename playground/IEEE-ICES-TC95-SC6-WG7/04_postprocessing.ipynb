{
 "cells": [
  {
   "cell_type": "code",
   "execution_count": 1,
   "id": "7a3faa19-a0d9-44aa-8202-a707c13152ee",
   "metadata": {},
   "outputs": [],
   "source": [
    "import os\n",
    "\n",
    "import matplotlib.pyplot as plt\n",
    "import seaborn as sns\n",
    "import numpy as np\n",
    "import pandas as pd\n",
    "\n",
    "from utils import fraunhofer_distance, reflection_coefficient, estimate_apd"
   ]
  },
  {
   "cell_type": "code",
   "execution_count": 2,
   "id": "a85c03e7-07ca-409f-94b5-fc4576e0cdcb",
   "metadata": {},
   "outputs": [],
   "source": [
    "sns.set_theme(style='ticks',\n",
    "              font_scale=1.5,\n",
    "              palette='colorblind',\n",
    "              rc={'text.usetex': True,\n",
    "                  'text.latex.preamble': r'\\usepackage{amsmath}',\n",
    "                  'font.family': 'serif'})"
   ]
  },
  {
   "cell_type": "code",
   "execution_count": 3,
   "id": "0012f023-2d98-4079-8940-5120e719febf",
   "metadata": {},
   "outputs": [],
   "source": [
    "%matplotlib inline\n",
    "%config InlineBackend.figure_format='retina'"
   ]
  },
  {
   "cell_type": "markdown",
   "id": "56e7420a-0ab2-4005-b1f4-6f43b758665a",
   "metadata": {},
   "source": [
    "# IPD\n",
    "\n",
    "Why the IPD values differ from the data?"
   ]
  },
  {
   "cell_type": "code",
   "execution_count": 4,
   "id": "3317f118-ece8-4bba-9cfd-acff77089cf0",
   "metadata": {},
   "outputs": [],
   "source": [
    "from dosipy.utils.integrate import elementwise_rectquad"
   ]
  },
  {
   "cell_type": "code",
   "execution_count": 17,
   "id": "a338c58d-b855-421f-a5fa-a733cd683734",
   "metadata": {},
   "outputs": [],
   "source": [
    "d = 2\n",
    "f = 90"
   ]
  },
  {
   "cell_type": "code",
   "execution_count": 18,
   "id": "f1b86bf9-9b2e-4742-a3cc-7912a4d74b97",
   "metadata": {},
   "outputs": [],
   "source": [
    "# load computed ipd data\n",
    "PDinc = np.load(os.path.join('data',\n",
    "                             f'02_power_density_d{d}mm_f{f}GHz.npy'))\n",
    "PDinc_n = PDinc[:, :, 2].real\n",
    "PDinc_tot = np.sqrt(PDinc[:, :, 0].real ** 2\n",
    "                    + PDinc[:, :, 1].real ** 2\n",
    "                    + PDinc[:, :, 2].real ** 2)\n",
    "lims = (int(PDinc.shape[0]/4),\n",
    "        int(PDinc.shape[0]*3/4) + 1)\n",
    "\n",
    "# extent of the exposed surface in mm\n",
    "extent = (-10, 10, -10, 10)\n",
    "\n",
    "# averaged incident power densities\n",
    "A4 = 4 / 100 / 100  # 4 cm2 integration surface\n",
    "A1 = A4 / 4  # 1 cm2 integration surface\n",
    "x = np.linspace(extent[0], extent[1], PDinc.shape[0]) / 1000\n",
    "y = np.linspace(extent[2], extent[3], PDinc.shape[1]) / 1000\n",
    "sPDinc_n1 = elementwise_rectquad(x[lims[0]:lims[1]],\n",
    "                                 y[lims[0]:lims[1]],\n",
    "                                 PDinc_n[lims[0]:lims[1],\n",
    "                                         lims[0]:lims[1]]) / (2 * A1)\n",
    "sPDinc_tot1 = elementwise_rectquad(x[lims[0]:lims[1]],\n",
    "                                   y[lims[0]:lims[1]],\n",
    "                                   PDinc_tot[lims[0]:lims[1],\n",
    "                                             lims[0]:lims[1]]) / (2 * A1)\n",
    "sPDinc_n4 = elementwise_rectquad(x, y, PDinc_n) / (2 * A4)\n",
    "sPDinc_tot4 = elementwise_rectquad(x, y, PDinc_tot) / (2 * A4)"
   ]
  },
  {
   "cell_type": "code",
   "execution_count": 19,
   "id": "bcfff4b7-0434-455b-8087-a195f4c4c353",
   "metadata": {},
   "outputs": [
    {
     "name": "stdout",
     "output_type": "stream",
     "text": [
      "2 90 normal \t 1 \t 44.89596811880829\n",
      "2 90 norm \t 1 \t 63.19145355783379\n",
      "2 90 normal \t 4 \t 13.81421499847122\n",
      "2 90 norm \t 4 \t 23.13932013768433\n"
     ]
    }
   ],
   "source": [
    "print(d, f, 'normal', '\\t', 1, '\\t',  sPDinc_n1)\n",
    "print(d, f, 'norm', '\\t', 1, '\\t', sPDinc_tot1)\n",
    "print(d, f, 'normal', '\\t', 4, '\\t', sPDinc_n4)\n",
    "print(d, f, 'norm', '\\t', 4, '\\t', sPDinc_tot4)"
   ]
  },
  {
   "cell_type": "code",
   "execution_count": 20,
   "id": "af8bc5e7-1eae-42f5-9a52-74c192658321",
   "metadata": {},
   "outputs": [
    {
     "name": "stdout",
     "output_type": "stream",
     "text": [
      "    d   f definition  area   mean   std\n",
      "24  2  90     normal     1  36.99  0.90\n",
      "25  2  90       norm     1  56.53  1.67\n",
      "26  2  90     normal     4  10.83  0.39\n",
      "27  2  90       norm     4  20.38  0.99\n"
     ]
    }
   ],
   "source": [
    "# load the ipd data from Li et al. 2022\n",
    "ipd = pd.read_csv(os.path.join('data', '03_Li_2022_data_table_6.csv'))\n",
    "print(ipd[(ipd['d'] == d) & (ipd['f'] == f)])"
   ]
  },
  {
   "cell_type": "code",
   "execution_count": null,
   "id": "0c37cf21-b2b7-4594-baff-5dd8cd543228",
   "metadata": {},
   "outputs": [],
   "source": []
  },
  {
   "cell_type": "code",
   "execution_count": null,
   "id": "d3f047d7-a342-453c-89a2-f59976481b42",
   "metadata": {},
   "outputs": [],
   "source": []
  },
  {
   "cell_type": "code",
   "execution_count": null,
   "id": "822afcba-dbb6-4a1e-a8fe-eeef230a1ad3",
   "metadata": {},
   "outputs": [],
   "source": []
  },
  {
   "cell_type": "markdown",
   "id": "a73b84d7-3434-4c4a-8f77-5023a24d4a8c",
   "metadata": {},
   "source": [
    "# APD"
   ]
  },
  {
   "cell_type": "markdown",
   "id": "3df542cb-3121-4efc-85e8-bf3c70809ca6",
   "metadata": {},
   "source": [
    "Update `estimate_apd` method:\n",
    "1. should the APD distribution be scaled prior to the spatial averaging?\n",
    "2. if the answer to 1. is $yes$, how the angle of incidence should be considered?\n",
    "\n",
    "N.B. For the comparison of the estimated values with the data from Li $et al$. 2023, consider only the 1-layer skin model at 10 GHz; at 30 and 90 GHz, both the 1- and 3-layer skin model should be considered. There are large discrepancies between the 1- and 3-layer model at 10 GHz because deeper tissue layers come into play because of the penetration depth which is considerably greater than at 30 and 90 GHz. At higher frequencies, there are only marginal differences between corresponding APD values on 1- and 3-layer skin model."
   ]
  },
  {
   "cell_type": "code",
   "execution_count": null,
   "id": "b06e8aef-c820-4aa1-833d-76132c68b460",
   "metadata": {},
   "outputs": [],
   "source": [
    "# load the apd data\n",
    "apd = pd.read_csv(os.path.join('data', '03_Li_2022_data_table_8.csv'))\n",
    "\n",
    "# skin conductivity in S/m2 at 10, 30, and 90 GHz\n",
    "sigma = {10: 8.48,\n",
    "         30: 27.31,\n",
    "         90: 41.94}\n",
    "\n",
    "# relative dielectric permittivity of skin at 10, 30, and 90 GHz\n",
    "eps_r = {10: 32.41,\n",
    "         30: 16.63,\n",
    "         90: 6.83}\n",
    "\n",
    "# extent of the exposed surface in mm\n",
    "extent = (-10, 10, -10, 10)\n",
    "\n",
    "data_n = []\n",
    "data_tot = []\n",
    "for d, f in apd.groupby(['d', 'f']).size().reset_index()[['d', 'f']].values:\n",
    "    sPDab_n1, sPDab_tot1, sPDab_n4, sPDab_tot4 = estimate_apd(d, f, extent,\n",
    "                                                              sigma=sigma[f],\n",
    "                                                              eps_r=eps_r[f])\n",
    "    data_n.append([d, f, None, 1, sPDab_n1, None])\n",
    "    data_n.append([d, f, None, 4, sPDab_n4, None])\n",
    "    data_tot.append([d, f, None, 1, sPDab_tot1, None])\n",
    "    data_tot.append([d, f, None, 4, sPDab_tot4, None])\n",
    "\n",
    "apd_n = pd.DataFrame(data=data_n, columns=apd.columns)\n",
    "apd_tot = pd.DataFrame(data=data_tot, columns=apd.columns)"
   ]
  },
  {
   "cell_type": "code",
   "execution_count": null,
   "id": "7f567c2d-901b-4620-a532-14bc91328238",
   "metadata": {},
   "outputs": [],
   "source": [
    "f = 10\n",
    "layers = 1\n",
    "\n",
    "cs = sns.color_palette('rocket', 2)\n",
    "fig, ax = plt.subplots()\n",
    "\n",
    "# collected data\n",
    "data = apd[(apd['f']==f) & (apd['layers']==layers)]\n",
    "d = data[data['area'] == 4]['d']\n",
    "mean_4 = data[data['area'] == 4]['mean']\n",
    "std_4 = data[data['area'] == 4]['std']\n",
    "mean_1 = data[data['area'] == 1]['mean']\n",
    "std_1 = data[data['area'] == 1]['std']\n",
    "ax.errorbar(d, mean_4, 2*std_4,\n",
    "            ls='-', lw=3, c=cs[0],\n",
    "            marker='o', ms=7, mfc='white', mew=1, mec=cs[0],\n",
    "            capsize=3)\n",
    "ax.errorbar(d, mean_1, 2*std_1,\n",
    "            ls='-', lw=3, c=cs[0],\n",
    "            marker='s', ms=7, mfc='white', mew=1, mec=cs[0],\n",
    "            capsize=3)\n",
    "\n",
    "# estimated data\n",
    "data_n = apd_n[(apd_n['f']==f)]\n",
    "estim_4 = data_n[data_n['area'] == 4]['mean']\n",
    "estim_1 = data_n[data_n['area'] == 1]['mean']\n",
    "ax.plot(d, estim_4,\n",
    "        ls='--', lw=3, c=cs[1],\n",
    "        marker='o', ms=7, mfc='white', mew=1,\n",
    "        zorder=3)\n",
    "ax.plot(d, estim_1,\n",
    "        ls='--', lw=3, c=cs[1],\n",
    "        marker='s', ms=7, mfc='white', mew=1,\n",
    "        zorder=4)\n",
    "\n",
    "# figure settings\n",
    "ymax = (mean_1+2*std_1).max()\n",
    "ytick = np.ceil(ymax) if np.ceil(ymax) % 2 == 0 else np.floor(ymax)\n",
    "ax.set(xlabel='distance (mm)',\n",
    "       xticks=d,\n",
    "       xticklabels=d,\n",
    "       ylabel='power density (W/m$^2$)',\n",
    "       yticks=[0, ytick/2, ytick],\n",
    "       yticklabels=[0, int(ytick/2), int(ytick)],\n",
    "      )\n",
    "ax.plot([], [], 'ko', ms=7, mfc='white', mew=1, label='$A$ = 4 cm$^2$')\n",
    "ax.plot([], [], 'ks', ms=7, mfc='white', mew=1, label='$A$ = 1 cm$^2$')\n",
    "ax.plot([], [], '-', lw=3, c=cs[0], label='$sAPD$')\n",
    "ax.plot([], [], '--', lw=3, c=cs[1], label=r'$\\widetilde{sAPD}$')\n",
    "ax.legend(loc='best', frameon=False)\n",
    "sns.despine(fig=fig, ax=ax)\n",
    "fig.tight_layout()\n",
    "plt.show()"
   ]
  },
  {
   "cell_type": "code",
   "execution_count": null,
   "id": "443b58ca-d6c3-4217-8f6a-8c6c1a7d321c",
   "metadata": {},
   "outputs": [],
   "source": [
    "# tba"
   ]
  },
  {
   "cell_type": "code",
   "execution_count": null,
   "id": "c6e60035-a146-4962-b252-f66f54b142a0",
   "metadata": {},
   "outputs": [],
   "source": []
  },
  {
   "cell_type": "code",
   "execution_count": null,
   "id": "d062827b-e29d-4997-b765-acc9cbb9b0bf",
   "metadata": {},
   "outputs": [],
   "source": []
  },
  {
   "cell_type": "code",
   "execution_count": null,
   "id": "45d48e16-15c2-467d-9b88-b628b8c20ecc",
   "metadata": {},
   "outputs": [],
   "source": []
  }
 ],
 "metadata": {
  "kernelspec": {
   "display_name": "Python 3 (ipykernel)",
   "language": "python",
   "name": "python3"
  },
  "language_info": {
   "codemirror_mode": {
    "name": "ipython",
    "version": 3
   },
   "file_extension": ".py",
   "mimetype": "text/x-python",
   "name": "python",
   "nbconvert_exporter": "python",
   "pygments_lexer": "ipython3",
   "version": "3.9.12"
  }
 },
 "nbformat": 4,
 "nbformat_minor": 5
}
