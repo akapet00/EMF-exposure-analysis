{
 "cells": [
  {
   "cell_type": "code",
   "execution_count": null,
   "id": "a3c0b22a-8861-480d-84e7-61686edd83d7",
   "metadata": {},
   "outputs": [],
   "source": [
    "import os\n",
    "\n",
    "import matplotlib.pyplot as plt\n",
    "from matplotlib.patches import Rectangle\n",
    "from mpl_toolkits.mplot3d.art3d import pathpatch_2d_to_3d, Poly3DCollection\n",
    "import numpy as np\n",
    "try:\n",
    "    import open3d as o3d\n",
    "except ImportError:\n",
    "    import sys\n",
    "    print(sys.exc_info())\n",
    "import pandas as pd\n",
    "\n",
    "from dosipy.utils.dataloader import load_ear_data\n",
    "from dosipy.utils.viz import (set_colorblind, fig_config, set_axes_equal,\n",
    "                              save_fig)\n",
    "from helpers import (clean_df, export_pcd, export_fields, poynting_vector,\n",
    "                     export_rect_idx)"
   ]
  },
  {
   "cell_type": "code",
   "execution_count": null,
   "id": "93b3c04c-0107-4a4e-b96d-6ad8f14cc276",
   "metadata": {},
   "outputs": [],
   "source": [
    "set_colorblind()\n",
    "%config InlineBackend.figure_format = 'retina'"
   ]
  },
  {
   "cell_type": "markdown",
   "id": "398bc49f-71e2-4a63-9f23-305843198484",
   "metadata": {},
   "source": [
    "# Parametrized averaging surface projection onto the model"
   ]
  },
  {
   "cell_type": "code",
   "execution_count": null,
   "id": "8e35ac6d-79c5-4f2f-86bf-e2a2f3dfc48d",
   "metadata": {},
   "outputs": [],
   "source": [
    "# input data\n",
    "\n",
    "polarization = 'te'\n",
    "f = 26\n",
    "edge_length = 20\n",
    "origin = [-25, 15]"
   ]
  },
  {
   "cell_type": "code",
   "execution_count": null,
   "id": "74c05215-a628-4dcb-873a-63d1e7c74879",
   "metadata": {},
   "outputs": [],
   "source": [
    "# load surface data\n",
    "\n",
    "df = load_ear_data(polarization, f, surface='front')\n",
    "df = clean_df(df)\n",
    "xyz = export_pcd(df)\n",
    "pcd = o3d.geometry.PointCloud()\n",
    "pcd.points = o3d.utility.Vector3dVector(xyz)\n",
    "center = pcd.get_center()"
   ]
  },
  {
   "cell_type": "code",
   "execution_count": null,
   "id": "596a8c3e-4a7f-4751-8ea3-7b67cfcff61d",
   "metadata": {},
   "outputs": [],
   "source": [
    "# extract points visible from the plane wave incidence POV (-x direction)\n",
    "\n",
    "diameter = np.linalg.norm(\n",
    "    pcd.get_max_bound() - pcd.get_min_bound()\n",
    ")\n",
    "radius = 10 ** 5\n",
    "camera = [center[0] + diameter, center[1], center[2]]\n",
    "_, mask = pcd.hidden_point_removal(camera, radius)\n",
    "xyz_zy = xyz[mask]\n",
    "rect_center = [origin[0] + edge_length / 2, origin[1] + edge_length / 2]\n",
    "_, rect_idx = export_rect_idx(xyz_zy, rect_center, edge_length, view='zy')"
   ]
  },
  {
   "cell_type": "code",
   "execution_count": null,
   "id": "6518c27b-e6b2-4f0e-a794-e40ce9262c8e",
   "metadata": {},
   "outputs": [],
   "source": [
    "skip = 1\n",
    "scaler = 2\n",
    "fig_config(latex=True, text_size=20, scaler=scaler)\n",
    "fig = plt.figure()\n",
    "ax = plt.axes(projection ='3d')\n",
    "\n",
    "# point cloud\n",
    "ax.scatter(xyz[::skip, 2], xyz[::skip, 0], xyz[::skip, 1],\n",
    "           s=0.25, alpha=0.02, color='gray')\n",
    "ax.scatter(xyz_zy[rect_idx, 2], xyz_zy[rect_idx, 0], xyz_zy[rect_idx, 1],\n",
    "           s=0.25, alpha=0.2, color='red')\n",
    "# handle for legend\n",
    "rect_handle = Rectangle([0,0], 0, 0, color='red', ec='None', alpha=0.8,\n",
    "                        label='conformal\\nsurface')\n",
    "\n",
    "# averaging surface(s)\n",
    "rect_pos = xyz[:, 0].max()\n",
    "origin = [-25, 15]\n",
    "edge_length = 20\n",
    "param_rect = Rectangle(origin, edge_length, edge_length,\n",
    "                       ec='black', fc='None', lw=2,\n",
    "                       label='parametrized\\nsurface')\n",
    "ax.add_patch(param_rect)\n",
    "pathpatch_2d_to_3d(param_rect, z=100, zdir='y')\n",
    "\n",
    "# additional figure configuration\n",
    "ax.set(xlabel='$z$ [mm]', ylabel='$x$ [mm]',\n",
    "       xticks=[10, -10, -30],\n",
    "       yticks=[50, 70, 90],\n",
    "       zticks=[-5, 20, 45])\n",
    "ax.zaxis.set_rotate_label(False)\n",
    "ax.set_zlabel('$y$ [mm]', rotation=90)\n",
    "ax.xaxis.pane.fill = False\n",
    "ax.yaxis.pane.fill = False\n",
    "ax.zaxis.pane.fill = False\n",
    "ax.xaxis.labelpad = 15\n",
    "ax.yaxis.labelpad = 12\n",
    "ax.zaxis.labelpad = 12\n",
    "ax.view_init(15, 70)\n",
    "ax = set_axes_equal(ax)\n",
    "fig.legend(handles=[rect_handle, param_rect],\n",
    "           bbox_to_anchor=(0.775, 0.975),\n",
    "           ncol=2)\n",
    "fig.tight_layout();\n",
    "\n",
    "# save figure\n",
    "#fname = os.path.join('figures', 'projection')\n",
    "#save_fig(fig, fname=fname, formats=['png'])"
   ]
  },
  {
   "cell_type": "markdown",
   "id": "430a7f89-55d1-4621-b8cd-ebd4e7c22bf7",
   "metadata": {},
   "source": [
    "# APD distribution"
   ]
  },
  {
   "cell_type": "code",
   "execution_count": null,
   "id": "5b48b3b2-6ffa-4749-9713-2550bd3727fc",
   "metadata": {},
   "outputs": [],
   "source": [
    "origin_ds = {'te26_4': [-25.28, 17.25],\n",
    "             'tm26_4': [-19.77, 5.22],\n",
    "             'te60_4': [-25.09, 19.09],\n",
    "             'te60_1': [-8.50, 11.38],\n",
    "             'tm60_4': [-13.24, 13.05],\n",
    "             'tm60_1': [-10.32, 13.46],\n",
    "             }"
   ]
  },
  {
   "cell_type": "code",
   "execution_count": null,
   "id": "64308a9b-7472-4c12-a663-2f7141cf088c",
   "metadata": {},
   "outputs": [],
   "source": [
    "# input data\n",
    "\n",
    "polarization = 'tm'\n",
    "f = 60\n",
    "edge_length = 10"
   ]
  },
  {
   "cell_type": "code",
   "execution_count": null,
   "id": "43189ee3-def3-4f68-a906-222ab03b5c43",
   "metadata": {},
   "outputs": [],
   "source": [
    "if edge_length == 20:\n",
    "    A = 4\n",
    "    origin = origin_ds[f'{polarization}{f}_{A}']\n",
    "elif edge_length == 10:\n",
    "    A = 1\n",
    "    origin = origin_ds[f'{polarization}{f}_{A}']\n",
    "else:\n",
    "    raise ValueError(f'Edge length {edge_length} is not defined.')"
   ]
  },
  {
   "cell_type": "code",
   "execution_count": null,
   "id": "b9ca9beb-a6a8-4509-a813-3a59e7a5ffcf",
   "metadata": {},
   "outputs": [],
   "source": [
    "# load surface data\n",
    "\n",
    "df = load_ear_data(polarization, f, surface='front')\n",
    "df = clean_df(df)\n",
    "xyz = export_pcd(df)\n",
    "pcd = o3d.geometry.PointCloud()\n",
    "pcd.points = o3d.utility.Vector3dVector(xyz)\n",
    "\n",
    "# postprocessing on the surface of the model\n",
    "E, H = export_fields(df)\n",
    "Sx, Sy, Sz = poynting_vector(E, H)\n",
    "pcd.estimate_normals()\n",
    "n = np.asarray(pcd.normals)\n",
    "APD = np.abs(Sx.real * n[:, 0] + Sy.real * n[:, 1] + Sz.real * n[:, 2])"
   ]
  },
  {
   "cell_type": "code",
   "execution_count": null,
   "id": "a346fccb-1750-404c-b5e8-ca214b036b3d",
   "metadata": {},
   "outputs": [],
   "source": [
    "skip = 1\n",
    "scaler = 2\n",
    "fig_config(latex=True, text_size=20, scaler=scaler)\n",
    "fig = plt.figure()\n",
    "ax = plt.axes(projection ='3d')\n",
    "\n",
    "# point cloud and apd spatial distribution\n",
    "cs = ax.scatter(xyz[::skip, 2], xyz[::skip, 0], xyz[::skip, 1],\n",
    "                c=APD[::skip],\n",
    "                cmap='viridis',\n",
    "                s=0.5,\n",
    "               )\n",
    "\n",
    "# averaging surface(s)\n",
    "rect_pos = xyz[:, 0].max()\n",
    "if (f == 60) and (edge_length == 20):\n",
    "    patch_rect = Rectangle(origin, edge_length, edge_length, fc='None', lw=2)\n",
    "    origin_red = [origin[0] + edge_length / 4,\n",
    "                  origin[1] + edge_length / 4]\n",
    "    patch_rect_red = Rectangle(origin_red, edge_length / 2, edge_length / 2, fc='None', ls='--', lw=2)\n",
    "    ax.add_patch(patch_rect)\n",
    "    pathpatch_2d_to_3d(patch_rect, z=rect_pos, zdir='y')\n",
    "    ax.add_patch(patch_rect_red)\n",
    "    pathpatch_2d_to_3d(patch_rect_red, z=rect_pos, zdir='y')\n",
    "else:\n",
    "    patch_rect = Rectangle(origin, edge_length, edge_length, fc='None', lw=2)\n",
    "    ax.add_patch(patch_rect)\n",
    "    pathpatch_2d_to_3d(patch_rect, z=80, zdir='y')\n",
    "    \n",
    "    # no colorbar for f = 60 GHz and A = 4 cm^2\n",
    "    cbar = fig.colorbar(cs, shrink=0.55, pad=-0.05)\n",
    "    cbar.ax.set_ylabel('$PD$ [W/m$^{2}$]')\n",
    "    cbar.ax.yaxis.labelpad = 12\n",
    "\n",
    "# additional figure configuration\n",
    "ax.set(xlabel='$z$ [mm]', ylabel='$x$ [mm]',\n",
    "       xticks=[10, -10, -30],\n",
    "       #yticks=[50, 70, 90],\n",
    "       yticks=[],\n",
    "       zticks=[-5, 20, 45])\n",
    "ax.zaxis.set_rotate_label(False)\n",
    "ax.set_zlabel('$y$ [mm]', rotation=90)\n",
    "ax.xaxis.pane.fill = False\n",
    "ax.yaxis.pane.fill = False\n",
    "ax.zaxis.pane.fill = False\n",
    "ax.xaxis.labelpad = 15\n",
    "ax.yaxis.labelpad = 10\n",
    "ax.zaxis.labelpad = 20\n",
    "ax.tick_params(axis='z', pad=10)\n",
    "ax.view_init(2, 90)\n",
    "ax = set_axes_equal(ax)\n",
    "fig.tight_layout();\n",
    "\n",
    "# save figure\n",
    "#fname = os.path.join('figures', f'{polarization}{f}_{A}')\n",
    "#save_fig(fig, fname=fname, formats=['png'])"
   ]
  },
  {
   "cell_type": "markdown",
   "id": "8b1cba82-4d18-4c19-a363-f9d0c3b3fb5d",
   "metadata": {},
   "source": [
    "# SAR distribution"
   ]
  },
  {
   "cell_type": "code",
   "execution_count": null,
   "id": "d1bd2921-9cfd-4326-90b9-1e8bcb3190ad",
   "metadata": {},
   "outputs": [],
   "source": [
    "# input data\n",
    "\n",
    "polarization = 'tm'\n",
    "f = 60"
   ]
  },
  {
   "cell_type": "code",
   "execution_count": null,
   "id": "7ea2e763-ff69-495e-a522-42966d417e84",
   "metadata": {},
   "outputs": [],
   "source": [
    "# load model data\n",
    "\n",
    "fname_block = os.path.join('data', f'loss_3D_ear_{f}GHz_{polarization.upper()}_front.txt')\n",
    "df = (pd.read_csv(fname_block, names=['x [mm]', 'y [mm]', 'z [mm]', 'Pl [W/m^3]'],\n",
    "                  header=None, delim_whitespace=True, skiprows=[0, 1])\n",
    "      [lambda x: (x['Pl [W/m^3]'] != 0.0)])\n",
    "df.reset_index(drop=True, inplace=True)\n",
    "xyz = export_pcd(df)\n",
    "Pl = df['Pl [W/m^3]'].to_numpy()\n",
    "tissue_density = 1049\n",
    "\n",
    "# postprocessing\n",
    "SAR = Pl / tissue_density"
   ]
  },
  {
   "cell_type": "code",
   "execution_count": null,
   "id": "e2b1d578-5acc-4fe5-aec0-e5dd7c612f93",
   "metadata": {},
   "outputs": [],
   "source": [
    "skip = 2\n",
    "scaler = 2\n",
    "fig_config(latex=True, text_size=20, scaler=scaler)\n",
    "fig = plt.figure()\n",
    "ax = plt.axes(projection ='3d')\n",
    "cs = ax.scatter(xyz[::skip, 2], xyz[::skip, 0], xyz[::skip, 1],\n",
    "                c=SAR[::skip],\n",
    "                cmap='viridis',\n",
    "                s=0.5,\n",
    "               )\n",
    "cbar = fig.colorbar(cs, shrink=0.55, pad=0)\n",
    "cbar.ax.set_ylabel('$SAR$ [W/kg]')\n",
    "cbar.ax.yaxis.labelpad = 12\n",
    "ax.set(xlabel='$z$ [mm]', ylabel='$x$ [mm]',\n",
    "       xticks=[10, -10, -30],\n",
    "       yticks=[50, 70, 90],\n",
    "       zticks=[-5, 20, 45])\n",
    "ax.zaxis.set_rotate_label(False)\n",
    "ax.set_zlabel('$y$ [mm]', rotation=90)\n",
    "ax.xaxis.pane.fill = False\n",
    "ax.yaxis.pane.fill = False\n",
    "ax.zaxis.pane.fill = False\n",
    "ax.xaxis.labelpad = 15\n",
    "ax.yaxis.labelpad = 15\n",
    "ax.zaxis.labelpad = 12\n",
    "ax.view_init(10, 70)\n",
    "ax = set_axes_equal(ax)\n",
    "fig.tight_layout();\n",
    "\n",
    "# save figure\n",
    "#fname = os.path.join('figures', f'{polarization}{f}_sar')\n",
    "#save_fig(fig, fname=fname, formats=['png'])"
   ]
  },
  {
   "cell_type": "code",
   "execution_count": null,
   "id": "a7508e69-2a18-4fab-abd4-8113f182f9d6",
   "metadata": {},
   "outputs": [],
   "source": []
  }
 ],
 "metadata": {
  "kernelspec": {
   "display_name": "Python 3 (ipykernel)",
   "language": "python",
   "name": "python3"
  },
  "language_info": {
   "codemirror_mode": {
    "name": "ipython",
    "version": 3
   },
   "file_extension": ".py",
   "mimetype": "text/x-python",
   "name": "python",
   "nbconvert_exporter": "python",
   "pygments_lexer": "ipython3",
   "version": "3.9.7"
  }
 },
 "nbformat": 4,
 "nbformat_minor": 5
}
