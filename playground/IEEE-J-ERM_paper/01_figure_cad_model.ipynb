{
 "cells": [
  {
   "cell_type": "code",
   "execution_count": null,
   "id": "a3c0b22a-8861-480d-84e7-61686edd83d7",
   "metadata": {},
   "outputs": [],
   "source": [
    "import os\n",
    "\n",
    "from matplotlib import ticker\n",
    "import matplotlib.pyplot as plt\n",
    "from matplotlib.patches import Rectangle\n",
    "from mpl_toolkits.mplot3d.art3d import pathpatch_2d_to_3d, Poly3DCollection\n",
    "import numpy as np\n",
    "try:\n",
    "    import open3d as o3d\n",
    "except ImportError:\n",
    "    import sys\n",
    "    print(sys.exc_info())\n",
    "import pandas as pd\n",
    "\n",
    "from dosipy.utils.dataloader import load_ear_data\n",
    "from dosipy.utils.viz import (set_colorblind, fig_config, set_axes_equal,\n",
    "                              save_fig)\n",
    "from helpers import (clean_df, export_pcd, export_fields, poynting_vector,\n",
    "                     export_rect_idx, get_imcolors)"
   ]
  },
  {
   "cell_type": "code",
   "execution_count": null,
   "id": "93b3c04c-0107-4a4e-b96d-6ad8f14cc276",
   "metadata": {},
   "outputs": [],
   "source": [
    "set_colorblind()\n",
    "%config InlineBackend.figure_format = 'retina'"
   ]
  },
  {
   "cell_type": "markdown",
   "id": "4f1ce137-aa13-42f0-bd06-d933e1ab917c",
   "metadata": {},
   "source": [
    "# CAD model"
   ]
  },
  {
   "cell_type": "code",
   "execution_count": null,
   "id": "5e5c7fa7-a1fa-4adc-a50a-2a984c376038",
   "metadata": {},
   "outputs": [],
   "source": [
    "# input data\n",
    "\n",
    "polarization = 'te'\n",
    "f = 26"
   ]
  },
  {
   "cell_type": "code",
   "execution_count": null,
   "id": "da2cae1e-e633-4225-8010-8a7c31155369",
   "metadata": {},
   "outputs": [],
   "source": [
    "# load surface data\n",
    "\n",
    "df = load_ear_data(polarization, f, surface='front')\n",
    "df = clean_df(df)\n",
    "xyz = export_pcd(df)\n",
    "pcd = o3d.geometry.PointCloud()\n",
    "pcd.points = o3d.utility.Vector3dVector(xyz)\n",
    "center = pcd.get_center()"
   ]
  },
  {
   "cell_type": "code",
   "execution_count": null,
   "id": "8b62db1f-ea4c-4c31-a6f4-8ff9fb387b7b",
   "metadata": {},
   "outputs": [],
   "source": [
    "# generate a point cloud\n",
    "\n",
    "pcd = o3d.geometry.PointCloud()\n",
    "pcd.points = o3d.utility.Vector3dVector(xyz)\n",
    "center = pcd.get_center()\n",
    "pcd.paint_uniform_color([0.5, 0.5, 0.5])\n",
    "cframe = o3d.geometry.TriangleMesh.create_coordinate_frame(\n",
    "    size=9, origin=center+np.array([6, -25, -20])\n",
    ")\n",
    "pcd.estimate_normals()\n",
    "radii = [0.005, 0.01, 0.02, 0.04]\n",
    "rec_mesh = o3d.geometry.TriangleMesh.create_from_point_cloud_ball_pivoting(\n",
    "    pcd, o3d.utility.DoubleVector(radii)\n",
    ")"
   ]
  },
  {
   "cell_type": "code",
   "execution_count": null,
   "id": "15d069b4-1060-4c0b-954a-4e88cce7f40c",
   "metadata": {},
   "outputs": [],
   "source": [
    "view_config = {\n",
    "    'zoom': 0.6,\n",
    "    'front': [0.99757547016811021, -0.0053197730130150481, 0.069389345968699973],\n",
    "    'lookat': [73.970504527733638, 21.162127098201477, -9.8491774343806799],\n",
    "    'up': [0.0062516025708518452, 0.99989308520692732, -0.01321876017899459],\n",
    "}\n",
    "color = get_imcolors([pcd, rec_mesh], view_config)\n",
    "set_colorblind()\n",
    "fig_config()\n",
    "fig = plt.figure()\n",
    "ax = fig.add_subplot()\n",
    "ax.imshow(color, origin='upper')\n",
    "\n",
    "# fname = os.path.join('figures', 'ear_model')\n",
    "# save_fig(fig, fname=fname, formats=['png'])"
   ]
  },
  {
   "cell_type": "code",
   "execution_count": null,
   "id": "a7508e69-2a18-4fab-abd4-8113f182f9d6",
   "metadata": {},
   "outputs": [],
   "source": []
  }
 ],
 "metadata": {
  "kernelspec": {
   "display_name": "Python 3 (ipykernel)",
   "language": "python",
   "name": "python3"
  },
  "language_info": {
   "codemirror_mode": {
    "name": "ipython",
    "version": 3
   },
   "file_extension": ".py",
   "mimetype": "text/x-python",
   "name": "python",
   "nbconvert_exporter": "python",
   "pygments_lexer": "ipython3",
   "version": "3.9.12"
  }
 },
 "nbformat": 4,
 "nbformat_minor": 5
}
