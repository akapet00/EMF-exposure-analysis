{
 "cells": [
  {
   "cell_type": "markdown",
   "metadata": {},
   "source": [
    "Conceptualization:\n",
    "- source: plane wave @ 26 GHz and 60 GHz\n",
    "- target: realistic ear model\n",
    "- exposure scenario: front incidence\n",
    "- integration: A = 4 cm2 and 1 cm2 for f = 26 GHz and 60 GHz, respectively\n",
    "    - time average Ponyting vector:\n",
    "    \n",
    "    $ P_t = 1/2 \\; \\Re\\big[\\boldsymbol{E} \\times \\boldsymbol{H}^*\\big]$\n",
    "    \n",
    "    - absorbed power density across irradiated surface of area, A:\n",
    "    \n",
    "    $APD = P_t \\cdot \\boldsymbol{n}$\n",
    "    - area average abosrbed power density:\n",
    "    \n",
    "        **definition (i)** $APD_{av} = 1/A \\; \\iint_A APD \\; \\mathrm{d}A$\n",
    "    \n",
    "        **definition (ii)** $APD_{av} = 1/A \\; \\iint_A \\mathrm{d}x \\mathrm{d}y \\int_{0}^{z_{max}} \\rho(x, y, z) \\cdot \\text{SAR}(x, y, z) \\; \\mathrm{d}z $\n",
    "        \n",
    "        where the body surface is at $z = 0$, and $z_{max}$ is depth of the body at the corresponding region; where Z max is much larger than the penetration dept, e.g. $z_{max} = + \\infty$.\n",
    "        \n",
    "        Specific absorption rate, SAR, defined as: \n",
    "    \n",
    "        $\\text{SAR} = ( \\sigma |\\boldsymbol{E}|^2 ) / \\rho$ \n",
    "    \n",
    "        where $\\sigma$ is conductivity (S/m), $\\rho$ is tissue density (kg/m3), and $\\boldsymbol{E}$ is (rms value of) the internal electric field.\n",
    "- novelty:\n",
    "    * [x] PCA-regression for normal estimation\n",
    "    * [x] accurate assessment of the surface integral for both defintions of absorbed power density \n",
    "    * [ ] potential computational time speed-up from the method used for the IMBioC2022 conference\n",
    "  "
   ]
  },
  {
   "cell_type": "code",
   "execution_count": null,
   "metadata": {},
   "outputs": [],
   "source": []
  }
 ],
 "metadata": {
  "kernelspec": {
   "display_name": "Python 3",
   "language": "python",
   "name": "python3"
  },
  "language_info": {
   "codemirror_mode": {
    "name": "ipython",
    "version": 3
   },
   "file_extension": ".py",
   "mimetype": "text/x-python",
   "name": "python",
   "nbconvert_exporter": "python",
   "pygments_lexer": "ipython3",
   "version": "3.8.5"
  }
 },
 "nbformat": 4,
 "nbformat_minor": 4
}
