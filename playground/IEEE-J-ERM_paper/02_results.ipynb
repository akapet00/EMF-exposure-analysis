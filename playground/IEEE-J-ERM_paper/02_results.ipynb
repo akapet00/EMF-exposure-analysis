{
 "cells": [
  {
   "cell_type": "markdown",
   "id": "b3f25515-4d62-4e5c-b25d-12dfdfc0e2a0",
   "metadata": {
    "tags": []
   },
   "source": [
    "##### Summary:\n",
    "\n",
    "---\n",
    "\n",
    "$f = 26 \\text{GHz}$\n",
    "- TE polarization\n",
    "    1. $pAPD_{av} = 5.75 \\; \\text{W/m}^2;\\; (z, y)_{\\text{origin}} = (-25.28, 17.25)$\n",
    "    2. $TPD_{av} = 6.36 \\; \\text{W/m}^2$\n",
    "- TM polarization\n",
    "    1. $APD = 5.62 \\; \\text{W/m}^2;\\; (z, y)_{\\text{origin}} = (-19.77, 5.22)$\n",
    "    2. $TPD_{av} = 6.89 \\; \\text{W/m}^2$\n",
    "    \n",
    "---\n",
    "\n",
    "$f = 60 \\text{GHz}$\n",
    "- TE polarization\n",
    "    - $A = 4 \\text{cm}^2$\n",
    "        1. $pAPD_{av} = 6.08 \\; \\text{W/m}^2;\\; (z, y)_{\\text{origin}} = (-25.09, 19.09)$\n",
    "        2. $TPD_{av} = 6.21 \\; \\text{W/m}^2$\n",
    "    - $A = 1 \\text{cm}^2$ with same center point of the averaging region\n",
    "        1. $APD_{av} = 5.89 \\; \\text{W/m}^2$\n",
    "        2. $TPD_{av} = 5.96 \\; \\text{W/m}^2$\n",
    "    - $A = 1 \\text{cm}^2$\n",
    "        1. $pAPD_{av} = 6.62 \\; \\text{W/m}^2;\\; (z, y)_{\\text{origin}} = (-8.50, 11.38)$\n",
    "        2. $TPD_{av} = 6.39 \\; \\text{W/m}^2$\n",
    "- TM polarization\n",
    "    - $A = 4 \\text{cm}^2$\n",
    "        1. $pAPD_{av} = 6.13 \\; \\text{W/m}^2;\\; (z, y)_{\\text{origin}} = (-13.24, 13.05)$\n",
    "        2. $TPD_{av} = 6.62 \\; \\text{W/m}^2$\n",
    "    - $A = 1 \\text{cm}^2$ with same origin point of the averaging region\n",
    "        1. $APD_{av} = 6.33 \\; \\text{W/m}^2$\n",
    "        2. $TPD_{av} = 6.16 \\; \\text{W/m}^2$\n",
    "    - $A = 1 \\text{cm}^2$\n",
    "        1. $pAPD_{av} = 7.45 \\; \\text{W/m}^2;\\; (z, y)_{\\text{origin}} = (-10.32, 13.46)$\n",
    "        2. $TPD_{av} = 7.17 \\; \\text{W/m}^2$"
   ]
  },
  {
   "cell_type": "code",
   "execution_count": null,
   "id": "757586a4-9450-4be3-bf80-34a8e0f3b405",
   "metadata": {},
   "outputs": [],
   "source": []
  }
 ],
 "metadata": {
  "kernelspec": {
   "display_name": "Python 3 (ipykernel)",
   "language": "python",
   "name": "python3"
  },
  "language_info": {
   "codemirror_mode": {
    "name": "ipython",
    "version": 3
   },
   "file_extension": ".py",
   "mimetype": "text/x-python",
   "name": "python",
   "nbconvert_exporter": "python",
   "pygments_lexer": "ipython3",
   "version": "3.9.7"
  }
 },
 "nbformat": 4,
 "nbformat_minor": 5
}
