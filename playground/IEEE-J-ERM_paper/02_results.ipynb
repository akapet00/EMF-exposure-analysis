{
 "cells": [
  {
   "cell_type": "markdown",
   "id": "b3f25515-4d62-4e5c-b25d-12dfdfc0e2a0",
   "metadata": {},
   "source": [
    "Summary:\n",
    "\n",
    "---\n",
    "\n",
    "$f = 26 \\text{GHz}$\n",
    "- TE polarization\n",
    "    1. $APD = 0 \\; \\text{W/m}^2$\n",
    "    2. $TPD_{av} = 0 \\; \\text{W/m}^2$\n",
    "- TM polarization\n",
    "    1. $APD = 0 \\; \\text{W/m}^2$\n",
    "    2. $TPD_{av} = 0 \\; \\text{W/m}^2$\n",
    "    \n",
    "---\n",
    "\n",
    "$f = 60 \\text{GHz}$\n",
    "- TE polarization\n",
    "    - $A = 4 \\text{cm}^2$\n",
    "        1. $APD = 0 \\; \\text{W/m}^2$\n",
    "        2. $TPD_{av} = 0 \\; \\text{W/m}^2$\n",
    "    - $A = 1 \\text{cm}^2$\n",
    "        1. $APD = 0 \\; \\text{W/m}^2$\n",
    "        2. $TPD_{av} = 0 \\; \\text{W/m}^2$\n",
    "- TM polarization\n",
    "    - $A = 4 \\text{cm}^2$\n",
    "        1. $APD = 0 \\; \\text{W/m}^2$\n",
    "        2. $TPD_{av} = 0 \\; \\text{W/m}^2$\n",
    "    - $A = 1 \\text{cm}^2$\n",
    "        1. $APD = 0 \\; \\text{W/m}^2$\n",
    "        2. $TPD_{av} = 0 \\; \\text{W/m}^2$"
   ]
  },
  {
   "cell_type": "code",
   "execution_count": null,
   "id": "757586a4-9450-4be3-bf80-34a8e0f3b405",
   "metadata": {},
   "outputs": [],
   "source": []
  }
 ],
 "metadata": {
  "kernelspec": {
   "display_name": "Python 3 (ipykernel)",
   "language": "python",
   "name": "python3"
  },
  "language_info": {
   "codemirror_mode": {
    "name": "ipython",
    "version": 3
   },
   "file_extension": ".py",
   "mimetype": "text/x-python",
   "name": "python",
   "nbconvert_exporter": "python",
   "pygments_lexer": "ipython3",
   "version": "3.9.7"
  }
 },
 "nbformat": 4,
 "nbformat_minor": 5
}
