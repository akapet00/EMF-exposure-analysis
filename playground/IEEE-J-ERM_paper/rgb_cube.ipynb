{
 "cells": [
  {
   "cell_type": "code",
   "execution_count": null,
   "id": "2c78ed80-d620-4253-9e4b-ba7343d6832e",
   "metadata": {},
   "outputs": [],
   "source": [
    "import os\n",
    "import itertools\n",
    "\n",
    "import matplotlib.pyplot as plt\n",
    "import numpy as np\n",
    "\n",
    "from dosipy.utils.viz import fig_config, set_axes_equal, save_fig"
   ]
  },
  {
   "cell_type": "code",
   "execution_count": null,
   "id": "b3b052c6-072c-4fca-bec9-fd27902245f1",
   "metadata": {},
   "outputs": [],
   "source": [
    "def draw_unit_cube():\n",
    "    r = [0, 1]\n",
    "    X, Y = np.meshgrid(r, r)\n",
    "    ones = np.ones(4).reshape(2, 2)\n",
    "    zeros = np.zeros_like(ones)\n",
    "    ax = plt.axes(projection ='3d')\n",
    "    ax.plot_surface(X, Y, zeros, lw=3, color='None', edgecolor='k')\n",
    "    ax.plot_surface(X, Y, zeros, lw=3, color='None', edgecolor='k')\n",
    "    ax.plot_surface(X, zeros, Y, lw=3, color='None', edgecolor='k')\n",
    "    ax.plot_surface(X, ones, Y, lw=3, color='None', edgecolor='k')\n",
    "    ax.plot_surface(ones, X, Y, lw=3, color='None', edgecolor='k')\n",
    "    ax.plot_surface(zeros, X, Y, lw=3, color='None', edgecolor='k')\n",
    "    return ax"
   ]
  },
  {
   "cell_type": "code",
   "execution_count": null,
   "id": "6fc51a04-d8fd-4a19-a2f6-a983e3cb27eb",
   "metadata": {},
   "outputs": [],
   "source": [
    "pts = np.array(list(itertools.product([0, 1],repeat=3)))\n",
    "cs = ['black', 'blue', 'green', 'cyan', 'red', 'magenta', 'yellow', 'white']"
   ]
  },
  {
   "cell_type": "code",
   "execution_count": null,
   "id": "bf0c9851-d0f6-4eb8-ab25-727786d5f81b",
   "metadata": {},
   "outputs": [],
   "source": [
    "fig_config(latex=True, text_size=32)\n",
    "fig = plt.figure(figsize=(6, 6))\n",
    "ax = draw_unit_cube()\n",
    "fig.axes.append(ax)\n",
    "ax.scatter(*pts.T, c=cs, edgecolor='k', depthshade=False, s=720)\n",
    "ax.set(xlabel='$x$', ylabel='$y$', zlabel='$z$',\n",
    "       xlim=(-0.1, 1.1), ylim=(-0.1, 1.1), zlim=(-0.1, 1.1),\n",
    "       xticks=[0, 1], yticks=[0, 1], zticks=[0, 1])\n",
    "ax.view_init(20, 30)\n",
    "ax.grid(False)\n",
    "ax.xaxis.set_pane_color((1.0, 1.0, 1.0, 0.0))\n",
    "ax.yaxis.set_pane_color((1.0, 1.0, 1.0, 0.0))\n",
    "ax.zaxis.set_pane_color((1.0, 1.0, 1.0, 0.0))\n",
    "ax.set_box_aspect([1, 1, 1])\n",
    "ax = set_axes_equal(ax)\n",
    "\n",
    "# fname = os.path.join('figures', 'rgb_cube')\n",
    "# save_fig(fig, fname, formats=['png'])"
   ]
  },
  {
   "cell_type": "code",
   "execution_count": null,
   "id": "39042206-018e-48cf-9041-b47b68434dd0",
   "metadata": {},
   "outputs": [],
   "source": []
  },
  {
   "cell_type": "code",
   "execution_count": null,
   "id": "5cd5e795-b5ff-4978-8b33-95c4e80244e3",
   "metadata": {},
   "outputs": [],
   "source": []
  },
  {
   "cell_type": "code",
   "execution_count": null,
   "id": "8f831038-8106-4898-ab85-1d7f8bd0d2a2",
   "metadata": {},
   "outputs": [],
   "source": []
  }
 ],
 "metadata": {
  "kernelspec": {
   "display_name": "Python 3 (ipykernel)",
   "language": "python",
   "name": "python3"
  },
  "language_info": {
   "codemirror_mode": {
    "name": "ipython",
    "version": 3
   },
   "file_extension": ".py",
   "mimetype": "text/x-python",
   "name": "python",
   "nbconvert_exporter": "python",
   "pygments_lexer": "ipython3",
   "version": "3.9.12"
  }
 },
 "nbformat": 4,
 "nbformat_minor": 5
}
