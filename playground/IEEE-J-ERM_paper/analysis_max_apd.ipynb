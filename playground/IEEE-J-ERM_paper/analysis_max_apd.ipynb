{
 "cells": [
  {
   "cell_type": "code",
   "execution_count": null,
   "id": "946d186e-8805-459a-9f04-c0d7132df8c5",
   "metadata": {},
   "outputs": [],
   "source": [
    "import os\n",
    "\n",
    "import matplotlib.pyplot as plt\n",
    "from matplotlib.patches import Rectangle\n",
    "import numpy as np\n",
    "try:\n",
    "    import open3d as o3d\n",
    "except ImportError:\n",
    "    import sys\n",
    "    print(sys.exc_info())\n",
    "import pandas as pd\n",
    "from scipy import interpolate\n",
    "\n",
    "from dosipy.utils.dataloader import load_ear_data\n",
    "from dosipy.utils.integrate import elementwise_quad, elementwise_dblquad\n",
    "from dosipy.utils.viz import (set_colorblind, scatter_2d, scatter_3d,\n",
    "                              fig_config)\n",
    "from helpers import (clean_df, export_pcd, export_fields,\n",
    "                     poynting_vector, get_imcolors, export_rect_idx)"
   ]
  },
  {
   "cell_type": "code",
   "execution_count": null,
   "id": "1cdc4d55-aeec-4904-ab74-badc117ab0b9",
   "metadata": {},
   "outputs": [],
   "source": [
    "polarization = 'tm'\n",
    "f = 60"
   ]
  },
  {
   "cell_type": "markdown",
   "id": "dea18ba8-e86a-4c64-a2f5-c1fcc2d46d7a",
   "metadata": {},
   "source": [
    "# Spatial-average APD"
   ]
  },
  {
   "cell_type": "code",
   "execution_count": null,
   "id": "23747121-a858-45c4-bbf7-6cc8342dce51",
   "metadata": {},
   "outputs": [],
   "source": [
    "# load surface data\n",
    "\n",
    "df = load_ear_data(polarization, f, surface='front')\n",
    "df = clean_df(df)\n",
    "xyz = export_pcd(df)\n",
    "pcd = o3d.geometry.PointCloud()\n",
    "pcd.points = o3d.utility.Vector3dVector(xyz)\n",
    "center = pcd.get_center()\n",
    "# cframe = o3d.geometry.TriangleMesh.create_coordinate_frame(\n",
    "#     size=9, origin=center+np.array([6, -25, -20])\n",
    "# )\n",
    "# o3d.visualization.draw_geometries([pcd, cframe])"
   ]
  },
  {
   "cell_type": "code",
   "execution_count": null,
   "id": "c0dab5de-aa2b-4090-b8b2-973d88628a88",
   "metadata": {},
   "outputs": [],
   "source": [
    "# postprocessing on the surface of the model\n",
    "\n",
    "E, H = export_fields(df)\n",
    "Sx, Sy, Sz = poynting_vector(E, H)\n",
    "\n",
    "pcd.estimate_normals()\n",
    "n = np.asarray(pcd.normals)\n",
    "\n",
    "APD = np.abs(Sx.real * n[:, 0] + Sy.real * n[:, 1] + Sz.real * n[:, 2])"
   ]
  },
  {
   "cell_type": "code",
   "execution_count": null,
   "id": "35427bd9-c82a-4656-ab20-722694a045ee",
   "metadata": {},
   "outputs": [],
   "source": [
    "set_colorblind()\n",
    "fig_config(latex=True, scaler=2, text_size=18)\n",
    "label = '$APD$ [W/m$^2$]'\n",
    "fig, ax = scatter_3d({'$z$ [mm]': xyz[:, 2],\n",
    "                      '$x$ [mm]': xyz[:, 0],\n",
    "                      '$y$ [mm]': xyz[:, 1],\n",
    "                      label: APD},\n",
    "                     elev=[10], azim=[105])"
   ]
  },
  {
   "cell_type": "code",
   "execution_count": null,
   "id": "b1fa44cd-592c-485e-ad61-afde2817b472",
   "metadata": {},
   "outputs": [],
   "source": [
    "# extract points visible from the plane wave incidence POV (-x direction)\n",
    "\n",
    "diameter = np.linalg.norm(\n",
    "    pcd.get_max_bound() - pcd.get_min_bound()\n",
    ")\n",
    "radius = 10 ** 5\n",
    "camera = [center[0] + diameter, center[1], center[2]]\n",
    "_, mask = pcd.hidden_point_removal(camera, radius)\n",
    "xyz_zy = xyz[mask]\n",
    "APD_zy = APD[mask]\n",
    "n_zy = n[mask]"
   ]
  },
  {
   "cell_type": "code",
   "execution_count": null,
   "id": "a748ef8a-0381-48e7-a95f-a1e531c999e2",
   "metadata": {},
   "outputs": [],
   "source": [
    "# find appropriate domain\n",
    "\n",
    "pAPD_idx = np.where(APD_zy == APD_zy.max())[0][0]\n",
    "avg_center = xyz_zy[pAPD_idx, 2], xyz_zy[pAPD_idx, 1]\n",
    "avg_center = [avg_center[0], avg_center[1]]\n",
    "edge_length = 10\n",
    "area = edge_length ** 2\n",
    "origin, _ = export_rect_idx(xyz=xyz_zy,\n",
    "                            center=[avg_center[0], avg_center[1]],\n",
    "                            edge_length=edge_length,\n",
    "                            view='zy')\n",
    "set_colorblind()\n",
    "fig_config(latex=True, scaler=1.5, text_size=16)\n",
    "fig, ax = scatter_2d({'$z$ [mm]': xyz_zy[:, 2],\n",
    "                      '$y$ [mm]': xyz_zy[:, 1],\n",
    "                      label: APD_zy}, s=0.1, figsize=(2.950 * 1.5, 2.950 * 1.5))\n",
    "patch_rect = Rectangle(origin, edge_length, edge_length, fc='None', lw=2)\n",
    "ax.add_patch(patch_rect)\n",
    "ax.invert_xaxis()"
   ]
  },
  {
   "cell_type": "code",
   "execution_count": null,
   "id": "f7a17c9d-2b97-4d95-959b-68d68cc33b8b",
   "metadata": {},
   "outputs": [],
   "source": [
    "# find the max APDav and the corresponding averaging surface\n",
    "\n",
    "pAPD_idx = np.where(APD_zy == APD_zy.max())[0][0]\n",
    "avg_center = xyz_zy[pAPD_idx, 2], xyz_zy[pAPD_idx, 1]\n",
    "z_left, z_right, y_left, y_right = (0, 0, 0, 0) \n",
    "av_dict = {'origin': [], 'xyz': [], 'APDav': []}\n",
    "\n",
    "for zc in np.linspace(avg_center[0] - z_left, avg_center[0] + z_right, 21):\n",
    "    for yc in np.linspace(avg_center[1]- y_left, avg_center[1] + y_right, 21):\n",
    "        _origin, _idx_rect = export_rect_idx(xyz=xyz_zy,\n",
    "                                             center=[zc, yc],\n",
    "                                             edge_length=edge_length,\n",
    "                                             view='zy')\n",
    "        _xyz_rect = xyz_zy[_idx_rect]\n",
    "        _APD_rect = APD_zy[_idx_rect]\n",
    "        _n_rect = n_zy[_idx_rect]\n",
    "        _APDav = elementwise_dblquad(points=np.c_[_xyz_rect[:, 2], _xyz_rect[:, 1]],\n",
    "                                     values=_APD_rect,\n",
    "                                     degree=31,\n",
    "                                     interp_func=interpolate.LinearNDInterpolator, fill_value=0\n",
    "                                    ) / area\n",
    "        av_dict['origin'].append(_origin)\n",
    "        av_dict['xyz'].append(_xyz_rect)\n",
    "        av_dict['APDav'].append(_APDav)\n",
    "        \n",
    "pAPDav_idx_rect = np.argmax(av_dict['APDav'])\n",
    "pAPDav_origin = av_dict['origin'][pAPDav_idx_rect]\n",
    "pAPDav_xyz = av_dict['xyz'][pAPDav_idx_rect]\n",
    "pAPDav = av_dict['APDav'][pAPDav_idx_rect]"
   ]
  },
  {
   "cell_type": "code",
   "execution_count": null,
   "id": "95d71c27-3daa-44fc-b2ed-023c062a1f98",
   "metadata": {},
   "outputs": [],
   "source": [
    "set_colorblind()\n",
    "fig_config(latex=True, scaler=1.5, text_size=16)\n",
    "fig, ax = scatter_2d({'$z$ [mm]': xyz_zy[:, 2],\n",
    "                      '$y$ [mm]': xyz_zy[:, 1],\n",
    "                      label: APD_zy}, s=0.1, figsize=(2.950 * 1.5, 2.950 * 1.5))\n",
    "ax.set_title(f'$pAPD_{{av}} = {pAPDav:.2f}$ W/m$^2$')\n",
    "patch_rect = Rectangle(pAPDav_origin, edge_length, edge_length, fc='None', lw=2)\n",
    "ax.add_patch(patch_rect)\n",
    "ax.invert_xaxis()\n",
    "print(pAPDav_origin)"
   ]
  },
  {
   "cell_type": "code",
   "execution_count": null,
   "id": "6c248f84-6d3f-4f9a-b456-9ef95d28c4f0",
   "metadata": {},
   "outputs": [],
   "source": [
    "# apply this only for f = 60 GHz after pAPDav is already evaluated on 4cm^2 square area\n",
    "\n",
    "if f == 60:\n",
    "    def reduction():\n",
    "        _pAPDav_center = [pAPDav_origin[0] + edge_length / 2,\n",
    "                          pAPDav_origin[1] + edge_length / 2]\n",
    "        _origin, _idx_rect = export_rect_idx(xyz=xyz_zy,\n",
    "                                             center=_pAPDav_center,\n",
    "                                             edge_length=edge_length / 2,\n",
    "                                             view='zy')\n",
    "        _xyz_rect = xyz_zy[_idx_rect]\n",
    "        _APD_rect = APD_zy[_idx_rect]\n",
    "        _APDav = elementwise_dblquad(points=np.c_[_xyz_rect[:, 2], _xyz_rect[:, 1]],\n",
    "                                     values=_APD_rect,\n",
    "                                     degree=11,\n",
    "                                     interp_func=interpolate.LinearNDInterpolator, fill_value=0) / (area / 4)\n",
    "        return _origin, _xyz_rect, _APDav\n",
    "\n",
    "    pAPDav_origin, pAPDav_xyz, pAPDav_reduction = reduction()\n",
    "    pAPDav_reduction\n",
    "    \n",
    "    set_colorblind()\n",
    "    fig_config(latex=True, scaler=1.5, text_size=16)\n",
    "    fig, ax = scatter_2d({'$z$ [mm]': xyz_zy[:, 2],\n",
    "                          '$y$ [mm]': xyz_zy[:, 1],\n",
    "                          label: APD_zy}, s=0.1, figsize=(2.950 * 1.5, 2.950 * 1.5))\n",
    "    ax.set_title(f'$pAPD_{{av}} = {pAPDav_reduction:.2f}$ W/m$^2$')\n",
    "    patch_rect = Rectangle(pAPDav_origin, edge_length / 2, edge_length / 2, fc='None', lw=2)\n",
    "    ax.add_patch(patch_rect)\n",
    "    ax.invert_xaxis()"
   ]
  },
  {
   "cell_type": "markdown",
   "id": "215747fa-1893-4ea6-9002-fbb243fc6098",
   "metadata": {},
   "source": [
    "# Spatial-average TPD"
   ]
  },
  {
   "cell_type": "code",
   "execution_count": null,
   "id": "f868911b-95b3-4346-9db5-6981b14540f7",
   "metadata": {},
   "outputs": [],
   "source": [
    "# load the volume data for the block of tissue where the front face is the region that yields max APDav\n",
    "\n",
    "fname_block = os.path.join('data', f'loss_3D_ear_{f}GHz_{polarization.upper()}_front.txt')\n",
    "df_block = (pd.read_csv(fname_block, names=['x [mm]', 'y [mm]', 'z [mm]', 'Pl [W/m^3]'],\n",
    "                        header=None, delim_whitespace=True, skiprows=[0, 1])\n",
    "            [lambda x: (x['Pl [W/m^3]'] != 0.0)\n",
    "                       & (x['y [mm]'] >= pAPDav_xyz[:, 1].min())\n",
    "                       & (x['y [mm]'] <= pAPDav_xyz[:, 1].max())\n",
    "                       & (x['z [mm]'] >= pAPDav_xyz[:, 2].min())\n",
    "                       & (x['z [mm]'] <= pAPDav_xyz[:, 2].max())])\n",
    "df_block.reset_index(drop=True, inplace=True)\n",
    "\n",
    "xyz_block = export_pcd(df_block)\n",
    "Pl_block = df_block['Pl [W/m^3]'].to_numpy()\n",
    "tissue_density = 1049"
   ]
  },
  {
   "cell_type": "code",
   "execution_count": null,
   "id": "04e54d04-f0a0-4b78-a5a7-61c177e74041",
   "metadata": {},
   "outputs": [],
   "source": [
    "set_colorblind()\n",
    "fig_config(latex=True, scaler=2, text_size=18)\n",
    "label = '$SAR$ [W/kg]'\n",
    "fig, ax = scatter_3d({'$z$ [mm]': xyz_block[:, 2],\n",
    "                      '$x$ [mm]': xyz_block[:, 0],\n",
    "                      '$y$ [mm]': xyz_block[:, 1],\n",
    "                      label: Pl_block / tissue_density},\n",
    "                      elev=[15], azim=[105])"
   ]
  },
  {
   "cell_type": "code",
   "execution_count": null,
   "id": "02417bdf-e7cd-4ec7-923e-ca96e7896c46",
   "metadata": {},
   "outputs": [],
   "source": [
    "# compute the TPD distribution by integrating SAR depth-wise (-x direction)\n",
    "\n",
    "df_rect = df_block.groupby(['y [mm]', 'z [mm]']).apply(\n",
    "    lambda col: pd.Series({'TPD [W/m^2]': elementwise_quad(col['x [mm]'].to_numpy() / 1000,  # convert to meters\n",
    "                                                           col['Pl [W/m^3]'].to_numpy(),\n",
    "                                                           degree=11)})\n",
    "    ).reset_index()"
   ]
  },
  {
   "cell_type": "code",
   "execution_count": null,
   "id": "d0da131a-6800-42da-a9f9-78daa65780e4",
   "metadata": {},
   "outputs": [],
   "source": [
    "set_colorblind()\n",
    "fig_config(latex=True, scaler=1.5, text_size=16)\n",
    "label = '$TPD$ [W/m$^2$]'\n",
    "fig, ax = scatter_2d({'$z$ [mm]': df_rect['z [mm]'].to_numpy(),\n",
    "                      '$y$ [mm]': df_rect['y [mm]'].to_numpy(),\n",
    "                      label: df_rect['TPD [W/m^2]'].to_numpy()}, s=3,\n",
    "                     figsize=(2.950 * 1.915, 2.950 * 1.5))\n",
    "ax.invert_xaxis()"
   ]
  },
  {
   "cell_type": "code",
   "execution_count": null,
   "id": "bd463e84-5a6c-428a-a52c-13b24f3f71a9",
   "metadata": {},
   "outputs": [],
   "source": [
    "ds = 1\n",
    "TPD_av = elementwise_dblquad(points=df_rect[['z [mm]', 'y [mm]']].to_numpy()[::ds],\n",
    "                             values=df_rect['TPD [W/m^2]'].to_numpy()[::ds],\n",
    "                             degree=31,\n",
    "                             interp_func=interpolate.LinearNDInterpolator, fill_value=0\n",
    "                            ) / area\n",
    "TPD_av"
   ]
  },
  {
   "cell_type": "code",
   "execution_count": null,
   "id": "4c094b9c-c49b-42ee-8a57-f78096ba3396",
   "metadata": {},
   "outputs": [],
   "source": []
  }
 ],
 "metadata": {
  "kernelspec": {
   "display_name": "Python 3 (ipykernel)",
   "language": "python",
   "name": "python3"
  },
  "language_info": {
   "codemirror_mode": {
    "name": "ipython",
    "version": 3
   },
   "file_extension": ".py",
   "mimetype": "text/x-python",
   "name": "python",
   "nbconvert_exporter": "python",
   "pygments_lexer": "ipython3",
   "version": "3.9.12"
  }
 },
 "nbformat": 4,
 "nbformat_minor": 5
}
