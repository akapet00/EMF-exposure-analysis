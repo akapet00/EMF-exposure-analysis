{
 "cells": [
  {
   "cell_type": "code",
   "execution_count": null,
   "id": "a3c0b22a-8861-480d-84e7-61686edd83d7",
   "metadata": {},
   "outputs": [],
   "source": [
    "import os\n",
    "\n",
    "from matplotlib import ticker\n",
    "import matplotlib.pyplot as plt\n",
    "from matplotlib.patches import Rectangle\n",
    "from mpl_toolkits.mplot3d.art3d import pathpatch_2d_to_3d, Poly3DCollection\n",
    "import numpy as np\n",
    "try:\n",
    "    import open3d as o3d\n",
    "except ImportError:\n",
    "    import sys\n",
    "    print(sys.exc_info())\n",
    "import pandas as pd\n",
    "\n",
    "from dosipy.utils.dataloader import load_ear_data\n",
    "from dosipy.utils.viz import (set_colorblind, fig_config, set_axes_equal,\n",
    "                              save_fig)\n",
    "from helpers import (clean_df, export_pcd, export_fields, poynting_vector,\n",
    "                     export_rect_idx, get_imcolors)"
   ]
  },
  {
   "cell_type": "code",
   "execution_count": null,
   "id": "93b3c04c-0107-4a4e-b96d-6ad8f14cc276",
   "metadata": {},
   "outputs": [],
   "source": [
    "set_colorblind()\n",
    "%config InlineBackend.figure_format = 'retina'"
   ]
  },
  {
   "cell_type": "markdown",
   "id": "8b1cba82-4d18-4c19-a363-f9d0c3b3fb5d",
   "metadata": {},
   "source": [
    "# SAR distribution"
   ]
  },
  {
   "cell_type": "code",
   "execution_count": null,
   "id": "d1bd2921-9cfd-4326-90b9-1e8bcb3190ad",
   "metadata": {},
   "outputs": [],
   "source": [
    "# input data\n",
    "\n",
    "polarization = 'te'\n",
    "f = 26"
   ]
  },
  {
   "cell_type": "code",
   "execution_count": null,
   "id": "7ea2e763-ff69-495e-a522-42966d417e84",
   "metadata": {},
   "outputs": [],
   "source": [
    "# load model data\n",
    "\n",
    "fname_block = os.path.join('data', f'loss_3D_ear_{f}GHz_{polarization.upper()}_front.txt')\n",
    "df = (pd.read_csv(fname_block, names=['x [mm]', 'y [mm]', 'z [mm]', 'Pl [W/m^3]'],\n",
    "                  header=None, delim_whitespace=True, skiprows=[0, 1])\n",
    "      [lambda x: (x['Pl [W/m^3]'] != 0.0)])\n",
    "df.reset_index(drop=True, inplace=True)\n",
    "xyz = export_pcd(df)\n",
    "Pl = df['Pl [W/m^3]'].to_numpy()\n",
    "tissue_density = 1049\n",
    "\n",
    "# postprocessing\n",
    "SAR = Pl / tissue_density"
   ]
  },
  {
   "cell_type": "code",
   "execution_count": null,
   "id": "e2b1d578-5acc-4fe5-aec0-e5dd7c612f93",
   "metadata": {},
   "outputs": [],
   "source": [
    "skip = 2\n",
    "scaler = 2\n",
    "fig_config(latex=True, text_size=20, scaler=scaler)\n",
    "fig = plt.figure()\n",
    "ax = plt.axes(projection ='3d')\n",
    "cs = ax.scatter(xyz[::skip, 2], xyz[::skip, 0], xyz[::skip, 1],\n",
    "                c=SAR[::skip],\n",
    "                cmap='viridis',\n",
    "                s=0.5,\n",
    "               )\n",
    "cbar = fig.colorbar(cs, shrink=0.55, pad=0)\n",
    "cbar.ax.set_ylabel('$SAR$ [W/kg]')\n",
    "cbar.ax.yaxis.labelpad = 12\n",
    "ax.set(xlabel='$z$ [mm]', ylabel='$x$ [mm]',\n",
    "       xticks=[10, -10, -30],\n",
    "       yticks=[50, 70, 90],\n",
    "       zticks=[0, 20, 40])\n",
    "ax.zaxis.set_rotate_label(False)\n",
    "ax.set_zlabel('$y$ [mm]', rotation=90)\n",
    "ax.xaxis.pane.fill = False\n",
    "ax.yaxis.pane.fill = False\n",
    "ax.zaxis.pane.fill = False\n",
    "ax.xaxis.labelpad = 15\n",
    "ax.yaxis.labelpad = 15\n",
    "ax.zaxis.labelpad = 12\n",
    "ax.view_init(10, 70)\n",
    "ax.set_box_aspect([1, 1, 1])\n",
    "ax = set_axes_equal(ax)\n",
    "fig.tight_layout();\n",
    "\n",
    "# save figure\n",
    "#fname = os.path.join('figures', f'{polarization}{f}_sar')\n",
    "#save_fig(fig, fname=fname, formats=['png'])"
   ]
  },
  {
   "cell_type": "code",
   "execution_count": null,
   "id": "a7508e69-2a18-4fab-abd4-8113f182f9d6",
   "metadata": {},
   "outputs": [],
   "source": []
  }
 ],
 "metadata": {
  "kernelspec": {
   "display_name": "Python 3 (ipykernel)",
   "language": "python",
   "name": "python3"
  },
  "language_info": {
   "codemirror_mode": {
    "name": "ipython",
    "version": 3
   },
   "file_extension": ".py",
   "mimetype": "text/x-python",
   "name": "python",
   "nbconvert_exporter": "python",
   "pygments_lexer": "ipython3",
   "version": "3.9.12"
  }
 },
 "nbformat": 4,
 "nbformat_minor": 5
}
