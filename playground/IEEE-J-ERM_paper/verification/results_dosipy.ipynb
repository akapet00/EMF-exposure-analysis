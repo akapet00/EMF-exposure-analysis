{
 "cells": [
  {
   "cell_type": "markdown",
   "id": "09e7a1ba-0c76-4367-9b96-ab3b3c4fec5e",
   "metadata": {},
   "source": [
    "# DosiPy"
   ]
  },
  {
   "cell_type": "code",
   "execution_count": null,
   "id": "d02c14ed-2566-4798-9bc5-242ffb767671",
   "metadata": {},
   "outputs": [],
   "source": [
    "import os\n",
    "import sys\n",
    "sys.path.append('..')\n",
    "\n",
    "import numpy as np\n",
    "try:\n",
    "    import open3d as o3d\n",
    "except ImportError:\n",
    "    print(sys.exc_info())\n",
    "import pandas as pd\n",
    "from scipy import interpolate\n",
    "import quadpy\n",
    "\n",
    "from dosipy.utils.dataloader import load_ear_data\n",
    "from dosipy.utils.integrate import elementwise_quad, elementwise_dblquad\n",
    "from dosipy.utils.viz import (set_colorblind, scatter_2d, scatter_3d,\n",
    "                              fig_config, set_axes_equal, save_fig)\n",
    "\n",
    "from helpers import (clean_df, export_pcd, export_fields,\n",
    "                     poynting_vector, export_rect_idx, diff)"
   ]
  },
  {
   "cell_type": "code",
   "execution_count": null,
   "id": "b90ffee3-354f-4ac3-946e-908ec0f4c0a8",
   "metadata": {},
   "outputs": [],
   "source": [
    "set_colorblind()\n",
    "%config InlineBackend.figure_format = 'retina'"
   ]
  },
  {
   "cell_type": "code",
   "execution_count": null,
   "id": "c1fa0b58-717a-4da8-ad40-9612226fda1b",
   "metadata": {},
   "outputs": [],
   "source": [
    "# set input data\n",
    "\n",
    "polarization = 'te'\n",
    "f = 60\n",
    "edge_length = 10\n",
    "area = edge_length ** 2\n",
    "origin_dict = {'te@26-400': [-25.28, 17.25],\n",
    "               'tm@26-400': [-19.77, 5.22],\n",
    "               'te@60-400': [-25.09, 19.09],\n",
    "               'te@60-100': [-8.5, 11.38],\n",
    "               'tm@60-400': [-13.24, 13.05],\n",
    "               'tm@60-100': [-10.32, 13.46]}"
   ]
  },
  {
   "cell_type": "markdown",
   "id": "0c30199d-e993-43eb-99f4-0e79f9610b99",
   "metadata": {},
   "source": [
    "# Surface integration"
   ]
  },
  {
   "cell_type": "code",
   "execution_count": null,
   "id": "20c14df4-0270-4586-a918-7f218aafc4d7",
   "metadata": {},
   "outputs": [],
   "source": [
    "# load surface data\n",
    "\n",
    "df = load_ear_data(polarization, f, surface='front')\n",
    "df = clean_df(df)\n",
    "xyz = export_pcd(df)\n",
    "pcd = o3d.geometry.PointCloud()\n",
    "pcd.points = o3d.utility.Vector3dVector(xyz)\n",
    "center = pcd.get_center()\n",
    "cframe = o3d.geometry.TriangleMesh.create_coordinate_frame(\n",
    "    size=9, origin=center+np.array([6, -25, -20])\n",
    ")"
   ]
  },
  {
   "cell_type": "code",
   "execution_count": null,
   "id": "b0317ebd-1cf5-4f43-9385-b36d1cccbf46",
   "metadata": {},
   "outputs": [],
   "source": [
    "set_colorblind()\n",
    "fig_config(latex=True, scaler=1.5, text_size=16)\n",
    "fig, ax = scatter_3d({'$z$ [mm]': xyz[:, 2],\n",
    "                      '$x$ [mm]': xyz[:, 0],\n",
    "                      '$y$ [mm]': xyz[:, 1],\n",
    "                     },\n",
    "                     alpha=0.0025, elev=[10], azim=[120]\n",
    "                    )\n",
    "ax.set_box_aspect([1, 1, 1])\n",
    "ax = set_axes_equal(ax)\n",
    "fig.tight_layout();"
   ]
  },
  {
   "cell_type": "code",
   "execution_count": null,
   "id": "39fe32dd-c990-449f-b9ae-edb40d23768d",
   "metadata": {},
   "outputs": [],
   "source": [
    "# postprocessing on the surface of the model\n",
    "\n",
    "E, H = export_fields(df)\n",
    "Sx, Sy, Sz = poynting_vector(E, H)"
   ]
  },
  {
   "cell_type": "code",
   "execution_count": null,
   "id": "05127526-56c1-49c9-87be-f730408a7e05",
   "metadata": {},
   "outputs": [],
   "source": [
    "set_colorblind()\n",
    "label = '$|S|$ [W/m$^2$]'\n",
    "fig_config(latex=True, scaler=1.5, text_size=16)\n",
    "fig, ax = scatter_3d({'$z$ [mm]': xyz[:, 2],\n",
    "                      '$x$ [mm]': xyz[:, 0],\n",
    "                      '$y$ [mm]': xyz[:, 1],\n",
    "                      label: np.abs(np.sqrt(Sx ** 2 + Sy ** 2 + Sz ** 2)),\n",
    "                     },\n",
    "                     elev=[0], azim=[90]\n",
    "                    )\n",
    "ax.set_box_aspect([1, 1, 1])\n",
    "ax = set_axes_equal(ax)\n",
    "fig.tight_layout();"
   ]
  },
  {
   "cell_type": "code",
   "execution_count": null,
   "id": "1e706cf2-d202-46f4-9bb5-2a0d0abc7147",
   "metadata": {},
   "outputs": [],
   "source": [
    "# rectangular area for averaging\n",
    "\n",
    "origin = origin_dict[f'{polarization}@{f}-{area}']\n",
    "avg_center = [origin[0]+edge_length/2,\n",
    "              origin[1]+edge_length/2]\n",
    "area = edge_length ** 2\n",
    "pAPD_origin, idx_rect = export_rect_idx(xyz=xyz,\n",
    "                                        center=avg_center,\n",
    "                                        edge_length=edge_length,\n",
    "                                        view='zy')\n",
    "xyz_rect = xyz[idx_rect]\n",
    "Sx_rect, Sy_rect, Sz_rect = Sx[idx_rect], Sy[idx_rect], Sz[idx_rect]\n",
    "pcd_rect = o3d.geometry.PointCloud()\n",
    "pcd_rect.points = o3d.utility.Vector3dVector(xyz_rect)\n",
    "center_rect = pcd_rect.get_center()"
   ]
  },
  {
   "cell_type": "code",
   "execution_count": null,
   "id": "17327fe7-ae94-47bd-8a0b-91ee8d31edd5",
   "metadata": {},
   "outputs": [],
   "source": [
    "set_colorblind()\n",
    "fig_config(latex=True, scaler=3, text_size=16)\n",
    "fig, ax = scatter_3d({'$z$ [mm]': xyz_rect[:, 2],\n",
    "                      '$x$ [mm]': xyz_rect[:, 0],\n",
    "                      '$y$ [mm]': xyz_rect[:, 1],\n",
    "                     },\n",
    "                     alpha=0.1, azim=[120, -180]\n",
    "                    )"
   ]
  },
  {
   "cell_type": "code",
   "execution_count": null,
   "id": "9d47b084-4269-4d9c-afb2-b1ba0d72149c",
   "metadata": {},
   "outputs": [],
   "source": [
    "# extract points visible from the plane wave incidence POV (-x direction)\n",
    "\n",
    "diameter = np.linalg.norm(\n",
    "    pcd_rect.get_max_bound() - pcd_rect.get_min_bound()\n",
    ")\n",
    "radius = 10 ** 4\n",
    "camera = [center_rect[0] + diameter, center_rect[1], center_rect[2]]\n",
    "_, mask = pcd_rect.hidden_point_removal(camera, radius)\n",
    "xyz_avg = xyz_rect[mask]\n",
    "Sx_avg, Sy_avg, Sz_avg = Sx_rect[mask], Sy_rect[mask], Sz_rect[mask]\n",
    "mask = np.where(xyz_avg[:, 0] > 65)[0]\n",
    "xyz_avg = xyz_avg[mask]\n",
    "Sx_avg, Sy_avg, Sz_avg = Sx_avg[mask], Sy_avg[mask], Sz_avg[mask]"
   ]
  },
  {
   "cell_type": "code",
   "execution_count": null,
   "id": "d52e877f-2e35-4fa7-be9a-25cfd7561979",
   "metadata": {},
   "outputs": [],
   "source": [
    "set_colorblind()\n",
    "fig_config(latex=True, scaler=1.5, text_size=16)\n",
    "fig, ax = scatter_3d({'$z$ [mm]': xyz_avg[:, 2],\n",
    "                      '$x$ [mm]': xyz_avg[:, 0],\n",
    "                      '$y$ [mm]': xyz_avg[:, 1],\n",
    "                     },\n",
    "                     elev=[15], azim=[105], alpha=0.2\n",
    "                    )\n",
    "ax.set_box_aspect([1, 1, 1])\n",
    "ax = set_axes_equal(ax)\n",
    "fig.tight_layout();"
   ]
  },
  {
   "cell_type": "code",
   "execution_count": null,
   "id": "b3b61e7b-a834-41ca-8b56-98583ef9de99",
   "metadata": {},
   "outputs": [],
   "source": [
    "# approximate x = x(y, z)\n",
    "\n",
    "x_fun = interpolate.RBFInterpolator(xyz_avg[:, [2, 1]], xyz_avg[:, 0], neighbors=333)\n",
    "x_approximate = x_fun(xyz_avg[:, [2, 1]])\n",
    "np.all(np.isclose(xyz_avg[:, 0], x_approximate))"
   ]
  },
  {
   "cell_type": "code",
   "execution_count": null,
   "id": "1993e45c-c305-424f-ad30-cb2c59447384",
   "metadata": {},
   "outputs": [],
   "source": [
    "set_colorblind()\n",
    "fig_config(latex=True, scaler=1.5, text_size=16)\n",
    "fig, ax = scatter_3d({'$z$ [mm]': xyz_avg[:, 2],\n",
    "                      '$x$ [mm]': x_approximate,\n",
    "                      '$y$ [mm]': xyz_avg[:, 1],\n",
    "                     },\n",
    "                     alpha=0.1, elev=[15], azim=[-250]\n",
    "                    )\n",
    "ax.set_box_aspect([1, 1, 1])\n",
    "ax = set_axes_equal(ax)\n",
    "fig.tight_layout()\n",
    "\n",
    "fname = os.path.join(os.pardir, 'figures', f'rvwr-1.6.1-1')\n",
    "save_fig(fig, fname=fname, formats=['png'])"
   ]
  },
  {
   "cell_type": "code",
   "execution_count": null,
   "id": "442d3a74-8778-477a-9a49-12395f90b47d",
   "metadata": {},
   "outputs": [],
   "source": [
    "# approximate the length of the vector field normal to the integration area\n",
    "\n",
    "dxdz = diff(x_fun, arg=0)\n",
    "dxdy = diff(x_fun, arg=1)\n",
    "zy = np.c_[xyz_avg[:, 2], xyz_avg[:, 1]]\n",
    "n_len = np.sqrt(dxdz(zy) ** 2 + dxdy(zy) ** 2 + 1)"
   ]
  },
  {
   "cell_type": "code",
   "execution_count": null,
   "id": "28535c31-d6cb-41ff-981b-f56630c91512",
   "metadata": {},
   "outputs": [],
   "source": [
    "# compute and orient unit vector normal field\n",
    "\n",
    "pcd_avg = o3d.geometry.PointCloud()\n",
    "pcd_avg.points = o3d.utility.Vector3dVector(xyz_avg)\n",
    "pcd_avg.estimate_normals(search_param=o3d.geometry.KDTreeSearchParamKNN(33))\n",
    "pcd_avg.orient_normals_consistent_tangent_plane(33)\n",
    "\n",
    "n_avg = np.asarray(pcd_avg.normals)"
   ]
  },
  {
   "cell_type": "code",
   "execution_count": null,
   "id": "d8d36ea1-71bd-4178-9138-92fa84703d98",
   "metadata": {},
   "outputs": [],
   "source": [
    "set_colorblind()\n",
    "fig_config(latex=True, scaler=1.5, text_size=16, line_width=0.5)\n",
    "fig, ax = scatter_3d({'$z$ [mm]': xyz_avg[::100, 2],\n",
    "                      '$x$ [mm]': xyz_avg[::100, 0],\n",
    "                      '$y$ [mm]': xyz_avg[::100, 1],\n",
    "                     },\n",
    "                     elev=[10], azim=[60]\n",
    "                    )\n",
    "ax.quiver(xyz_avg[::20, 2], xyz_avg[::20, 0], xyz_avg[::20, 1],\n",
    "          n_avg[::20, 2], n_avg[::20, 0], n_avg[::20, 1], length=3, color='k')\n",
    "ax.set_box_aspect([1, 1, 1])\n",
    "ax = set_axes_equal(ax)\n",
    "fig.tight_layout();"
   ]
  },
  {
   "cell_type": "code",
   "execution_count": null,
   "id": "df8e9196-af13-4a2c-a968-73af39f24165",
   "metadata": {},
   "outputs": [],
   "source": [
    "# compute normalized APD distribution\n",
    "\n",
    "mask = np.where(n_len < 10)[0]  # filter nonphyscial values\n",
    "APDn = np.abs(Sx_avg[mask].real * n_avg[mask, 0]\n",
    "              + Sy_avg[mask].real * n_avg[mask, 1]\n",
    "              + Sz_avg[mask].real * n_avg[mask, 2]) * n_len[mask]"
   ]
  },
  {
   "cell_type": "code",
   "execution_count": null,
   "id": "a72ce0c3-ee24-4c10-a420-be2f7f5a1359",
   "metadata": {},
   "outputs": [],
   "source": [
    "set_colorblind()\n",
    "label = '$APD$ [W/m$^2$]'\n",
    "fig_config(latex=True, scaler=1.5, text_size=16)\n",
    "fig, ax = scatter_3d({'$z$ [mm]': xyz_avg[mask, 2],\n",
    "                      '$x$ [mm]': xyz_avg[mask, 0],\n",
    "                      '$y$ [mm]': xyz_avg[mask, 1],\n",
    "                      label: APDn,\n",
    "                     },\n",
    "                     elev=[10], azim=[-250]\n",
    "                    )\n",
    "ax.set_box_aspect([1, 1, 1])\n",
    "ax = set_axes_equal(ax)\n",
    "fig.tight_layout()\n",
    "\n",
    "fname = os.path.join(os.pardir, 'figures', f'rvwr-1.6.1-2')\n",
    "save_fig(fig, fname=fname, formats=['png'])"
   ]
  },
  {
   "cell_type": "code",
   "execution_count": null,
   "id": "d1c4fd17-2ae2-4335-a49b-3a3c418236ea",
   "metadata": {},
   "outputs": [],
   "source": [
    "# compute the actual area\n",
    "area_conformal = elementwise_dblquad(zy[mask], n_len[mask], degree=51,\n",
    "                                     interp_fun=interpolate.LinearNDInterpolator, fill_na=0)\n",
    "area_conformal"
   ]
  },
  {
   "cell_type": "code",
   "execution_count": null,
   "id": "a0d3a2ff-07c0-4037-a085-32de90120b02",
   "metadata": {},
   "outputs": [],
   "source": [
    "# compute area-averaged APD\n",
    "\n",
    "APDav = elementwise_dblquad(zy[mask], APDn, degree=51,\n",
    "                            interp_fun=interpolate.LinearNDInterpolator, fill_na=0) / area\n",
    "APDav"
   ]
  },
  {
   "cell_type": "code",
   "execution_count": null,
   "id": "ae27f0a0-39f6-4e34-99e4-6ff662c24e10",
   "metadata": {},
   "outputs": [],
   "source": [
    "# normalzie-denormalize\n",
    "\n",
    "APDav * area / area_conformal"
   ]
  },
  {
   "cell_type": "code",
   "execution_count": null,
   "id": "3ba360c3-2973-422d-a08a-a8209e55ba34",
   "metadata": {},
   "outputs": [],
   "source": [
    "# tba"
   ]
  },
  {
   "cell_type": "code",
   "execution_count": null,
   "id": "4142f41b-2a5c-4430-bdda-77e09723be3a",
   "metadata": {},
   "outputs": [],
   "source": [
    "set_colorblind()\n",
    "label = '$APD$ [W/m$^2$]'\n",
    "fig_config(latex=True, scaler=1.5, text_size=16)\n",
    "fig, ax = scatter_2d({'$z$ [mm]': xyz_avg[mask, 2],\n",
    "                      '$y$ [mm]': xyz_avg[mask, 1],\n",
    "                      label: APDn,\n",
    "                     }, figsize=(6, 5), s=10\n",
    "                    )\n",
    "ax.set(#xticks=(xyz_avg[mask, 2].min(), xyz_avg[mask, 2].max()),\n",
    "       #yticks=(xyz_avg[mask, 1].min(), xyz_avg[mask, 1].max()),\n",
    "       xlim=(xyz_avg[mask, 2].min(), xyz_avg[mask, 2].max()),\n",
    "       ylim=(xyz_avg[mask, 1].min(), xyz_avg[mask, 1].max()))\n",
    "fig.tight_layout()\n",
    "\n",
    "fname = os.path.join(os.pardir, 'figures', f'rvwr-1.6.1-3')\n",
    "save_fig(fig, fname=fname, formats=['png']);"
   ]
  },
  {
   "cell_type": "code",
   "execution_count": null,
   "id": "e7e87f8f-5335-4966-b490-db838622d368",
   "metadata": {},
   "outputs": [],
   "source": [
    "shrink_idx = np.where((xyz_avg[mask, 2] >= (xyz_avg[mask, 2].min() + 0.575))\n",
    "                      & (xyz_avg[mask, 1] <= (xyz_avg[mask, 1].max() - 0.575)))[0]"
   ]
  },
  {
   "cell_type": "code",
   "execution_count": null,
   "id": "0860f091-dc49-43b1-85f3-a8c0fb3bfaa7",
   "metadata": {},
   "outputs": [],
   "source": [
    "set_colorblind()\n",
    "label = '$APD$ [W/m$^2$]'\n",
    "fig_config(latex=True, scaler=1.5, text_size=16)\n",
    "fig, ax = scatter_2d({'$z$ [mm]': xyz_avg[mask, 2][shrink_idx],\n",
    "                      '$y$ [mm]': xyz_avg[mask, 1][shrink_idx],\n",
    "                      label: APDn[shrink_idx],\n",
    "                     }, figsize=(6, 5), s=10\n",
    "                    )\n",
    "ax.set(xlim=(xyz_avg[mask, 2].min(), xyz_avg[mask, 2].max()),\n",
    "       ylim=(xyz_avg[mask, 1].min(), xyz_avg[mask, 1].max()),\n",
    "       #xticks=(xyz_avg[mask, 2].min(), xyz_avg[mask, 2].max()),\n",
    "       #yticks=(xyz_avg[mask, 1].min(), xyz_avg[mask, 1].max())\n",
    "      )\n",
    "fig.tight_layout()\n",
    "\n",
    "fname = os.path.join(os.pardir, 'figures', f'rvwr-1.6.1-4')\n",
    "save_fig(fig, fname=fname, formats=['png']);"
   ]
  },
  {
   "cell_type": "code",
   "execution_count": null,
   "id": "9a11f8cf-78de-4eeb-af7e-1292a5fbb373",
   "metadata": {},
   "outputs": [],
   "source": [
    "area_conformal = elementwise_dblquad(zy[mask][shrink_idx], n_len[mask][shrink_idx], degree=51,\n",
    "                                     interp_fun=interpolate.LinearNDInterpolator, fill_na=0)\n",
    "area_conformal"
   ]
  },
  {
   "cell_type": "code",
   "execution_count": null,
   "id": "5b4c748e-db24-46c5-80b2-5c2d7c5b69e8",
   "metadata": {},
   "outputs": [],
   "source": [
    "# compute area-averaged APD\n",
    "\n",
    "APDav = elementwise_dblquad(zy[mask][shrink_idx], APDn[shrink_idx], degree=51,\n",
    "                            interp_fun=interpolate.LinearNDInterpolator, fill_na=0) / area\n",
    "APDav"
   ]
  },
  {
   "cell_type": "markdown",
   "id": "728e4b67-c118-40f2-9b6a-69eedde54052",
   "metadata": {},
   "source": [
    "# Volumetric integration"
   ]
  },
  {
   "cell_type": "code",
   "execution_count": null,
   "id": "4bfeb3c4-1797-4936-9b05-26862714d233",
   "metadata": {},
   "outputs": [],
   "source": [
    "# load the volume data for the block of tissue where the front face is the region that yields max APDav\n",
    "\n",
    "fname_block = os.path.join(os.pardir, 'data', f'loss_3D_ear_{f}GHz_{polarization.upper()}_front.txt')\n",
    "df_block = (pd.read_csv(fname_block, names=['x [mm]', 'y [mm]', 'z [mm]', 'Pl [W/m^3]'],\n",
    "                        header=None, delim_whitespace=True, skiprows=[0, 1])\n",
    "            [lambda x: (x['Pl [W/m^3]'] != 0.0)\n",
    "                       & (x['y [mm]'] >= xyz_avg[:, 1].min())\n",
    "                       & (x['y [mm]'] <= xyz_avg[:, 1].max())\n",
    "                       & (x['z [mm]'] >= xyz_avg[:, 2].min())\n",
    "                       & (x['z [mm]'] <= xyz_avg[:, 2].max())])\n",
    "df_block.reset_index(drop=True, inplace=True)\n",
    "\n",
    "xyz_block = export_pcd(df_block)\n",
    "Pl_block = df_block['Pl [W/m^3]'].to_numpy()\n",
    "tissue_density = 1049"
   ]
  },
  {
   "cell_type": "code",
   "execution_count": null,
   "id": "f74c6308-2466-47cf-8ca2-0e095c7cc27b",
   "metadata": {},
   "outputs": [],
   "source": [
    "set_colorblind()\n",
    "fig_config(latex=True, scaler=2, text_size=18)\n",
    "label = '$SAR$ [W/kg]'\n",
    "fig, ax = scatter_3d({'$z$ [mm]': xyz_block[:, 2],\n",
    "                      '$x$ [mm]': xyz_block[:, 0],\n",
    "                      '$y$ [mm]': xyz_block[:, 1],\n",
    "                      label: Pl_block / tissue_density},\n",
    "                      elev=[15], azim=[105])"
   ]
  },
  {
   "cell_type": "code",
   "execution_count": null,
   "id": "322818d7-29c6-44de-8cd9-e2cc3a77c6da",
   "metadata": {},
   "outputs": [],
   "source": [
    "# compute the TPD distribution by integrating SAR depth-wise (-x direction)\n",
    "\n",
    "df_rect = df_block.groupby(['y [mm]', 'z [mm]']).apply(\n",
    "    lambda col: pd.Series({'TPD [W/m^2]': elementwise_quad(col['x [mm]'].to_numpy() / 1000,  # convert to meters\n",
    "                                                           col['Pl [W/m^3]'].to_numpy(),\n",
    "                                                           degree=51)})\n",
    "    ).reset_index()"
   ]
  },
  {
   "cell_type": "code",
   "execution_count": null,
   "id": "09f34f3b-c4d5-4265-b9e0-2d1d3e58acff",
   "metadata": {},
   "outputs": [],
   "source": [
    "set_colorblind()\n",
    "fig_config(latex=True, scaler=1.5, text_size=16)\n",
    "label = '$TPD$ [W/m$^2$]'\n",
    "fig, ax = scatter_2d({'$z$ [mm]': df_rect['z [mm]'].to_numpy(),\n",
    "                      '$y$ [mm]': df_rect['y [mm]'].to_numpy(),\n",
    "                      label: df_rect['TPD [W/m^2]'].to_numpy()}, s=3,\n",
    "                     figsize=(2.950 * 1.915, 2.950 * 1.5))\n",
    "ax.invert_xaxis()"
   ]
  },
  {
   "cell_type": "code",
   "execution_count": null,
   "id": "0084a893-8728-4656-8c4d-6f9d04b6cf16",
   "metadata": {},
   "outputs": [],
   "source": [
    "# approximate x = x(z, y)\n",
    "\n",
    "xyz_rect = df_block.groupby(['y [mm]', 'z [mm]']).apply(\n",
    "    lambda col: pd.Series({'x_surf [mm]': col['x [mm]'].max()})\n",
    "    ).reset_index()\n",
    "\n",
    "x_fun = interpolate.RBFInterpolator(xyz_rect[['z [mm]', 'y [mm]']].to_numpy(),\n",
    "                                    xyz_rect['x_surf [mm]'].to_numpy(),\n",
    "                                    neighbors=100)\n",
    "x_approximate = x_fun(xyz_rect[['z [mm]', 'y [mm]']].to_numpy())\n",
    "np.all(np.isclose(xyz_rect['x_surf [mm]'].to_numpy(), x_approximate))"
   ]
  },
  {
   "cell_type": "code",
   "execution_count": null,
   "id": "34686090-c5cb-412b-9ff6-96ddab198473",
   "metadata": {},
   "outputs": [],
   "source": [
    "# approximate the length of the vector field normal to the integration area\n",
    "\n",
    "dxdz = diff(x_fun, arg=0)\n",
    "dxdy = diff(x_fun, arg=1)\n",
    "zy = np.c_[xyz_rect['z [mm]'].to_numpy(),\n",
    "           xyz_rect['y [mm]'].to_numpy()]\n",
    "n_len = np.sqrt(dxdz(zy) ** 2 + dxdy(zy) ** 2 + 1)"
   ]
  },
  {
   "cell_type": "code",
   "execution_count": null,
   "id": "ad5de531-c5dc-4c76-ab1a-d4c6d9767e31",
   "metadata": {},
   "outputs": [],
   "source": [
    "mask = np.where(n_len < 10)[0]\n",
    "TPD_av = elementwise_dblquad(points=zy[mask],\n",
    "                             values=df_rect['TPD [W/m^2]'].to_numpy()[mask] * n_len[mask],\n",
    "                             degree=51,\n",
    "                             interp_func=interpolate.LinearNDInterpolator, fill_value=0\n",
    "                            ) / area\n",
    "TPD_av"
   ]
  },
  {
   "cell_type": "code",
   "execution_count": null,
   "id": "1d7c79a4-8100-44e9-aebc-96e980de05f9",
   "metadata": {},
   "outputs": [],
   "source": []
  }
 ],
 "metadata": {
  "kernelspec": {
   "display_name": "Python 3 (ipykernel)",
   "language": "python",
   "name": "python3"
  },
  "language_info": {
   "codemirror_mode": {
    "name": "ipython",
    "version": 3
   },
   "file_extension": ".py",
   "mimetype": "text/x-python",
   "name": "python",
   "nbconvert_exporter": "python",
   "pygments_lexer": "ipython3",
   "version": "3.9.12"
  }
 },
 "nbformat": 4,
 "nbformat_minor": 5
}
