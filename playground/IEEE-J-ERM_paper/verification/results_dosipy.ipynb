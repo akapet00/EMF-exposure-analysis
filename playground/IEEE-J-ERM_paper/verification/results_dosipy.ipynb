{
 "cells": [
  {
   "cell_type": "markdown",
   "id": "09e7a1ba-0c76-4367-9b96-ab3b3c4fec5e",
   "metadata": {},
   "source": [
    "# DosiPy"
   ]
  },
  {
   "cell_type": "code",
   "execution_count": null,
   "id": "d02c14ed-2566-4798-9bc5-242ffb767671",
   "metadata": {},
   "outputs": [],
   "source": [
    "import os\n",
    "import sys\n",
    "\n",
    "import numpy as np\n",
    "try:\n",
    "    import open3d as o3d\n",
    "except ImportError:\n",
    "    print(sys.exc_info())\n",
    "from scipy import interpolate\n",
    "import quadpy\n",
    "\n",
    "from dosipy.utils.dataloader import load_ear_data\n",
    "from dosipy.utils.integrate import elementwise_dblquad\n",
    "from dosipy.utils.viz import (set_colorblind, scatter_2d, scatter_3d,\n",
    "                              fig_config)\n",
    "sys.path.append('..')\n",
    "from helpers import (clean_df, export_pcd, export_fields,\n",
    "                     poynting_vector, export_rect_idx)"
   ]
  },
  {
   "cell_type": "code",
   "execution_count": null,
   "id": "c1fa0b58-717a-4da8-ad40-9612226fda1b",
   "metadata": {},
   "outputs": [],
   "source": [
    "# set input data\n",
    "\n",
    "polarization = 'te'\n",
    "f = 26\n",
    "\n",
    "if f == 26:\n",
    "    edge_length = 20\n",
    "else:\n",
    "    edge_length = 10\n",
    "area = edge_length ** 2"
   ]
  },
  {
   "cell_type": "code",
   "execution_count": null,
   "id": "20c14df4-0270-4586-a918-7f218aafc4d7",
   "metadata": {},
   "outputs": [],
   "source": [
    "# load surface data\n",
    "\n",
    "if polarization == 'te':  # 6.76 w/m2\n",
    "    origin = [-25.28, 17.25]\n",
    "else:\n",
    "    origin = [-19.77, 5.22]\n",
    "\n",
    "df = load_ear_data(polarization, f, surface='front')\n",
    "df = clean_df(df)\n",
    "xyz = export_pcd(df)\n",
    "pcd = o3d.geometry.PointCloud()\n",
    "pcd.points = o3d.utility.Vector3dVector(xyz)\n",
    "center = pcd.get_center()\n",
    "cframe = o3d.geometry.TriangleMesh.create_coordinate_frame(\n",
    "    size=9, origin=center+np.array([6, -25, -20])\n",
    ")\n",
    "#o3d.visualization.draw_geometries([pcd, cframe])"
   ]
  },
  {
   "cell_type": "code",
   "execution_count": null,
   "id": "b0317ebd-1cf5-4f43-9385-b36d1cccbf46",
   "metadata": {},
   "outputs": [],
   "source": [
    "set_colorblind()\n",
    "fig_config(latex=True, scaler=1.5, text_size=16)\n",
    "fig, ax = scatter_3d({'$z$ [mm]': xyz[:, 2],\n",
    "                      '$x$ [mm]': xyz[:, 0],\n",
    "                      '$y$ [mm]': xyz[:, 1],\n",
    "                     },\n",
    "                     alpha=0.0025, elev=[10], azim=[180]\n",
    "                    )"
   ]
  },
  {
   "cell_type": "code",
   "execution_count": null,
   "id": "39fe32dd-c990-449f-b9ae-edb40d23768d",
   "metadata": {},
   "outputs": [],
   "source": [
    "# postprocessing on the surface of the model\n",
    "\n",
    "E, H = export_fields(df)\n",
    "Sx, Sy, Sz = poynting_vector(E, H)"
   ]
  },
  {
   "cell_type": "code",
   "execution_count": null,
   "id": "05127526-56c1-49c9-87be-f730408a7e05",
   "metadata": {},
   "outputs": [],
   "source": [
    "set_colorblind()\n",
    "label = '$|S|$ [W/m$^2$]'\n",
    "fig_config(latex=True, scaler=1.5, text_size=16)\n",
    "fig, ax = scatter_3d({'$z$ [mm]': xyz[:, 2],\n",
    "                      '$x$ [mm]': xyz[:, 0],\n",
    "                      '$y$ [mm]': xyz[:, 1],\n",
    "                      label: np.abs(np.sqrt(Sx ** 2 + Sy ** 2 + Sz ** 2)),\n",
    "                     },\n",
    "                     elev=[10], azim=[100]\n",
    "                    )"
   ]
  },
  {
   "cell_type": "code",
   "execution_count": null,
   "id": "1e706cf2-d202-46f4-9bb5-2a0d0abc7147",
   "metadata": {},
   "outputs": [],
   "source": [
    "# rectangular area for averaging\n",
    "\n",
    "avg_center = [origin[0]+edge_length/2,\n",
    "              origin[1]+edge_length/2]\n",
    "area = edge_length ** 2\n",
    "pAPD_origin, idx_rect = export_rect_idx(xyz=xyz,\n",
    "                                        center=avg_center,\n",
    "                                        edge_length=edge_length,\n",
    "                                        view='zy')\n",
    "xyz_rect = xyz[idx_rect]\n",
    "Sx_rect, Sy_rect, Sz_rect = Sx[idx_rect], Sy[idx_rect], Sz[idx_rect]\n",
    "pcd_rect = o3d.geometry.PointCloud()\n",
    "pcd_rect.points = o3d.utility.Vector3dVector(xyz_rect)\n",
    "center_rect = pcd_rect.get_center()"
   ]
  },
  {
   "cell_type": "code",
   "execution_count": null,
   "id": "17327fe7-ae94-47bd-8a0b-91ee8d31edd5",
   "metadata": {},
   "outputs": [],
   "source": [
    "set_colorblind()\n",
    "fig_config(latex=True, scaler=1.5, text_size=16)\n",
    "fig, ax = scatter_3d({'$z$ [mm]': xyz_rect[:, 2],\n",
    "                      '$x$ [mm]': xyz_rect[:, 0],\n",
    "                      '$y$ [mm]': xyz_rect[:, 1],\n",
    "                     },\n",
    "                     alpha=0.1, azim=[-180]\n",
    "                    )"
   ]
  },
  {
   "cell_type": "code",
   "execution_count": null,
   "id": "550bb13a-da2b-4394-9472-f2b108068c63",
   "metadata": {},
   "outputs": [],
   "source": [
    "set_colorblind()\n",
    "label = '$|S|$ [W/m$^2$]'\n",
    "fig_config(latex=True, scaler=1.5, text_size=16)\n",
    "fig, ax = scatter_3d({'$z$ [mm]': xyz_rect[:, 2],\n",
    "                      '$x$ [mm]': xyz_rect[:, 0],\n",
    "                      '$y$ [mm]': xyz_rect[:, 1],\n",
    "                      label: np.abs(np.sqrt(Sx_rect ** 2 + Sy_rect ** 2 + Sz_rect ** 2))\n",
    "                     },\n",
    "                     elev=[0], azim=[-180],\n",
    "                    )"
   ]
  },
  {
   "cell_type": "code",
   "execution_count": null,
   "id": "9d47b084-4269-4d9c-afb2-b1ba0d72149c",
   "metadata": {},
   "outputs": [],
   "source": [
    "# extract points visible from the plane wave incidence POV (-x direction)\n",
    "\n",
    "diameter = np.linalg.norm(\n",
    "    pcd_rect.get_max_bound() - pcd_rect.get_min_bound()\n",
    ")\n",
    "radius = 10 ** 4\n",
    "camera = [center_rect[0] + diameter, center_rect[1] * 1.1, center_rect[2]]\n",
    "_, mask = pcd_rect.hidden_point_removal(camera, radius)\n",
    "xyz_avg = xyz_rect[mask]\n",
    "Sx_avg, Sy_avg, Sz_avg = Sx_rect[mask], Sy_rect[mask], Sz_rect[mask]"
   ]
  },
  {
   "cell_type": "code",
   "execution_count": null,
   "id": "d52e877f-2e35-4fa7-be9a-25cfd7561979",
   "metadata": {},
   "outputs": [],
   "source": [
    "set_colorblind()\n",
    "fig_config(latex=True, scaler=1.5, text_size=16)\n",
    "fig, ax = scatter_3d({'$z$ [mm]': xyz_avg[:, 2],\n",
    "                      '$x$ [mm]': xyz_avg[:, 0],\n",
    "                      '$y$ [mm]': xyz_avg[:, 1],\n",
    "                     },\n",
    "                     alpha=0.1, azim=[-180]\n",
    "                    )"
   ]
  },
  {
   "cell_type": "code",
   "execution_count": null,
   "id": "a2e011a5-4ba3-47fa-932f-864c23515cdc",
   "metadata": {},
   "outputs": [],
   "source": [
    "set_colorblind()\n",
    "label = '$|S|$ [W/m$^2$]'\n",
    "fig_config(latex=True, scaler=1.5, text_size=16)\n",
    "fig, ax = scatter_3d({'$z$ [mm]': xyz_avg[:, 2],\n",
    "                      '$x$ [mm]': xyz_avg[:, 0],\n",
    "                      '$y$ [mm]': xyz_avg[:, 1],\n",
    "                      label: np.abs(np.sqrt(Sx_avg ** 2 + Sy_avg ** 2 + Sz_avg ** 2))\n",
    "                     },\n",
    "                     elev=[0], azim=[-180],\n",
    "                    )"
   ]
  },
  {
   "cell_type": "code",
   "execution_count": null,
   "id": "28535c31-d6cb-41ff-981b-f56630c91512",
   "metadata": {},
   "outputs": [],
   "source": [
    "# compute and orient normals\n",
    "\n",
    "pcd_avg = o3d.geometry.PointCloud()\n",
    "pcd_avg.points = o3d.utility.Vector3dVector(xyz_avg)\n",
    "pcd_avg.estimate_normals(search_param=o3d.geometry.KDTreeSearchParamKNN(33))\n",
    "pcd_avg.orient_normals_consistent_tangent_plane(33)"
   ]
  },
  {
   "cell_type": "code",
   "execution_count": null,
   "id": "8631c8ec-a46b-4780-9904-daf98283c69f",
   "metadata": {},
   "outputs": [],
   "source": [
    "# extract normals\n",
    "\n",
    "n_avg = np.asarray(pcd_avg.normals)"
   ]
  },
  {
   "cell_type": "code",
   "execution_count": null,
   "id": "d8d36ea1-71bd-4178-9138-92fa84703d98",
   "metadata": {},
   "outputs": [],
   "source": [
    "set_colorblind()\n",
    "fig_config(latex=True, scaler=1.5, text_size=16, line_width=0.5)\n",
    "fig, ax = scatter_3d({'$z$ [mm]': xyz_avg[::100, 2],\n",
    "                      '$x$ [mm]': xyz_avg[::100, 0],\n",
    "                      '$y$ [mm]': xyz_avg[::100, 1],\n",
    "                     },\n",
    "                     azim=[180]\n",
    "                    )\n",
    "ax.quiver(xyz_avg[::100, 2], xyz_avg[::100, 0], xyz_avg[::100, 1],\n",
    "          n_avg[::100, 2], n_avg[::100, 0], n_avg[::100, 1], length=5, color='k');"
   ]
  },
  {
   "cell_type": "code",
   "execution_count": null,
   "id": "df8e9196-af13-4a2c-a968-73af39f24165",
   "metadata": {},
   "outputs": [],
   "source": [
    "# compute APD distribution\n",
    "\n",
    "APD_avg = np.abs(Sx_avg.real * n_avg[:, 0]\n",
    "                 + Sy_avg.real * n_avg[:, 1]\n",
    "                 + Sz_avg.real * n_avg[:, 2])"
   ]
  },
  {
   "cell_type": "code",
   "execution_count": null,
   "id": "a72ce0c3-ee24-4c10-a420-be2f7f5a1359",
   "metadata": {},
   "outputs": [],
   "source": [
    "set_colorblind()\n",
    "label = '$APD$ [W/m$^2$]'\n",
    "fig_config(latex=True, scaler=1.5, text_size=16)\n",
    "fig, ax = scatter_3d({'$z$ [mm]': xyz_avg[:, 2],\n",
    "                      '$x$ [mm]': xyz_avg[:, 0],\n",
    "                      '$y$ [mm]': xyz_avg[:, 1],\n",
    "                      label: APD_avg,\n",
    "                     },\n",
    "                     elev=[0], azim=[90]\n",
    "                    )"
   ]
  },
  {
   "cell_type": "code",
   "execution_count": null,
   "id": "4c7c7ec0-eb79-47f0-882b-c1d17b343f55",
   "metadata": {},
   "outputs": [],
   "source": [
    "# integrate\n",
    "\n",
    "degree = 21\n",
    "points = np.c_[xyz_avg[:, 2], xyz_avg[:, 1]]\n",
    "bbox = [origin[0], origin[0]+edge_length, origin[1], origin[1]+edge_length]\n",
    "\n",
    "func = interpolate.SmoothBivariateSpline(points[:, 0], points[:, 1], APD_avg, bbox=bbox, kx=3, ky=3)\n",
    "\n",
    "scheme = quadpy.c2.get_good_scheme(degree)\n",
    "val = scheme.integrate(lambda x: func(x[0], x[1], grid=False),\n",
    "                       quadpy.c2.rectangle_points([origin[0], origin[0]+edge_length],\n",
    "                                                  [origin[1], origin[1]+edge_length]))\n",
    "APD_av = val / area\n",
    "APD_av"
   ]
  },
  {
   "cell_type": "code",
   "execution_count": null,
   "id": "0bfc631d-76e3-458b-88a8-edbc55c30279",
   "metadata": {},
   "outputs": [],
   "source": []
  }
 ],
 "metadata": {
  "kernelspec": {
   "display_name": "Python 3 (ipykernel)",
   "language": "python",
   "name": "python3"
  },
  "language_info": {
   "codemirror_mode": {
    "name": "ipython",
    "version": 3
   },
   "file_extension": ".py",
   "mimetype": "text/x-python",
   "name": "python",
   "nbconvert_exporter": "python",
   "pygments_lexer": "ipython3",
   "version": "3.9.12"
  }
 },
 "nbformat": 4,
 "nbformat_minor": 5
}
