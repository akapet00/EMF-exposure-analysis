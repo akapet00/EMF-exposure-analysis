{
 "cells": [
  {
   "cell_type": "markdown",
   "id": "09e7a1ba-0c76-4367-9b96-ab3b3c4fec5e",
   "metadata": {},
   "source": [
    "# DosiPy"
   ]
  },
  {
   "cell_type": "code",
   "execution_count": null,
   "id": "d02c14ed-2566-4798-9bc5-242ffb767671",
   "metadata": {},
   "outputs": [],
   "source": [
    "import os\n",
    "import sys\n",
    "sys.path.append('..')\n",
    "\n",
    "import numpy as np\n",
    "try:\n",
    "    import open3d as o3d\n",
    "except ImportError:\n",
    "    print(sys.exc_info())\n",
    "from scipy import interpolate\n",
    "import quadpy\n",
    "\n",
    "from dosipy.utils.dataloader import load_ear_data\n",
    "from dosipy.utils.integrate import elementwise_dblquad\n",
    "from dosipy.utils.viz import (set_colorblind, scatter_2d, scatter_3d,\n",
    "                              fig_config)\n",
    "\n",
    "from helpers import (clean_df, export_pcd, export_fields,\n",
    "                     poynting_vector, export_rect_idx, diff)"
   ]
  },
  {
   "cell_type": "code",
   "execution_count": null,
   "id": "c1fa0b58-717a-4da8-ad40-9612226fda1b",
   "metadata": {},
   "outputs": [],
   "source": [
    "# set input data\n",
    "\n",
    "polarization = 'tm'\n",
    "f = 60\n",
    "edge_length = 20\n",
    "area = edge_length ** 2\n",
    "origin_dict = {'te@26-400': [-25.28, 17.25],\n",
    "               'tm@26-400': [-19.77, 5.22],\n",
    "               'te@60-400': [-25.09, 19.09],\n",
    "               'te@60-100': [-8.5, 11.38],\n",
    "               'tm@60-400': [-13.24, 13.05],\n",
    "               'tm@60-100': [-10.32, 13.46]}"
   ]
  },
  {
   "cell_type": "code",
   "execution_count": null,
   "id": "20c14df4-0270-4586-a918-7f218aafc4d7",
   "metadata": {},
   "outputs": [],
   "source": [
    "# load surface data\n",
    "\n",
    "df = load_ear_data(polarization, f, surface='front')\n",
    "df = clean_df(df)\n",
    "xyz = export_pcd(df)\n",
    "pcd = o3d.geometry.PointCloud()\n",
    "pcd.points = o3d.utility.Vector3dVector(xyz)\n",
    "center = pcd.get_center()\n",
    "cframe = o3d.geometry.TriangleMesh.create_coordinate_frame(\n",
    "    size=9, origin=center+np.array([6, -25, -20])\n",
    ")"
   ]
  },
  {
   "cell_type": "code",
   "execution_count": null,
   "id": "b0317ebd-1cf5-4f43-9385-b36d1cccbf46",
   "metadata": {},
   "outputs": [],
   "source": [
    "set_colorblind()\n",
    "fig_config(latex=True, scaler=1.5, text_size=16)\n",
    "fig, ax = scatter_3d({'$z$ [mm]': xyz[:, 2],\n",
    "                      '$x$ [mm]': xyz[:, 0],\n",
    "                      '$y$ [mm]': xyz[:, 1],\n",
    "                     },\n",
    "                     alpha=0.0025, elev=[10], azim=[180]\n",
    "                    )"
   ]
  },
  {
   "cell_type": "code",
   "execution_count": null,
   "id": "39fe32dd-c990-449f-b9ae-edb40d23768d",
   "metadata": {},
   "outputs": [],
   "source": [
    "# postprocessing on the surface of the model\n",
    "\n",
    "E, H = export_fields(df)\n",
    "Sx, Sy, Sz = poynting_vector(E, H)"
   ]
  },
  {
   "cell_type": "code",
   "execution_count": null,
   "id": "05127526-56c1-49c9-87be-f730408a7e05",
   "metadata": {},
   "outputs": [],
   "source": [
    "set_colorblind()\n",
    "label = '$|S|$ [W/m$^2$]'\n",
    "fig_config(latex=True, scaler=1.5, text_size=16)\n",
    "fig, ax = scatter_3d({'$z$ [mm]': xyz[:, 2],\n",
    "                      '$x$ [mm]': xyz[:, 0],\n",
    "                      '$y$ [mm]': xyz[:, 1],\n",
    "                      label: np.abs(np.sqrt(Sx ** 2 + Sy ** 2 + Sz ** 2)),\n",
    "                     },\n",
    "                     elev=[0], azim=[100]\n",
    "                    )"
   ]
  },
  {
   "cell_type": "code",
   "execution_count": null,
   "id": "1e706cf2-d202-46f4-9bb5-2a0d0abc7147",
   "metadata": {},
   "outputs": [],
   "source": [
    "# rectangular area for averaging\n",
    "\n",
    "origin = origin_dict[f'{polarization}@{f}-{area}']\n",
    "avg_center = [origin[0]+edge_length/2,\n",
    "              origin[1]+edge_length/2]\n",
    "area = edge_length ** 2\n",
    "pAPD_origin, idx_rect = export_rect_idx(xyz=xyz,\n",
    "                                        center=avg_center,\n",
    "                                        edge_length=edge_length,\n",
    "                                        view='zy')\n",
    "xyz_rect = xyz[idx_rect]\n",
    "Sx_rect, Sy_rect, Sz_rect = Sx[idx_rect], Sy[idx_rect], Sz[idx_rect]\n",
    "pcd_rect = o3d.geometry.PointCloud()\n",
    "pcd_rect.points = o3d.utility.Vector3dVector(xyz_rect)\n",
    "center_rect = pcd_rect.get_center()"
   ]
  },
  {
   "cell_type": "code",
   "execution_count": null,
   "id": "17327fe7-ae94-47bd-8a0b-91ee8d31edd5",
   "metadata": {},
   "outputs": [],
   "source": [
    "set_colorblind()\n",
    "fig_config(latex=True, scaler=1.5, text_size=16)\n",
    "fig, ax = scatter_3d({'$z$ [mm]': xyz_rect[:, 2],\n",
    "                      '$x$ [mm]': xyz_rect[:, 0],\n",
    "                      '$y$ [mm]': xyz_rect[:, 1],\n",
    "                     },\n",
    "                     alpha=0.1, azim=[-180]\n",
    "                    )"
   ]
  },
  {
   "cell_type": "code",
   "execution_count": null,
   "id": "9d47b084-4269-4d9c-afb2-b1ba0d72149c",
   "metadata": {},
   "outputs": [],
   "source": [
    "# extract points visible from the plane wave incidence POV (-x direction)\n",
    "\n",
    "diameter = np.linalg.norm(\n",
    "    pcd_rect.get_max_bound() - pcd_rect.get_min_bound()\n",
    ")\n",
    "radius = 10 ** 5\n",
    "camera = [center_rect[0] + diameter, center_rect[1], center_rect[2]]\n",
    "_, mask = pcd_rect.hidden_point_removal(camera, radius)\n",
    "xyz_avg = xyz_rect[mask]\n",
    "Sx_avg, Sy_avg, Sz_avg = Sx_rect[mask], Sy_rect[mask], Sz_rect[mask]\n",
    "mask = np.where(xyz_avg[:, 0] > 65)[0]\n",
    "xyz_avg = xyz_avg[mask]\n",
    "Sx_avg, Sy_avg, Sz_avg = Sx_avg[mask], Sy_avg[mask], Sz_avg[mask]"
   ]
  },
  {
   "cell_type": "code",
   "execution_count": null,
   "id": "d52e877f-2e35-4fa7-be9a-25cfd7561979",
   "metadata": {},
   "outputs": [],
   "source": [
    "set_colorblind()\n",
    "fig_config(latex=True, scaler=1.5, text_size=16)\n",
    "fig, ax = scatter_3d({'$z$ [mm]': xyz_avg[:, 2],\n",
    "                      '$x$ [mm]': xyz_avg[:, 0],\n",
    "                      '$y$ [mm]': xyz_avg[:, 1],\n",
    "                     },\n",
    "                     alpha=0.1, elev=[10], azim=[-250]\n",
    "                    )"
   ]
  },
  {
   "cell_type": "code",
   "execution_count": null,
   "id": "b156860b-d883-4bfd-8b83-a3f0d98a4274",
   "metadata": {},
   "outputs": [],
   "source": [
    "# approximate x = x(y, z) and compute the length of the normal vector\n",
    "\n",
    "ds = 1\n",
    "x_fun = interpolate.Rbf(xyz_avg[::ds, 2], xyz_avg[::ds, 1], xyz_avg[::ds, 0])\n",
    "x_approximate = x_fun(xyz_avg[:, 2], xyz_avg[:, 1])\n",
    "np.all(np.isclose(xyz_avg[:, 0], x_approximate))"
   ]
  },
  {
   "cell_type": "code",
   "execution_count": null,
   "id": "87800001-9b72-4416-b071-621a6389054a",
   "metadata": {},
   "outputs": [],
   "source": [
    "set_colorblind()\n",
    "fig_config(latex=True, scaler=1.5, text_size=16)\n",
    "fig, ax = scatter_3d({'$z$ [mm]': xyz_avg[:, 2],\n",
    "                      '$x$ [mm]': x_approximate,\n",
    "                      '$y$ [mm]': xyz_avg[:, 1],\n",
    "                     },\n",
    "                     alpha=0.1, elev=[10], azim=[-250]\n",
    "                    )"
   ]
  },
  {
   "cell_type": "code",
   "execution_count": null,
   "id": "442d3a74-8778-477a-9a49-12395f90b47d",
   "metadata": {},
   "outputs": [],
   "source": [
    "# approximate the length of the vector field normal to the integration area\n",
    "\n",
    "dxdz = diff(x_fun, arg=0)\n",
    "dxdy = diff(x_fun, arg=1)\n",
    "zy = np.c_[xyz_avg[:, 2], xyz_avg[:, 1]]\n",
    "n_len = np.sqrt(dxdz(zy) ** 2 + dxdy(zy) ** 2 + 1)"
   ]
  },
  {
   "cell_type": "code",
   "execution_count": null,
   "id": "28535c31-d6cb-41ff-981b-f56630c91512",
   "metadata": {},
   "outputs": [],
   "source": [
    "# compute and orient unit vector normal field\n",
    "\n",
    "pcd_avg = o3d.geometry.PointCloud()\n",
    "pcd_avg.points = o3d.utility.Vector3dVector(xyz_avg)\n",
    "pcd_avg.estimate_normals(search_param=o3d.geometry.KDTreeSearchParamKNN(33))\n",
    "pcd_avg.orient_normals_consistent_tangent_plane(33)\n",
    "\n",
    "n_avg = np.asarray(pcd_avg.normals)"
   ]
  },
  {
   "cell_type": "code",
   "execution_count": null,
   "id": "d8d36ea1-71bd-4178-9138-92fa84703d98",
   "metadata": {},
   "outputs": [],
   "source": [
    "set_colorblind()\n",
    "fig_config(latex=True, scaler=1.5, text_size=16, line_width=0.5)\n",
    "fig, ax = scatter_3d({'$z$ [mm]': xyz_avg[::100, 2],\n",
    "                      '$x$ [mm]': xyz_avg[::100, 0],\n",
    "                      '$y$ [mm]': xyz_avg[::100, 1],\n",
    "                     },\n",
    "                     azim=[180]\n",
    "                    )\n",
    "ax.quiver(xyz_avg[::100, 2], xyz_avg[::100, 0], xyz_avg[::100, 1],\n",
    "          n_avg[::100, 2], n_avg[::100, 0], n_avg[::100, 1], length=5, color='k');"
   ]
  },
  {
   "cell_type": "code",
   "execution_count": null,
   "id": "df8e9196-af13-4a2c-a968-73af39f24165",
   "metadata": {},
   "outputs": [],
   "source": [
    "# compute normalized APD distribution\n",
    "\n",
    "mask = np.where(n_len < 2)[0]\n",
    "APDn = np.abs(Sx_avg[mask].real * n_avg[mask, 0]\n",
    "              + Sy_avg[mask].real * n_avg[mask, 1]\n",
    "              + Sz_avg[mask].real * n_avg[mask, 2]) * n_len[mask]"
   ]
  },
  {
   "cell_type": "code",
   "execution_count": null,
   "id": "a72ce0c3-ee24-4c10-a420-be2f7f5a1359",
   "metadata": {},
   "outputs": [],
   "source": [
    "set_colorblind()\n",
    "label = '$APD$ [W/m$^2$]'\n",
    "fig_config(latex=True, scaler=1.5, text_size=16)\n",
    "fig, ax = scatter_3d({'$z$ [mm]': xyz_avg[mask, 2],\n",
    "                      '$x$ [mm]': xyz_avg[mask, 0],\n",
    "                      '$y$ [mm]': xyz_avg[mask, 1],\n",
    "                      label: APDn,\n",
    "                     },\n",
    "                     elev=[0], azim=[90]\n",
    "                    )"
   ]
  },
  {
   "cell_type": "code",
   "execution_count": null,
   "id": "a0d3a2ff-07c0-4037-a085-32de90120b02",
   "metadata": {},
   "outputs": [],
   "source": []
  },
  {
   "cell_type": "code",
   "execution_count": null,
   "id": "4c7c7ec0-eb79-47f0-882b-c1d17b343f55",
   "metadata": {},
   "outputs": [],
   "source": [
    "# compute area-averaged APD\n",
    "\n",
    "APDav = elementwise_dblquad(zy[mask], APDn, degree=51,\n",
    "                            interp_fun=interpolate.LinearNDInterpolator) / area\n",
    "APDav"
   ]
  },
  {
   "cell_type": "code",
   "execution_count": null,
   "id": "4bfeb3c4-1797-4936-9b05-26862714d233",
   "metadata": {},
   "outputs": [],
   "source": []
  }
 ],
 "metadata": {
  "kernelspec": {
   "display_name": "Python 3 (ipykernel)",
   "language": "python",
   "name": "python3"
  },
  "language_info": {
   "codemirror_mode": {
    "name": "ipython",
    "version": 3
   },
   "file_extension": ".py",
   "mimetype": "text/x-python",
   "name": "python",
   "nbconvert_exporter": "python",
   "pygments_lexer": "ipython3",
   "version": "3.9.12"
  }
 },
 "nbformat": 4,
 "nbformat_minor": 5
}
