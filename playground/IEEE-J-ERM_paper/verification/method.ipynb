{
 "cells": [
  {
   "cell_type": "code",
   "execution_count": null,
   "id": "f2eea044-0172-4b45-b030-668494800280",
   "metadata": {},
   "outputs": [],
   "source": [
    "import sys\n",
    "sys.path.append('..')\n",
    "\n",
    "import matplotlib.pyplot as plt\n",
    "import numpy as np\n",
    "from scipy import interpolate\n",
    "\n",
    "from dosipy.utils.integrate import elementwise_dblquad"
   ]
  },
  {
   "cell_type": "code",
   "execution_count": null,
   "id": "5445c932-bfa1-4e99-96d3-83ef50162bb4",
   "metadata": {},
   "outputs": [],
   "source": [
    "def v(t, s):\n",
    "    \"\"\"Parametric surface in 3-D:\n",
    "    v(t, s) = (t + 1) i + (s) j + (s^2 - t^2 + 1) k\n",
    "    \"\"\"\n",
    "    return np.c_[t + 1,\n",
    "                 s,\n",
    "                 s ** 2 - t ** 2 + 1]\n",
    "\n",
    "def v_t(t, s):\n",
    "    \"\"\"First derivative of parametric surface, v, wrt t:\n",
    "    v_t(t, s) = i  + (-2 t) k\n",
    "    \"\"\"\n",
    "    return np.c_[np.ones_like(t),\n",
    "                 np.zeros_like(t),\n",
    "                 - 2 * t]\n",
    "\n",
    "def v_s(t, s):\n",
    "    \"\"\"First derivative of parametric surface, v, wrt s:\n",
    "    v_s(t, s) = j + (2 s) k\n",
    "    \"\"\"\n",
    "    return np.c_[np.zeros_like(s),\n",
    "                 np.ones_like(s),\n",
    "                 2 * s]\n",
    "\n",
    "def F(x, y, z):\n",
    "    \"\"\"Vector field that passes through V(t, s):\n",
    "    \"\"\"\n",
    "    return np.c_[np.ones_like(x),\n",
    "                 np.ones_like(y),\n",
    "                 np.ones_like(z)]"
   ]
  },
  {
   "cell_type": "code",
   "execution_count": null,
   "id": "8816f45c-4315-4116-91e3-5fe61495481c",
   "metadata": {},
   "outputs": [],
   "source": [
    "# integration domain\n",
    "t_a, t_b = -2, 2\n",
    "s_a, s_b = -2, 2\n",
    "\n",
    "# integration points\n",
    "t = np.linspace(t_a, t_b, 101)\n",
    "s = np.linspace(s_a, s_b, 101)\n",
    "T, S = np.meshgrid(t, s)\n",
    "V = v(T.ravel(), S.ravel())"
   ]
  },
  {
   "cell_type": "code",
   "execution_count": null,
   "id": "d7197c2a-aa14-4e18-ae00-e32a5c8697ed",
   "metadata": {},
   "outputs": [],
   "source": [
    "# surface v\n",
    "fig = plt.figure(figsize=(6, 6))\n",
    "ax = plt.axes(projection ='3d')\n",
    "ax.scatter(*V.T, s=0.5)\n",
    "ax.set(xlabel='$t$', ylabel='$s$', zlabel='$v(t, s)$')\n",
    "ax.view_init(25, 125)"
   ]
  },
  {
   "cell_type": "code",
   "execution_count": null,
   "id": "5c0eb79a-e735-482a-a82c-21b9228e2a61",
   "metadata": {},
   "outputs": [],
   "source": [
    "# vector field F across the surface v\n",
    "fig = plt.figure(figsize=(6, 6))\n",
    "ax = plt.axes(projection ='3d')\n",
    "scaler = 50\n",
    "rnd_idx = V.shape[0] * np.random.random_sample(scaler)\n",
    "rnd_idx = np.asarray(rnd_idx, dtype=np.int32)\n",
    "ax.scatter(*V.T, s=0.5)\n",
    "ax.quiver(*V[rnd_idx].T, *F(*V[rnd_idx].T).T, color='red', length=1, label='$\\\\vecF(v(t, s))$')\n",
    "ax.set(xlabel='$t$', ylabel='$s$', zlabel='$v(t, s)$')\n",
    "ax.legend()\n",
    "ax.view_init(25, 125)"
   ]
  },
  {
   "cell_type": "code",
   "execution_count": null,
   "id": "09f928c3-e2fb-43df-bdcd-a83d2a58bfd2",
   "metadata": {},
   "outputs": [],
   "source": [
    "# computing unit normals\n",
    "V_T = v_t(T.ravel(), S.ravel())\n",
    "V_S = v_s(T.ravel(), S.ravel())\n",
    "n = np.cross(V_T, V_S)"
   ]
  },
  {
   "cell_type": "code",
   "execution_count": null,
   "id": "5d76658d-7b6a-4634-8ebe-af8276a76a2b",
   "metadata": {},
   "outputs": [],
   "source": [
    "# vector field F across the surface v\n",
    "fig = plt.figure(figsize=(6, 6))\n",
    "ax = plt.axes(projection ='3d')\n",
    "ax.scatter(*V.T, s=0.5)\n",
    "ax.quiver(*V[rnd_idx].T, *F(*V[rnd_idx].T).T, color='r', length=1,\n",
    "          label='$\\\\vecF(v(t, s))$')\n",
    "ax.quiver(*V[rnd_idx].T, *n[rnd_idx].T, color='k', normalize=True, length=1,\n",
    "          label='$\\\\vecn$')\n",
    "ax.set(xlabel='$t$', ylabel='$s$', zlabel='$v(t, s)$')\n",
    "ax.legend()\n",
    "ax.view_init(25, 125)"
   ]
  },
  {
   "cell_type": "code",
   "execution_count": null,
   "id": "66b2f0a6-9fab-47e9-ba90-71bf7985ade0",
   "metadata": {},
   "outputs": [],
   "source": [
    "points = np.c_[T.ravel(), S.ravel()]  # 2-D set of points\n",
    "values = np.sum(F(*V.T) * n, axis=1)  # integrand = F(V(t, s)) · n(x, y, z)\n",
    "I_exact = 16"
   ]
  },
  {
   "cell_type": "code",
   "execution_count": null,
   "id": "311b6519-0dd7-4faa-aa61-84ed69c48133",
   "metadata": {},
   "outputs": [],
   "source": [
    "# vector field F across the surface v\n",
    "fig = plt.figure(figsize=(6, 6))\n",
    "ax = plt.axes(projection ='3d')\n",
    "cs = ax.scatter(*V.T, s=10, c=values, )\n",
    "cbar = fig.colorbar(cs, shrink=0.55, pad=0.15)\n",
    "cbar.ax.set_ylabel('$\\\\vecF \\\\cdot \\\\vec n$')\n",
    "ax.set(xlabel='$t$', ylabel='$s$', zlabel='$v(t, s)$')\n",
    "ax.view_init(25, 125)"
   ]
  },
  {
   "cell_type": "code",
   "execution_count": null,
   "id": "ce8ea3d0-b9a9-4aba-990b-7b3ffe1d973b",
   "metadata": {},
   "outputs": [],
   "source": [
    "# vector field F across the surface v\n",
    "fig = plt.figure(figsize=(6, 5))\n",
    "ax = plt.axes()\n",
    "cs = ax.scatter(*points.T, s=10, c=values)\n",
    "cbar = fig.colorbar(cs)\n",
    "cbar.ax.set_ylabel('$\\\\vecF \\\\cdot \\\\vec n$')\n",
    "ax.set(xlabel='$t$', ylabel='$s$');"
   ]
  },
  {
   "cell_type": "code",
   "execution_count": null,
   "id": "40bf3a7b-1101-44a9-93b9-699bf380ddef",
   "metadata": {},
   "outputs": [],
   "source": [
    "I_approx = elementwise_dblquad(points, values, degree=21)\n",
    "\n",
    "round(I_approx, 5)"
   ]
  },
  {
   "cell_type": "code",
   "execution_count": null,
   "id": "fdc84cff-5dfa-4e21-b2c0-4190205e2eaa",
   "metadata": {},
   "outputs": [],
   "source": []
  }
 ],
 "metadata": {
  "kernelspec": {
   "display_name": "Python 3 (ipykernel)",
   "language": "python",
   "name": "python3"
  },
  "language_info": {
   "codemirror_mode": {
    "name": "ipython",
    "version": 3
   },
   "file_extension": ".py",
   "mimetype": "text/x-python",
   "name": "python",
   "nbconvert_exporter": "python",
   "pygments_lexer": "ipython3",
   "version": "3.9.12"
  }
 },
 "nbformat": 4,
 "nbformat_minor": 5
}
