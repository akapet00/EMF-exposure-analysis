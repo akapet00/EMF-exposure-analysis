{
 "cells": [
  {
   "cell_type": "code",
   "execution_count": null,
   "id": "f2eea044-0172-4b45-b030-668494800280",
   "metadata": {},
   "outputs": [],
   "source": [
    "import matplotlib.pyplot as plt\n",
    "import numpy as np\n",
    "try:\n",
    "    import open3d as o3d\n",
    "except ImportError:\n",
    "    import sys\n",
    "    print(sys.exc_info())\n",
    "from scipy import interpolate\n",
    "\n",
    "from dosipy.utils.integrate import elementwise_dblquad"
   ]
  },
  {
   "cell_type": "code",
   "execution_count": null,
   "id": "5445c932-bfa1-4e99-96d3-83ef50162bb4",
   "metadata": {},
   "outputs": [],
   "source": [
    "def v(t, s):\n",
    "    \"\"\"Parametric surface in 3-D:\n",
    "    v(t, s) = (t + 1) i + (s) j + (s^2 - t^2 + 1) k\n",
    "    \"\"\"\n",
    "    return np.c_[t + 1,\n",
    "                 s,\n",
    "                 s ** 2 - t ** 2 + 1]\n",
    "\n",
    "\n",
    "def F(x, y, z):\n",
    "    \"\"\"Vector field that passes through V(t, s):\n",
    "    \"\"\"\n",
    "    return np.c_[np.ones_like(x),\n",
    "                 np.ones_like(y),\n",
    "                 np.ones_like(z)]"
   ]
  },
  {
   "cell_type": "code",
   "execution_count": null,
   "id": "8816f45c-4315-4116-91e3-5fe61495481c",
   "metadata": {},
   "outputs": [],
   "source": [
    "# integration domain\n",
    "t_a, t_b = -2, 2\n",
    "s_a, s_b = -2, 2\n",
    "\n",
    "# integration points\n",
    "t = np.linspace(t_a, t_b, 101)\n",
    "s = np.linspace(s_a, s_b, 101)\n",
    "T, S = np.meshgrid(t, s)\n",
    "V = v(T.ravel(), S.ravel())"
   ]
  },
  {
   "cell_type": "code",
   "execution_count": null,
   "id": "d7197c2a-aa14-4e18-ae00-e32a5c8697ed",
   "metadata": {},
   "outputs": [],
   "source": [
    "# surface v\n",
    "fig = plt.figure(figsize=(6, 6))\n",
    "ax = plt.axes(projection ='3d')\n",
    "ax.scatter(*V.T, s=0.5)\n",
    "ax.set(xlabel='$t$', ylabel='$s$', zlabel='$v(t, s)$')\n",
    "ax.view_init(25, 125)"
   ]
  },
  {
   "cell_type": "code",
   "execution_count": null,
   "id": "5c0eb79a-e735-482a-a82c-21b9228e2a61",
   "metadata": {},
   "outputs": [],
   "source": [
    "# vector field F across the surface v\n",
    "fig = plt.figure(figsize=(6, 6))\n",
    "ax = plt.axes(projection ='3d')\n",
    "scaler = 50\n",
    "rnd_idx = V.shape[0] * np.random.random_sample(scaler)\n",
    "rnd_idx = np.asarray(rnd_idx, dtype=np.int32)\n",
    "ax.scatter(*V.T, s=0.5)\n",
    "ax.quiver(*V[rnd_idx].T, *F(*V[rnd_idx].T).T, color='red', length=1, label='$\\\\vecF(v(t, s))$')\n",
    "ax.set(xlabel='$t$', ylabel='$s$', zlabel='$v(t, s)$')\n",
    "ax.legend()\n",
    "ax.view_init(25, 125)"
   ]
  },
  {
   "cell_type": "code",
   "execution_count": null,
   "id": "09f928c3-e2fb-43df-bdcd-a83d2a58bfd2",
   "metadata": {},
   "outputs": [],
   "source": [
    "# conversion to point cloud object and estimating normals\n",
    "pcd = o3d.geometry.PointCloud()\n",
    "pcd.points = o3d.utility.Vector3dVector(V)\n",
    "pcd.estimate_normals(search_param=o3d.geometry.KDTreeSearchParamKNN(9))\n",
    "pcd.orient_normals_consistent_tangent_plane(9)\n",
    "n = np.asarray(pcd.normals)\n",
    "# o3d.visualization.draw_geometries([pcd], point_show_normal=True)"
   ]
  },
  {
   "cell_type": "code",
   "execution_count": null,
   "id": "5d76658d-7b6a-4634-8ebe-af8276a76a2b",
   "metadata": {},
   "outputs": [],
   "source": [
    "# vector field F across the surface v\n",
    "fig = plt.figure(figsize=(6, 6))\n",
    "ax = plt.axes(projection ='3d')\n",
    "ax.scatter(*V.T, s=0.5)\n",
    "ax.quiver(*V[rnd_idx].T, *F(*V[rnd_idx].T).T, color='red', length=1, label='$\\\\vecF(v(t, s))$')\n",
    "ax.quiver(*V[rnd_idx].T, *n[rnd_idx].T, color='black', length=1, label='$\\\\vecn$')\n",
    "ax.set(xlabel='$t$', ylabel='$s$', zlabel='$v(t, s)$')\n",
    "ax.legend()\n",
    "ax.view_init(25, 125)"
   ]
  },
  {
   "cell_type": "code",
   "execution_count": null,
   "id": "66b2f0a6-9fab-47e9-ba90-71bf7985ade0",
   "metadata": {},
   "outputs": [],
   "source": [
    "points = np.c_[T.ravel(), S.ravel()]  # 2-D set of points\n",
    "values = np.sum(F(*V.T) * n, axis=1)  # integrand = F(V(t, s)) · n(x, y, z)\n",
    "I_exact = 5.65473  # Wolfram Alpha result"
   ]
  },
  {
   "cell_type": "code",
   "execution_count": null,
   "id": "311b6519-0dd7-4faa-aa61-84ed69c48133",
   "metadata": {},
   "outputs": [],
   "source": [
    "# vector field F across the surface v\n",
    "fig = plt.figure(figsize=(6, 6))\n",
    "ax = plt.axes(projection ='3d')\n",
    "cs = ax.scatter(*V.T, s=10, c=values, )\n",
    "cbar = fig.colorbar(cs, shrink=0.55, pad=0.15)\n",
    "cbar.ax.set_ylabel('$\\\\vecF \\\\cdot \\\\vec n$')\n",
    "ax.set(xlabel='$t$', ylabel='$s$', zlabel='$v(t, s)$')\n",
    "ax.view_init(25, 125)"
   ]
  },
  {
   "cell_type": "code",
   "execution_count": null,
   "id": "ce8ea3d0-b9a9-4aba-990b-7b3ffe1d973b",
   "metadata": {},
   "outputs": [],
   "source": [
    "# vector field F across the surface v\n",
    "fig = plt.figure(figsize=(6, 5))\n",
    "ax = plt.axes()\n",
    "cs = ax.scatter(*points.T, s=10, c=values)\n",
    "cbar = fig.colorbar(cs)\n",
    "cbar.ax.set_ylabel('$\\\\vecF \\\\cdot \\\\vec n$')\n",
    "ax.set(xlabel='$t$', ylabel='$s$');"
   ]
  },
  {
   "cell_type": "code",
   "execution_count": null,
   "id": "40bf3a7b-1101-44a9-93b9-699bf380ddef",
   "metadata": {},
   "outputs": [],
   "source": [
    "I_approx = elementwise_dblquad(points, values, \n",
    "                               degree=13,\n",
    "                               interp_func=interpolate.CloughTocher2DInterpolator\n",
    "                               )\n",
    "\n",
    "round(I_approx, 5)"
   ]
  },
  {
   "cell_type": "code",
   "execution_count": null,
   "id": "fdc84cff-5dfa-4e21-b2c0-4190205e2eaa",
   "metadata": {},
   "outputs": [],
   "source": []
  }
 ],
 "metadata": {
  "kernelspec": {
   "display_name": "Python 3 (ipykernel)",
   "language": "python",
   "name": "python3"
  },
  "language_info": {
   "codemirror_mode": {
    "name": "ipython",
    "version": 3
   },
   "file_extension": ".py",
   "mimetype": "text/x-python",
   "name": "python",
   "nbconvert_exporter": "python",
   "pygments_lexer": "ipython3",
   "version": "3.9.12"
  }
 },
 "nbformat": 4,
 "nbformat_minor": 5
}
