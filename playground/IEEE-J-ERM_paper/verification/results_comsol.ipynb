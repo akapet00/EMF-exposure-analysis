{
 "cells": [
  {
   "cell_type": "markdown",
   "id": "6e489675-2d8d-4c73-897b-6149cc353965",
   "metadata": {},
   "source": [
    "# COMSOL"
   ]
  },
  {
   "cell_type": "code",
   "execution_count": null,
   "id": "0b40a828-efb3-4d78-a6a0-78fc2eda1af2",
   "metadata": {},
   "outputs": [],
   "source": [
    "import os\n",
    "import sys\n",
    "sys.path.append('..')\n",
    "\n",
    "import numpy as np\n",
    "try:\n",
    "    import open3d as o3d\n",
    "except ImportError:\n",
    "    print(sys.exc_info())\n",
    "from scipy import interpolate\n",
    "import quadpy\n",
    "\n",
    "from dosipy.utils.viz import (set_colorblind, scatter_2d, scatter_3d,\n",
    "                              fig_config)\n",
    "from helpers import diff"
   ]
  },
  {
   "cell_type": "code",
   "execution_count": null,
   "id": "c1fa0b58-717a-4da8-ad40-9612226fda1b",
   "metadata": {},
   "outputs": [],
   "source": [
    "# set input data\n",
    "\n",
    "polarization = 'te'\n",
    "f = 26\n",
    "edge_length = 20\n",
    "area = edge_length ** 2\n",
    "origin_dict = {'te@26-400': [-25.28, 17.25],\n",
    "               'tm@26-400': [-19.77, 5.22],\n",
    "               'te@60-400': [-25.09, 19.09],\n",
    "               'te@60-100': [-8.5, 11.38],\n",
    "               'tm@60-400': [-13.24, 13.05],\n",
    "               'tm@60-100': [-10.32, 13.46]}"
   ]
  },
  {
   "cell_type": "code",
   "execution_count": null,
   "id": "430db839-331f-4322-bc86-0a46c84da319",
   "metadata": {},
   "outputs": [],
   "source": [
    "# load data\n",
    "\n",
    "fname = f'APDn_{f}GHz_{polarization.upper()}_{int(area/100)}cm2.txt'\n",
    "data = np.loadtxt(os.path.join('COMSOL', fname), comments='%')\n",
    "xyz_rect = data[:, :3] * 1000\n",
    "APD_rect = data[:, -1]"
   ]
  },
  {
   "cell_type": "code",
   "execution_count": null,
   "id": "754aa61a-7302-4624-84c4-1aa2b0431ff2",
   "metadata": {},
   "outputs": [],
   "source": [
    "set_colorblind()\n",
    "label = '$APD$ [W/m$^2$]'\n",
    "fig_config(latex=True, scaler=1.5, text_size=16)\n",
    "fig, ax = scatter_3d({'$z$ [mm]': xyz_rect[:, 2],\n",
    "                      '$x$ [mm]': xyz_rect[:, 0],\n",
    "                      '$y$ [mm]': xyz_rect[:, 1],\n",
    "                      label: APD_rect,\n",
    "                     },\n",
    "                     elev=[0], azim=[-120],\n",
    "                    )"
   ]
  },
  {
   "cell_type": "code",
   "execution_count": null,
   "id": "4392c8f4-53fb-4359-9e02-f5466c6106f7",
   "metadata": {},
   "outputs": [],
   "source": [
    "# extract points visible from the plane wave incidence POV (-x direction)\n",
    "\n",
    "pcd_rect = o3d.geometry.PointCloud()\n",
    "pcd_rect.points = o3d.utility.Vector3dVector(xyz_rect)\n",
    "center_rect = pcd_rect.get_center()\n",
    "\n",
    "diameter = np.linalg.norm(\n",
    "    pcd_rect.get_max_bound() - pcd_rect.get_min_bound()\n",
    ")\n",
    "radius = 10 ** 4\n",
    "camera = [center_rect[0] - diameter, center_rect[1], center_rect[2]]\n",
    "_, mask = pcd_rect.hidden_point_removal(camera, radius)\n",
    "xyz_avg = xyz_rect[mask]\n",
    "APDn = -APD_rect[mask]"
   ]
  },
  {
   "cell_type": "code",
   "execution_count": null,
   "id": "6fce1ade-5dc9-4dd8-8bbe-19e4f44873e5",
   "metadata": {},
   "outputs": [],
   "source": [
    "set_colorblind()\n",
    "label = '$APD$ [W/m$^2$]'\n",
    "fig_config(latex=True, scaler=1.5, text_size=16)\n",
    "fig, ax = scatter_3d({'$z$ [mm]': xyz_avg[:, 2],\n",
    "                      '$x$ [mm]': xyz_avg[:, 0],\n",
    "                      '$y$ [mm]': xyz_avg[:, 1],\n",
    "                      label: APDn,\n",
    "                     },\n",
    "                     elev=[0], azim=[-120],\n",
    "                    )"
   ]
  },
  {
   "cell_type": "code",
   "execution_count": null,
   "id": "0b7907f6-d643-47ba-9aa8-42e73f000575",
   "metadata": {},
   "outputs": [],
   "source": [
    "# approximate x = x(y, z) and compute the length of the normal vector\n",
    "\n",
    "x_fun = interpolate.Rbf(xyz_avg[:, 2], xyz_avg[:, 1], xyz_avg[:, 0])\n",
    "x_approximate = x_fun(xyz_avg[:, 2], xyz_avg[:, 1])\n",
    "dxdz = diff(x_fun, arg=0)\n",
    "dxdy = diff(x_fun, arg=1)\n",
    "zy = np.c_[xyz_avg[:, 2], xyz_avg[:, 1]]\n",
    "n_len = np.sqrt(dxdz(zy) ** 2 + dxdy(zy) ** 2 + 1)\n",
    "mask = np.where(n_len < 2)[0]"
   ]
  },
  {
   "cell_type": "code",
   "execution_count": null,
   "id": "0bfc631d-76e3-458b-88a8-edbc55c30279",
   "metadata": {},
   "outputs": [],
   "source": [
    "# integrate\n",
    "\n",
    "degree = 21\n",
    "values = APDn[mask] * n_len[mask]\n",
    "bbox = [xyz_avg[mask, 2].min(), xyz_avg[mask, 2].max(),\n",
    "        xyz_avg[mask, 1].min(), xyz_avg[mask, 1].max()]\n",
    "\n",
    "func = interpolate.LinearNDInterpolator(zy[mask], values, fill_value=0)\n",
    "\n",
    "scheme = quadpy.c2.get_good_scheme(degree)\n",
    "val = scheme.integrate(lambda x: func(x[0], x[1]),\n",
    "                       quadpy.c2.rectangle_points([xyz_avg[:, 2].min(), xyz_avg[:, 2].max()],\n",
    "                                                  [xyz_avg[:, 1].min(), xyz_avg[:, 1].max()]))\n",
    "APD_av = val / area\n",
    "APD_av"
   ]
  },
  {
   "cell_type": "code",
   "execution_count": null,
   "id": "9702af32-f910-4af0-b014-d900fbe64477",
   "metadata": {},
   "outputs": [],
   "source": []
  }
 ],
 "metadata": {
  "kernelspec": {
   "display_name": "Python 3 (ipykernel)",
   "language": "python",
   "name": "python3"
  },
  "language_info": {
   "codemirror_mode": {
    "name": "ipython",
    "version": 3
   },
   "file_extension": ".py",
   "mimetype": "text/x-python",
   "name": "python",
   "nbconvert_exporter": "python",
   "pygments_lexer": "ipython3",
   "version": "3.9.12"
  }
 },
 "nbformat": 4,
 "nbformat_minor": 5
}
