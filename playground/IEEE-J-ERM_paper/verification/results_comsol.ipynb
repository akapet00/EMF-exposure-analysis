{
 "cells": [
  {
   "cell_type": "markdown",
   "id": "6e489675-2d8d-4c73-897b-6149cc353965",
   "metadata": {},
   "source": [
    "# COMSOL"
   ]
  },
  {
   "cell_type": "code",
   "execution_count": null,
   "id": "0b40a828-efb3-4d78-a6a0-78fc2eda1af2",
   "metadata": {},
   "outputs": [],
   "source": [
    "import os\n",
    "import sys\n",
    "\n",
    "import numpy as np\n",
    "try:\n",
    "    import open3d as o3d\n",
    "except ImportError:\n",
    "    print(sys.exc_info())\n",
    "from scipy import interpolate\n",
    "import quadpy\n",
    "\n",
    "from dosipy.utils.viz import (set_colorblind, scatter_2d, scatter_3d,\n",
    "                              fig_config)\n",
    "sys.path.append('..')"
   ]
  },
  {
   "cell_type": "code",
   "execution_count": null,
   "id": "c1fa0b58-717a-4da8-ad40-9612226fda1b",
   "metadata": {},
   "outputs": [],
   "source": [
    "# set input data\n",
    "\n",
    "polarization = 'te'\n",
    "f = 26\n",
    "\n",
    "if f == 26:\n",
    "    edge_length = 20\n",
    "else:\n",
    "    edge_length = 10\n",
    "area = edge_length ** 2"
   ]
  },
  {
   "cell_type": "code",
   "execution_count": null,
   "id": "430db839-331f-4322-bc86-0a46c84da319",
   "metadata": {},
   "outputs": [],
   "source": [
    "# load data\n",
    "\n",
    "fname = f'APDn_{f}GHz_{polarization.upper()}_{int(area/100)}cm2.txt'\n",
    "data = np.loadtxt(os.path.join('COMSOL', fname), comments='%')\n",
    "xyz_rect = data[:, :3] * 1000\n",
    "APD_rect = data[:, -1]"
   ]
  },
  {
   "cell_type": "code",
   "execution_count": null,
   "id": "754aa61a-7302-4624-84c4-1aa2b0431ff2",
   "metadata": {},
   "outputs": [],
   "source": [
    "set_colorblind()\n",
    "label = '$APD$ [W/m$^2$]'\n",
    "fig_config(latex=True, scaler=1.5, text_size=16)\n",
    "fig, ax = scatter_3d({'$z$ [mm]': xyz_rect[:, 2],\n",
    "                      '$x$ [mm]': xyz_rect[:, 0],\n",
    "                      '$y$ [mm]': xyz_rect[:, 1],\n",
    "                      label: -APD_rect,\n",
    "                     },\n",
    "                     elev=[0], azim=[-120],\n",
    "                    )"
   ]
  },
  {
   "cell_type": "code",
   "execution_count": null,
   "id": "4392c8f4-53fb-4359-9e02-f5466c6106f7",
   "metadata": {},
   "outputs": [],
   "source": [
    "# extract points visible from the plane wave incidence POV (-x direction)\n",
    "\n",
    "pcd_rect = o3d.geometry.PointCloud()\n",
    "pcd_rect.points = o3d.utility.Vector3dVector(xyz_rect)\n",
    "center_rect = pcd_rect.get_center()\n",
    "\n",
    "diameter = np.linalg.norm(\n",
    "    pcd_rect.get_max_bound() - pcd_rect.get_min_bound()\n",
    ")\n",
    "radius = 10 ** 4\n",
    "camera = [center_rect[0] - diameter, center_rect[1], center_rect[2]]\n",
    "_, mask = pcd_rect.hidden_point_removal(camera, radius)\n",
    "xyz_avg = xyz_rect[mask]\n",
    "APD_avg = APD_rect[mask]"
   ]
  },
  {
   "cell_type": "code",
   "execution_count": null,
   "id": "6fce1ade-5dc9-4dd8-8bbe-19e4f44873e5",
   "metadata": {},
   "outputs": [],
   "source": [
    "set_colorblind()\n",
    "label = '$APD$ [W/m$^2$]'\n",
    "fig_config(latex=True, scaler=1.5, text_size=16)\n",
    "fig, ax = scatter_3d({'$z$ [mm]': xyz_avg[:, 2],\n",
    "                      '$x$ [mm]': xyz_avg[:, 0],\n",
    "                      '$y$ [mm]': xyz_avg[:, 1],\n",
    "                      label: -APD_avg,\n",
    "                     },\n",
    "                     elev=[0], azim=[-120],\n",
    "                    )"
   ]
  },
  {
   "cell_type": "code",
   "execution_count": null,
   "id": "0bfc631d-76e3-458b-88a8-edbc55c30279",
   "metadata": {},
   "outputs": [],
   "source": [
    "# integrate\n",
    "\n",
    "degree = 21\n",
    "points = np.c_[xyz_avg[:, 2], xyz_avg[:, 1]]\n",
    "bbox = [xyz_avg[:, 2].min(), xyz_avg[:, 2].max(),\n",
    "        xyz_avg[:, 1].min(), xyz_avg[:, 1].max()]\n",
    "\n",
    "func = interpolate.SmoothBivariateSpline(points[:, 0], points[:, 1], -APD_avg, bbox=bbox, kx=3, ky=3)\n",
    "\n",
    "scheme = quadpy.c2.get_good_scheme(degree)\n",
    "val = scheme.integrate(lambda x: func(x[0], x[1], grid=False),\n",
    "                       quadpy.c2.rectangle_points([xyz_avg[:, 2].min(), xyz_avg[:, 2].max()],\n",
    "                                                  [xyz_avg[:, 1].min(), xyz_avg[:, 1].max()]))\n",
    "APD_av = val / area\n",
    "APD_av"
   ]
  },
  {
   "cell_type": "code",
   "execution_count": null,
   "id": "9702af32-f910-4af0-b014-d900fbe64477",
   "metadata": {},
   "outputs": [],
   "source": []
  }
 ],
 "metadata": {
  "kernelspec": {
   "display_name": "Python 3 (ipykernel)",
   "language": "python",
   "name": "python3"
  },
  "language_info": {
   "codemirror_mode": {
    "name": "ipython",
    "version": 3
   },
   "file_extension": ".py",
   "mimetype": "text/x-python",
   "name": "python",
   "nbconvert_exporter": "python",
   "pygments_lexer": "ipython3",
   "version": "3.9.12"
  }
 },
 "nbformat": 4,
 "nbformat_minor": 5
}
