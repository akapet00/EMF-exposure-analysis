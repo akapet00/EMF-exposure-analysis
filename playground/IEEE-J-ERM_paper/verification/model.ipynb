{
 "cells": [
  {
   "cell_type": "code",
   "execution_count": null,
   "id": "9dc124c0-8e23-4c49-ae65-196d952eda9b",
   "metadata": {},
   "outputs": [],
   "source": [
    "import os\n",
    "import sys\n",
    "\n",
    "import matplotlib.pyplot as plt\n",
    "from matplotlib.patches import Rectangle\n",
    "import numpy as np\n",
    "try:\n",
    "    import open3d as o3d\n",
    "except ImportError:\n",
    "    print(sys.exc_info())\n",
    "import pandas as pd\n",
    "from scipy import interpolate\n",
    "import quadpy\n",
    "\n",
    "from dosipy.utils.dataloader import load_ear_data\n",
    "from dosipy.utils.integrate import elementwise_quad, elementwise_dblquad\n",
    "from dosipy.utils.viz import (set_colorblind, scatter_2d, scatter_3d,\n",
    "                              fig_config, colormap_from_array)\n",
    "sys.path.append('..')\n",
    "from helpers import (clean_df, export_pcd, export_fields,\n",
    "                       poynting_vector, get_imcolors, export_rect_idx)"
   ]
  },
  {
   "cell_type": "code",
   "execution_count": null,
   "id": "94cefd69-2c70-4e74-94d5-aeddacd98b9a",
   "metadata": {},
   "outputs": [],
   "source": [
    "# set input data\n",
    "\n",
    "polarization = 'te'\n",
    "f = 26\n",
    "\n",
    "if f == 26:\n",
    "    edge_length = 20\n",
    "else:\n",
    "    edge_length = 10\n",
    "area = edge_length ** 2"
   ]
  },
  {
   "cell_type": "code",
   "execution_count": null,
   "id": "19948c4c-2424-4d43-be2e-cb71bdc32f80",
   "metadata": {},
   "outputs": [],
   "source": [
    "# load surface data\n",
    "\n",
    "if polarization == 'te':\n",
    "    origin = [-25.28, 17.25]\n",
    "else:\n",
    "    origin = [-19.77, 5.22]\n",
    "\n",
    "df = load_ear_data(polarization, f, surface='front')\n",
    "df = clean_df(df)\n",
    "xyz = export_pcd(df)\n",
    "pcd = o3d.geometry.PointCloud()\n",
    "pcd.points = o3d.utility.Vector3dVector(xyz)\n",
    "center = pcd.get_center()\n",
    "cframe = o3d.geometry.TriangleMesh.create_coordinate_frame(\n",
    "    size=9, origin=center+np.array([6, -25, -20])\n",
    ")\n",
    "#o3d.visualization.draw_geometries([pcd, cframe])"
   ]
  },
  {
   "cell_type": "code",
   "execution_count": null,
   "id": "a66b0d39-eda9-47db-8569-b6155a49951e",
   "metadata": {},
   "outputs": [],
   "source": [
    "# extract points visible from the plane wave incidence POV (-x direction)\n",
    "\n",
    "diameter = np.linalg.norm(\n",
    "    pcd.get_max_bound() - pcd.get_min_bound()\n",
    ")\n",
    "radius = 10 ** 5\n",
    "camera = [center[0] + diameter, center[1] * 2.5, center[2]]\n",
    "_, mask = pcd.hidden_point_removal(camera, radius)\n",
    "xyz_zy = xyz[mask]"
   ]
  },
  {
   "cell_type": "code",
   "execution_count": null,
   "id": "fb015b1c-62dd-451f-ba71-23c50fba6c73",
   "metadata": {},
   "outputs": [],
   "source": [
    "# compute averaged APD\n",
    "\n",
    "avg_center = [origin[0]+edge_length/2,\n",
    "              origin[1]+edge_length/2]\n",
    "area = edge_length ** 2\n",
    "pAPD_origin, idx_rect = export_rect_idx(xyz=xyz_zy,\n",
    "                                        center=avg_center,\n",
    "                                        edge_length=edge_length,\n",
    "                                        view='zy')\n",
    "xyz_rect = xyz_zy[idx_rect]"
   ]
  },
  {
   "cell_type": "code",
   "execution_count": null,
   "id": "f565b0c6-e0b6-4c4d-a139-6174cff65d9d",
   "metadata": {},
   "outputs": [],
   "source": [
    "pcd_rect = o3d.geometry.PointCloud()\n",
    "pcd_rect.points = o3d.utility.Vector3dVector(xyz_rect)\n",
    "pcd_rect.estimate_normals(search_param=o3d.geometry.KDTreeSearchParamKNN(30))\n",
    "pcd_rect.orient_normals_consistent_tangent_plane(30)\n",
    "#o3d.visualization.draw_geometries([pcd_rect], point_show_normal=True)"
   ]
  },
  {
   "cell_type": "markdown",
   "id": "b68bf9e1-a578-427c-b307-1b4e9b18a506",
   "metadata": {},
   "source": [
    "# Constant value"
   ]
  },
  {
   "cell_type": "code",
   "execution_count": null,
   "id": "57637db5-f0c7-49b5-9544-8861d76c8aba",
   "metadata": {},
   "outputs": [],
   "source": [
    "n = np.asarray(pcd_rect.normals)\n",
    "APD_rect = np.ones((n.shape[0]))"
   ]
  },
  {
   "cell_type": "code",
   "execution_count": null,
   "id": "3fc665fd-32df-4a54-b845-2fa7755babf1",
   "metadata": {},
   "outputs": [],
   "source": [
    "set_colorblind()\n",
    "label = '$APD$ [W/m$^2$]'\n",
    "fig_config(latex=True, scaler=1.5, text_size=16)\n",
    "fig, ax = scatter_2d({'$y$ [mm]': xyz_rect[:, 1],\n",
    "                      '$z$ [mm]': xyz_rect[:, 2],\n",
    "                      label: APD_rect}, s=1)"
   ]
  },
  {
   "cell_type": "code",
   "execution_count": null,
   "id": "33738d35-be46-4c13-a6fc-d8346c12860e",
   "metadata": {},
   "outputs": [],
   "source": [
    "degree = 21\n",
    "points = np.c_[xyz_rect[:, 2], xyz_rect[:, 1]]\n",
    "bbox = [origin[0], origin[0]+edge_length, origin[1], origin[1]+edge_length]"
   ]
  },
  {
   "cell_type": "code",
   "execution_count": null,
   "id": "a1c29b51-186c-4b24-a7d3-0d0992889805",
   "metadata": {},
   "outputs": [],
   "source": [
    "func = interpolate.SmoothBivariateSpline(points[:, 0], points[:, 1], APD_rect, bbox=bbox, kx=3, ky=3)\n",
    "\n",
    "scheme = quadpy.c2.get_good_scheme(degree)\n",
    "val = scheme.integrate(lambda x: func(x[0], x[1], grid=False),\n",
    "                       quadpy.c2.rectangle_points([origin[0], origin[0]+edge_length],\n",
    "                                                  [origin[1], origin[1]+edge_length]))\n",
    "APD_av = val / area\n",
    "APD_av"
   ]
  },
  {
   "cell_type": "markdown",
   "id": "e6c62918-ca25-4992-a7b2-4e6bdc1bf4c3",
   "metadata": {},
   "source": [
    "# Surface area"
   ]
  },
  {
   "cell_type": "code",
   "execution_count": null,
   "id": "adcafd18-0402-4fe3-bb42-067de8eed3c6",
   "metadata": {},
   "outputs": [],
   "source": [
    "n = np.asarray(pcd_rect.normals)\n",
    "APD_rect = n[:, 0] + n[:, 1] + n[:, 2]"
   ]
  },
  {
   "cell_type": "code",
   "execution_count": null,
   "id": "87f533bd-c69d-4489-af36-96f4055141b9",
   "metadata": {},
   "outputs": [],
   "source": [
    "set_colorblind()\n",
    "label = '$APD$ [W/m$^2$]'\n",
    "fig_config(latex=True, scaler=1.5, text_size=16)\n",
    "fig, ax = scatter_2d({'$y$ [mm]': xyz_rect[:, 1],\n",
    "                      '$z$ [mm]': xyz_rect[:, 2],\n",
    "                      label: APD_rect}, s=1)"
   ]
  },
  {
   "cell_type": "code",
   "execution_count": null,
   "id": "23017741-bbd3-4a02-8ed9-48342cef641a",
   "metadata": {},
   "outputs": [],
   "source": [
    "degree = 21\n",
    "points = np.c_[xyz_rect[:, 2], xyz_rect[:, 1]]\n",
    "bbox = [origin[0], origin[0]+edge_length, origin[1], origin[1]+edge_length]"
   ]
  },
  {
   "cell_type": "code",
   "execution_count": null,
   "id": "8d8dbec5-e746-49cb-aa00-56fa8c31892a",
   "metadata": {},
   "outputs": [],
   "source": [
    "func = interpolate.SmoothBivariateSpline(points[:, 0], points[:, 1], APD_rect, bbox=bbox, kx=3, ky=3)\n",
    "\n",
    "scheme = quadpy.c2.get_good_scheme(degree)\n",
    "val = scheme.integrate(lambda x: func(x[0], x[1], grid=False),\n",
    "                       quadpy.c2.rectangle_points([origin[0], origin[0]+edge_length],\n",
    "                                                  [origin[1], origin[1]+edge_length]))\n",
    "val"
   ]
  },
  {
   "cell_type": "code",
   "execution_count": null,
   "id": "f8804ea3-fa1b-4b70-99ac-fd711bf9cfb6",
   "metadata": {},
   "outputs": [],
   "source": []
  }
 ],
 "metadata": {
  "kernelspec": {
   "display_name": "Python 3 (ipykernel)",
   "language": "python",
   "name": "python3"
  },
  "language_info": {
   "codemirror_mode": {
    "name": "ipython",
    "version": 3
   },
   "file_extension": ".py",
   "mimetype": "text/x-python",
   "name": "python",
   "nbconvert_exporter": "python",
   "pygments_lexer": "ipython3",
   "version": "3.9.12"
  }
 },
 "nbformat": 4,
 "nbformat_minor": 5
}
