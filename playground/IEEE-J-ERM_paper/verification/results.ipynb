{
 "cells": [
  {
   "cell_type": "code",
   "execution_count": null,
   "id": "1e01bf5b-99e9-46a2-8f79-0da1c0aae472",
   "metadata": {},
   "outputs": [],
   "source": [
    "import os\n",
    "import sys\n",
    "\n",
    "import matplotlib.pyplot as plt\n",
    "from matplotlib.patches import Rectangle\n",
    "import numpy as np\n",
    "try:\n",
    "    import open3d as o3d\n",
    "except ImportError:\n",
    "    print(sys.exc_info())\n",
    "import pandas as pd\n",
    "from scipy import interpolate\n",
    "import quadpy\n",
    "\n",
    "from dosipy.utils.dataloader import load_ear_data\n",
    "from dosipy.utils.integrate import elementwise_quad, elementwise_dblquad\n",
    "from dosipy.utils.viz import (set_colorblind, scatter_2d, scatter_3d,\n",
    "                              fig_config, colormap_from_array)\n",
    "sys.path.append('..')\n",
    "from helpers import (clean_df, export_pcd, export_fields,\n",
    "                       poynting_vector, get_imcolors, export_rect_idx)"
   ]
  },
  {
   "cell_type": "code",
   "execution_count": null,
   "id": "c1fa0b58-717a-4da8-ad40-9612226fda1b",
   "metadata": {},
   "outputs": [],
   "source": [
    "# set input data\n",
    "\n",
    "polarization = 'te'\n",
    "f = 26\n",
    "\n",
    "if f == 26:\n",
    "    edge_length = 20\n",
    "else:\n",
    "    edge_length = 10\n",
    "area = edge_length ** 2"
   ]
  },
  {
   "cell_type": "markdown",
   "id": "e9b5ea91-26a4-4e02-8669-2c4d060f196b",
   "metadata": {},
   "source": [
    "# COMSOL"
   ]
  },
  {
   "cell_type": "code",
   "execution_count": null,
   "id": "430db839-331f-4322-bc86-0a46c84da319",
   "metadata": {},
   "outputs": [],
   "source": [
    "fname = f'APDn_{f}GHz_{polarization.upper()}_{int(area/100)}cm2.txt'\n",
    "data = np.loadtxt(os.path.join('COMSOL', fname), comments='%')\n",
    "xyz = data[:, :3] * 1000\n",
    "APDn = data[:, -1]"
   ]
  },
  {
   "cell_type": "code",
   "execution_count": null,
   "id": "9e77d02b-c8ce-4995-b574-1c0c562d877c",
   "metadata": {},
   "outputs": [],
   "source": [
    "pcd = o3d.geometry.PointCloud()\n",
    "pcd.points = o3d.utility.Vector3dVector(xyz)\n",
    "center = pcd.get_center()\n",
    "pcd.colors = o3d.utility.Vector3dVector(colormap_from_array(-APDn))\n",
    "cframe = o3d.geometry.TriangleMesh.create_coordinate_frame(\n",
    "    size=9, origin=center+np.array([-10, -10, -20])\n",
    ")\n",
    "#o3d.visualization.draw_geometries([pcd, cframe])"
   ]
  },
  {
   "cell_type": "code",
   "execution_count": null,
   "id": "4392c8f4-53fb-4359-9e02-f5466c6106f7",
   "metadata": {},
   "outputs": [],
   "source": [
    "# extract points visible from the plane wave incidence POV (-x direction)\n",
    "\n",
    "diameter = np.linalg.norm(\n",
    "    pcd.get_max_bound() - pcd.get_min_bound()\n",
    ")\n",
    "radius = 10 ** 4\n",
    "camera = [center[0] - diameter, center[1], center[2]]\n",
    "_, mask = pcd.hidden_point_removal(camera, radius)\n",
    "xyz_zy = xyz[mask]\n",
    "APD_zy = np.abs(APDn[mask])"
   ]
  },
  {
   "cell_type": "code",
   "execution_count": null,
   "id": "8c0a1f59-6366-4cd9-83b6-5f9f65e056ce",
   "metadata": {},
   "outputs": [],
   "source": [
    "pcd = o3d.geometry.PointCloud()\n",
    "pcd.points = o3d.utility.Vector3dVector(xyz_zy)\n",
    "center = pcd.get_center()\n",
    "pcd.colors = o3d.utility.Vector3dVector(colormap_from_array(APD_zy))\n",
    "cframe = o3d.geometry.TriangleMesh.create_coordinate_frame(\n",
    "    size=9, origin=center+np.array([-10, -10, -20])\n",
    ")\n",
    "#o3d.visualization.draw_geometries([pcd, cframe])"
   ]
  },
  {
   "cell_type": "code",
   "execution_count": null,
   "id": "d0dbd653-5f4f-47b0-b664-5df15e60d3a8",
   "metadata": {},
   "outputs": [],
   "source": [
    "set_colorblind()\n",
    "label = '$APD$ [W/m$^2$]'\n",
    "fig_config(latex=True, scaler=1.5, text_size=16)\n",
    "fig, ax = scatter_2d({'$y$ [mm]': xyz_zy[:, 1],\n",
    "                      '$z$ [mm]': xyz_zy[:, 2],\n",
    "                      label: APD_zy}, s=1)"
   ]
  },
  {
   "cell_type": "code",
   "execution_count": null,
   "id": "91ce0890-b6ca-445b-b9bf-74286fc54ecf",
   "metadata": {},
   "outputs": [],
   "source": [
    "degree = 21\n",
    "points = np.c_[xyz_zy[:, 1], xyz_zy[:, 2]]\n",
    "bbox = [points[:, 0].min(), points[:, 0].max(), points[:, 1].min(), points[:, 1].max()]"
   ]
  },
  {
   "cell_type": "code",
   "execution_count": null,
   "id": "e7270db5-d9a9-424c-b3aa-00d85fd7af3c",
   "metadata": {},
   "outputs": [],
   "source": [
    "func = interpolate.LinearNDInterpolator(points, APD_zy, fill_value=1)"
   ]
  },
  {
   "cell_type": "code",
   "execution_count": null,
   "id": "88b2584e-17ec-4130-a508-ee02a1d8f6be",
   "metadata": {},
   "outputs": [],
   "source": [
    "set_colorblind()\n",
    "label = '$APD$ [W/m$^2$]'\n",
    "fig_config(latex=True, scaler=1.5, text_size=16)\n",
    "fig, ax = scatter_2d({'$y$ [mm]': xyz_zy[:, 1],\n",
    "                      '$z$ [mm]': xyz_zy[:, 2],\n",
    "                      label: func(points)}, s=1)"
   ]
  },
  {
   "cell_type": "code",
   "execution_count": null,
   "id": "fd3743b7-c95a-4737-aa0e-e1f03f6cb843",
   "metadata": {},
   "outputs": [],
   "source": [
    "scheme = quadpy.c2.get_good_scheme(degree)\n",
    "val = scheme.integrate(lambda x: func(x[0], x[1]),\n",
    "                       quadpy.c2.rectangle_points([points[:, 0].min(), points[:, 0].max()],\n",
    "                                                  [points[:, 1].min(), points[:, 1].max()]))\n",
    "val / 400"
   ]
  },
  {
   "cell_type": "code",
   "execution_count": null,
   "id": "0910428a-5c2f-4abc-a82f-c06557fe1caa",
   "metadata": {},
   "outputs": [],
   "source": [
    "val = elementwise_dblquad(points, APD_zy, degree=degree,\n",
    "                          interp_func=interpolate.CloughTocher2DInterpolator, fill_value=0)\n",
    "val / 400"
   ]
  },
  {
   "cell_type": "markdown",
   "id": "cc8eb4d3-93ca-439c-9fe7-7beebdba4b0e",
   "metadata": {},
   "source": [
    "# DosiPy"
   ]
  },
  {
   "cell_type": "code",
   "execution_count": null,
   "id": "20c14df4-0270-4586-a918-7f218aafc4d7",
   "metadata": {},
   "outputs": [],
   "source": [
    "# load surface data\n",
    "\n",
    "if polarization == 'te':\n",
    "    origin = [-25.28, 17.25]\n",
    "else:\n",
    "    origin = [-19.77, 5.22]\n",
    "\n",
    "df = load_ear_data(polarization, f, surface='front')\n",
    "df = clean_df(df)\n",
    "xyz = export_pcd(df)\n",
    "pcd = o3d.geometry.PointCloud()\n",
    "pcd.points = o3d.utility.Vector3dVector(xyz)\n",
    "center = pcd.get_center()\n",
    "cframe = o3d.geometry.TriangleMesh.create_coordinate_frame(\n",
    "    size=9, origin=center+np.array([6, -25, -20])\n",
    ")\n",
    "#o3d.visualization.draw_geometries([pcd, cframe])"
   ]
  },
  {
   "cell_type": "code",
   "execution_count": null,
   "id": "39fe32dd-c990-449f-b9ae-edb40d23768d",
   "metadata": {},
   "outputs": [],
   "source": [
    "# postprocessing on the surface of the model\n",
    "\n",
    "E, H = export_fields(df)\n",
    "Sx, Sy, Sz = poynting_vector(E, H)"
   ]
  },
  {
   "cell_type": "code",
   "execution_count": null,
   "id": "9d47b084-4269-4d9c-afb2-b1ba0d72149c",
   "metadata": {},
   "outputs": [],
   "source": [
    "# extract points visible from the plane wave incidence POV (-x direction)\n",
    "\n",
    "diameter = np.linalg.norm(\n",
    "    pcd.get_max_bound() - pcd.get_min_bound()\n",
    ")\n",
    "radius = 10 ** 5\n",
    "camera = [center[0] + diameter, center[1] * 2.5, center[2]]\n",
    "_, mask = pcd.hidden_point_removal(camera, radius)\n",
    "xyz_zy = xyz[mask]"
   ]
  },
  {
   "cell_type": "code",
   "execution_count": null,
   "id": "93209389-75d9-4526-b32f-92cd01ce7ed7",
   "metadata": {},
   "outputs": [],
   "source": [
    "# compute averaged APD\n",
    "\n",
    "avg_center = [origin[0]+edge_length/2,\n",
    "              origin[1]+edge_length/2]\n",
    "area = edge_length ** 2\n",
    "pAPD_origin, idx_rect = export_rect_idx(xyz=xyz_zy,\n",
    "                                        center=avg_center,\n",
    "                                        edge_length=edge_length,\n",
    "                                        view='zy')\n",
    "xyz_rect = xyz_zy[idx_rect]"
   ]
  },
  {
   "cell_type": "code",
   "execution_count": null,
   "id": "4fa7f0aa-4acc-4d5a-abb3-ff1204751cc5",
   "metadata": {},
   "outputs": [],
   "source": [
    "pcd_rect = o3d.geometry.PointCloud()\n",
    "pcd_rect.points = o3d.utility.Vector3dVector(xyz_rect)\n",
    "pcd_rect.estimate_normals(search_param=o3d.geometry.KDTreeSearchParamKNN(30))\n",
    "pcd_rect.orient_normals_consistent_tangent_plane(30)\n",
    "#o3d.visualization.draw_geometries([pcd_rect], point_show_normal=True)"
   ]
  },
  {
   "cell_type": "code",
   "execution_count": null,
   "id": "df8e9196-af13-4a2c-a968-73af39f24165",
   "metadata": {},
   "outputs": [],
   "source": [
    "n = np.asarray(pcd_rect.normals)\n",
    "\n",
    "APD_rect = np.abs(Sx[mask][idx_rect].real * n[:, 0]\n",
    "                  + Sy[mask][idx_rect].real * n[:, 1]\n",
    "                  + Sz[mask][idx_rect].real * n[:, 2])"
   ]
  },
  {
   "cell_type": "code",
   "execution_count": null,
   "id": "fb0bd446-36e0-4b2a-b337-63b6b697dd09",
   "metadata": {},
   "outputs": [],
   "source": [
    "set_colorblind()\n",
    "label = '$APD$ [W/m$^2$]'\n",
    "fig_config(latex=True, scaler=1.5, text_size=16)\n",
    "fig, ax = scatter_2d({'$y$ [mm]': xyz_rect[:, 1],\n",
    "                      '$z$ [mm]': xyz_rect[:, 2],\n",
    "                      label: APD_rect}, s=1)"
   ]
  },
  {
   "cell_type": "code",
   "execution_count": null,
   "id": "4c7c7ec0-eb79-47f0-882b-c1d17b343f55",
   "metadata": {},
   "outputs": [],
   "source": [
    "degree = 21\n",
    "points = np.c_[xyz_rect[:, 2], xyz_rect[:, 1]]\n",
    "bbox = [origin[0], origin[0]+edge_length, origin[1], origin[1]+edge_length]"
   ]
  },
  {
   "cell_type": "code",
   "execution_count": null,
   "id": "9e68efe4-10ed-46f7-8962-6f91a08896f2",
   "metadata": {},
   "outputs": [],
   "source": [
    "func = interpolate.SmoothBivariateSpline(points[:, 0], points[:, 1], APD_rect, bbox=bbox, kx=3, ky=3)\n",
    "\n",
    "scheme = quadpy.c2.get_good_scheme(degree)\n",
    "val = scheme.integrate(lambda x: func(x[0], x[1], grid=False),\n",
    "                       quadpy.c2.rectangle_points([origin[0], origin[0]+edge_length],\n",
    "                                                  [origin[1], origin[1]+edge_length]))\n",
    "APD_av = val / area\n",
    "APD_av"
   ]
  },
  {
   "cell_type": "code",
   "execution_count": null,
   "id": "3057a9cb-587f-419b-ad87-23764c50a68e",
   "metadata": {},
   "outputs": [],
   "source": [
    "func = interpolate.CloughTocher2DInterpolator(points, APD_rect, fill_value=0)\n",
    "\n",
    "scheme = quadpy.c2.get_good_scheme(degree)\n",
    "val = scheme.integrate(lambda x: func(x[0], x[1]),\n",
    "                       quadpy.c2.rectangle_points([origin[0], origin[0]+edge_length],\n",
    "                                                  [origin[1], origin[1]+edge_length]))\n",
    "APD_av = val / area\n",
    "APD_av"
   ]
  },
  {
   "cell_type": "code",
   "execution_count": null,
   "id": "5fa060dc-8ab5-4334-a9ca-99967f175971",
   "metadata": {},
   "outputs": [],
   "source": [
    "func = interpolate.NearestNDInterpolator(points, APD_rect)\n",
    "\n",
    "scheme = quadpy.c2.get_good_scheme(degree)\n",
    "val = scheme.integrate(lambda x: func(x[0], x[1]),\n",
    "                       quadpy.c2.rectangle_points([origin[0], origin[0]+edge_length],\n",
    "                                                  [origin[1], origin[1]+edge_length]))\n",
    "APD_av = val / area\n",
    "APD_av"
   ]
  },
  {
   "cell_type": "code",
   "execution_count": null,
   "id": "f1ac30ca-745f-438e-a7f1-59d4c3af4763",
   "metadata": {},
   "outputs": [],
   "source": []
  }
 ],
 "metadata": {
  "kernelspec": {
   "display_name": "Python 3 (ipykernel)",
   "language": "python",
   "name": "python3"
  },
  "language_info": {
   "codemirror_mode": {
    "name": "ipython",
    "version": 3
   },
   "file_extension": ".py",
   "mimetype": "text/x-python",
   "name": "python",
   "nbconvert_exporter": "python",
   "pygments_lexer": "ipython3",
   "version": "3.9.12"
  }
 },
 "nbformat": 4,
 "nbformat_minor": 5
}
