{
 "cells": [
  {
   "cell_type": "code",
   "execution_count": null,
   "id": "f651a173-d1fa-440c-bfcc-be40832b41ec",
   "metadata": {},
   "outputs": [],
   "source": [
    "import os\n",
    "\n",
    "import matplotlib.pyplot as plt\n",
    "import numpy as np\n",
    "\n",
    "from dosipy.utils.viz import (set_colorblind, fig_config, set_axes_equal,\n",
    "                              save_fig)\n",
    "from helpers import generate_random_pc, pca"
   ]
  },
  {
   "cell_type": "code",
   "execution_count": null,
   "id": "4c79b542-113c-443e-b9ed-6bf1b2e8baed",
   "metadata": {},
   "outputs": [],
   "source": [
    "%config InlineBackend.figure_format = 'retina'"
   ]
  },
  {
   "cell_type": "code",
   "execution_count": null,
   "id": "294ae3ad-3239-4180-87a4-571d24c9aaad",
   "metadata": {},
   "outputs": [],
   "source": [
    "slope = (0.5, 0.)\n",
    "np.random.seed(12346789)\n",
    "pc, target = generate_random_pc(slope=slope)\n",
    "xs = np.linspace(pc[:, 0].min(), pc[:, 0].max(), 33)\n",
    "ys = np.linspace(pc[:, 1].min(), pc[:, 1].max(), 33)\n",
    "X, Y = np.meshgrid(xs, ys)\n",
    "Z = slope[0] * X + slope[1] * Y\n",
    "\n",
    "eigenvalue, eigenvector = pca(np.c_[X.ravel(), Y.ravel(), Z.ravel()])\n",
    "n = eigenvector[:, np.where(eigenvalue == eigenvalue.min())[0]].flatten()"
   ]
  },
  {
   "cell_type": "code",
   "execution_count": null,
   "id": "f8fccad3-1bea-457e-b3ad-13944fe9dfc8",
   "metadata": {},
   "outputs": [],
   "source": [
    "fig_config(latex=True, text_size=20, scaler=2, line_width=2)\n",
    "fig = plt.figure()\n",
    "ax = plt.axes(projection ='3d')\n",
    "\n",
    "ax.plot(*target, 'ro', ms=8, zorder=5,\n",
    "        label='$\\\\boldsymbol{x}_{i}$')\n",
    "ax.plot(*pc.T, 'C0o', ms=8,\n",
    "        label='$nbhd(\\\\boldsymbol{x}_{i})$')\n",
    "ax.plot_surface(X, Y, Z, color='k', ec='none', alpha=0.1)\n",
    "ax.text(xs.max(), ys.min(), slope[0] * xs.max() + slope[1] * ys.min(),\n",
    "        s='$tp(\\\\boldsymbol{x}_{i})$')\n",
    "ax.quiver(*target, *n, normalize=True, color='k', length=5)\n",
    "ax.text(n[0] - 1, n[1] + 0.5, n[2] + 3.5, s='$\\\\boldsymbol{\\\\hat n}$')\n",
    "ax.quiver(*target, *eigenvector[:, 0], normalize=True, color='k', length=3.5)\n",
    "ax.quiver(*target, *eigenvector[:, 1], normalize=True, color='k', length=3.5)\n",
    "           \n",
    "ax.set(xticks=[], yticks=[], zticks=[])\n",
    "ax.xaxis.pane.fill = False\n",
    "ax.yaxis.pane.fill = False\n",
    "ax.zaxis.pane.fill = False\n",
    "ax.xaxis.labelpad = -5\n",
    "ax.yaxis.labelpad = -5\n",
    "ax.zaxis.labelpad = -5\n",
    "ax.view_init(20, -135)\n",
    "ax.set_box_aspect([1, 1, 1])\n",
    "ax = set_axes_equal(ax)\n",
    "ax.grid(True)\n",
    "ax.legend()\n",
    "fig.tight_layout()\n",
    "\n",
    "# save figure\n",
    "# fname = os.path.join('figures', 'normals')\n",
    "# save_fig(fig, fname=fname)"
   ]
  },
  {
   "cell_type": "code",
   "execution_count": null,
   "id": "832952ba-aa7b-4a1c-bc87-541b3892ab22",
   "metadata": {},
   "outputs": [],
   "source": []
  },
  {
   "cell_type": "code",
   "execution_count": null,
   "id": "3e090d15-e13f-480a-8201-095eee58a796",
   "metadata": {},
   "outputs": [],
   "source": []
  }
 ],
 "metadata": {
  "kernelspec": {
   "display_name": "Python 3 (ipykernel)",
   "language": "python",
   "name": "python3"
  },
  "language_info": {
   "codemirror_mode": {
    "name": "ipython",
    "version": 3
   },
   "file_extension": ".py",
   "mimetype": "text/x-python",
   "name": "python",
   "nbconvert_exporter": "python",
   "pygments_lexer": "ipython3",
   "version": "3.9.12"
  }
 },
 "nbformat": 4,
 "nbformat_minor": 5
}
