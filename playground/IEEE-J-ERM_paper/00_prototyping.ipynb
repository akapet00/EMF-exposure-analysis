{
 "cells": [
  {
   "cell_type": "markdown",
   "metadata": {},
   "source": [
    "Conceptualization of the work for the IEEE J-ERM special issue:\n",
    "\n",
    "- **Source** Plane wave @ $26 \\text{GHz}$ and $60 \\text{GHz}$.\n",
    "- **Target** Realistic ear model.\n",
    "- **Exposure scenario** Front incidence.\n",
    "- **Integration** Over a surface area $A = 4 \\text{cm}^2$ and $1 \\text{cm}^2$ for $f = 26 \\text{GHz}$ and $60 \\text{GHz}$, respectively.\n",
    "    1. Define the time average Ponyting vector as follows:\n",
    "    \n",
    "    $ P_t = \\frac{1}{2} \\; \\Re\\big[\\boldsymbol{E} \\times \\boldsymbol{H}^*\\big]$\n",
    "    \n",
    "    where $\\boldsymbol{E}$ and $\\boldsymbol{H}$ are peak values of the complex phasor electric and magnetic field, respectively, and ${}^*$ denotes complex conjugate operator.\n",
    "    \n",
    "    2. From the abovementioned defintion of the time average Poynting vector, the absorbed power density across irradiated surface of area, $A$, is defined as follows:\n",
    "    \n",
    "    $APD = P_t \\cdot \\boldsymbol{n}$\n",
    "    \n",
    "    where $\\boldsymbol{n}$ is unit normal vector field normal to $A$.\n",
    "    \n",
    "    3. Finally, the area average abosrbed power density is then defined as the surface integral either in a form of:\n",
    "\n",
    "        **definition (i)** $APD_{av} = \\frac{1}{A} \\; \\iint_A APD \\; \\mathrm{d}A$\n",
    "        \n",
    "        where $\\mathrm{d}A$ is integral element of the surface; or as follows:\n",
    "        \n",
    "        **definition (ii)** $APD_{av} = \\frac{1}{A} \\; \\iint_A \\mathrm{d}x \\mathrm{d}y \\int_{0}^{z_{max}} \\rho(x, y, z) \\cdot \\text{SAR}(x, y, z) \\; \\mathrm{d}z $\n",
    "        \n",
    "        where the body surface is at $z = 0$, and $z_{max}$ is depth of the body at the corresponding region; where Z max is much larger than the penetration dept, e.g. $z_{max} = + \\infty$.\n",
    "        \n",
    "        Note that, SAR stands for the specific absorption rate, defined as: \n",
    "    \n",
    "        $\\text{SAR} =  \\frac{\\sigma}{2 \\rho} |\\boldsymbol{E}|^2 $ \n",
    "    \n",
    "        where $\\sigma$ is conductivity (S/m), and $\\rho$ is tissue density (kg/m$^3$).\n",
    "        \n",
    "- **Novelty**\n",
    "\n",
    "    * [x] PCA-regression for normal estimation.\n",
    "    * [x] Accurate assessment technique of the surface integral for both defintions of the absorbed power density.\n",
    "    * [ ] Potential improvements from the IMBioC2022 conference paper: (i) finding the most irradiated region of the exposed surface faster, e.g., by using k-nearest neighbors, (ii) utilization of more advanced quadrature techniques for a square integration domain, e.g., Albrecht and Collatz 1953, Dunavant 1985., (iii) (...)."
   ]
  }
 ],
 "metadata": {
  "kernelspec": {
   "display_name": "Python 3 (ipykernel)",
   "language": "python",
   "name": "python3"
  },
  "language_info": {
   "codemirror_mode": {
    "name": "ipython",
    "version": 3
   },
   "file_extension": ".py",
   "mimetype": "text/x-python",
   "name": "python",
   "nbconvert_exporter": "python",
   "pygments_lexer": "ipython3",
   "version": "3.9.7"
  }
 },
 "nbformat": 4,
 "nbformat_minor": 4
}
