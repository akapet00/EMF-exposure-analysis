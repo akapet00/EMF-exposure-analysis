{
 "cells": [
  {
   "cell_type": "code",
   "execution_count": null,
   "id": "6838a895-f9b4-4fa5-9cbf-47387bc29f25",
   "metadata": {},
   "outputs": [],
   "source": [
    "import os\n",
    "\n",
    "import matplotlib.pyplot as plt\n",
    "import numpy as np\n",
    "import seaborn as sns\n",
    "\n",
    "from dosipy.utils.viz import fig_config, save_fig"
   ]
  },
  {
   "cell_type": "code",
   "execution_count": null,
   "id": "6b7470cd-a18b-4f7e-8881-3ab0bb4cac04",
   "metadata": {},
   "outputs": [],
   "source": [
    "color = sns.color_palette(palette='rocket', n_colors=2).as_hex()"
   ]
  },
  {
   "cell_type": "code",
   "execution_count": null,
   "id": "e624a1b2-f9c6-4a4b-a7a9-0fa379b277ce",
   "metadata": {},
   "outputs": [],
   "source": [
    "#set_colorblind()\n",
    "%config InlineBackend.figure_format = 'retina'"
   ]
  },
  {
   "cell_type": "code",
   "execution_count": null,
   "id": "5ae076c7-2fc6-4f7b-bc42-0fe2645441cc",
   "metadata": {},
   "outputs": [],
   "source": [
    "def rpd(comp, ref):\n",
    "    \"\"\"Relative percentage difference.\"\"\"\n",
    "    comp = np.asarray(comp)\n",
    "    ref = np.asarray(ref)\n",
    "    val = (comp - ref) / ref * 100\n",
    "    return val.round(2)"
   ]
  },
  {
   "cell_type": "code",
   "execution_count": null,
   "id": "423b24f2-f1e1-4099-9530-b6700913bab9",
   "metadata": {},
   "outputs": [],
   "source": [
    "labels = ['26 GHz', '60 GHz\\n(A = 4 cm2)', '60 GHz\\n(A = 1 cm2)']\n",
    "y = np.arange(len(labels))\n",
    "width = 0.5\n",
    "\n",
    "ref = [5.3, 6.22, 6.22]\n",
    "tpd_pol_1 = [5.93, 6.1, 6.64]\n",
    "rpd_tpd_pol_1 = rpd(tpd_pol_1, ref)\n",
    "apd_pol_1 = [5.61, 5.83, 6.61]\n",
    "rpd_apd_pol_1 = rpd(apd_pol_1, ref)\n",
    "tpd_pol_2 = [4.75, 5.82, 7.48]\n",
    "rpd_tpd_pol_2 = rpd(tpd_pol_2, ref)\n",
    "apd_pol_2 = [4.60, 5.71, 7.39]\n",
    "rpd_apd_pol_2 = rpd(apd_pol_2, ref)"
   ]
  },
  {
   "cell_type": "code",
   "execution_count": null,
   "id": "31c23c2a-1140-4977-bdd9-853bf3d85137",
   "metadata": {},
   "outputs": [],
   "source": [
    "fig_config(latex=True, text_size=18)\n",
    "fig, axs = plt.subplots(nrows=1, ncols=2, sharey=True, figsize=(15, 2.75))\n",
    "rects_tpd_1 = axs[0].barh(y - width/2, rpd_tpd_pol_1, width, color=color[0])\n",
    "rects_apd_1 = axs[0].barh(y + width/2, rpd_apd_pol_1, width, color=color[1])\n",
    "axs[0].axvline(x=0, lw=1.5, color='k')\n",
    "rects_tpd_2 = axs[1].barh(y - width/2, rpd_tpd_pol_2, width, color=color[0], label=r'$\\text{APD}_1$')\n",
    "rects_apd_2 = axs[1].barh(y + width/2, rpd_apd_pol_2, width, color=color[1], label=r'$\\text{APD}_2$')\n",
    "axs[1].axvline(x=0, lw=1.5, color='k')\n",
    "\n",
    "axs[0].bar_label(rects_tpd_1, padding=5)\n",
    "axs[0].bar_label(rects_apd_1, padding=5)\n",
    "axs[0].set(xlim=[-10, 15.5],\n",
    "           yticks=y,\n",
    "           yticklabels=labels)\n",
    "axs[0].set_title('Polarization 1', loc='center', fontweight='bold')\n",
    "axs[0].set_title(r'$\\text{APD} < \\text{APD}_\\text{planar}$', loc='left', fontsize=14)\n",
    "axs[0].set_title(r'$\\text{APD} > \\text{APD}_\\text{planar}$', loc='right', fontsize=14)\n",
    "axs[0].tick_params(axis='both', direction=\"inout\")\n",
    "\n",
    "axs[1].bar_label(rects_tpd_2, padding=5)\n",
    "axs[1].bar_label(rects_apd_2, padding=5)\n",
    "axs[1].set(xlim=[-21, 27],\n",
    "           yticks=y,\n",
    "           yticklabels=labels)\n",
    "axs[1].set_title('Polarization 2', loc='center', fontweight='bold')\n",
    "axs[1].set_title(r'$\\text{APD} < \\text{APD}_\\text{planar}$', loc='left', fontsize=14)\n",
    "axs[1].set_title(r'$\\text{APD} > \\text{APD}_\\text{planar}$', loc='right', fontsize=14)\n",
    "axs[1].tick_params(axis='both', direction=\"inout\")\n",
    "\n",
    "fig.legend(bbox_to_anchor=(1.1, 0.7))\n",
    "fig.text(0.48, -0.02, s='relative \\% difference')\n",
    "fig.tight_layout()\n",
    "\n",
    "fname = os.path.join('figures', 'visual_summary')\n",
    "save_fig(fig, fname=fname, formats=['png'])"
   ]
  },
  {
   "cell_type": "code",
   "execution_count": null,
   "id": "62ce47f6-3134-4228-9713-ae7983959cc5",
   "metadata": {},
   "outputs": [],
   "source": []
  }
 ],
 "metadata": {
  "kernelspec": {
   "display_name": "Python 3 (ipykernel)",
   "language": "python",
   "name": "python3"
  },
  "language_info": {
   "codemirror_mode": {
    "name": "ipython",
    "version": 3
   },
   "file_extension": ".py",
   "mimetype": "text/x-python",
   "name": "python",
   "nbconvert_exporter": "python",
   "pygments_lexer": "ipython3",
   "version": "3.9.12"
  }
 },
 "nbformat": 4,
 "nbformat_minor": 5
}
