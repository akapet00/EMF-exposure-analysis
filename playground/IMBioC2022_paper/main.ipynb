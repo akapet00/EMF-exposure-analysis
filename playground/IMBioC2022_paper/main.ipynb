{
 "cells": [
  {
   "cell_type": "code",
   "execution_count": null,
   "metadata": {},
   "outputs": [],
   "source": [
    "import os\n",
    "\n",
    "import matplotlib.pyplot as plt\n",
    "from matplotlib.patches import Rectangle, Circle\n",
    "import numpy as np\n",
    "try:\n",
    "    import open3d as o3d\n",
    "except ImportError as e:\n",
    "    install = input(f'{e}, Do you want to install it? [Y/n]')\n",
    "    if install == 'Y':\n",
    "        import sys\n",
    "        !{sys.executable} -m pip install open3d\n",
    "        import open3d as o3d\n",
    "        print(o3d.__version__)\n",
    "\n",
    "from dosipy.utils.dataloader import load_ear_data\n",
    "from dosipy.utils.integrate import elementwise_dblquad, elementwise_circquad\n",
    "from dosipy.utils.viz import (set_colorblind, scatter_2d, scatter_3d,\n",
    "                              colormap_from_array, save_fig, fig_config)\n",
    "from utils import *"
   ]
  },
  {
   "cell_type": "code",
   "execution_count": null,
   "metadata": {},
   "outputs": [],
   "source": [
    "set_colorblind()\n",
    "%config InlineBackend.figure_format = 'retina'"
   ]
  },
  {
   "cell_type": "markdown",
   "metadata": {
    "tags": []
   },
   "source": [
    "# Ear model"
   ]
  },
  {
   "cell_type": "markdown",
   "metadata": {
    "tags": []
   },
   "source": [
    "## Dataset"
   ]
  },
  {
   "cell_type": "code",
   "execution_count": null,
   "metadata": {},
   "outputs": [],
   "source": [
    "# full dataset\n",
    "\n",
    "df = load_ear_data('tm', 60)\n",
    "df = clean_df(df)\n",
    "df"
   ]
  },
  {
   "cell_type": "code",
   "execution_count": null,
   "metadata": {},
   "outputs": [],
   "source": [
    "# conversion to numpys\n",
    "\n",
    "xyz = export_pcd(df)\n",
    "E, H = export_fields(df)"
   ]
  },
  {
   "cell_type": "code",
   "execution_count": null,
   "metadata": {},
   "outputs": [],
   "source": [
    "# visualize ear model in matplotlib\n",
    "\n",
    "view_config = {\n",
    "    'zoom': 0.69999999999999996,\n",
    "    'front': [0.92231085610160646, 0.17546582462905541, 0.34431733779228646],\n",
    "    'lookat': [71.236805645281521, 22.531933429935712, -8.12589641784127],\n",
    "    'up': [-0.16595758534247468, 0.98447554162242001, -0.057148821637356101],\n",
    "}\n",
    "cframe, pcd = visualize_ear(xyz, show=False, **view_config)\n",
    "color = get_imcolors([cframe, pcd], view_config)\n",
    "\n",
    "fig_config()\n",
    "fig = plt.figure()\n",
    "ax = fig.add_subplot()\n",
    "ax.imshow(color, origin='upper');\n",
    "\n",
    "# fname = os.path.join('figures', 'ear_model')\n",
    "# save_fig(fig, fname=fname)"
   ]
  },
  {
   "cell_type": "markdown",
   "metadata": {
    "tags": []
   },
   "source": [
    "## EM dosimetry"
   ]
  },
  {
   "cell_type": "code",
   "execution_count": null,
   "metadata": {},
   "outputs": [],
   "source": [
    "# extracting components of the power density vector field\n",
    "\n",
    "Sx, Sy, Sz = poynting_vector(E, H)"
   ]
  },
  {
   "cell_type": "code",
   "execution_count": null,
   "metadata": {},
   "outputs": [],
   "source": [
    "# visualization of the absolute value of the power density\n",
    "\n",
    "fig_config(scaler=2)\n",
    "S = abs(np.sqrt(Sx ** 2 + Sy ** 2 + Sz ** 2))\n",
    "S_label = r'$1/2$ $|\\vec{E}\\times\\vec{H}^{*}|$ [W/m2]'\n",
    "fig, ax = scatter_3d({'z [mm]': xyz[:, 2],\n",
    "                      'x [mm]': xyz[:, 0],\n",
    "                      'y [mm]': xyz[:, 1],\n",
    "                       S_label: S},\n",
    "                     elev=[10], azim=[120])"
   ]
  },
  {
   "cell_type": "code",
   "execution_count": null,
   "metadata": {},
   "outputs": [],
   "source": [
    "# visualization of the real part of the power density normal to the surface\n",
    "\n",
    "fig_config(scaler=2)\n",
    "n = estimate_normals(xyz, knn=30, fast=True)\n",
    "Sr = abs(Sx.real * n[:, 0] + Sy.real * n[:, 1] + Sz.real * n[:, 2])\n",
    "Sr_label = r'$1/2$ $\\Re{[\\vec{E}\\times\\vec{H}^{*}]} \\cdot \\vec{n}$ [W/m2]'\n",
    "fig, ax = scatter_3d({'z [mm]': xyz[:, 2],\n",
    "                      'x [mm]': xyz[:, 0],\n",
    "                      'y [mm]': xyz[:, 1],\n",
    "                      Sr_label: Sr},\n",
    "                      elev=[10], azim=[180])"
   ]
  },
  {
   "cell_type": "code",
   "execution_count": null,
   "metadata": {},
   "outputs": [],
   "source": [
    "# removing the sharp-edged region of the model and\n",
    "# visualization of the real part of the power density normal to the surface\n",
    "\n",
    "fig_config(scaler=2)\n",
    "crop_idxs = np.where(xyz[:, 0] > 67)[0]\n",
    "xyz_crop = xyz[crop_idxs]\n",
    "Sx_crop, Sy_crop, Sz_crop = Sx[crop_idxs], Sy[crop_idxs], Sz[crop_idxs]\n",
    "n_crop = estimate_normals(xyz_crop, knn=30, fast=True)\n",
    "Sr_crop = abs(Sx_crop.real * n_crop[:, 0]\n",
    "              + Sy_crop.real * n_crop[:, 1]\n",
    "              + Sz_crop.real * n_crop[:, 2])\n",
    "fig, ax = scatter_3d({'z [mm]': xyz_crop[:, 2],\n",
    "                      'x [mm]': xyz_crop[:, 0],\n",
    "                      'y [mm]': xyz_crop[:, 1],\n",
    "                      Sr_label: Sr_crop},\n",
    "                     elev=[10], azim=[180], figsize=(10, 10))"
   ]
  },
  {
   "cell_type": "code",
   "execution_count": null,
   "metadata": {},
   "outputs": [],
   "source": [
    "# define coordinate frame in open3d\n",
    "\n",
    "pcd = o3d.geometry.PointCloud()\n",
    "pcd.points = o3d.utility.Vector3dVector(xyz)\n",
    "center = pcd.get_center()\n",
    "pcd.paint_uniform_color([0.5, 0.5, 0.5])\n",
    "cframe = o3d.geometry.TriangleMesh.create_coordinate_frame(size=10,\n",
    "                                                           origin=center)\n",
    "# o3d.visualization.draw_geometries([cframe, pcd])"
   ]
  },
  {
   "cell_type": "code",
   "execution_count": null,
   "metadata": {},
   "outputs": [],
   "source": [
    "# translate the coordinates of the model to have the center at (0, 0, 0)\n",
    "\n",
    "xyz_t = np.c_[xyz[:, 0] - center[0],\n",
    "              xyz[:, 1] - center[1],\n",
    "              xyz[:, 2] - center[2]]\n",
    "pcd_t = o3d.geometry.PointCloud()\n",
    "pcd_t.points = o3d.utility.Vector3dVector(xyz_t)\n",
    "center_t = pcd_t.get_center()\n",
    "pcd_t.paint_uniform_color([0.5, 0.5, 0.5])\n",
    "cframe_t = o3d.geometry.TriangleMesh.create_coordinate_frame(size=10,\n",
    "                                                             origin=center_t)\n",
    "# o3d.visualization.draw_geometries([cframe_t, pcd_t])"
   ]
  },
  {
   "cell_type": "markdown",
   "metadata": {
    "tags": []
   },
   "source": [
    "## zy-plane"
   ]
  },
  {
   "cell_type": "code",
   "execution_count": null,
   "metadata": {},
   "outputs": [],
   "source": [
    "# extract the points visible from the yz-plane point of view\n",
    "\n",
    "diameter = np.linalg.norm(pcd_t.get_max_bound() - pcd_t.get_min_bound())\n",
    "radius = 10 ** 5.5\n",
    "camera = [diameter, 0, 0]\n",
    "\n",
    "_, pt_map = pcd_t.hidden_point_removal(camera, radius)\n",
    "\n",
    "xyz_t_zy = xyz_t[pt_map]\n",
    "Sr_t_zy = Sr[pt_map]\n",
    "pcd_t_zy = o3d.geometry.PointCloud()\n",
    "pcd_t_zy.points = o3d.utility.Vector3dVector(xyz_t_zy)\n",
    "pcd_t_zy.colors = o3d.utility.Vector3dVector(colormap_from_array(Sr_t_zy))\n",
    "# o3d.visualization.draw_geometries([cframe_t, pcd_t_zy])"
   ]
  },
  {
   "cell_type": "code",
   "execution_count": null,
   "metadata": {},
   "outputs": [],
   "source": [
    "# visualization of the real part of the power density normal to the zy-surface\n",
    "\n",
    "fig_config(scaler=1.5)\n",
    "fig, ax = scatter_2d({'z [mm]': xyz_t_zy[:, 2],\n",
    "                      'y [mm]': xyz_t_zy[:, 1],\n",
    "                      Sr_label: Sr_t_zy},\n",
    "                     s=1);"
   ]
  },
  {
   "cell_type": "code",
   "execution_count": null,
   "metadata": {},
   "outputs": [],
   "source": [
    "# extract rectangular averaging suface area\n",
    "\n",
    "center = [-12.5, 12.5]\n",
    "edge_length = 10\n",
    "origin, idx_rect = export_rect_idx(xyz=xyz_t_zy,\n",
    "                                   center=center,\n",
    "                                   edge_length=edge_length,\n",
    "                                   view='zy')\n",
    "xyz_rect = xyz_t_zy[idx_rect]\n",
    "Sr_rect = Sr_t_zy[idx_rect]"
   ]
  },
  {
   "cell_type": "code",
   "execution_count": null,
   "metadata": {},
   "outputs": [],
   "source": [
    "# visualization of the real part of the power density normal to the extracted\n",
    "# rectangular averaging surface area of 1x1 cm2\n",
    "\n",
    "fig_config(scaler=1.5)\n",
    "fig, ax = scatter_2d({'z [mm]': xyz_t_zy[:, 2],\n",
    "                      'y [mm]': xyz_t_zy[:, 1],\n",
    "                      Sr_label: Sr_t_zy}, s=1)\n",
    "patch_rect = Rectangle(origin, edge_length, edge_length, fc='None', lw=3)\n",
    "avg_surf = ax.add_patch(patch_rect);\n",
    "\n",
    "# zoom in\n",
    "fig_config(scaler=1.5)\n",
    "fig, ax = scatter_2d({'z [mm]': xyz_rect[:, 2],\n",
    "                      'y [mm]': xyz_rect[:, 1],\n",
    "                      Sr_label: Sr_rect}, s=20);\n",
    "\n",
    "# computing the average absorbed power density\n",
    "area = edge_length ** 2\n",
    "APD_rect = elementwise_dblquad(points=np.c_[xyz_rect[:, 2], xyz_rect[:, 1]],\n",
    "                               values=Sr_rect,\n",
    "                               degree=11) / area\n",
    "print(f'APD = {APD_rect:.7f} W/m2')"
   ]
  },
  {
   "cell_type": "code",
   "execution_count": null,
   "metadata": {},
   "outputs": [],
   "source": [
    "# extract circular averaging suface area\n",
    "\n",
    "radius = np.sqrt(area / np.pi)\n",
    "idx_circ = export_circ_idx(xyz=xyz_t_zy,\n",
    "                           center=center,\n",
    "                           radius=radius,\n",
    "                           view='zy')\n",
    "xyz_circ = xyz_t_zy[idx_circ]\n",
    "Sr_circ = Sr_t_zy[idx_circ]"
   ]
  },
  {
   "cell_type": "code",
   "execution_count": null,
   "metadata": {},
   "outputs": [],
   "source": [
    "# visualization of the real part of the power density normal to the extracted\n",
    "# circular averaging surface area of 1 cm2\n",
    "\n",
    "fig_config(scaler=1.5)\n",
    "fig, ax = scatter_2d({'z [mm]': xyz_t_zy[:, 2],\n",
    "                      'y [mm]': xyz_t_zy[:, 1],\n",
    "                      Sr_label: Sr_t_zy}, s=1)\n",
    "patch_circ = Circle(center, radius, fc='None', lw=3)\n",
    "avg_surf = ax.add_patch(patch_circ);\n",
    "\n",
    "# zoom in\n",
    "fig_config(scaler=1.5)\n",
    "fig, ax = scatter_2d({'z [mm]': xyz_circ[:, 2],\n",
    "                      'y [mm]': xyz_circ[:, 1],\n",
    "                      Sr_label: Sr_circ}, s=20);\n",
    "\n",
    "# computing the average abosrbed power density\n",
    "APD_circ = elementwise_circquad(points=np.c_[xyz_circ[:, 2], xyz_circ[:, 1]],\n",
    "                                values=Sr_circ,\n",
    "                                radius=radius,\n",
    "                                center=center,\n",
    "                                degree=11) / area\n",
    "print(f'APD = {APD_circ:.7f} W/m2')"
   ]
  },
  {
   "cell_type": "code",
   "execution_count": null,
   "metadata": {},
   "outputs": [],
   "source": [
    "# difference in dB between absorbed power denesities computed on rectangular-\n",
    "# and circular-shaped averaging surface\n",
    "\n",
    "APD_diff = diff_in_dB(APD_rect, APD_circ)\n",
    "print(f'APD_diff = {APD_diff:.7f} dB')"
   ]
  },
  {
   "cell_type": "markdown",
   "metadata": {},
   "source": [
    "## xy-plane"
   ]
  },
  {
   "cell_type": "code",
   "execution_count": null,
   "metadata": {},
   "outputs": [],
   "source": [
    "# define coordinate frame in open3d for cropped ear model\n",
    "\n",
    "pcd_crop = o3d.geometry.PointCloud()\n",
    "pcd_crop.points = o3d.utility.Vector3dVector(xyz_crop)\n",
    "center_crop = pcd.get_center()\n",
    "pcd_crop.paint_uniform_color([0.5, 0.5, 0.5]);\n",
    "# o3d.visualization.draw_geometries([cframe, pcd_crop])"
   ]
  },
  {
   "cell_type": "code",
   "execution_count": null,
   "metadata": {},
   "outputs": [],
   "source": [
    "# translate the coordinates of the model to have the center at (0, 0, 0)\n",
    "\n",
    "xyz_crop_t = np.c_[xyz_crop[:, 0] - center_crop[0],\n",
    "                   xyz_crop[:, 1] - center_crop[1],\n",
    "                   xyz_crop[:, 2] - center_crop[2]]\n",
    "pcd_crop_t = o3d.geometry.PointCloud()\n",
    "pcd_crop_t.points = o3d.utility.Vector3dVector(xyz_crop_t)\n",
    "center_crop_t = pcd_t.get_center()\n",
    "pcd_crop_t.paint_uniform_color([0.5, 0.5, 0.5])\n",
    "cframe_crop_t = o3d.geometry.TriangleMesh.create_coordinate_frame(size=10,\n",
    "                                                                  origin=center_crop_t)\n",
    "#o3d.visualization.draw_geometries([cframe_crop_t, pcd_crop_t])"
   ]
  },
  {
   "cell_type": "code",
   "execution_count": null,
   "metadata": {},
   "outputs": [],
   "source": [
    "# extract the points visible from the xy-plane point of view\n",
    "\n",
    "diameter = np.linalg.norm(pcd_crop_t.get_max_bound() - pcd_crop_t.get_min_bound())\n",
    "radius = 10 ** 5.5\n",
    "camera = [0, 0, -diameter]\n",
    "\n",
    "_, pt_map = pcd_crop_t.hidden_point_removal(camera, radius)\n",
    "\n",
    "xyz_crop_t_xy = xyz_crop_t[pt_map]\n",
    "Sr_crop_t_xy = Sr_crop[pt_map]\n",
    "pcd_crop_t_xy = o3d.geometry.PointCloud()\n",
    "pcd_crop_t_xy.points = o3d.utility.Vector3dVector(xyz_crop_t_xy)\n",
    "pcd_crop_t_xy.colors = o3d.utility.Vector3dVector(colormap_from_array(Sr_crop_t_xy))\n",
    "# o3d.visualization.draw_geometries([cframe_crop_t, pcd_crop_t_xy])"
   ]
  },
  {
   "cell_type": "code",
   "execution_count": null,
   "metadata": {},
   "outputs": [],
   "source": [
    "# visualization of the real part of the power density normal to the zy-surface\n",
    "\n",
    "fig_config(scaler=1.5)\n",
    "fig, ax = scatter_2d({'x [mm]': xyz_crop_t_xy[:, 0],\n",
    "                      'y [mm]': xyz_crop_t_xy[:, 1],\n",
    "                      Sr_label: Sr_crop_t_xy},\n",
    "                     s=1)\n",
    "\n",
    "ax.invert_xaxis()"
   ]
  },
  {
   "cell_type": "code",
   "execution_count": null,
   "metadata": {},
   "outputs": [],
   "source": [
    "# extract rectangular averaging suface area\n",
    "\n",
    "center = [3.1, 3.25]\n",
    "edge_length = 10\n",
    "origin, idx_rect = export_rect_idx(xyz=xyz_crop_t_xy,\n",
    "                                   center=center,\n",
    "                                   edge_length=edge_length,\n",
    "                                   view='xy')\n",
    "xyz_rect = xyz_crop_t_xy[idx_rect]\n",
    "Sr_rect = Sr_crop_t_xy[idx_rect]"
   ]
  },
  {
   "cell_type": "code",
   "execution_count": null,
   "metadata": {},
   "outputs": [],
   "source": [
    "# visualization of the real part of the power density normal to the extracted\n",
    "# rectangular averaging surface area of 1x1 cm2\n",
    "\n",
    "fig_config(latex=True, scaler=1.5)\n",
    "fig, ax = scatter_2d({'$x$ [mm]': xyz_crop_t_xy[:, 0],\n",
    "                      '$y$ [mm]': xyz_crop_t_xy[:, 1],\n",
    "                      Sr_label: Sr_crop_t_xy}, s=1)\n",
    "patch_rect = Rectangle(origin, edge_length, edge_length, fc='None', lw=3)\n",
    "avg_surf = ax.add_patch(patch_rect)\n",
    "ax.invert_xaxis()\n",
    "\n",
    "fname = os.path.join('figures', PROJECT_NAME, 'te_60_full_rect')\n",
    "save_fig(fig, fname=fname)"
   ]
  },
  {
   "cell_type": "code",
   "execution_count": null,
   "metadata": {},
   "outputs": [],
   "source": [
    "# zoom in\n",
    "fig_config(latex=True, scaler=1.5)\n",
    "fig, ax = scatter_2d({'x [mm]': xyz_rect[:, 0],\n",
    "                      'y [mm]': xyz_rect[:, 1],\n",
    "                      Sr_label: Sr_rect}, s=20)\n",
    "ax.invert_xaxis()\n",
    "\n",
    "fname = os.path.join('figures', PROJECT_NAME, 'te_60_int_rect')\n",
    "save_fig(fig, fname=fname)"
   ]
  },
  {
   "cell_type": "code",
   "execution_count": null,
   "metadata": {},
   "outputs": [],
   "source": [
    "# computing the average absorbed power density\n",
    "area = edge_length ** 2\n",
    "APD_rect = elementwise_dblquad(points=np.c_[xyz_rect[:, 0], xyz_rect[:, 1]],\n",
    "                               values=Sr_rect,\n",
    "                               degree=11) / area\n",
    "print(f'APD = {APD_rect:.7f} W/m2')"
   ]
  },
  {
   "cell_type": "code",
   "execution_count": null,
   "metadata": {},
   "outputs": [],
   "source": [
    "# extract circular averaging suface area\n",
    "\n",
    "radius = np.sqrt(area / np.pi)\n",
    "idx_circ = export_circ_idx(xyz=xyz_crop_t_xy,\n",
    "                           center=center,\n",
    "                           radius=radius,\n",
    "                           view='xy')\n",
    "xyz_circ = xyz_crop_t_xy[idx_circ]\n",
    "Sr_circ = Sr_crop_t_xy[idx_circ]"
   ]
  },
  {
   "cell_type": "code",
   "execution_count": null,
   "metadata": {},
   "outputs": [],
   "source": [
    "# visualization of the real part of the power density normal to the extracted\n",
    "# circular averaging surface area of 1 cm2\n",
    "\n",
    "fig_config(latex=True, scaler=1)\n",
    "fig, ax = scatter_2d({'x [mm]': xyz_crop_t_xy[:, 0],\n",
    "                      'y [mm]': xyz_crop_t_xy[:, 1],\n",
    "                      Sr_label: Sr_crop_t_xy}, s=1)\n",
    "patch_circ = Circle(center, radius, fc='None', lw=3)\n",
    "avg_surf = ax.add_patch(patch_circ)\n",
    "ax.invert_xaxis()\n",
    "\n",
    "fname = os.path.join('figures', PROJECT_NAME, 'te_60_full_circ')\n",
    "save_fig(fig, fname=fname)\n",
    "\n",
    "# zoom in\n",
    "fig_config(latex=True, scaler=1.5)\n",
    "fig, ax = scatter_2d({'x [mm]': xyz_circ[:, 0],\n",
    "                      'y [mm]': xyz_circ[:, 1],\n",
    "                      Sr_label: Sr_circ}, s=20)\n",
    "ax.invert_xaxis()\n",
    "\n",
    "fname = os.path.join('figures', PROJECT_NAME, 'te_60_int_circ')\n",
    "save_fig(fig, fname=fname)\n",
    "\n",
    "# computing the average abosrbed power density\n",
    "APD_circ = elementwise_circquad(points=np.c_[xyz_circ[:, 0], xyz_circ[:, 1]],\n",
    "                                values=Sr_circ,\n",
    "                                radius=radius,\n",
    "                                center=center,\n",
    "                                degree=11) / area\n",
    "print(f'APD = {APD_circ:.7f} W/m2')"
   ]
  },
  {
   "cell_type": "code",
   "execution_count": null,
   "metadata": {},
   "outputs": [],
   "source": [
    "# difference in dB between absorbed power denesities computed on rectangular-\n",
    "# and circular-shaped averaging surface\n",
    "\n",
    "APD_diff = diff_in_dB(APD_rect, APD_circ)\n",
    "print(f'APD_diff = {APD_diff:.7f} dB')"
   ]
  },
  {
   "cell_type": "markdown",
   "metadata": {
    "tags": []
   },
   "source": [
    "## Integration domains"
   ]
  },
  {
   "cell_type": "code",
   "execution_count": null,
   "metadata": {},
   "outputs": [],
   "source": [
    "# circular integration domain - set up scheme\n",
    "\n",
    "import quadpy\n",
    "scheme = quadpy.s2.get_good_scheme(12)\n",
    "\n",
    "total_area = np.pi\n",
    "flt = np.vectorize(float)\n",
    "pts = flt(scheme.points.T)\n",
    "weights = flt(scheme.weights.T)\n",
    "radii = np.sqrt(abs(weights) / np.sum(weights) * total_area / np.pi)\n",
    "colors = ['gray' if weight >= 0 else 'r' for weight in weights]"
   ]
  },
  {
   "cell_type": "code",
   "execution_count": null,
   "metadata": {},
   "outputs": [],
   "source": [
    "# visualize circular integration domain\n",
    "\n",
    "fig_config(scaler=1.5)\n",
    "fig = plt.figure()\n",
    "ax = fig.add_subplot()\n",
    "ax.axis(\"equal\")\n",
    "ax.set_axis_off()\n",
    "disk = Circle((0, 0), 1, ec='k', fc='None')\n",
    "ax.add_patch(disk)\n",
    "for pt, radius, color in zip(pts, radii, colors):\n",
    "    plt.plot([pt[0]], [pt[1]], linestyle=\"None\", marker=\".\", color=color)\n",
    "    circ = Circle((pt[0], pt[1]), radius, color=color, alpha=0.7, linewidth=0)\n",
    "    ax.add_patch(circ)\n",
    "    \n",
    "# fname = os.path.join('figures', PROJECT_NAME, 'circ_int_scheme')\n",
    "# save_fig(fig, fname=fname)"
   ]
  },
  {
   "cell_type": "code",
   "execution_count": null,
   "metadata": {},
   "outputs": [],
   "source": [
    "# rectangular integration domain - set up scheme\n",
    "\n",
    "deg = 6\n",
    "a, b = -0.5, 0.5\n",
    "x, w = np.polynomial.legendre.leggauss(deg)\n",
    "x = 0.5 * (x + 1.) * (b - a) + a\n",
    "w = 0.5 * w * (b - a)\n",
    "Xx, Xy = np.meshgrid(x, x)\n",
    "Wx, Wy = np.meshgrid(w, w)\n",
    "pts = np.c_[Xx.ravel(), Xy.ravel()]\n",
    "weights = np.c_[Wx.ravel(), Wy.ravel()]\n",
    "weights_norm = np.linalg.norm(weights, axis=1, ord=sum(abs(x)**2)**(1./2))\n",
    "\n",
    "total_area = 1.2\n",
    "radii = np.sqrt(abs(weights_norm) / np.sum(weights_norm) * total_area / np.pi)\n",
    "colors = ['gray' if weight >= 0 else 'r' for weight in weights_norm]"
   ]
  },
  {
   "cell_type": "code",
   "execution_count": null,
   "metadata": {},
   "outputs": [],
   "source": [
    "# visualize rectangular integration domain\n",
    "\n",
    "fig_config(scaler=1.5)\n",
    "fig = plt.figure()\n",
    "ax = fig.add_subplot()\n",
    "ax.axis(\"equal\")\n",
    "ax.set_axis_off()\n",
    "rect = Rectangle((-0.5, -0.5), 1, 1, ec='k', fc='None')\n",
    "ax.add_patch(rect)\n",
    "for pt, radius, color in zip(pts, radii, colors):\n",
    "    plt.plot([pt[0]], [pt[1]], linestyle=\"None\", marker=\".\", color=color)\n",
    "    circ = Circle((pt[0], pt[1]), radius, color=color, alpha=0.7, linewidth=0)\n",
    "    ax.add_patch(circ)\n",
    "    \n",
    "# fname = os.path.join('figures', PROJECT_NAME, 'rect_int_scheme')\n",
    "# save_fig(fig, fname=fname)"
   ]
  },
  {
   "cell_type": "code",
   "execution_count": null,
   "metadata": {},
   "outputs": [],
   "source": []
  },
  {
   "cell_type": "code",
   "execution_count": null,
   "metadata": {},
   "outputs": [],
   "source": []
  }
 ],
 "metadata": {
  "kernelspec": {
   "display_name": "Python 3 (ipykernel)",
   "language": "python",
   "name": "python3"
  },
  "language_info": {
   "codemirror_mode": {
    "name": "ipython",
    "version": 3
   },
   "file_extension": ".py",
   "mimetype": "text/x-python",
   "name": "python",
   "nbconvert_exporter": "python",
   "pygments_lexer": "ipython3",
   "version": "3.9.7"
  }
 },
 "nbformat": 4,
 "nbformat_minor": 4
}
