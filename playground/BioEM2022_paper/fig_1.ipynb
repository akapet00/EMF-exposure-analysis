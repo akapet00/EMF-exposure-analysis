{
 "cells": [
  {
   "cell_type": "markdown",
   "id": "e3f59068-2657-48ea-9187-ec4ef3be72be",
   "metadata": {},
   "source": [
    "Concept: first two subfigs in row 1, second two subfigs in row 2\n",
    "* subfig 1) ear model with reconstructed surface ref: http://www.open3d.org/docs/latest/tutorial/Advanced/surface_reconstruction.html#Poisson-surface-reconstruction\n",
    "* subfig 2) point cloud of the model's surface with oriented normals (normals are encoded to RGB color values) ref: https://www.mathworks.com/matlabcentral/fileexchange/71178-normal-vector-to-rgb\n",
    "* subfig 3) point cloud of the model's surface with APD values encoded into RGB color values (TE)\n",
    "* subfig 4) point cloud of the model's surface with APD values encoded into RGB color values (TM)"
   ]
  },
  {
   "cell_type": "code",
   "execution_count": null,
   "id": "55ca6421-2e00-42e2-bd49-3a56cf3702a0",
   "metadata": {},
   "outputs": [],
   "source": [
    "import os\n",
    "\n",
    "import matplotlib.pyplot as plt\n",
    "import numpy as np\n",
    "try:\n",
    "    import open3d as o3d\n",
    "except ImportError:\n",
    "    import sys\n",
    "    print(sys.exc_info())\n",
    "\n",
    "from dosipy.utils.dataloader import load_ear_data\n",
    "from dosipy.utils.viz import set_colorblind, save_fig, scatter_3d, fig_config, colormap_from_array\n",
    "from helpers import (ABSTRACT_ID, clean_df, export_pcd, export_fields,\n",
    "                     poynting_vector, estimate_normals, get_imcolors,\n",
    "                     normals_to_rgb)"
   ]
  },
  {
   "cell_type": "markdown",
   "id": "6570cb74-2311-4cd8-8950-eead40a2a896",
   "metadata": {},
   "source": [
    "## Subfig a"
   ]
  },
  {
   "cell_type": "code",
   "execution_count": null,
   "id": "6860e374-1132-47a8-8d8e-1326ac7b27b9",
   "metadata": {},
   "outputs": [],
   "source": [
    "mode = 'tm'\n",
    "frequency = 60\n",
    "df = load_ear_data('tm', 60)\n",
    "df = clean_df(df)\n",
    "xyz = export_pcd(df)"
   ]
  },
  {
   "cell_type": "code",
   "execution_count": null,
   "id": "1e133f85-9c58-4432-8636-41de048f909d",
   "metadata": {},
   "outputs": [],
   "source": [
    "pcd = o3d.geometry.PointCloud()\n",
    "pcd.points = o3d.utility.Vector3dVector(xyz)\n",
    "center = pcd.get_center()\n",
    "pcd.paint_uniform_color([0.5, 0.5, 0.5])\n",
    "cframe = o3d.geometry.TriangleMesh.create_coordinate_frame(\n",
    "    size=9, origin=center+np.array([6, -25, -20])\n",
    ")\n",
    "pcd.estimate_normals()\n",
    "radii = [0.005, 0.01, 0.02, 0.04]\n",
    "rec_mesh = o3d.geometry.TriangleMesh.create_from_point_cloud_ball_pivoting(\n",
    "    pcd, o3d.utility.DoubleVector(radii)\n",
    ")"
   ]
  },
  {
   "cell_type": "code",
   "execution_count": null,
   "id": "f7ce3172-91a5-4330-ab5d-0075e4811446",
   "metadata": {},
   "outputs": [],
   "source": [
    "view_config_a = {\n",
    "    'zoom': 0.69999999999999996,\n",
    "    'front': [0.92231085610160646, 0.17546582462905541, 0.34431733779228646],\n",
    "    'lookat': [71.236805645281521, 22.531933429935712, -8.12589641784127],\n",
    "    'up': [-0.16595758534247468, 0.98447554162242001, -0.057148821637356101],\n",
    "}\n",
    "color = get_imcolors([cframe, pcd, rec_mesh], view_config_a)\n",
    "set_colorblind()\n",
    "fig_config()\n",
    "fig = plt.figure()\n",
    "ax = fig.add_subplot()\n",
    "ax.imshow(color, origin='upper')\n",
    "\n",
    "fname = os.path.join('figures', f'fig_{ABSTRACT_ID}_1a')\n",
    "save_fig(fig, fname=fname, formats=['png'])"
   ]
  },
  {
   "cell_type": "markdown",
   "id": "a6f8adb0-886d-4b89-86d8-327d8227dc8e",
   "metadata": {},
   "source": [
    "## Subfig b"
   ]
  },
  {
   "cell_type": "code",
   "execution_count": null,
   "id": "e7ac6dd4-4be8-4cd3-8d72-d504634cb99f",
   "metadata": {},
   "outputs": [],
   "source": [
    "mode = 'tm'\n",
    "frequency = 60\n",
    "df = load_ear_data('tm', 60)\n",
    "df = clean_df(df)\n",
    "xyz = export_pcd(df)"
   ]
  },
  {
   "cell_type": "code",
   "execution_count": null,
   "id": "0fe1d5bf-dbe2-4694-947c-5174e69b9a43",
   "metadata": {},
   "outputs": [],
   "source": [
    "pcd = o3d.geometry.PointCloud()\n",
    "pcd.points = o3d.utility.Vector3dVector(xyz)\n",
    "center = pcd.get_center()\n",
    "cframe = o3d.geometry.TriangleMesh.create_coordinate_frame(\n",
    "    size=9, origin=center+np.array([6, -25, -20])\n",
    ")\n",
    "skip = 30\n",
    "pcd_dwnsmpd = pcd.uniform_down_sample(skip)"
   ]
  },
  {
   "cell_type": "code",
   "execution_count": null,
   "id": "5bd11fc2-3431-4f68-9ae7-d4bbd927d131",
   "metadata": {},
   "outputs": [],
   "source": [
    "try:\n",
    "    normals = np.load(os.path.join('analysis', f'normals_{skip}.npy'))\n",
    "    pcd_dwnsmpd.normals = o3d.utility.Vector3dVector(normals)\n",
    "except:\n",
    "    pcd_dwnsmpd.estimate_normals()\n",
    "    pcd_dwnsmpd.orient_normals_consistent_tangent_plane(k=30)\n",
    "    normals = np.asarray(pcd_dwnsmpd.normals)\n",
    "    np.save(os.path.join('analysis', f'normals_{skip}'), normals)"
   ]
  },
  {
   "cell_type": "code",
   "execution_count": null,
   "id": "eb70c5d7-b7b4-4ced-b8b4-b470c0a78857",
   "metadata": {},
   "outputs": [],
   "source": [
    "view_config_b = {\n",
    "    'zoom': 0.69999999999999996,\n",
    "    'front': [0.88361503789438389, 0.001013610506472548, -0.46821302566315681],\n",
    "    'lookat': [67.638223693668408, 17.049614524433402, -12.088523009149476],\n",
    "    'up': [-0.013882221702813466, 0.99961473638476039, -0.024034615100309641],\n",
    "}\n",
    "# quiver plot version\n",
    "pcd_dwnsmpd.paint_uniform_color(np.array([0.6, 0.6, 0.6]))\n",
    "color = get_imcolors([cframe, pcd_dwnsmpd], view_config_b, point_show_normal=True)\n",
    "# normal vectors mapped to RGB cube\n",
    "# pcd_dwnsmpd.colors = o3d.utility.Vector3dVector(normals_to_rgb(normals))\n",
    "# color = get_imcolors([cframe, pcd_dwnsmpd], view_config_b, point_show_normal=False)\n",
    "set_colorblind()\n",
    "fig_config()\n",
    "fig = plt.figure()\n",
    "ax = fig.add_subplot()\n",
    "ax.imshow(color, origin='upper')\n",
    "\n",
    "fname = os.path.join('figures', f'fig_{ABSTRACT_ID}_1b')\n",
    "save_fig(fig, fname=fname, formats=['png'])"
   ]
  },
  {
   "cell_type": "markdown",
   "id": "450012fc-f27b-4d80-8ac6-11df1af23969",
   "metadata": {},
   "source": [
    "## Subfig c and d"
   ]
  },
  {
   "cell_type": "code",
   "execution_count": null,
   "id": "b1f60f84-e251-4b2a-abba-10dfd91692f7",
   "metadata": {},
   "outputs": [],
   "source": [
    "mode = 'te'\n",
    "frequency = 60\n",
    "df = load_ear_data('te', 60)\n",
    "df = clean_df(df)\n",
    "xyz = export_pcd(df)"
   ]
  },
  {
   "cell_type": "code",
   "execution_count": null,
   "id": "52dc2f9f-649a-40c9-9738-41ce01e3f438",
   "metadata": {},
   "outputs": [],
   "source": [
    "E, H = export_fields(df)\n",
    "Sx, Sy, Sz = poynting_vector(E, H)\n",
    "\n",
    "crop_idxs = np.where(xyz[:, 0] > 67.5)[0]\n",
    "xyz_crop = xyz[crop_idxs]\n",
    "n_crop = normals[crop_idxs]\n",
    "\n",
    "pcd_crop = o3d.geometry.PointCloud()\n",
    "pcd_crop.points = o3d.utility.Vector3dVector(xyz_crop)\n",
    "center_crop = pcd_crop.get_center()\n",
    "\n",
    "xyz_crop_t = np.c_[xyz_crop[:, 0] - center_crop[0],\n",
    "                   xyz_crop[:, 1] - center_crop[1],\n",
    "                   xyz_crop[:, 2] - center_crop[2]]\n",
    "\n",
    "Sx_crop, Sy_crop, Sz_crop = Sx[crop_idxs], Sy[crop_idxs], Sz[crop_idxs]\n",
    "Sr_crop = abs(Sx_crop.real * n_crop[:, 0]\n",
    "              + Sy_crop.real * n_crop[:, 1]\n",
    "              + Sz_crop.real * n_crop[:, 2])"
   ]
  },
  {
   "cell_type": "code",
   "execution_count": null,
   "id": "7c5388e5-e2c1-41fb-bbdd-0a835b51670a",
   "metadata": {},
   "outputs": [],
   "source": [
    "set_colorblind()\n",
    "fig_config(latex=True, scaler=1.75, text_size=20)\n",
    "Sr_label = '$APD$'\n",
    "fig, ax = scatter_3d({'$z$ [mm]': xyz_crop_t[:, 2],\n",
    "                      '$x$ [mm]': xyz_crop_t[:, 0],\n",
    "                      '$y$ [mm]': xyz_crop_t[:, 1],\n",
    "                      Sr_label: Sr_crop},\n",
    "                     elev=[15], azim=[150])\n",
    "ax.xaxis.set_pane_color((1.0, 1.0, 1.0, 0.0))\n",
    "ax.yaxis.set_pane_color((1.0, 1.0, 1.0, 0.0))\n",
    "ax.zaxis.set_pane_color((1.0, 1.0, 1.0, 0.0))\n",
    "ax.xaxis.labelpad = 12\n",
    "ax.yaxis.labelpad = 12\n",
    "ax.zaxis.labelpad = 5\n",
    "\n",
    "if mode == 'te':\n",
    "    subfig_id = 'c'\n",
    "else:\n",
    "    subfig_id = 'd'\n",
    "fname = os.path.join('figures', f'fig_{ABSTRACT_ID}_1{subfig_id}')\n",
    "save_fig(fig, fname=fname, formats=['png'])"
   ]
  },
  {
   "cell_type": "code",
   "execution_count": null,
   "id": "f8f2c9a8-38f7-432f-ba8e-2cedae88ae96",
   "metadata": {},
   "outputs": [],
   "source": []
  }
 ],
 "metadata": {
  "kernelspec": {
   "display_name": "Python 3 (ipykernel)",
   "language": "python",
   "name": "python3"
  },
  "language_info": {
   "codemirror_mode": {
    "name": "ipython",
    "version": 3
   },
   "file_extension": ".py",
   "mimetype": "text/x-python",
   "name": "python",
   "nbconvert_exporter": "python",
   "pygments_lexer": "ipython3",
   "version": "3.9.7"
  }
 },
 "nbformat": 4,
 "nbformat_minor": 5
}
