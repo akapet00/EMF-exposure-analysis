{
 "cells": [
  {
   "cell_type": "markdown",
   "id": "e3f59068-2657-48ea-9187-ec4ef3be72be",
   "metadata": {},
   "source": [
    "Concept: first two subfigs in row 1, second two subfigs in row 2\n",
    "* subfig 1) ear model with reconstructed surface ref: http://www.open3d.org/docs/latest/tutorial/Advanced/surface_reconstruction.html#Poisson-surface-reconstruction\n",
    "* subfig 2) point cloud of the model's surface with oriented normals (normals are encoded to RGB color values) ref: https://www.mathworks.com/matlabcentral/fileexchange/71178-normal-vector-to-rgb\n",
    "* subfig 3) point cloud of the model's surface with APD values encoded into RGB color values (TE)\n",
    "* subfig 4) point cloud of the model's surface with APD values encoded into RGB color values (TM)"
   ]
  },
  {
   "cell_type": "code",
   "execution_count": null,
   "id": "1e133f85-9c58-4432-8636-41de048f909d",
   "metadata": {},
   "outputs": [],
   "source": []
  }
 ],
 "metadata": {
  "kernelspec": {
   "display_name": "Python 3 (ipykernel)",
   "language": "python",
   "name": "python3"
  },
  "language_info": {
   "codemirror_mode": {
    "name": "ipython",
    "version": 3
   },
   "file_extension": ".py",
   "mimetype": "text/x-python",
   "name": "python",
   "nbconvert_exporter": "python",
   "pygments_lexer": "ipython3",
   "version": "3.9.7"
  }
 },
 "nbformat": 4,
 "nbformat_minor": 5
}
