{
 "cells": [
  {
   "cell_type": "markdown",
   "id": "05ea9035",
   "metadata": {},
   "source": [
    "**Concept.** Subfigures 1, 2 and 3 in the 1st row, subifugres 4, 5 and 6 in the 2nd row in figure 3. Single colorbar per row.\n",
    "* subfigure 1 - TE ear model form the plane wave incidence POV;\n",
    "* subfigure 2 - zoom in to the square-shaped averaging surface;\n",
    "* subfigure 3 - zoom in to the disk-shaped averaging surface;\n",
    "* subfigure 4 - TM ear model form the plane wave incidence POV;\n",
    "* subfigure 5 - zoom in to the square-shaped averaging surface;\n",
    "* subfigure 6 - zoom in to the disk-shaped averaging surface."
   ]
  },
  {
   "cell_type": "code",
   "execution_count": null,
   "id": "223ee61e",
   "metadata": {},
   "outputs": [],
   "source": [
    "import os\n",
    "\n",
    "import matplotlib.pyplot as plt\n",
    "from matplotlib.patches import Rectangle, Circle\n",
    "import numpy as np\n",
    "try:\n",
    "    import open3d as o3d\n",
    "except ImportError:\n",
    "    import sys\n",
    "    print(sys.exc_info())\n",
    "from scipy import interpolate\n",
    "\n",
    "from dosipy.utils.dataloader import load_ear_data\n",
    "from dosipy.utils.integrate import elementwise_dblquad, elementwise_circquad\n",
    "from dosipy.utils.viz import (set_colorblind, colormap_from_array, scatter_2d,\n",
    "                              fig_config, save_fig)\n",
    "from helpers import (ABSTRACT_ID, clean_df, export_pcd, export_fields,\n",
    "                     poynting_vector, estimate_normals, export_rect_idx,\n",
    "                     export_circ_idx)"
   ]
  },
  {
   "cell_type": "code",
   "execution_count": null,
   "id": "e42f6b0f",
   "metadata": {},
   "outputs": [],
   "source": [
    "mode = 'tm'\n",
    "frequency = 60\n",
    "df = load_ear_data(mode, frequency)\n",
    "df = clean_df(df)\n",
    "xyz = export_pcd(df)\n",
    "E, H = export_fields(df)\n",
    "Sx, Sy, Sz = poynting_vector(E, H)"
   ]
  },
  {
   "cell_type": "code",
   "execution_count": null,
   "id": "747d7e70",
   "metadata": {},
   "outputs": [],
   "source": [
    "crop_idxs = np.where(xyz[:, 0] > 67)[0]\n",
    "xyz_crop = xyz[crop_idxs]\n",
    "Sx_crop, Sy_crop, Sz_crop = Sx[crop_idxs], Sy[crop_idxs], Sz[crop_idxs]\n",
    "n_crop = estimate_normals(xyz_crop, knn=30, fast=True)\n",
    "Sr_crop = abs(Sx_crop.real * n_crop[:, 0]\n",
    "              + Sy_crop.real * n_crop[:, 1]\n",
    "              + Sz_crop.real * n_crop[:, 2])\n",
    "pcd_crop = o3d.geometry.PointCloud()\n",
    "pcd_crop.points = o3d.utility.Vector3dVector(xyz_crop)\n",
    "center_crop = pcd_crop.get_center()\n",
    "pcd_crop.paint_uniform_color([0.5, 0.5, 0.5])\n",
    "xyz_crop_t = np.c_[xyz_crop[:, 0] - center_crop[0],\n",
    "                   xyz_crop[:, 1] - center_crop[1],\n",
    "                   xyz_crop[:, 2] - center_crop[2]]\n",
    "pcd_crop_t = o3d.geometry.PointCloud()\n",
    "pcd_crop_t.points = o3d.utility.Vector3dVector(xyz_crop_t)\n",
    "center_crop_t = pcd_crop_t.get_center()\n",
    "pcd_crop_t.paint_uniform_color([0.5, 0.5, 0.5])\n",
    "cframe_crop_t = o3d.geometry.TriangleMesh.create_coordinate_frame(\n",
    "    size=10, origin=center_crop_t\n",
    ")\n",
    "diameter = np.linalg.norm(\n",
    "    pcd_crop_t.get_max_bound() - pcd_crop_t.get_min_bound()\n",
    ")\n",
    "radius = 10 ** 5.5\n",
    "camera = [0, 0, -diameter]\n",
    "_, pt_map = pcd_crop_t.hidden_point_removal(camera, radius)\n",
    "xyz_crop_t_xy = xyz_crop_t[pt_map]\n",
    "Sr_crop_t_xy = Sr_crop[pt_map]\n",
    "pcd_crop_t_xy = o3d.geometry.PointCloud()\n",
    "pcd_crop_t_xy.points = o3d.utility.Vector3dVector(xyz_crop_t_xy)\n",
    "colors = colormap_from_array(Sr_crop_t_xy)\n",
    "pcd_crop_t_xy.colors = o3d.utility.Vector3dVector(colors)\n",
    "avg_center = [0.21, 3.25]\n",
    "edge_length = 10\n",
    "area = edge_length ** 2\n",
    "origin, idx_rect = export_rect_idx(xyz=xyz_crop_t_xy,\n",
    "                                   center=avg_center,\n",
    "                                   edge_length=edge_length,\n",
    "                                   view='xy')\n",
    "xyz_rect = xyz_crop_t_xy[idx_rect]\n",
    "Sr_rect = Sr_crop_t_xy[idx_rect]\n",
    "\n",
    "radius = np.sqrt(area / np.pi)\n",
    "idx_circ = export_circ_idx(xyz=xyz_crop_t_xy,\n",
    "                           center=avg_center,\n",
    "                           radius=radius,\n",
    "                           view='xy')\n",
    "xyz_circ = xyz_crop_t_xy[idx_circ]\n",
    "Sr_circ = Sr_crop_t_xy[idx_circ]"
   ]
  },
  {
   "cell_type": "markdown",
   "id": "dbfde3df",
   "metadata": {},
   "source": [
    "## Subfig 1 and 4"
   ]
  },
  {
   "cell_type": "code",
   "execution_count": null,
   "id": "9e14251f",
   "metadata": {},
   "outputs": [],
   "source": [
    "set_colorblind()\n",
    "fig_config(latex=True, scaler=1.5, text_size=18)\n",
    "Sr_label = '$APD$'\n",
    "fig, ax = scatter_2d({'$x$ [mm]': xyz_crop_t_xy[:, 0],\n",
    "                      '$y$ [mm]': xyz_crop_t_xy[:, 1],\n",
    "                      Sr_label: Sr_crop_t_xy}, s=0.1,\n",
    "                     figsize=(2.950 * 1.5, 2.950 * 1.5))\n",
    "ax.set_xlim([-20, 20])\n",
    "patch_rect = Rectangle(origin, edge_length, edge_length, fc='None', lw=2)\n",
    "patch_circ = Circle(avg_center, radius, fc='None', lw=2)\n",
    "ax.add_patch(patch_rect)\n",
    "ax.add_patch(patch_circ)\n",
    "ax.invert_xaxis()\n",
    "\n",
    "if mode == 'te':\n",
    "    subfig_id = 'a'\n",
    "else:\n",
    "    subfig_id = 'd'\n",
    "# fname = os.path.join('figures', f'fig_{ABSTRACT_ID}_3{subfig_id}')\n",
    "# save_fig(fig, fname=fname, formats=['png'])"
   ]
  },
  {
   "cell_type": "markdown",
   "id": "0407c215",
   "metadata": {},
   "source": [
    "## Subfig 2 and 5"
   ]
  },
  {
   "cell_type": "code",
   "execution_count": null,
   "id": "fd14d8d8",
   "metadata": {},
   "outputs": [],
   "source": [
    "func = interpolate.Rbf(xyz_rect[:, 0], xyz_rect[:, 1], Sr_rect)\n",
    "\n",
    "x_new = np.linspace(xyz_rect[:, 0].min(), xyz_rect[:, 0].max(), 101)\n",
    "y_new = np.linspace(xyz_rect[:, 1].min(), xyz_rect[:, 1].max(), 101)\n",
    "X_new, Y_new = np.meshgrid(x_new, y_new)\n",
    "Sr_rect_new = func(X_new, Y_new)"
   ]
  },
  {
   "cell_type": "code",
   "execution_count": null,
   "id": "7469de70",
   "metadata": {},
   "outputs": [],
   "source": [
    "set_colorblind()\n",
    "fig_config(latex=True, scaler=1.5, text_size=18)\n",
    "fig = plt.figure()\n",
    "ax = plt.axes()\n",
    "ax.imshow(Sr_rect_new, cmap='viridis', origin='lower', interpolation='bicubic')\n",
    "ax.set(xticks=[0, x_new.size/2, x_new.size-1],\n",
    "       xticklabels=[round(x_new.min(), 2), round((x_new.min()+x_new.max())/2, 2), round(x_new.max(), 2)],\n",
    "       yticks=[0, y_new.size/2, y_new.size-1],\n",
    "       yticklabels=[round(y_new.min(), 2), round((y_new.min()+y_new.max())/2, 2), round(y_new.max(), 2)],\n",
    "       xlabel='$x$ [mm]')\n",
    "ax.invert_xaxis()\n",
    "\n",
    "if mode == 'te':\n",
    "    subfig_id = 'b'\n",
    "else:\n",
    "    subfig_id = 'e'\n",
    "# fname = os.path.join('figures', f'fig_{ABSTRACT_ID}_3{subfig_id}')\n",
    "# save_fig(fig, fname=fname, formats=['png'])"
   ]
  },
  {
   "cell_type": "code",
   "execution_count": null,
   "id": "01626176",
   "metadata": {},
   "outputs": [],
   "source": [
    "APD_rect = elementwise_dblquad(points=np.c_[xyz_rect[:, 0], xyz_rect[:, 1]],\n",
    "                               values=Sr_rect,\n",
    "                               degree=11) / area\n",
    "APD_rect"
   ]
  },
  {
   "cell_type": "markdown",
   "id": "a2560398",
   "metadata": {},
   "source": [
    "## Subfig 3 and 6"
   ]
  },
  {
   "cell_type": "code",
   "execution_count": null,
   "id": "cc64d724",
   "metadata": {},
   "outputs": [],
   "source": [
    "func = interpolate.CloughTocher2DInterpolator(np.c_[xyz_circ[:, 0], xyz_circ[:, 1]], Sr_circ)\n",
    "\n",
    "x_new = np.linspace(xyz_circ[:, 0].min(), xyz_circ[:, 0].max(), 1001)\n",
    "y_new = np.linspace(xyz_circ[:, 1].min(), xyz_circ[:, 1].max(), 1001)\n",
    "X_new, Y_new = np.meshgrid(x_new, y_new)\n",
    "Sr_circ_new = func(X_new, Y_new)"
   ]
  },
  {
   "cell_type": "code",
   "execution_count": null,
   "id": "430c1e62",
   "metadata": {},
   "outputs": [],
   "source": [
    "set_colorblind()\n",
    "fig_config(latex=True, scaler=1.5, text_size=18)\n",
    "fig = plt.figure()\n",
    "ax = plt.axes()\n",
    "ax.imshow(Sr_circ_new, cmap='viridis', origin='lower', interpolation='spline36')\n",
    "ax.set(xticks=[0, x_new.size/2, x_new.size-1],\n",
    "       xticklabels=[round(x_new.min(), 2), round((x_new.min()+x_new.max())/2, 2), round(x_new.max(), 2)],\n",
    "       yticks=[0, y_new.size/2, y_new.size-1],\n",
    "       yticklabels=[round(y_new.min(), 2), round((y_new.min()+y_new.max())/2, 2), round(y_new.max(), 2)],\n",
    "       xlabel='$x$ [mm]')\n",
    "ax.invert_xaxis()\n",
    "\n",
    "if mode == 'te':\n",
    "    subfig_id = 'c'\n",
    "else:\n",
    "    subfig_id = 'f'\n",
    "# fname = os.path.join('figures', f'fig_{ABSTRACT_ID}_3{subfig_id}')\n",
    "# save_fig(fig, fname=fname, formats=['png'])"
   ]
  },
  {
   "cell_type": "code",
   "execution_count": null,
   "id": "6a184dd6",
   "metadata": {},
   "outputs": [],
   "source": [
    "APD_circ = elementwise_circquad(points=np.c_[xyz_circ[:, 0], xyz_circ[:, 1]],\n",
    "                                values=Sr_circ,\n",
    "                                radius=radius,\n",
    "                                center=avg_center,\n",
    "                                degree=11) / area\n",
    "APD_circ"
   ]
  },
  {
   "cell_type": "code",
   "execution_count": null,
   "id": "7e6d7a47",
   "metadata": {},
   "outputs": [],
   "source": []
  }
 ],
 "metadata": {
  "kernelspec": {
   "display_name": "Python 3 (ipykernel)",
   "language": "python",
   "name": "python3"
  },
  "language_info": {
   "codemirror_mode": {
    "name": "ipython",
    "version": 3
   },
   "file_extension": ".py",
   "mimetype": "text/x-python",
   "name": "python",
   "nbconvert_exporter": "python",
   "pygments_lexer": "ipython3",
   "version": "3.9.7"
  }
 },
 "nbformat": 4,
 "nbformat_minor": 5
}
