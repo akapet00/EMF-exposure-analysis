{
 "cells": [
  {
   "cell_type": "markdown",
   "id": "67accb6f-e986-4b72-a859-e2a87d7b9a30",
   "metadata": {},
   "source": [
    "Concept: first 3 subfigs in row 1, second 3 subfigs in row 2, single colorbar per row\n",
    "* subfig 1) TE ear model form the plane wave incidence POV\n",
    "* subfig 2) square-shape averaging surface zoom-in\n",
    "* subfig 3) disk-shape averaging surface zoom-in\n",
    "* subfig 4) TM -||-\n",
    "* subfig 5) -||-\n",
    "* subfig 6) -||-"
   ]
  },
  {
   "cell_type": "code",
   "execution_count": null,
   "id": "912eba3c-e937-4581-b9ab-1ab54bdf7148",
   "metadata": {},
   "outputs": [],
   "source": []
  }
 ],
 "metadata": {
  "kernelspec": {
   "display_name": "Python 3 (ipykernel)",
   "language": "python",
   "name": "python3"
  },
  "language_info": {
   "codemirror_mode": {
    "name": "ipython",
    "version": 3
   },
   "file_extension": ".py",
   "mimetype": "text/x-python",
   "name": "python",
   "nbconvert_exporter": "python",
   "pygments_lexer": "ipython3",
   "version": "3.9.7"
  }
 },
 "nbformat": 4,
 "nbformat_minor": 5
}
