{
 "cells": [
  {
   "cell_type": "markdown",
   "id": "67accb6f-e986-4b72-a859-e2a87d7b9a30",
   "metadata": {},
   "source": [
    "Concept: first 3 subfigs in row 1, second 3 subfigs in row 2, single colorbar per row\n",
    "* subfig 1) TE ear model form the plane wave incidence POV\n",
    "* subfig 2) square-shape averaging surface zoom-in\n",
    "* subfig 3) disk-shape averaging surface zoom-in\n",
    "* subfig 4) TM -||-\n",
    "* subfig 5) -||-\n",
    "* subfig 6) -||-"
   ]
  },
  {
   "cell_type": "code",
   "execution_count": null,
   "id": "96c2da18-1bb4-4c60-81f0-0a8a2848d4c7",
   "metadata": {},
   "outputs": [],
   "source": [
    "import os\n",
    "\n",
    "import matplotlib.pyplot as plt\n",
    "from matplotlib.patches import Rectangle, Circle\n",
    "import numpy as np\n",
    "try:\n",
    "    import open3d as o3d\n",
    "except ImportError:\n",
    "    import sys\n",
    "    print(sys.exc_info())\n",
    "from scipy import interpolate\n",
    "\n",
    "from dosipy.utils.dataloader import load_ear_data\n",
    "from dosipy.utils.integrate import elementwise_dblquad, elementwise_circquad\n",
    "from dosipy.utils.viz import (set_colorblind, colormap_from_array, scatter_2d,\n",
    "                              fig_config, save_fig)\n",
    "from helpers import (ABSTRACT_ID, clean_df, export_pcd, export_fields,\n",
    "                     poynting_vector, estimate_normals, export_rect_idx,\n",
    "                     export_circ_idx)"
   ]
  },
  {
   "cell_type": "code",
   "execution_count": null,
   "id": "e30a5fea-c5d2-4cb7-bb7a-2c61032b08c1",
   "metadata": {},
   "outputs": [],
   "source": [
    "mode = 'te'\n",
    "frequency = 60\n",
    "df = load_ear_data(mode, frequency)\n",
    "df = clean_df(df)\n",
    "xyz = export_pcd(df)\n",
    "E, H = export_fields(df)\n",
    "Sx, Sy, Sz = poynting_vector(E, H)"
   ]
  },
  {
   "cell_type": "code",
   "execution_count": null,
   "id": "1da03134-2c2a-4f26-8086-b9fca4ae326d",
   "metadata": {},
   "outputs": [],
   "source": [
    "crop_idxs = np.where(xyz[:, 0] > 67)[0]\n",
    "xyz_crop = xyz[crop_idxs]\n",
    "Sx_crop, Sy_crop, Sz_crop = Sx[crop_idxs], Sy[crop_idxs], Sz[crop_idxs]\n",
    "n_crop = estimate_normals(xyz_crop, knn=30, fast=True)\n",
    "Sr_crop = abs(Sx_crop.real * n_crop[:, 0]\n",
    "              + Sy_crop.real * n_crop[:, 1]\n",
    "              + Sz_crop.real * n_crop[:, 2])\n",
    "pcd_crop = o3d.geometry.PointCloud()\n",
    "pcd_crop.points = o3d.utility.Vector3dVector(xyz_crop)\n",
    "center_crop = pcd_crop.get_center()\n",
    "pcd_crop.paint_uniform_color([0.5, 0.5, 0.5])\n",
    "xyz_crop_t = np.c_[xyz_crop[:, 0] - center_crop[0],\n",
    "                   xyz_crop[:, 1] - center_crop[1],\n",
    "                   xyz_crop[:, 2] - center_crop[2]]\n",
    "pcd_crop_t = o3d.geometry.PointCloud()\n",
    "pcd_crop_t.points = o3d.utility.Vector3dVector(xyz_crop_t)\n",
    "center_crop_t = pcd_crop_t.get_center()\n",
    "pcd_crop_t.paint_uniform_color([0.5, 0.5, 0.5])\n",
    "cframe_crop_t = o3d.geometry.TriangleMesh.create_coordinate_frame(\n",
    "    size=10, origin=center_crop_t\n",
    ")\n",
    "diameter = np.linalg.norm(\n",
    "    pcd_crop_t.get_max_bound() - pcd_crop_t.get_min_bound()\n",
    ")\n",
    "radius = 10 ** 5.5\n",
    "camera = [0, 0, -diameter]\n",
    "_, pt_map = pcd_crop_t.hidden_point_removal(camera, radius)\n",
    "xyz_crop_t_xy = xyz_crop_t[pt_map]\n",
    "Sr_crop_t_xy = Sr_crop[pt_map]\n",
    "pcd_crop_t_xy = o3d.geometry.PointCloud()\n",
    "pcd_crop_t_xy.points = o3d.utility.Vector3dVector(xyz_crop_t_xy)\n",
    "colors = colormap_from_array(Sr_crop_t_xy)\n",
    "pcd_crop_t_xy.colors = o3d.utility.Vector3dVector(colors)\n",
    "avg_center = [0.21, 3.25]\n",
    "edge_length = 10\n",
    "area = edge_length ** 2\n",
    "origin, idx_rect = export_rect_idx(xyz=xyz_crop_t_xy,\n",
    "                                   center=avg_center,\n",
    "                                   edge_length=edge_length,\n",
    "                                   view='xy')\n",
    "xyz_rect = xyz_crop_t_xy[idx_rect]\n",
    "Sr_rect = Sr_crop_t_xy[idx_rect]\n",
    "\n",
    "radius = np.sqrt(area / np.pi)\n",
    "idx_circ = export_circ_idx(xyz=xyz_crop_t_xy,\n",
    "                           center=avg_center,\n",
    "                           radius=radius,\n",
    "                           view='xy')\n",
    "xyz_circ = xyz_crop_t_xy[idx_circ]\n",
    "Sr_circ = Sr_crop_t_xy[idx_circ]"
   ]
  },
  {
   "cell_type": "markdown",
   "id": "ac2888d9-ad86-4368-b857-e927a0be8195",
   "metadata": {},
   "source": [
    "## Subfig 1 and 4"
   ]
  },
  {
   "cell_type": "code",
   "execution_count": null,
   "id": "a6e11233-62a5-46e3-8b35-bf00bcfc769a",
   "metadata": {},
   "outputs": [],
   "source": [
    "set_colorblind()\n",
    "fig_config(latex=True, scaler=1.5, text_size=18)\n",
    "Sr_label = '$APD$'\n",
    "fig, ax = scatter_2d({'$x$ [mm]': xyz_crop_t_xy[:, 0],\n",
    "                      '$y$ [mm]': xyz_crop_t_xy[:, 1],\n",
    "                      Sr_label: Sr_crop_t_xy}, s=0.1,\n",
    "                     figsize=(2.950 * 1.5, 2.950 * 1.5))\n",
    "ax.set_xlim([-20, 20])\n",
    "patch_rect = Rectangle(origin, edge_length, edge_length, fc='None', lw=2)\n",
    "patch_circ = Circle(avg_center, radius, fc='None', lw=2)\n",
    "ax.add_patch(patch_rect)\n",
    "ax.add_patch(patch_circ)\n",
    "ax.invert_xaxis()\n",
    "\n",
    "if mode == 'te':\n",
    "    subfig_id = 'a'\n",
    "else:\n",
    "    subfig_id = 'd'\n",
    "# fname = os.path.join('figures', f'fig_{ABSTRACT_ID}_2{subfig_id}')\n",
    "# save_fig(fig, fname=fname, formats=['png'])"
   ]
  },
  {
   "cell_type": "markdown",
   "id": "450d9d48-c0e0-4b5e-93f8-e352a316a182",
   "metadata": {},
   "source": [
    "## Subfig 2 and 5"
   ]
  },
  {
   "cell_type": "code",
   "execution_count": null,
   "id": "77d69868-701c-4059-b54d-3225a329507f",
   "metadata": {},
   "outputs": [],
   "source": [
    "func = interpolate.Rbf(xyz_rect[:, 0], xyz_rect[:, 1], Sr_rect)\n",
    "\n",
    "x_new = np.linspace(xyz_rect[:, 0].min(), xyz_rect[:, 0].max(), 101)\n",
    "y_new = np.linspace(xyz_rect[:, 1].min(), xyz_rect[:, 1].max(), 101)\n",
    "X_new, Y_new = np.meshgrid(x_new, y_new)\n",
    "Sr_rect_new = func(X_new, Y_new)"
   ]
  },
  {
   "cell_type": "code",
   "execution_count": null,
   "id": "4c426d3b-e7e9-411a-9035-81c063646ba5",
   "metadata": {},
   "outputs": [],
   "source": [
    "set_colorblind()\n",
    "fig_config(latex=True, scaler=1.5, text_size=18)\n",
    "fig = plt.figure()\n",
    "ax = plt.axes()\n",
    "ax.imshow(Sr_rect_new, cmap='viridis', origin='lower', interpolation='bicubic')\n",
    "ax.set(xticks=[0, x_new.size/2, x_new.size-1],\n",
    "       xticklabels=[round(x_new.min(), 2), round((x_new.min()+x_new.max())/2, 2), round(x_new.max(), 2)],\n",
    "       yticks=[0, y_new.size/2, y_new.size-1],\n",
    "       yticklabels=[round(y_new.min(), 2), round((y_new.min()+y_new.max())/2, 2), round(y_new.max(), 2)],\n",
    "       xlabel='$x$ [mm]')\n",
    "ax.invert_xaxis()\n",
    "\n",
    "if mode == 'te':\n",
    "    subfig_id = 'b'\n",
    "else:\n",
    "    subfig_id = 'e'\n",
    "# fname = os.path.join('figures', f'fig_{ABSTRACT_ID}_2{subfig_id}')\n",
    "# save_fig(fig, fname=fname, formats=['png'])"
   ]
  },
  {
   "cell_type": "code",
   "execution_count": null,
   "id": "99ba2849-236f-4800-b67a-4c77729b271b",
   "metadata": {},
   "outputs": [],
   "source": [
    "APD_rect = elementwise_dblquad(points=np.c_[xyz_rect[:, 0], xyz_rect[:, 1]],\n",
    "                               values=Sr_rect,\n",
    "                               degree=11) / area\n",
    "APD_rect"
   ]
  },
  {
   "cell_type": "markdown",
   "id": "e7230f58-3b76-4dba-af01-b0811519013f",
   "metadata": {},
   "source": [
    "## Subfig 3 and 6"
   ]
  },
  {
   "cell_type": "code",
   "execution_count": null,
   "id": "631f164b-8a3a-41b4-90a0-218ee64bf9f4",
   "metadata": {},
   "outputs": [],
   "source": [
    "func = interpolate.CloughTocher2DInterpolator(np.c_[xyz_circ[:, 0], xyz_circ[:, 1]], Sr_circ)\n",
    "\n",
    "x_new = np.linspace(xyz_circ[:, 0].min(), xyz_circ[:, 0].max(), 1001)\n",
    "y_new = np.linspace(xyz_circ[:, 1].min(), xyz_circ[:, 1].max(), 1001)\n",
    "X_new, Y_new = np.meshgrid(x_new, y_new)\n",
    "Sr_circ_new = func(X_new, Y_new)"
   ]
  },
  {
   "cell_type": "code",
   "execution_count": null,
   "id": "cae2313b-69f1-492c-8645-b6b5226cacbe",
   "metadata": {},
   "outputs": [],
   "source": [
    "set_colorblind()\n",
    "fig_config(latex=True, scaler=1.5, text_size=18)\n",
    "fig = plt.figure()\n",
    "ax = plt.axes()\n",
    "ax.imshow(Sr_circ_new, cmap='viridis', origin='lower', interpolation='spline36')\n",
    "ax.set(xticks=[0, x_new.size/2, x_new.size-1],\n",
    "       xticklabels=[round(x_new.min(), 2), round((x_new.min()+x_new.max())/2, 2), round(x_new.max(), 2)],\n",
    "       yticks=[0, y_new.size/2, y_new.size-1],\n",
    "       yticklabels=[round(y_new.min(), 2), round((y_new.min()+y_new.max())/2, 2), round(y_new.max(), 2)],\n",
    "       xlabel='$x$ [mm]')\n",
    "ax.invert_xaxis()\n",
    "\n",
    "if mode == 'te':\n",
    "    subfig_id = 'c'\n",
    "else:\n",
    "    subfig_id = 'f'\n",
    "# fname = os.path.join('figures', f'fig_{ABSTRACT_ID}_2{subfig_id}')\n",
    "# save_fig(fig, fname=fname, formats=['png'])"
   ]
  },
  {
   "cell_type": "code",
   "execution_count": null,
   "id": "79446973-c1f7-4265-9627-620dc2e87833",
   "metadata": {},
   "outputs": [],
   "source": [
    "APD_circ = elementwise_circquad(points=np.c_[xyz_circ[:, 0], xyz_circ[:, 1]],\n",
    "                                values=Sr_circ,\n",
    "                                radius=radius,\n",
    "                                center=avg_center,\n",
    "                                degree=11) / area\n",
    "APD_circ"
   ]
  },
  {
   "cell_type": "code",
   "execution_count": null,
   "id": "10d8acbf-41f8-4fed-91f5-501393bbceb3",
   "metadata": {},
   "outputs": [],
   "source": []
  }
 ],
 "metadata": {
  "kernelspec": {
   "display_name": "Python 3 (ipykernel)",
   "language": "python",
   "name": "python3"
  },
  "language_info": {
   "codemirror_mode": {
    "name": "ipython",
    "version": 3
   },
   "file_extension": ".py",
   "mimetype": "text/x-python",
   "name": "python",
   "nbconvert_exporter": "python",
   "pygments_lexer": "ipython3",
   "version": "3.9.7"
  }
 },
 "nbformat": 4,
 "nbformat_minor": 5
}
