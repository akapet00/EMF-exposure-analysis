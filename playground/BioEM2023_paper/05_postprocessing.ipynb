{
 "cells": [
  {
   "cell_type": "code",
   "execution_count": null,
   "id": "4ec1ac89-f63d-4797-bde0-00d7bae76bc0",
   "metadata": {},
   "outputs": [],
   "source": [
    "import os\n",
    "\n",
    "from matplotlib import ticker\n",
    "import matplotlib.pyplot as plt\n",
    "from matplotlib.patches import Rectangle\n",
    "from mpl_toolkits.mplot3d.art3d import pathpatch_2d_to_3d\n",
    "import numpy as np\n",
    "import pandas as pd\n",
    "import seaborn as sns\n",
    "\n",
    "from dosipy.utils.viz import (fig_config, set_axes_equal, set_colorblind,\n",
    "                              save_fig)\n",
    "\n",
    "from utils import load_processed_data"
   ]
  },
  {
   "cell_type": "code",
   "execution_count": null,
   "id": "b423a9c8-810c-4e65-ab0b-907d4daa5b1d",
   "metadata": {},
   "outputs": [],
   "source": [
    "set_colorblind()\n",
    "%config InlineBackend.figure_format = 'retina'"
   ]
  },
  {
   "cell_type": "markdown",
   "id": "b9338af4-04e9-44b2-b8bd-d9c22c1533de",
   "metadata": {},
   "source": [
    "# PD distribution"
   ]
  },
  {
   "cell_type": "code",
   "execution_count": null,
   "id": "fd99f76e-4939-40db-a8ee-74367da1e586",
   "metadata": {},
   "outputs": [],
   "source": [
    "# CST data\n",
    "\n",
    "data = [['DipoleVertical', 5, [-0.009196137125833444, -0.008943818176342983], 2.9700],\n",
    "        ['DipoleVertical', 10, [-0.01052339327664423, -0.010288400579897647], 2.1296],\n",
    "        ['DipoleVertical', 15, [-0.01052339327664423, -0.010288400579897647], 1.4455],\n",
    "        ['ArrayVertical', 5, [-0.010974217437555025, -0.0110377357372408], 5.6228],\n",
    "        ['ArrayVertical', 10, [-0.008974217437555027, -0.009037735737240808], 5.9208],\n",
    "        ['ArrayVertical', 15, [-0.008974686708799248, -0.009037296281864424], 5.2251]]\n",
    "\n",
    "ds = pd.DataFrame(data, columns=['antenna', 'distance', 'origin', 'APD_CST'])\n",
    "ds"
   ]
  },
  {
   "cell_type": "code",
   "execution_count": null,
   "id": "1b8ef9fc-9c34-41c9-a1ce-428244782d63",
   "metadata": {},
   "outputs": [],
   "source": [
    "# visuals - apd distributions\n",
    "\n",
    "for i in range(ds.shape[0]):\n",
    "    antenna = ds.loc[i, 'antenna']\n",
    "    distance = ds.loc[i, 'distance']\n",
    "    origin = ds.loc[i, 'origin']\n",
    "    edge = 0.02\n",
    "\n",
    "    df = load_processed_data(antenna, distance)\n",
    "    xyz = df[['x', 'y', 'z']].values\n",
    "    PD = df['PD'].values\n",
    "\n",
    "    skip = 1\n",
    "    scaler = 2\n",
    "    fig_config(latex=True, text_size=24, scaler=scaler)\n",
    "    fig = plt.figure()\n",
    "    ax = plt.axes(projection ='3d')\n",
    "\n",
    "    # point cloud and apd spatial distribution\n",
    "    cs = ax.scatter(-xyz[::skip, 0], -xyz[::skip, 1], xyz[::skip, 2],\n",
    "                    c=PD[::skip], cmap='rocket', s=0.75)\n",
    "\n",
    "    # averaging surface\n",
    "    rect_pos = xyz[:, 0].max()\n",
    "    patch_rect = Rectangle(origin, edge, edge,\n",
    "                           ec='w', fc='None', lw=3)\n",
    "    ax.add_patch(patch_rect)\n",
    "    pathpatch_2d_to_3d(patch_rect, z=rect_pos, zdir='x')\n",
    "\n",
    "    # colorbar\n",
    "    cbar = fig.colorbar(cs, shrink=0.65, pad=-0.05)\n",
    "    tick_locator = ticker.MaxNLocator(nbins=4)\n",
    "    cbar.locator = tick_locator\n",
    "    cbar.update_ticks()\n",
    "    if i in [2, 5]:\n",
    "        cbar.ax.set_ylabel('power density [W/m$^{2}$]')\n",
    "        cbar.ax.yaxis.labelpad = 20\n",
    "\n",
    "    # additional figure configuration\n",
    "    ax.set(xlabel='',\n",
    "           ylabel='',\n",
    "           zlabel='',\n",
    "           xticks=[],\n",
    "           yticks=[-0.02, 0, 0.02],\n",
    "           zticks=[-0.02, 0, 0.02],\n",
    "           yticklabels=[-2, 0, 2],\n",
    "           zticklabels=[-2, 0, 2])\n",
    "    ax.xaxis.pane.fill = False\n",
    "    ax.yaxis.pane.fill = False\n",
    "    ax.zaxis.pane.fill = False\n",
    "    ax.view_init(1, 0)\n",
    "    if i in [3, 4, 5]:\n",
    "        ax.set_ylabel('$y$ [cm]')\n",
    "        ax.yaxis.labelpad = 20\n",
    "    if i in [0, 3]:\n",
    "        ax.zaxis.set_rotate_label(False)\n",
    "        ax.set_zlabel('$z$ [cm]', rotation=90)\n",
    "        ax.zaxis.labelpad = 20\n",
    "\n",
    "    # set axes to be equal in size\n",
    "    ax.set_box_aspect([1, 1, 1])\n",
    "    ax = set_axes_equal(ax)\n",
    "    fig.tight_layout();\n",
    "\n",
    "    # save figure\n",
    "    # fname = os.path.join('figures', f'{antenna}_d{distance}mm')\n",
    "    # save_fig(fig, fname=fname, formats=['png'])"
   ]
  },
  {
   "cell_type": "markdown",
   "id": "986a211d-6c1e-4025-bf0c-64d9e339b8fa",
   "metadata": {},
   "source": [
    "# APD values"
   ]
  },
  {
   "cell_type": "code",
   "execution_count": null,
   "id": "88cb05dd-3e88-4c92-a585-8d8e85e6376d",
   "metadata": {},
   "outputs": [],
   "source": [
    "# CST data\n",
    "\n",
    "data = [['vertical dipole', 5, 2.97],\n",
    "        ['vertical dipole', 10, 2.13],\n",
    "        ['vertical dipole', 15, 1.45],\n",
    "        ['vertical array', 5, 5.62],\n",
    "        ['vertical array', 10, 5.92],\n",
    "        ['vertical array', 15, 5.26],\n",
    "        ['horizontal dipole', 5, 3.07],\n",
    "        ['horizontal dipole', 10, 1.92],\n",
    "        ['horizontal dipole', 15, 1.29],\n",
    "        ['horizontal array', 5, 5.77],\n",
    "        ['horizontal array', 10, 6.07],\n",
    "        ['horizontal array', 15, 5.96]]\n",
    "\n",
    "ds = pd.DataFrame(data, columns=['antenna', 'distance', 'APD_CST'])\n",
    "ds.sort_values('APD_CST', ascending=False, inplace=True)"
   ]
  },
  {
   "cell_type": "code",
   "execution_count": null,
   "id": "2b35486b-aa8b-45ce-b5bf-0c6d3506d375",
   "metadata": {},
   "outputs": [],
   "source": [
    "ds"
   ]
  },
  {
   "cell_type": "code",
   "execution_count": null,
   "id": "52aa351d-3a92-4bfb-8795-a3da0c630e29",
   "metadata": {},
   "outputs": [],
   "source": [
    "fig_config(latex=True, scaler=1.5)\n",
    "sns.set(style='ticks', font='serif', font_scale=1.75)\n",
    "fig, ax = plt.subplots()\n",
    "ax = sns.barplot(ds, x='distance', y='APD_CST', hue='antenna',\n",
    "                 palette='rocket_r',\n",
    "                 ax=ax)\n",
    "for container in ax.containers:\n",
    "    ax.bar_label(container, rotation=90, padding=5)\n",
    "ax.set(xlabel='distance [mm]',\n",
    "       ylabel='power density [W/m$^{2}$]',\n",
    "       yticks=[0, 3, 6],\n",
    "       yticklabels=[0, 3, 6])\n",
    "sns.move_legend(ax, 'upper left', bbox_to_anchor=(1, 0.8))\n",
    "sns.despine(fig=fig, ax=ax)\n",
    "\n",
    "# save figure\n",
    "# fname = os.path.join('figures', 'apd')\n",
    "# save_fig(fig, fname=fname, formats=['png'])"
   ]
  },
  {
   "cell_type": "code",
   "execution_count": null,
   "id": "2d5a8d67-d0f2-45e7-bd51-99ec8d564c5b",
   "metadata": {},
   "outputs": [],
   "source": []
  }
 ],
 "metadata": {
  "kernelspec": {
   "display_name": "Python 3 (ipykernel)",
   "language": "python",
   "name": "python3"
  },
  "language_info": {
   "codemirror_mode": {
    "name": "ipython",
    "version": 3
   },
   "file_extension": ".py",
   "mimetype": "text/x-python",
   "name": "python",
   "nbconvert_exporter": "python",
   "pygments_lexer": "ipython3",
   "version": "3.9.12"
  }
 },
 "nbformat": 4,
 "nbformat_minor": 5
}
