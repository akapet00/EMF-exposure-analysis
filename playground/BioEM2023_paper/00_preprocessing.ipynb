{
 "cells": [
  {
   "cell_type": "code",
   "execution_count": null,
   "id": "8fd8c531-6fbb-422e-8228-bac43f1323c6",
   "metadata": {},
   "outputs": [],
   "source": [
    "import os\n",
    "\n",
    "import pandas as pd\n",
    "\n",
    "from utils import load_data, compute_power_density"
   ]
  },
  {
   "cell_type": "code",
   "execution_count": null,
   "id": "2126f6eb-c9f4-43e3-af54-901bb94d4714",
   "metadata": {},
   "outputs": [],
   "source": [
    "# remove rows from all files that are corresponding to the one missing in\n",
    "# DipoleVertical_Im_Ey_d5mm.txt and DipoleHorizontal_Re_Hx_d15mm.txt files\n",
    "\n",
    "path_raw = os.path.join('data', 'raw')\n",
    "antennas = ['DipoleVertical', 'DipoleHorizontal']\n",
    "distances = [5, 15]\n",
    "components = ['Im_Ey', 'Re_Hx']\n",
    "critical_idxs = []\n",
    "\n",
    "for antenna, distance, component in zip(antennas, distances, components):\n",
    "    # load the problematic data\n",
    "    df_1 = pd.read_csv(  # take this file as the reference\n",
    "        os.path.join(path, f'{antenna}_Re_Ex_d{distance}mm.txt'),\n",
    "        sep='\\s+', comment='%', header=None,\n",
    "        usecols=[0, 1, 2], names=['x', 'y', 'z']\n",
    "    )\n",
    "    df_2 = pd.read_csv(\n",
    "        os.path.join(path, f'{antenna}_{component}_d{distance}mm.txt'),\n",
    "        sep='\\s+', comment='%', header=None,\n",
    "        usecols=[0, 1, 2], names=['x', 'y', 'z']\n",
    "    )\n",
    "\n",
    "    # find where the files differ\n",
    "    for idx, (row_1, row_2) in enumerate(zip(df_1.values[:-1], df_2.values)):\n",
    "        diff = sum(row_1 - row_2)\n",
    "        if diff != 0.0:\n",
    "            critical_idxs.append(idx)\n",
    "            break"
   ]
  },
  {
   "cell_type": "code",
   "execution_count": null,
   "id": "3d9d3b91-fb85-43ab-a0f5-a56944300629",
   "metadata": {},
   "outputs": [],
   "source": [
    "# create a clean dataset\n",
    "path_clean = os.path.join('data', 'clean')\n",
    "antennas = ['DipoleVertical', 'DipoleHorizontal',\n",
    "            'ArrayVertical', 'ArrayHorizontal']\n",
    "distances = [5, 10, 15]\n",
    "\n",
    "for antenna in antennas:\n",
    "    for distance in distances:\n",
    "        if antenna == 'DipoleVertical':\n",
    "            critical_idx = critical_idxs[0]\n",
    "        elif antenna == 'DipoleHorizontal':\n",
    "            critical_idx = critical_idxs[1]\n",
    "        else:\n",
    "            critical_idx = None\n",
    "        xyz, (Ex, Ey, Ez), (Hx, Hy, Hz) = load_data(antenna,\n",
    "                                                    distance,\n",
    "                                                    critical_idx)\n",
    "        S = compute_power_density((Ex.values, Ey.values, Ez.values),\n",
    "                                  (Hx.values, Hy.values, Hz.values))\n",
    "        Sx = pd.Series(S[0])\n",
    "        Sy = pd.Series(S[1])\n",
    "        Sz = pd.Series(S[2])\n",
    "        df = pd.DataFrame(data=xyz)\n",
    "        df = pd.concat([df,\n",
    "                        Ex.rename('Ex'), Ey.rename('Ey'), Ez.rename('Ez'),\n",
    "                        Hx.rename('Hx'), Hy.rename('Hy'), Hz.rename('Hz'),\n",
    "                        Hx.rename('Sx'), Hy.rename('Sy'), Hz.rename('Sz'),\n",
    "                        ], axis=1)\n",
    "        df.to_csv(os.path.join(path_clean, f'{antenna}_d{distance}mm.csv'))"
   ]
  },
  {
   "cell_type": "code",
   "execution_count": null,
   "id": "907c9809-1563-4cf4-a02f-dbd9e993d982",
   "metadata": {},
   "outputs": [],
   "source": []
  }
 ],
 "metadata": {
  "kernelspec": {
   "display_name": "Python 3 (ipykernel)",
   "language": "python",
   "name": "python3"
  },
  "language_info": {
   "codemirror_mode": {
    "name": "ipython",
    "version": 3
   },
   "file_extension": ".py",
   "mimetype": "text/x-python",
   "name": "python",
   "nbconvert_exporter": "python",
   "pygments_lexer": "ipython3",
   "version": "3.9.12"
  }
 },
 "nbformat": 4,
 "nbformat_minor": 5
}
