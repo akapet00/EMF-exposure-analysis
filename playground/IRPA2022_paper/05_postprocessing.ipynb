{
 "cells": [
  {
   "cell_type": "code",
   "execution_count": null,
   "id": "c7188d59-3b5c-49d8-80a0-b687ba3c3d81",
   "metadata": {},
   "outputs": [],
   "source": [
    "import os\n",
    "\n",
    "import matplotlib.pyplot as plt\n",
    "import numpy as np\n",
    "\n",
    "from dosipy.utils.viz import fig_config, save_fig"
   ]
  },
  {
   "cell_type": "code",
   "execution_count": null,
   "id": "26da3a29-55ad-4ea2-a8ae-9a19dc316177",
   "metadata": {},
   "outputs": [],
   "source": [
    "def rpd(x, x_ref):\n",
    "    \"\"\"Return relative percentage difference between data and a given\n",
    "    reference value.\"\"\"\n",
    "    return np.abs(x - x_ref) / x_ref * 100"
   ]
  },
  {
   "cell_type": "code",
   "execution_count": null,
   "id": "d1d1118b-03ba-4d66-8a91-edba6f80b79a",
   "metadata": {},
   "outputs": [],
   "source": [
    "h = [2.5, 5, 10, 50, 150]\n",
    "f = [6, 26, 60]\n",
    "A = [4, 4, 1]\n",
    "sPDn_at6GHz = np.load(os.path.join('data', 'sPDn_at6GHz.npy'))\n",
    "sPDn_at26GHz = np.load(os.path.join('data', 'sPDn_at26GHz.npy'))\n",
    "sPDn_at60GHz = np.load(os.path.join('data', 'sPDn_at60GHz.npy'))\n",
    "\n",
    "sph_rpd_at6GHz = rpd(sPDn_at6GHz[:, 2], sPDn_at6GHz[:, 1])\n",
    "sph_rpd_at26GHz = rpd(sPDn_at26GHz[:, 2], sPDn_at26GHz[:, 1])\n",
    "sph_rpd_at60GHz = rpd(sPDn_at60GHz[:, 2], sPDn_at60GHz[:, 1])\n",
    "cyl_rpd_at6GHz = rpd(sPDn_at6GHz[:, 3], sPDn_at6GHz[:, 1])\n",
    "cyl_rpd_at26GHz = rpd(sPDn_at26GHz[:, 3], sPDn_at26GHz[:, 1])\n",
    "cyl_rpd_at60GHz = rpd(sPDn_at60GHz[:, 3], sPDn_at60GHz[:, 1])"
   ]
  },
  {
   "cell_type": "code",
   "execution_count": null,
   "id": "fcfb21a0-bdb9-44d9-90ec-67e2a9ca8580",
   "metadata": {},
   "outputs": [],
   "source": [
    "nrows = 1\n",
    "ncols = 3\n",
    "markerkwargs = {'lw': 2, 'mec': 'k', 'mfc': 'none', 'mew': 1, 'mfcalt': 'white', 'ms': 10}\n",
    "fig_config(latex=True, scaler=1, text_size=18, nrows=nrows, ncols=ncols)"
   ]
  },
  {
   "cell_type": "code",
   "execution_count": null,
   "id": "a45fd4a1-b088-462a-99e2-eba88a59dcab",
   "metadata": {},
   "outputs": [],
   "source": [
    "fig = plt.figure()\n",
    "axs = fig.subplots(nrows, ncols)\n",
    "for ci in range(ncols):\n",
    "    axs[ci].plot(h, eval(f'sPDn_at{f[ci]}GHz')[:, 1], 'kx-', label='planar', **markerkwargs)\n",
    "    axs[ci].plot(h, eval(f'sPDn_at{f[ci]}GHz')[:, 2], 'ko-', label='spherical', **markerkwargs)\n",
    "    axs[ci].plot(h, eval(f'sPDn_at{f[ci]}GHz')[:, 3], 'ks-', label='cylndrical', **markerkwargs)\n",
    "    axs[ci].set(title=f'$f = {f[ci]}$ GHz ($A = {A[ci]}$ cm$^2$)',\n",
    "                xlabel='$d$ [mm]',\n",
    "                xscale='log',\n",
    "                xticks=h,\n",
    "                xticklabels=h)\n",
    "    axs[ci].grid()\n",
    "axs[0].set(ylabel='$sPD_{\\\\text{n}}$ [W/m$^2$]')\n",
    "axs[0].set(yticks=[0, 2.5, 5, 7.5, 10])\n",
    "axs[1].set(yticks=[0, 2.5, 5, 7.5, 10])\n",
    "axs[2].set(yticks=[0, 7.5, 15, 22.5, 30])\n",
    "handles, labels = plt.gca().get_legend_handles_labels()\n",
    "fig.legend(handles, labels, loc='center right')\n",
    "fig.tight_layout()\n",
    "fig.subplots_adjust(right=0.85)\n",
    "\n",
    "#fname = os.path.join('figures', 'comparison_sPDn_abs')\n",
    "#save_fig(fig, fname=fname)"
   ]
  },
  {
   "cell_type": "code",
   "execution_count": null,
   "id": "1fab809e-ee5b-4320-90c7-127a15c2307f",
   "metadata": {},
   "outputs": [],
   "source": [
    "fig = plt.figure()\n",
    "axs = fig.subplots(nrows, ncols)\n",
    "for ci in range(ncols):\n",
    "    axs[ci].plot(h, eval(f'sph_rpd_at{f[ci]}GHz'), 'ko-', label='spherical', **markerkwargs)\n",
    "    axs[ci].plot(h, eval(f'cyl_rpd_at{f[ci]}GHz'), 'ks-', label='cylndrical', **markerkwargs)\n",
    "    axs[ci].set(title=f'$f = {f[ci]}$ GHz ($A = {A[ci]}$ cm$^2$)',\n",
    "                xlabel='$d$ [mm]',\n",
    "                xscale='log',\n",
    "                xticks=h,\n",
    "                xticklabels=h,\n",
    "                yticks=[0, 5, 10, 15, 20])\n",
    "    axs[ci].grid()\n",
    "axs[0].set(ylabel='RPD [\\%]')\n",
    "handles, labels = plt.gca().get_legend_handles_labels()\n",
    "fig.legend(handles, labels, loc='center right')\n",
    "fig.tight_layout()\n",
    "fig.subplots_adjust(right=0.85)\n",
    "\n",
    "#fname = os.path.join('figures', 'comparison_sPDn_rpd')\n",
    "#save_fig(fig, fname=fname)"
   ]
  },
  {
   "cell_type": "code",
   "execution_count": null,
   "id": "e2de4277-8681-456f-8a53-8f0f831c377f",
   "metadata": {},
   "outputs": [],
   "source": []
  }
 ],
 "metadata": {
  "kernelspec": {
   "display_name": "Python 3 (ipykernel)",
   "language": "python",
   "name": "python3"
  },
  "language_info": {
   "codemirror_mode": {
    "name": "ipython",
    "version": 3
   },
   "file_extension": ".py",
   "mimetype": "text/x-python",
   "name": "python",
   "nbconvert_exporter": "python",
   "pygments_lexer": "ipython3",
   "version": "3.9.7"
  }
 },
 "nbformat": 4,
 "nbformat_minor": 5
}
