{
 "cells": [
  {
   "cell_type": "markdown",
   "id": "8b207e23-6d5b-4edb-83f8-066318efa185",
   "metadata": {},
   "source": [
    "# Postprocessing and visuals"
   ]
  },
  {
   "cell_type": "code",
   "execution_count": null,
   "id": "7ae1d079-4014-411f-a067-abf06db07cf8",
   "metadata": {},
   "outputs": [],
   "source": [
    "import os\n",
    "\n",
    "import matplotlib.pyplot as plt\n",
    "import matplotlib.gridspec as gridspec\n",
    "import numpy as np\n",
    "import pandas as pd\n",
    "import seaborn as sns\n",
    "\n",
    "from dosipy.utils.viz import fig_config, save_fig"
   ]
  },
  {
   "cell_type": "code",
   "execution_count": null,
   "id": "d1d1118b-03ba-4d66-8a91-edba6f80b79a",
   "metadata": {},
   "outputs": [],
   "source": [
    "# features\n",
    "h = [2, 5, 10, 50, 150]\n",
    "f = [6, 26, 60, 90]\n",
    "A = [4, 4, 1, 1]\n",
    "r = [5, 7, 10, 15]\n",
    "columns=['f', 'd', 'r', 'sPDn_pln', 'sPDn_sph', 'sPDn_cyl']\n",
    "\n",
    "# load data\n",
    "sPDn_at6GHz = np.load(os.path.join('data', 'sPDn_at6GHz.npy'))\n",
    "sPDn_at26GHz = np.load(os.path.join('data', 'sPDn_at26GHz.npy'))\n",
    "sPDn_at60GHz = np.load(os.path.join('data', 'sPDn_at60GHz.npy'))\n",
    "sPDn_at90GHz = np.load(os.path.join('data', 'sPDn_at60GHz.npy'))\n",
    "\n",
    "# populate and engineer dataset\n",
    "def rpd(x, x_ref):\n",
    "    \"\"\"Return relative percentage difference between data and a given\n",
    "    reference value.\"\"\"\n",
    "    return np.abs(x - x_ref) / x_ref * 100\n",
    "\n",
    "rep = sPDn_at6GHz.shape[0]\n",
    "data = np.vstack((sPDn_at6GHz, sPDn_at26GHz, sPDn_at60GHz, sPDn_at90GHz))\n",
    "dataset = pd.DataFrame(np.hstack((np.repeat(f, rep).reshape(-1, 1), data)),\n",
    "                       columns=columns)\n",
    "dataset['rpd_sph'] = rpd(dataset['sPDn_sph'], dataset['sPDn_pln'])\n",
    "dataset['rpd_cyl'] = rpd(dataset['sPDn_cyl'], dataset['sPDn_pln'])\n",
    "dataset['f'] = np.asarray(dataset['f'], 'int')\n",
    "dataset['d'] = np.asarray(dataset['d'] * -1000, 'int')\n",
    "dataset['r'] = np.asarray(dataset['r'] * 100, dtype='int')\n",
    "\n",
    "# plotting utils\n",
    "nrows = 2\n",
    "ncols = 2\n",
    "markerkwargs = {'lw': 2,\n",
    "                'mec': 'k',\n",
    "                'mfc': 'white',\n",
    "                'mfcalt': 'white',\n",
    "                'mew': 1,\n",
    "                'ms': 10}"
   ]
  },
  {
   "cell_type": "markdown",
   "id": "b878433b-f0ee-49c4-a89b-46c32b8c3e02",
   "metadata": {},
   "source": [
    "## Results - incident power densities for all scenarios"
   ]
  },
  {
   "cell_type": "markdown",
   "id": "6921fc41-7dbe-4454-9e13-d9de8b16f64b",
   "metadata": {},
   "source": [
    "### Incident power density as a function of the seperation distance"
   ]
  },
  {
   "cell_type": "code",
   "execution_count": null,
   "id": "f1cde24b-cf31-4a1f-aea3-fa176487d297",
   "metadata": {},
   "outputs": [],
   "source": [
    "fig_config(latex=True, text_size=18)\n",
    "fig = plt.figure(figsize=(9, 7.5))\n",
    "gs = gridspec.GridSpec(2, 2, figure=fig)\n",
    "for i, _f in enumerate(f):\n",
    "    ghost = fig.add_subplot(gs[i])\n",
    "    ghost.set_title(f'$f =$ {_f} GHz\\n')\n",
    "    ghost.axis('off')\n",
    "    gs_in = gs[i].subgridspec(2, 2)\n",
    "    for i_in, _r in enumerate(r):\n",
    "        ax = fig.add_subplot(gs_in[i_in])\n",
    "        ax.plot(h, dataset[(dataset['f']==_f) & (dataset['r']==_r)]['sPDn_sph'],\n",
    "                'ko-', label='spherical', **markerkwargs)\n",
    "        ax.plot(h, dataset[(dataset['f']==_f) & (dataset['r']==_r)]['sPDn_cyl'],\n",
    "                'kd--', dashes=(3, 1.5), label='cylndrical', **markerkwargs)\n",
    "        ax.plot(h, dataset[(dataset['f']==_f) & (dataset['r']==_r)]['sPDn_pln'],\n",
    "                'ks:', label='planar', zorder=0, **markerkwargs)\n",
    "        ax.set(title=f'$r =$ {_r} cm', xscale='log')\n",
    "        if (_f in [60, 90]) & (_r in [10, 15]):\n",
    "            ax.set(xlabel='', xticks=h, xticklabels=h)\n",
    "        else:\n",
    "            ax.set(xlabel='', xticks=h, xticklabels=[])\n",
    "        if (_f in [6, 60]) & (_r in [5, 10]):\n",
    "            ax.set(ylabel='', yticks=[0, 15, 30])\n",
    "        else:\n",
    "            ax.set(ylabel='', yticks=[0, 15, 30], yticklabels=[])\n",
    "\n",
    "handles, labels = fig.gca().get_legend_handles_labels()\n",
    "by_label = dict(zip(labels, handles))\n",
    "fig.legend(by_label.values(), by_label.keys(), bbox_to_anchor=(1.225, 0.6125))\n",
    "fig.supxlabel('$d$ [mm]')\n",
    "fig.supylabel('$sPD_{\\\\text{n}}$ [W/m$^2$]')\n",
    "fig.tight_layout()\n",
    "fname = os.path.join('figures', 'sPDn_abs')\n",
    "save_fig(fig, fname=fname)"
   ]
  },
  {
   "cell_type": "markdown",
   "id": "a225df12-65e9-426b-a00f-41832f790ec4",
   "metadata": {},
   "source": [
    "### RPD between incident power density on the spherical/cylindrical and planar surface as a function of the seperation distance"
   ]
  },
  {
   "cell_type": "code",
   "execution_count": null,
   "id": "35487220-0d34-40b4-a2ae-d51056a7d2fd",
   "metadata": {},
   "outputs": [],
   "source": [
    "fig_config(latex=True, text_size=18)\n",
    "fig = plt.figure(figsize=(9, 7.5))\n",
    "gs = gridspec.GridSpec(2, 2, figure=fig)\n",
    "for i, _f in enumerate(f):\n",
    "    ghost = fig.add_subplot(gs[i])\n",
    "    ghost.set_title(f'$f =$ {_f} GHz\\n')\n",
    "    ghost.axis('off')\n",
    "    gs_in = gs[i].subgridspec(2, 2)\n",
    "    for i_in, _r in enumerate(r):\n",
    "        ax = fig.add_subplot(gs_in[i_in])\n",
    "        ax.plot(h, dataset[(dataset['f']==_f) & (dataset['r']==_r)]['rpd_sph'],\n",
    "                'ko-', label='spherical', **markerkwargs)\n",
    "        ax.plot(h, dataset[(dataset['f']==_f) & (dataset['r']==_r)]['rpd_cyl'],\n",
    "                'kd--', dashes=(3, 1.5), label='cylndrical', **markerkwargs)\n",
    "        ax.set(title=f'$r =$ {_r} cm', xscale='log')\n",
    "        if (_f in [60, 90]) & (_r in [10, 15]):\n",
    "            ax.set(xlabel='', xticks=h, xticklabels=h)\n",
    "        else:\n",
    "            ax.set(xlabel='', xticks=h, xticklabels=[])\n",
    "        if (_f in [6, 60]) & (_r in [5, 10]):\n",
    "            ax.set(ylabel='', yticks=[0, 10, 20])\n",
    "        else:\n",
    "            ax.set(ylabel='', yticks=[0, 10, 20], yticklabels=[])\n",
    "\n",
    "handles, labels = fig.gca().get_legend_handles_labels()\n",
    "by_label = dict(zip(labels, handles))\n",
    "fig.legend(by_label.values(), by_label.keys(), bbox_to_anchor=(1.225, 0.595))\n",
    "fig.supxlabel('$d$ [mm]')\n",
    "fig.supylabel('$sPD_{\\\\text{n}}$ [W/m$^2$]')\n",
    "fig.tight_layout()\n",
    "fname = os.path.join('figures', 'sPDn_rpd')\n",
    "save_fig(fig, fname=fname)"
   ]
  },
  {
   "cell_type": "markdown",
   "id": "7b40166a-a57a-43ae-b297-b44d315f2be2",
   "metadata": {},
   "source": [
    "### RPD between incident power densities on the spherical and planar surface at 26 GHz"
   ]
  },
  {
   "cell_type": "code",
   "execution_count": null,
   "id": "bb4a65a6-93fd-46fa-afd2-3ca731911a72",
   "metadata": {},
   "outputs": [],
   "source": [
    "fig_config(latex=True, scaler=1.25, text_size=18)\n",
    "fig = plt.figure()\n",
    "heat = dataset[dataset['f']==26].pivot('r', 'd', 'rpd_sph')\n",
    "ax = sns.heatmap(heat,\n",
    "                 annot=np.array([f'\\\\textbf{{{data:.2g}}}'\n",
    "                                 for data in heat.values.ravel()]\n",
    "                               ).reshape(heat.shape),\n",
    "                 fmt='',\n",
    "                 linewidth=2,\n",
    "                 cmap='binary',\n",
    "                 vmin=0, vmax=np.ceil(heat.to_numpy().max()),\n",
    "                 cbar_kws={'label': 'RPD [\\%]', 'ticks': [0, 5, 10, 15]},\n",
    "                 square=False)\n",
    "ax.set(xlabel='$d$ [mm]', ylabel='$r$ [cm]', title='spherical surface');\n",
    "fname = os.path.join('figures', 'heat_sph_rpd')\n",
    "save_fig(fig, fname=fname, formats=['png'])"
   ]
  },
  {
   "cell_type": "markdown",
   "id": "b2e92718-3342-48b3-b5b3-ddc6a7ae38e4",
   "metadata": {},
   "source": [
    "### RPD between incident power densities on the cylndrical and planar surface at 26 GHz"
   ]
  },
  {
   "cell_type": "code",
   "execution_count": null,
   "id": "45dc98c6-32c9-40d7-987f-8891d5eeef62",
   "metadata": {},
   "outputs": [],
   "source": [
    "fig_config(latex=True, scaler=1.25, text_size=18)\n",
    "fig = plt.figure()\n",
    "heat = dataset[dataset['f']==26].pivot('r', 'd', 'rpd_cyl')\n",
    "ax = sns.heatmap(heat,\n",
    "                 annot=np.array([f'\\\\textbf{{{data:.2g}}}'\n",
    "                                 for data in heat.values.ravel()]\n",
    "                               ).reshape(heat.shape),\n",
    "                 fmt='',\n",
    "                 linewidth=2,\n",
    "                 cmap='binary',\n",
    "                 vmin=0, vmax=np.round(heat.to_numpy().max(), 1),\n",
    "                 cbar_kws={'label': 'RPD [\\%]', 'ticks': [0, 2.2, 4.4]},\n",
    "                 square=False)\n",
    "ax.set(xlabel='$d$ [mm]', ylabel='$r$ [cm]', title='cylindrical surface');\n",
    "fname = os.path.join('figures', 'heat_cyl_rpd')\n",
    "save_fig(fig, fname=fname, formats=['png'])"
   ]
  },
  {
   "cell_type": "code",
   "execution_count": null,
   "id": "d6e60981-e7c4-45e1-b2b1-296745983816",
   "metadata": {},
   "outputs": [],
   "source": []
  }
 ],
 "metadata": {
  "kernelspec": {
   "display_name": "Python 3 (ipykernel)",
   "language": "python",
   "name": "python3"
  },
  "language_info": {
   "codemirror_mode": {
    "name": "ipython",
    "version": 3
   },
   "file_extension": ".py",
   "mimetype": "text/x-python",
   "name": "python",
   "nbconvert_exporter": "python",
   "pygments_lexer": "ipython3",
   "version": "3.9.12"
  }
 },
 "nbformat": 4,
 "nbformat_minor": 5
}
