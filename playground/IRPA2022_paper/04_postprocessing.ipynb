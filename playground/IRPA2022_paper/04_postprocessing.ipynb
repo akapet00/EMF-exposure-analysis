{
 "cells": [
  {
   "cell_type": "code",
   "execution_count": 1,
   "id": "2f2cb4b0-01e8-4150-8d05-280797e037ce",
   "metadata": {},
   "outputs": [],
   "source": [
    "import datetime\n",
    "import itertools\n",
    "import os\n",
    "import time\n",
    "\n",
    "import jax\n",
    "import jax.numpy as jnp\n",
    "import matplotlib.pyplot as plt\n",
    "import numpy as np\n",
    "from tqdm.auto import tqdm\n",
    "\n",
    "from dosipy.field import poynting\n",
    "from dosipy.utils.integrate import elementwise_dblquad\n",
    "from dosipy.utils.viz import (fig_config, save_fig)\n",
    "from utils import *"
   ]
  },
  {
   "cell_type": "code",
   "execution_count": 2,
   "id": "367cef0f-64c6-48ff-8dd5-9857db214aee",
   "metadata": {},
   "outputs": [],
   "source": [
    "def compute_sPDn(f, h, degree):\n",
    "    # averaging surface\n",
    "    if f < 30:\n",
    "        target_area = (0.02, 0.02)\n",
    "    else:\n",
    "        target_area = (0.01, 0.01)\n",
    "    A = target_area[0] * target_area[1]\n",
    "    target_area_origin = (-target_area[0]/2, -target_area[1]/2)\n",
    "\n",
    "    # source\n",
    "    xs = np.load(os.path.join('data', f'x_at{f}GHz.npy'))\n",
    "    xs = xs - xs.max() / 2\n",
    "    xs = jnp.asarray(xs.flatten())\n",
    "    ys = jnp.zeros_like(xs) + h\n",
    "    zs = jnp.zeros_like(xs)\n",
    "    Is = np.load(os.path.join('data', f'current_at{f}GHz.npy'))\n",
    "    Is = jnp.asarray(Is.flatten())\n",
    "    dIsdx = jnp.load(os.path.join('data', f'grad_current_at{f}GHz.npy'))\n",
    "    dIsdx = jnp.asarray(dIsdx.flatten())\n",
    "    \n",
    "    # planar surface\n",
    "    N = 20\n",
    "    _x = jnp.linspace(-target_area[0]/2, target_area[0]/2, N)\n",
    "    _z = jnp.linspace(-target_area[1]/2, target_area[1]/2, N)\n",
    "    Xt, Zt = jnp.meshgrid(_x, _z)\n",
    "    xt_pln = Xt.ravel()\n",
    "    yt_pln = jnp.zeros_like(xt_pln)\n",
    "    zt_pln = Zt.ravel()\n",
    "\n",
    "    nx = 0\n",
    "    ny = -1\n",
    "    nz = 0\n",
    "    n = np.sqrt(nx ** 2 + ny ** 2 + nz ** 2)\n",
    "    \n",
    "    S_pln = np.empty_like(xt_pln)\n",
    "    for idx, (xt, yt, zt) in enumerate(zip(xt_pln, yt_pln, zt_pln)):\n",
    "        Sx, Sy, Sz = poynting(xt, yt, zt, xs, ys, zs, f*1e9, Is, dIsdx)\n",
    "        S_pln[idx] = (Sx.real * nx + Sy.real * ny + Sz.real * nz) / n\n",
    "    sPDn_pln = 1 / (2 * A) * elementwise_dblquad(points=np.c_[xt_pln, zt_pln],\n",
    "                                                 values=S_pln,\n",
    "                                                 degree=degree)\n",
    "    \n",
    "    # spherical surface\n",
    "    N = 240 if f < 30 else 480\n",
    "    r = 0.0725\n",
    "    theta = np.linspace(0, np.pi, N)\n",
    "    phi = np.linspace(-np.pi, 0, N)\n",
    "    Theta, Phi = np.meshgrid(theta, phi)\n",
    "\n",
    "    x_sph, y_sph, z_sph = sph2cart(r, Theta.ravel(), Phi.ravel())\n",
    "    xyz_sph = jnp.c_[x_sph, y_sph, z_sph]\n",
    "    mask = np.where((xyz_sph[:, 0] >= xt_pln.min())\n",
    "                    & (xyz_sph[:, 0] <= xt_pln.max())\n",
    "                    & (xyz_sph[:, 2] >= zt_pln.min())\n",
    "                    & (xyz_sph[:, 2] <= xt_pln.max()))[0]\n",
    "    xt_sph = xyz_sph[mask, 0]\n",
    "    yt_sph = xyz_sph[mask, 1] - xyz_sph[mask, 1].min()\n",
    "    zt_sph = xyz_sph[mask, 2]\n",
    "\n",
    "    nx, ny, nz = sph_normals(r, Theta.ravel()[mask], Phi.ravel()[mask])\n",
    "    n = np.sqrt(nx ** 2 + ny ** 2 + nz ** 2)\n",
    "    \n",
    "    A_sph = elementwise_dblquad(points=np.c_[xt_sph, zt_sph],\n",
    "                                values=np.sin(Theta.ravel()[mask])*r**2/n,\n",
    "                                degree=11) \n",
    "    \n",
    "    S_sph = np.empty_like(xt_sph)\n",
    "    for idx, (xt, yt, zt) in enumerate(zip(xt_sph, yt_sph, zt_sph)):\n",
    "        Sx, Sy, Sz = poynting(xt, yt, zt, xs, ys, zs, f*1e9, Is, dIsdx)\n",
    "        S_sph[idx] = (Sx.real * nx[idx] + Sy.real * ny[idx] + Sz.real * nz[idx])\n",
    "    sPDn_sph = 1 / (2 * A_sph) * elementwise_dblquad(points=np.c_[xt_sph, zt_sph],\n",
    "                                                     values=S_sph/n,\n",
    "                                                     degree=degree)\n",
    "    \n",
    "    # cylndrical surface\n",
    "    N = 220 if f < 30 else 440\n",
    "    r = 0.0725\n",
    "    theta = np.linspace(0, np.pi, N)\n",
    "    Theta, Zt = np.meshgrid(-theta, _z)\n",
    "\n",
    "    x_cyl, y_cyl, z_cyl = cyl2cart(r, Theta.ravel(), Zt.ravel())\n",
    "    xyz_cyl = jnp.c_[x_cyl, y_cyl, z_cyl]\n",
    "    mask = np.where((xyz_cyl[:, 0] >= xt_pln.min())\n",
    "                     & (xyz_cyl[:, 0] <= xt_pln.max()))[0]\n",
    "    xt_cyl = xyz_cyl[mask, 0]\n",
    "    yt_cyl = xyz_cyl[mask, 1] - xyz_cyl[mask, 1].min()\n",
    "    zt_cyl = xyz_cyl[mask, 2]\n",
    "\n",
    "    nx, ny, nz = cyl_normals(r, Theta.ravel()[mask], zt_cyl)\n",
    "    n = np.sqrt(nx ** 2 + ny ** 2 + nz ** 2)\n",
    "\n",
    "    A_cyl = (xt_cyl.max() - xt_cyl.min()) * (z_cyl.max() - z_cyl.min())\n",
    "\n",
    "    S_cyl = np.empty_like(xt_cyl)\n",
    "    for idx, (xt, yt, zt) in enumerate(zip(xt_cyl, yt_cyl, zt_cyl)):\n",
    "        Sx, Sy, Sz = poynting(xt, yt, zt, xs, ys, zs, f*1e9, Is, dIsdx)\n",
    "        S_cyl[idx] = (Sx.real * nx[idx] + Sy.real * ny[idx] + Sz.real * nz[idx])\n",
    "    sPDn_cyl = 1 / (2 * A_cyl) * elementwise_dblquad(points=np.c_[xt_cyl, zt_cyl],\n",
    "                                                     values=S_cyl/n,\n",
    "                                                     degree=degree)\n",
    "    return sPDn_pln, sPDn_sph, sPDn_cyl"
   ]
  },
  {
   "cell_type": "code",
   "execution_count": 15,
   "id": "a786cabe-a828-4df0-90c1-163930fbaf32",
   "metadata": {},
   "outputs": [
    {
     "data": {
      "application/vnd.jupyter.widget-view+json": {
       "model_id": "5f5738d7a991423ea41b899557b77d3f",
       "version_major": 2,
       "version_minor": 0
      },
      "text/plain": [
       "sPDn at 6GHz:   0%|          | 0/5 [00:00<?, ?it/s]"
      ]
     },
     "metadata": {},
     "output_type": "display_data"
    },
    {
     "data": {
      "application/vnd.jupyter.widget-view+json": {
       "model_id": "30cc16e968af4408a5ec992c71c5b360",
       "version_major": 2,
       "version_minor": 0
      },
      "text/plain": [
       "sPDn at 26GHz:   0%|          | 0/5 [00:00<?, ?it/s]"
      ]
     },
     "metadata": {},
     "output_type": "display_data"
    },
    {
     "data": {
      "application/vnd.jupyter.widget-view+json": {
       "model_id": "22397bfe45634f168bffff36ddfa4178",
       "version_major": 2,
       "version_minor": 0
      },
      "text/plain": [
       "sPDn at 60GHz:   0%|          | 0/5 [00:00<?, ?it/s]"
      ]
     },
     "metadata": {},
     "output_type": "display_data"
    }
   ],
   "source": [
    "hs = np.array([2.5, 5, 10, 50, 150]) / -1000. # separation distances\n",
    "\n",
    "f = 6\n",
    "degree = 11\n",
    "sPDn_at6GHz = np.empty((hs.size, 4))\n",
    "idx = 0\n",
    "for h in tqdm(hs, desc=f'sPDn at {f}GHz'):\n",
    "    sPDn_pln, sPDn_sph, sPDn_cyl = compute_sPDn(f, h, degree)\n",
    "    sPDn_at6GHz[idx, :] = [h, sPDn_pln, sPDn_sph, sPDn_cyl]\n",
    "    idx += 1\n",
    "    \n",
    "f = 26\n",
    "degree = 11\n",
    "sPDn_at26GHz = np.empty((hs.size, 4))\n",
    "idx = 0\n",
    "for h in tqdm(hs, desc=f'sPDn at {f}GHz'):\n",
    "    sPDn_pln, sPDn_sph, sPDn_cyl = compute_sPDn(f, h, degree)\n",
    "    sPDn_at26GHz[idx, :] = [h, sPDn_pln, sPDn_sph, sPDn_cyl]\n",
    "    idx += 1\n",
    "    \n",
    "f = 60\n",
    "degree = 11\n",
    "sPDn_at60GHz = np.empty((hs.size, 4))\n",
    "idx = 0\n",
    "for h in tqdm(hs, desc=f'sPDn at {f}GHz'):\n",
    "    sPDn_pln, sPDn_sph, sPDn_cyl = compute_sPDn(f, h, degree)\n",
    "    sPDn_at60GHz[idx, :] = [h, sPDn_pln, sPDn_sph, sPDn_cyl]\n",
    "    idx += 1"
   ]
  },
  {
   "cell_type": "code",
   "execution_count": null,
   "id": "4d3bf228-a502-4f1c-9a65-ebd35c198e9a",
   "metadata": {},
   "outputs": [],
   "source": []
  },
  {
   "cell_type": "code",
   "execution_count": 226,
   "id": "c95e7dc2-6d4a-4165-9d6e-96bcbcf6b1c6",
   "metadata": {},
   "outputs": [],
   "source": [
    "f = 6\n",
    "h = -5/1000\n",
    "degree = 11"
   ]
  },
  {
   "cell_type": "code",
   "execution_count": 227,
   "id": "8ec0491f-b280-4118-be95-e0ced7e43aa8",
   "metadata": {},
   "outputs": [
    {
     "data": {
      "text/plain": [
       "5.205135646201542"
      ]
     },
     "execution_count": 227,
     "metadata": {},
     "output_type": "execute_result"
    }
   ],
   "source": [
    "if f < 30:\n",
    "    target_area = (0.02, 0.02)\n",
    "else:\n",
    "    target_area = (0.01, 0.01)\n",
    "A = target_area[0] * target_area[1]\n",
    "\n",
    "# source\n",
    "xs = np.load(os.path.join('data', f'x_at{f}GHz.npy'))\n",
    "xs = xs - xs.max() / 2\n",
    "xs = jnp.asarray(xs.flatten())\n",
    "ys = jnp.zeros_like(xs) + h\n",
    "zs = jnp.zeros_like(xs)\n",
    "Is = np.load(os.path.join('data', f'current_at{f}GHz.npy'))\n",
    "Is = jnp.asarray(Is.flatten())\n",
    "dIsdx = jnp.load(os.path.join('data', f'grad_current_at{f}GHz.npy'))\n",
    "dIsdx = jnp.asarray(dIsdx.flatten())\n",
    "\n",
    "# planar surface\n",
    "N = 20\n",
    "_x = jnp.linspace(-target_area[0]/2, target_area[0]/2, N)\n",
    "_z = jnp.linspace(-target_area[1]/2, target_area[1]/2, N)\n",
    "Xt, Zt = jnp.meshgrid(_x, _z)\n",
    "xt_pln = Xt.ravel()\n",
    "yt_pln = jnp.zeros_like(xt_pln)\n",
    "zt_pln = Zt.ravel()\n",
    "\n",
    "nx = 0\n",
    "ny = -1\n",
    "nz = 0\n",
    "n = np.sqrt(nx ** 2 + ny ** 2 + nz ** 2)\n",
    "\n",
    "S_pln = np.empty_like(xt_pln)\n",
    "for idx, (xt, yt, zt) in enumerate(zip(xt_pln, yt_pln, zt_pln)):\n",
    "    Sx, Sy, Sz = poynting(xt, yt, zt, xs, ys, zs, f*1e9, Is, dIsdx)\n",
    "    S_pln[idx] = (Sx.real * nx + Sy.real * ny + Sz.real * nz) / n\n",
    "sPDn_pln = 1 / (2 * A) * elementwise_dblquad(points=np.c_[xt_pln, zt_pln],\n",
    "                                             values=S_pln,\n",
    "                                             degree=degree)\n",
    "sPDn_pln"
   ]
  },
  {
   "cell_type": "code",
   "execution_count": 228,
   "id": "b0cd3630-1f9f-4fd8-98e0-c435874fdfb6",
   "metadata": {},
   "outputs": [
    {
     "data": {
      "text/plain": [
       "5.836266440584815"
      ]
     },
     "execution_count": 228,
     "metadata": {},
     "output_type": "execute_result"
    }
   ],
   "source": [
    "N = 240 if f < 30 else 480\n",
    "r = 0.075\n",
    "theta = np.linspace(0, np.pi, N)\n",
    "phi = np.linspace(-np.pi, 0, N)\n",
    "Theta, Phi = np.meshgrid(theta, phi)\n",
    "\n",
    "x_sph, y_sph, z_sph = sph2cart(r, Theta.ravel(), Phi.ravel())\n",
    "xyz_sph = jnp.c_[x_sph, y_sph, z_sph]\n",
    "mask = np.where((xyz_sph[:, 0] >= xt_pln.min())\n",
    "                & (xyz_sph[:, 0] <= xt_pln.max())\n",
    "                & (xyz_sph[:, 2] >= zt_pln.min())\n",
    "                & (xyz_sph[:, 2] <= zt_pln.max()))[0]\n",
    "xt_sph = xyz_sph[mask, 0]\n",
    "yt_sph = xyz_sph[mask, 1] - xyz_sph[mask, 1].min()\n",
    "zt_sph = xyz_sph[mask, 2]\n",
    "\n",
    "nx, ny, nz = sph_normals(r, Theta.ravel()[mask], Phi.ravel()[mask])\n",
    "n = np.sqrt(nx ** 2 + ny ** 2 + nz ** 2)\n",
    "\n",
    "A_sph = elementwise_dblquad(points=np.c_[xt_sph, zt_sph],\n",
    "                            values=np.sin(Theta.ravel()[mask])*r**2/n,\n",
    "                            degree=11) \n",
    "\n",
    "S_sph = np.empty_like(xt_sph)\n",
    "for idx, (xt, yt, zt) in enumerate(zip(xt_sph, yt_sph, zt_sph)):\n",
    "    Sx, Sy, Sz = poynting(xt, yt, zt, xs, ys, zs, f*1e9, Is, dIsdx)\n",
    "    S_sph[idx] = (Sx.real * nx[idx] + Sy.real * ny[idx] + Sz.real * nz[idx])\n",
    "sPDn_sph = 1 / (2 * A_sph) * elementwise_dblquad(points=np.c_[xt_sph, zt_sph],\n",
    "                                                 values=S_sph/n,\n",
    "                                                 degree=degree)\n",
    "sPDn_sph"
   ]
  },
  {
   "cell_type": "code",
   "execution_count": 229,
   "id": "87e58322-b269-4f97-9d3e-46908d3b8d51",
   "metadata": {},
   "outputs": [
    {
     "data": {
      "text/plain": [
       "5.766055327638939"
      ]
     },
     "execution_count": 229,
     "metadata": {},
     "output_type": "execute_result"
    }
   ],
   "source": [
    "# cylndrical surface\n",
    "N = 100 if f < 30 else 70\n",
    "r = 0.0725\n",
    "theta = np.linspace(0, np.pi, N)\n",
    "_z = np.linspace(-target_area[1], target_area[1], N)\n",
    "Theta, Zt = np.meshgrid(-theta, _z)\n",
    "\n",
    "x_cyl, y_cyl, z_cyl = cyl2cart(r, Theta.ravel(), Zt.ravel())\n",
    "xyz_cyl = jnp.c_[x_cyl, y_cyl, z_cyl]\n",
    "mask = np.where((xyz_cyl[:, 0] >= xt_pln.min())\n",
    "                 & (xyz_cyl[:, 0] <= xt_pln.max())\n",
    "                 & (xyz_cyl[:, 2] >= zt_pln.min())\n",
    "                 & (xyz_cyl[:, 2] <= zt_pln.max()))[0]\n",
    "xt_cyl = xyz_cyl[mask, 0]\n",
    "yt_cyl = xyz_cyl[mask, 1] - xyz_cyl[mask, 1].min()\n",
    "zt_cyl = xyz_cyl[mask, 2]\n",
    "\n",
    "nx, ny, nz = cyl_normals(r, Theta.ravel()[mask], zt_cyl)\n",
    "n = np.sqrt(nx ** 2 + ny ** 2 + nz ** 2)\n",
    "\n",
    "# A_cyl = ((xt_cyl.max() - xt_cyl.min()) * (zt_cyl.max() - zt_cyl.min())).item()\n",
    "\n",
    "S_cyl = np.empty_like(xt_cyl)\n",
    "for idx, (xt, yt, zt) in enumerate(zip(xt_cyl, yt_cyl, zt_cyl)):\n",
    "    Sx, Sy, Sz = poynting(xt, yt, zt, xs, ys, zs, f*1e9, Is, dIsdx)\n",
    "    S_cyl[idx] = (Sx.real * nx[idx] + Sy.real * ny[idx] + Sz.real * nz[idx])\n",
    "sPDn_cyl = 1 / (2 * A_cyl) * elementwise_dblquad(points=np.c_[xt_cyl, zt_cyl],\n",
    "                                                 values=S_cyl/n,\n",
    "                                                 degree=degree)\n",
    "sPDn_cyl"
   ]
  },
  {
   "cell_type": "code",
   "execution_count": null,
   "id": "a8cb4501-97ea-40aa-9608-8246f6027969",
   "metadata": {},
   "outputs": [],
   "source": []
  }
 ],
 "metadata": {
  "kernelspec": {
   "display_name": "Python 3 (ipykernel)",
   "language": "python",
   "name": "python3"
  },
  "language_info": {
   "codemirror_mode": {
    "name": "ipython",
    "version": 3
   },
   "file_extension": ".py",
   "mimetype": "text/x-python",
   "name": "python",
   "nbconvert_exporter": "python",
   "pygments_lexer": "ipython3",
   "version": "3.9.7"
  }
 },
 "nbformat": 4,
 "nbformat_minor": 5
}
