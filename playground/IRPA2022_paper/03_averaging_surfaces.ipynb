{
 "cells": [
  {
   "cell_type": "code",
   "execution_count": null,
   "id": "0b24b05e-a334-49c7-9bd9-75d9e23e5f24",
   "metadata": {},
   "outputs": [],
   "source": [
    "import os\n",
    "import numpy as np\n",
    "import matplotlib.pyplot as plt\n",
    "\n",
    "from dosipy.utils.viz import fig_config, save_fig\n",
    "from utils import *"
   ]
  },
  {
   "cell_type": "code",
   "execution_count": null,
   "id": "aa9fb5e9-c5d9-442f-8143-40618d87cffb",
   "metadata": {},
   "outputs": [],
   "source": [
    "def take_a_look(xt, yt, zt):\n",
    "    fig_config(latex=True, scaler=1, text_size=16)\n",
    "    fig = plt.figure()\n",
    "    ax = plt.axes(projection ='3d')\n",
    "    ax.scatter(xt, yt, zt, s=10, color='k', depthshade=True)\n",
    "    ax.plot(xs[:int(xs.size/2)-50], ys[:int(xs.size/2)-50], zs[:int(xs.size/2)-50], linestyle='-', c='k')\n",
    "    ax.plot(xs[int(xs.size/2)+50:], ys[int(xs.size/2)+50:], zs[int(xs.size/2)+50:], linestyle='-', c='k')\n",
    "    ax.set(xlabel='$x$ [mm]', ylabel='$y$ [mm]', zlabel='$z$ [mm]',\n",
    "           xticks=[xt.min(), 0.0, xt.max()],\n",
    "           yticks=[h, h/2, 0.0],\n",
    "           zticks=[zt.min(), 0.0, zt.max()],\n",
    "           xticklabels=[round(xt.min()*1000, 1), 0.0, round(xt.max()*1000, 1)],\n",
    "           yticklabels=['$d$', '$d/2$', 0.0],\n",
    "           zticklabels=[round(zt.min()*1000, 1), 0.0, round(zt.max()*1000, 1)],)\n",
    "    ax.xaxis.pane.fill = False\n",
    "    ax.yaxis.pane.fill = False\n",
    "    ax.zaxis.pane.fill = False\n",
    "    ax.xaxis.labelpad = 10\n",
    "    ax.yaxis.labelpad = 10\n",
    "    ax.zaxis.labelpad = 10\n",
    "    ax.view_init(25, -40)\n",
    "    fig.tight_layout()\n",
    "    return fig, ax"
   ]
  },
  {
   "cell_type": "code",
   "execution_count": null,
   "id": "e9bf4aa9-a210-44f9-aba1-fe0e0bd94ded",
   "metadata": {},
   "outputs": [],
   "source": [
    "# frequency\n",
    "f = 6\n",
    "\n",
    "# separation distance\n",
    "h = -2.5 / 1000\n",
    "\n",
    "# averaging surface\n",
    "if f < 30:\n",
    "    target_area = (0.02, 0.02)\n",
    "else:\n",
    "    target_area = (0.01, 0.01)\n",
    "A = target_area[0] * target_area[1]\n",
    "target_area_origin = (-target_area[0]/2, -target_area[1]/2)\n",
    "\n",
    "# source\n",
    "xs = np.load(os.path.join('data', f'x_at{f}GHz.npy'))\n",
    "xs = xs - xs.max() / 2\n",
    "xs = np.asarray(xs.flatten())\n",
    "ys = np.zeros_like(xs) + h\n",
    "zs = np.zeros_like(xs)"
   ]
  },
  {
   "cell_type": "code",
   "execution_count": null,
   "id": "a988f7be-11c7-4cc7-9b21-777a325ba222",
   "metadata": {},
   "outputs": [],
   "source": [
    "# planar target\n",
    "N = 11\n",
    "x = np.linspace(-target_area[0] / 2, target_area[0] / 2, N)\n",
    "y = 0.0\n",
    "z = np.linspace(-target_area[1] / 2, target_area[1] / 2, N)\n",
    "Xt, Zt = np.meshgrid(x, z)\n",
    "xt_pln = Xt.ravel()\n",
    "yt_pln = np.zeros_like(xt_pln)\n",
    "zt_pln = Zt.ravel()\n",
    "\n",
    "fig, ax = take_a_look(xt_pln, yt_pln, zt_pln)\n",
    "\n",
    "#fname = os.path.join('figures', 'planar_surface')\n",
    "#save_fig(fig, fname, formats=['png'])"
   ]
  },
  {
   "cell_type": "code",
   "execution_count": null,
   "id": "9f158fd7-7c83-4b37-9fdc-744d13c253e4",
   "metadata": {},
   "outputs": [],
   "source": [
    "# spherical target\n",
    "N = 131 if f < 30 else 302\n",
    "theta = np.linspace(0, np.pi, N)\n",
    "phi = np.linspace(-np.pi, 0, N)\n",
    "r = 0.0725\n",
    "Theta, Phi = np.meshgrid(theta, phi)\n",
    "\n",
    "x_sph, y_sph, z_sph = sph2cart(r, Theta.ravel(), Phi.ravel())\n",
    "xyz_sph = jnp.c_[x_sph, y_sph, z_sph]\n",
    "xyz_sph = xyz_sph[(xyz_sph[:, 0] >= xt_pln.min())\n",
    "                  & (xyz_sph[:, 0] <= xt_pln.max())\n",
    "                  & (xyz_sph[:, 2] >= zt_pln.min())\n",
    "                  & (xyz_sph[:, 2] <= xt_pln.max())]\n",
    "xt_sph = xyz_sph[:, 0]\n",
    "yt_sph = xyz_sph[:, 1] - xyz_sph[:, 1].min()\n",
    "zt_sph = xyz_sph[:, 2]\n",
    "\n",
    "fig, ax = take_a_look(xt_sph, yt_sph, zt_sph)\n",
    "\n",
    "#fname = os.path.join('figures', 'spherical_surface')\n",
    "#save_fig(fig, fname, formats=['png'])"
   ]
  },
  {
   "cell_type": "code",
   "execution_count": null,
   "id": "c1f78204-cbfe-465e-ab4b-34e2fa2933e7",
   "metadata": {},
   "outputs": [],
   "source": [
    "# cylindrical target\n",
    "N = 121 if f < 30 else 302\n",
    "theta = np.linspace(0, np.pi, N)\n",
    "Theta, Zt = np.meshgrid(-theta, z)\n",
    "\n",
    "x_cyl, y_cyl, z_cyl = cyl2cart(r, Theta.ravel(), Zt.ravel())\n",
    "xyz_cyl = jnp.c_[x_cyl, y_cyl, z_cyl]\n",
    "xyz_cyl = xyz_cyl[(xyz_cyl[:, 0] >= xt_pln.min())\n",
    "                  & (xyz_cyl[:, 0] <= xt_pln.max())]\n",
    "xt_cyl = xyz_cyl[:, 0]\n",
    "yt_cyl = xyz_cyl[:, 1] - xyz_cyl[:, 1].min()\n",
    "zt_cyl = xyz_cyl[:, 2]\n",
    "\n",
    "fig, ax = take_a_look(xt_cyl, yt_cyl, zt_cyl)\n",
    "\n",
    "#fname = os.path.join('figures', 'cylindrical_surface')\n",
    "#save_fig(fig, fname, formats=['png'])"
   ]
  },
  {
   "cell_type": "code",
   "execution_count": null,
   "id": "74cc69a3-a949-46ab-874b-81ec71a8a148",
   "metadata": {},
   "outputs": [],
   "source": []
  }
 ],
 "metadata": {
  "kernelspec": {
   "display_name": "Python 3 (ipykernel)",
   "language": "python",
   "name": "python3"
  },
  "language_info": {
   "codemirror_mode": {
    "name": "ipython",
    "version": 3
   },
   "file_extension": ".py",
   "mimetype": "text/x-python",
   "name": "python",
   "nbconvert_exporter": "python",
   "pygments_lexer": "ipython3",
   "version": "3.9.7"
  }
 },
 "nbformat": 4,
 "nbformat_minor": 5
}
