{
 "cells": [
  {
   "cell_type": "code",
   "execution_count": null,
   "id": "0b24b05e-a334-49c7-9bd9-75d9e23e5f24",
   "metadata": {},
   "outputs": [],
   "source": [
    "# antenna electric properties (Poljak 2005)\n",
    "antenna_data = load_antenna_el_properties(f)\n",
    "Is = antenna_data.ireal.to_numpy() + antenna_data.iimag.to_numpy() * 1j\n",
    "\n",
    "# antenna position -- coordinates\n",
    "xs = antenna_data.x.to_numpy()\n",
    "xs = jnp.asarray(xs)\n",
    "ys = jnp.zeros_like(xs)\n",
    "zs = jnp.zeros_like(xs)\n",
    "\n",
    "# effective radiated skin area\n",
    "target_area = (0.02, 0.02)  # 2 x 2 cm2\n",
    "A = target_area[0] * target_area[1]\n",
    "h = -5 / 1000  # distance from the antenna\n",
    "N = [11, 11, 11]\n",
    "xt = jnp.linspace(-target_area[0]/2, target_area[0]/2, N[0]) + xs[-1] / 2\n",
    "yt = jnp.linspace(-target_area[1]/2, target_area[1]/2, N[1])\n",
    "zt = jnp.linspace(h, h - pen_depth, N[2])"
   ]
  },
  {
   "cell_type": "code",
   "execution_count": null,
   "id": "99321220-3123-4f2b-8e55-63e3bda8ad8d",
   "metadata": {},
   "outputs": [],
   "source": []
  }
 ],
 "metadata": {
  "kernelspec": {
   "display_name": "Python 3 (ipykernel)",
   "language": "python",
   "name": "python3"
  },
  "language_info": {
   "codemirror_mode": {
    "name": "ipython",
    "version": 3
   },
   "file_extension": ".py",
   "mimetype": "text/x-python",
   "name": "python",
   "nbconvert_exporter": "python",
   "pygments_lexer": "ipython3",
   "version": "3.9.7"
  }
 },
 "nbformat": 4,
 "nbformat_minor": 5
}
