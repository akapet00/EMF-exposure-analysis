{
 "cells": [
  {
   "cell_type": "markdown",
   "id": "opponent-bhutan",
   "metadata": {},
   "source": [
    "# 3-D"
   ]
  },
  {
   "cell_type": "code",
   "execution_count": null,
   "id": "ethical-zimbabwe",
   "metadata": {},
   "outputs": [],
   "source": [
    "import matplotlib.pyplot as plt\n",
    "import numpy as np\n",
    "import jax\n",
    "import jax.numpy as jnp\n",
    "import seaborn as sns\n",
    "\n",
    "from dosipy.bhte import init_temp, delta_temp_analytic, temp_3d\n",
    "from dosipy.constants import eps_0, mu_0\n",
    "from dosipy.field import efield, hfield\n",
    "from dosipy.utils.dataloader import (load_tissue_diel_properties,\n",
    "                                     load_antenna_el_properties)\n",
    "from dosipy.utils.integrate import elementwise_dblquad\n",
    "from dosipy.utils.viz import fig_config, set_colorblind"
   ]
  },
  {
   "cell_type": "code",
   "execution_count": null,
   "id": "d339eee4-0587-4594-9832-19e01067393c",
   "metadata": {},
   "outputs": [],
   "source": [
    "print(f'platform: {jax.lib.xla_bridge.get_backend().platform}')"
   ]
  },
  {
   "cell_type": "code",
   "execution_count": null,
   "id": "selective-melbourne",
   "metadata": {},
   "outputs": [],
   "source": [
    "# jax.config.update(\"jax_enable_x64\", True)"
   ]
  },
  {
   "cell_type": "code",
   "execution_count": null,
   "id": "24218f2a-fdd2-4e95-bb9e-8b8c19ea8f05",
   "metadata": {},
   "outputs": [],
   "source": [
    "set_colorblind()\n",
    "%config InlineBackend.figure_format = 'retina'"
   ]
  },
  {
   "cell_type": "code",
   "execution_count": null,
   "id": "unlimited-standard",
   "metadata": {},
   "outputs": [],
   "source": [
    "# dry skin bhte parameters from IT'IS database\n",
    "# https://itis.swiss/virtual-population/tissue-properties/database/\n",
    "k = 0.37       # thermal conductivity [W/m/°C]\n",
    "rho = 1109.    # dry skin density [kg/m^3]\n",
    "C = 3391.      # specific heat of dry skin [Ws/kg/°C]\n",
    "m_b = 1.76e-6  # blood perfusion [m^3/kg/s], equivalent to 106 mL/min/kg\n",
    "\n",
    "# for blood\n",
    "k_b = 0.52     # thermal conductivity [W/m/°C]\n",
    "rho_b = 1000.  # kg/m^3\n",
    "C_b = 3617.    # specific heat of blood [J/kg/°C]\n",
    "\n",
    "# additional parameters\n",
    "h_0 = 10.      # heat convection coefficient skin surface - air [W/m^2/°C]\n",
    "T_a = 37.      # arterial temperature [°C]\n",
    "T_c = 37.      # body core temperature [°C]\n",
    "T_f = 25.      # surrounding air temperature [°C]\n",
    "Q_m = 6385.    # metabolic heat generation [W/m^3]"
   ]
  },
  {
   "cell_type": "markdown",
   "id": "stuck-trout",
   "metadata": {},
   "source": [
    "## 3-D bioheat transfer equation in time\n",
    "\n",
    "Comparisson of the spectral method time domain solution and the analytic solution proposed in Foster et al. 2016.\n",
    "This time, the model for the PSTD method is three-dimensional. Additionally, realistic antenna is considered -- half-wave dipole centrally powered by a voltage source set to 1V."
   ]
  },
  {
   "cell_type": "markdown",
   "id": "allied-bibliography",
   "metadata": {},
   "source": [
    "### Setup"
   ]
  },
  {
   "cell_type": "code",
   "execution_count": null,
   "id": "northern-genealogy",
   "metadata": {},
   "outputs": [],
   "source": [
    "# frequency\n",
    "f = 10e9\n",
    "\n",
    "# conductivity, relative permitivity, tangent loss and penetration depth\n",
    "sigma, eps_r, tan_loss, pen_depth = load_tissue_diel_properties('skin_dry', f)\n",
    "\n",
    "# `pen_depth` is the energy penetration depth into tissue, which is defined as\n",
    "# the distance beneath the surface at which the SAR has fallen to a factor of\n",
    "# 1/e below that at the surface; one-half of the more commonly reported wave\n",
    "# penetration depth\n",
    "pen_depth = pen_depth / 2\n",
    "\n",
    "# air (vacuum) resistance \n",
    "Z_air = np.sqrt(mu_0 / eps_0)\n",
    "\n",
    "# dry skin resistance\n",
    "Z_skin_dry = np.sqrt(mu_0 / (eps_r * eps_0))\n",
    "\n",
    "# energy (Fresnel) transmission coefficient into the tissue\n",
    "T_tr = 2 * Z_skin_dry / (Z_air + Z_skin_dry)\n",
    "\n",
    "# antenna electric properties (Poljak 2005)\n",
    "antenna_data = load_antenna_el_properties(f)\n",
    "Is = antenna_data.ireal.to_numpy() + antenna_data.iimag.to_numpy() * 1j\n",
    "\n",
    "# antenna position -- coordinates\n",
    "xs = antenna_data.x.to_numpy()\n",
    "xs = jnp.asarray(xs)\n",
    "ys = jnp.zeros_like(xs)\n",
    "zs = jnp.zeros_like(xs)\n",
    "\n",
    "# effective radiated skin area\n",
    "target_area = (0.02, 0.02)  # 2 x 2 cm2\n",
    "A = target_area[0] * target_area[1]\n",
    "h = -5 / 1000  # distance from the antenna\n",
    "N = [11, 11, 11]\n",
    "xt = jnp.linspace(-target_area[0]/2, target_area[0]/2, N[0]) + xs[-1] / 2\n",
    "yt = jnp.linspace(-target_area[1]/2, target_area[1]/2, N[1])\n",
    "zt = jnp.linspace(h, h - pen_depth, N[2])"
   ]
  },
  {
   "cell_type": "markdown",
   "id": "powered-joyce",
   "metadata": {},
   "source": [
    "### EM-field\n",
    "\n",
    "Free space electric and magnetic field distribution."
   ]
  },
  {
   "cell_type": "code",
   "execution_count": null,
   "id": "distinguished-carpet",
   "metadata": {},
   "outputs": [],
   "source": [
    "Ex = np.empty((xt.size, yt.size, zt.size), dtype=np.complex128)\n",
    "Ey = np.empty((xt.size, yt.size, zt.size), dtype=np.complex128)\n",
    "Ez = np.empty((xt.size, yt.size, zt.size), dtype=np.complex128)\n",
    "for x_idx, _xt in enumerate(xt):\n",
    "    for y_idx, _yt in enumerate(yt):\n",
    "        for z_idx, _zt in enumerate(zt):\n",
    "            _Ex, _Ey, _Ez = efield(_xt, _yt, _zt, xs, ys, zs, Is, f)\n",
    "            Ex[x_idx, y_idx, z_idx] = _Ex\n",
    "            Ey[x_idx, y_idx, z_idx] = _Ey\n",
    "            Ez[x_idx, y_idx, z_idx] = _Ez\n",
    "E = np.abs(np.sqrt(Ex ** 2 + Ey ** 2 + Ez ** 2))\n",
    "SAR = sigma * E ** 2 / (2 * rho)"
   ]
  },
  {
   "cell_type": "markdown",
   "id": "fresh-saskatchewan",
   "metadata": {},
   "source": [
    "### Simulation\n",
    "\n",
    "Solution of the 3-D bio-heat transfer equation in time."
   ]
  },
  {
   "cell_type": "code",
   "execution_count": null,
   "id": "forty-royalty",
   "metadata": {},
   "outputs": [],
   "source": [
    "sim_time = 360\n",
    "tg = 101\n",
    "t = np.linspace(0, sim_time, tg)\n",
    "T = temp_3d(t, N, target_area, pen_depth, k, rho, C, rho_b, C_b, m_b, h_0, T_a,\n",
    "            T_c, T_f, Q_m, SAR)\n",
    "deltaT = T[-1, :, :, 0] - T[0, :, :, 0]"
   ]
  },
  {
   "cell_type": "markdown",
   "id": "broadband-registration",
   "metadata": {},
   "source": [
    "### Visualization\n",
    "\n",
    "Temperature change on the surface."
   ]
  },
  {
   "cell_type": "code",
   "execution_count": null,
   "id": "durable-watch",
   "metadata": {},
   "outputs": [],
   "source": [
    "extent=(xt.min(), xt.max(), yt.min(), yt.max())\n",
    "interp = 'none'\n",
    "\n",
    "fig_config(scaler=2)\n",
    "fig = plt.figure()\n",
    "ax = fig.add_subplot()\n",
    "cs = ax.imshow(deltaT, extent=extent, interpolation=interp, cmap='viridis')\n",
    "cbar = fig.colorbar(cs, ax=ax)\n",
    "cbar.ax.set_ylabel('$\\\\Delta T_{sur}$ [°C]')\n",
    "ax.plot(xs, ys, 'r-', linewidth=4,\n",
    "        label=(f'$\\\\lambda/2$ dipole antenna\\ndistance = {-h * 1000} mm'))\n",
    "ax.set(xlabel='$x$ [m]',\n",
    "       ylabel='$y$ [m]',\n",
    "       xticks=[xt.min(), (xt.min() + xt.max()) / 2, xt.max()],\n",
    "       yticks=[-0.01, -0.005, 0.0, 0.005, 0.01])\n",
    "ax.legend()\n",
    "fig.tight_layout();"
   ]
  },
  {
   "cell_type": "code",
   "execution_count": null,
   "id": "united-louis",
   "metadata": {},
   "outputs": [],
   "source": []
  }
 ],
 "metadata": {
  "kernelspec": {
   "display_name": "Python 3 (ipykernel)",
   "language": "python",
   "name": "python3"
  },
  "language_info": {
   "codemirror_mode": {
    "name": "ipython",
    "version": 3
   },
   "file_extension": ".py",
   "mimetype": "text/x-python",
   "name": "python",
   "nbconvert_exporter": "python",
   "pygments_lexer": "ipython3",
   "version": "3.10.0"
  }
 },
 "nbformat": 4,
 "nbformat_minor": 5
}
