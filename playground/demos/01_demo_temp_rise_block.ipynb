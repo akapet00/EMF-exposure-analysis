{
 "cells": [
  {
   "cell_type": "code",
   "execution_count": null,
   "id": "ethical-zimbabwe",
   "metadata": {},
   "outputs": [],
   "source": [
    "import matplotlib.pyplot as plt\n",
    "import numpy as np\n",
    "import jax\n",
    "import jax.numpy as jnp\n",
    "\n",
    "from dosipy.bhte import BHTE\n",
    "from dosipy.constants import eps_0, mu_0\n",
    "from dosipy.field import poynting\n",
    "from dosipy.utils.integrate import elementwise_dblquad\n",
    "from dosipy.utils.derive import holoborodko\n",
    "from dosipy.utils.dataloader import (load_tissue_diel_properties,\n",
    "                                     load_antenna_el_properties)\n",
    "from dosipy.utils.viz import fig_config, set_colorblind"
   ]
  },
  {
   "cell_type": "code",
   "execution_count": null,
   "id": "d339eee4-0587-4594-9832-19e01067393c",
   "metadata": {},
   "outputs": [],
   "source": [
    "print(f'platform: {jax.lib.xla_bridge.get_backend().platform}')"
   ]
  },
  {
   "cell_type": "code",
   "execution_count": null,
   "id": "b44ff603-dfb8-4b27-9795-451d3500da2e",
   "metadata": {},
   "outputs": [],
   "source": [
    "# jax.config.update(\"jax_enable_x64\", True)"
   ]
  },
  {
   "cell_type": "code",
   "execution_count": null,
   "id": "24218f2a-fdd2-4e95-bb9e-8b8c19ea8f05",
   "metadata": {},
   "outputs": [],
   "source": [
    "set_colorblind()\n",
    "%config InlineBackend.figure_format = 'retina'"
   ]
  },
  {
   "cell_type": "markdown",
   "id": "stuck-trout",
   "metadata": {},
   "source": [
    "# 3-D bioheat transfer equation in time\n",
    "\n",
    "The model for the PSTD method is a 3-D block of skin.\n",
    "Realistic antenna is considered -- half-wave dipole centrally powered by a voltage source set to 1V."
   ]
  },
  {
   "cell_type": "markdown",
   "id": "allied-bibliography",
   "metadata": {},
   "source": [
    "### Setup"
   ]
  },
  {
   "cell_type": "code",
   "execution_count": null,
   "id": "northern-genealogy",
   "metadata": {},
   "outputs": [],
   "source": [
    "# frequency\n",
    "f = 60e9\n",
    "\n",
    "# conductivity, relative permitivity, tangent loss and penetration depth\n",
    "sigma, eps_r, tan_loss, pen_depth = load_tissue_diel_properties('skin_dry', f)\n",
    "\n",
    "# `pen_depth` is the energy penetration depth into tissue, which is defined as\n",
    "# the distance beneath the surface at which the SAR has fallen to a factor of\n",
    "# 1/e below that at the surface; one-half of the more commonly reported wave\n",
    "# penetration depth\n",
    "pen_depth = pen_depth / 2\n",
    "\n",
    "# air (vacuum) resistance \n",
    "Z_air = np.sqrt(mu_0 / eps_0)\n",
    "\n",
    "# dry skin resistance\n",
    "Z_skin_dry = np.sqrt(mu_0 / (eps_r * eps_0))\n",
    "\n",
    "# energy (Fresnel) transmission coefficient into the tissue\n",
    "T_tr = 2 * Z_skin_dry / (Z_air + Z_skin_dry)"
   ]
  },
  {
   "cell_type": "code",
   "execution_count": null,
   "id": "1599d58b-f70c-49e1-ab21-e3715907722e",
   "metadata": {},
   "outputs": [],
   "source": [
    "# antenna electric properties (Poljak 2005)\n",
    "antenna_data = load_antenna_el_properties(f)\n",
    "\n",
    "# antenna position -- coordinates\n",
    "xs = antenna_data.x.to_numpy()\n",
    "xs = jnp.asarray(xs)\n",
    "ys = jnp.zeros_like(xs)\n",
    "zs = jnp.zeros_like(xs)\n",
    "\n",
    "# current through the antenna\n",
    "Is = antenna_data.ireal.to_numpy() + antenna_data.iimag.to_numpy() * 1j\n",
    "Is_x = holoborodko(Is, xs[1]-xs[0])\n",
    "\n",
    "# solution domain setup\n",
    "s_res = 9\n",
    "target_area = (0.02, 0.02)  # meters x meters\n",
    "A = target_area[0] * target_area[1]  # meters^2\n",
    "h = 10 / 1000  # distance from the antenna\n",
    "xt = jnp.linspace(-target_area[0]/2, target_area[0]/2, s_res) + xs[-1] / 2\n",
    "yt = jnp.linspace(-target_area[1]/2, target_area[1]/2, s_res)\n",
    "zt = jnp.linspace(h, h + pen_depth, s_res)"
   ]
  },
  {
   "cell_type": "markdown",
   "id": "powered-joyce",
   "metadata": {},
   "source": [
    "### EM-field\n",
    "\n",
    "Free space electromagnetic field distribution across the surface of the tissue and approximation of SAR."
   ]
  },
  {
   "cell_type": "code",
   "execution_count": null,
   "id": "distinguished-carpet",
   "metadata": {},
   "outputs": [],
   "source": [
    "# compute time-averaged complex Poynting vector\n",
    "Sx = np.empty((xt.size, yt.size), dtype=np.complex128)\n",
    "Sy = np.empty((xt.size, yt.size), dtype=np.complex128)\n",
    "Sz = np.empty((xt.size, yt.size), dtype=np.complex128)\n",
    "for xi, _xt in enumerate(xt):\n",
    "    for yi, _yt in enumerate(yt):\n",
    "        _Sx, _Sy, _Sz = poynting(_xt, _yt, h, xs, ys, zs, f, Is)\n",
    "        Sx[xi, yi] = _Sx\n",
    "        Sy[xi, yi] = _Sy\n",
    "        Sz[xi, yi] = _Sz\n",
    "        \n",
    "# compute incident power density distribution across the surface\n",
    "Sinc = 1 / 2 * np.abs(np.sqrt(Sx ** 2 + Sy ** 2 + Sz ** 2))\n",
    "\n",
    "# compute average incident power density on the surface\n",
    "Xt, Yt = np.meshgrid(xt, yt)\n",
    "Sav = 1 / (2 * A) * elementwise_dblquad(points=np.column_stack((Xt.ravel(), Yt.ravel())),\n",
    "                                        values=Sz.real.ravel(),\n",
    "                                        degree=9)\n",
    "\n",
    "# approximate SAR into the skin\n",
    "rho = 1109.  # skin density in kg/m^3\n",
    "amplitude = Sinc * T_tr / (rho * pen_depth)\n",
    "exp_decay = np.exp(-zt / (h + pen_depth))\n",
    "SAR = np.outer(amplitude, exp_decay).reshape(*amplitude.shape, *exp_decay.shape)"
   ]
  },
  {
   "cell_type": "markdown",
   "id": "fresh-saskatchewan",
   "metadata": {},
   "source": [
    "### Simulation\n",
    "\n",
    "Solution of the 3-D bio-heat transfer equation in time."
   ]
  },
  {
   "cell_type": "code",
   "execution_count": null,
   "id": "forty-royalty",
   "metadata": {},
   "outputs": [],
   "source": [
    "# initialization of the solver\n",
    "sim_time = 360  # seconds\n",
    "t_res = 101\n",
    "domain = (*target_area, pen_depth)\n",
    "bhte = BHTE(sim_time, t_res, domain, s_res,\n",
    "            Qm=0, SAR=SAR)\n",
    "\n",
    "# initial condition setup and solution\n",
    "T0 = 37.\n",
    "T = bhte.solve(T0)\n",
    "\n",
    "# temperature rise on the surface\n",
    "deltaTsurf = T[-1, :, :, 0] - T[0, :, :, 0]\n",
    "\n",
    "# heating factor\n",
    "hf = deltaTsurf.max() / Sav"
   ]
  },
  {
   "cell_type": "markdown",
   "id": "broadband-registration",
   "metadata": {},
   "source": [
    "### Visualization\n",
    "\n",
    "Temperature change on the surface."
   ]
  },
  {
   "cell_type": "code",
   "execution_count": null,
   "id": "durable-watch",
   "metadata": {},
   "outputs": [],
   "source": [
    "extent=(xt.min(), xt.max(), yt.min(), yt.max())\n",
    "interp = 'none'\n",
    "\n",
    "fig_config(scaler=2)\n",
    "fig = plt.figure()\n",
    "ax = fig.add_subplot()\n",
    "cs = ax.imshow(deltaTsurf, extent=extent, interpolation=interp, cmap='viridis')\n",
    "cbar = fig.colorbar(cs, ax=ax)\n",
    "cbar.ax.set_ylabel('$\\\\Delta T_{sur}$ [°C]')\n",
    "ax.plot(xs, ys, 'r-', linewidth=4,\n",
    "        label=(f'$\\\\lambda/2$ dipole antenna\\ndistance = {h * 1000} mm'))\n",
    "ax.set(xlabel='$x$ [m]',\n",
    "       ylabel='$y$ [m]',\n",
    "       xticks=[xt.min(), (xt.min() + xt.max()) / 2, xt.max()],\n",
    "       yticks=[-0.01, -0.005, 0.0, 0.005, 0.01])\n",
    "ax.legend()\n",
    "fig.tight_layout();"
   ]
  },
  {
   "cell_type": "code",
   "execution_count": null,
   "id": "8f335644-1efe-4812-a886-d2bc5b4f55ef",
   "metadata": {},
   "outputs": [],
   "source": []
  }
 ],
 "metadata": {
  "kernelspec": {
   "display_name": "Python 3 (ipykernel)",
   "language": "python",
   "name": "python3"
  },
  "language_info": {
   "codemirror_mode": {
    "name": "ipython",
    "version": 3
   },
   "file_extension": ".py",
   "mimetype": "text/x-python",
   "name": "python",
   "nbconvert_exporter": "python",
   "pygments_lexer": "ipython3",
   "version": "3.9.12"
  }
 },
 "nbformat": 4,
 "nbformat_minor": 5
}
