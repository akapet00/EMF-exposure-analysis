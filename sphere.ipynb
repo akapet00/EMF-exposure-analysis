{
 "cells": [
  {
   "cell_type": "code",
   "execution_count": null,
   "id": "amazing-sending",
   "metadata": {},
   "outputs": [],
   "source": [
    "## imports\n",
    "import os\n",
    "\n",
    "import matplotlib.pyplot as plt\n",
    "from matplotlib.patches import Rectangle\n",
    "import jax\n",
    "import jax.numpy as jnp\n",
    "from jax.ops import index, index_update\n",
    "import numpy as np\n",
    "import pandas as pd\n",
    "from scipy.io import loadmat\n",
    "\n",
    "from pycbem.field import efield, hfield\n",
    "from pycbem.utils.dataloader import load_antenna_el_properties\n",
    "from pycbem.utils.viz import fig_config"
   ]
  },
  {
   "cell_type": "code",
   "execution_count": null,
   "id": "celtic-beast",
   "metadata": {},
   "outputs": [],
   "source": [
    "%config InlineBackend.figure_format = 'retina'"
   ]
  },
  {
   "cell_type": "code",
   "execution_count": null,
   "id": "martial-bidder",
   "metadata": {},
   "outputs": [],
   "source": [
    "coord_dict = loadmat(os.path.join('data', 'sphere', 'sphere_coord_n1512.mat'))\n",
    "r_c = pd.DataFrame(coord_dict['r_c'] / 100., columns=['x', 'y', 'z'])"
   ]
  },
  {
   "cell_type": "code",
   "execution_count": null,
   "id": "interstate-intelligence",
   "metadata": {},
   "outputs": [],
   "source": [
    "f = 3.5e9\n",
    "d = - 10 / 1000\n",
    "antenna_data = load_antenna_el_properties(f)\n",
    "Is = antenna_data.ireal.to_numpy() + antenna_data.iimag.to_numpy() * 1j\n",
    "xs = antenna_data.x.to_numpy()\n",
    "xs = xs - xs.max() / 2\n",
    "ys = np.zeros_like(xs) + r_c['y'].min() + d\n",
    "zs = np.zeros_like(xs)"
   ]
  },
  {
   "cell_type": "code",
   "execution_count": null,
   "id": "bulgarian-ranking",
   "metadata": {},
   "outputs": [],
   "source": [
    "fig_config(latex=True, scaler=2.5)\n",
    "fig = plt.figure()\n",
    "ax = plt.axes(projection ='3d')\n",
    "ax.plot(r_c['x'], r_c['y'], r_c['z'], 'b.')\n",
    "ax.plot(xs, ys, zs, 'r-', linewidth=3)\n",
    "ax.set(xlabel='x', ylabel='y', zlabel='z')\n",
    "plt.show()"
   ]
  },
  {
   "cell_type": "code",
   "execution_count": null,
   "id": "underlying-biology",
   "metadata": {},
   "outputs": [],
   "source": [
    "xs = jnp.asarray(xs)\n",
    "ys = jnp.asarray(ys)\n",
    "zs = jnp.asarray(zs)\n",
    "Is = jnp.asarray(Is)"
   ]
  },
  {
   "cell_type": "code",
   "execution_count": null,
   "id": "congressional-omaha",
   "metadata": {},
   "outputs": [],
   "source": [
    "E = r_c.apply(\n",
    "    lambda row: efield(row['x'], row['y'], row['z'], xs, ys, zs, Is, f),\n",
    "    axis=1, result_type='expand')\n",
    "E.columns = ['Ex', 'Ey', 'Ez']\n",
    "E_abs = E.apply(\n",
    "    lambda row: np.sqrt(row['Ex'] ** 2 + row['Ey'] ** 2 + row['Ez'] ** 2),\n",
    "    axis=1)\n",
    "E.loc[:, 'E_abs'] = E_abs\n",
    "\n",
    "H = r_c.apply(\n",
    "    lambda row: hfield(row['x'], row['y'], row['z'], xs, ys, zs, Is, f),\n",
    "    axis=1, result_type='expand')\n",
    "H.columns = ['Hx', 'Hy', 'Hz']\n",
    "H_abs = H.apply(\n",
    "    lambda row: np.sqrt(row['Hx'] ** 2 + row['Hy'] ** 2 + row['Hz'] ** 2),\n",
    "    axis=1)\n",
    "H.loc[:, 'H_abs'] = H_abs\n",
    "\n",
    "r_c_calc = pd.concat([r_c, E, H], axis=1)"
   ]
  },
  {
   "cell_type": "code",
   "execution_count": null,
   "id": "improved-update",
   "metadata": {},
   "outputs": [],
   "source": [
    "def power_density(row):\n",
    "    return (row.Ey * row.Hz.conjugate() - row.Ez * row.Hy.conjugate(),\n",
    "            row.Ex * row.Hz.conjugate(),\n",
    "            row.Ex * row.Hy.conjugate())\n",
    "\n",
    "\n",
    "S = r_c_calc.apply(power_density, axis=1, result_type='expand')\n",
    "S.columns = ['Sx', 'Sy', 'Sz']\n",
    "S_abs = S.apply(\n",
    "    lambda row: np.sqrt(row['Sx'] ** 2 + row['Sy'] ** 2 + row['Sz'] ** 2),\n",
    "    axis=1)\n",
    "S.loc[:, 'S_abs'] = S_abs \n",
    "\n",
    "r_c_calc = pd.concat([r_c_calc, S], axis=1)"
   ]
  },
  {
   "cell_type": "code",
   "execution_count": null,
   "id": "yellow-producer",
   "metadata": {},
   "outputs": [],
   "source": [
    "fig_config(latex=True, scaler=2.5)\n",
    "fig = plt.figure()\n",
    "ax = plt.axes(projection ='3d')\n",
    "\n",
    "cs = ax.scatter(r_c_calc['x'], r_c_calc['y'], r_c_calc['z'],\n",
    "                c=np.abs(r_c_calc['S_abs']))\n",
    "cbar = fig.colorbar(cs, ax=ax)\n",
    "cbar.ax.set_ylabel('$S$ [W/m$^2$]')\n",
    "\n",
    "ax.plot(xs, ys, zs, linestyle='-', c='r', zorder=3,\n",
    "        label=(f'$\\\\lambda/2$ dipole antenna\\n'\n",
    "               f'$d = {-d * 1000}$ mm\\n'\n",
    "               f'$f = {f / 1e9}$ GHz'))\n",
    "\n",
    "ax.set(xlabel='$x$', ylabel='$y$', zlabel='z')\n",
    "plt.legend()\n",
    "plt.show()"
   ]
  },
  {
   "cell_type": "code",
   "execution_count": null,
   "id": "removed-idaho",
   "metadata": {},
   "outputs": [],
   "source": [
    "area = (0.02, 0.02)\n",
    "A = area[0] * area[1]\n",
    "xy_area = (-area[0]/2, -area[1]/2)\n",
    "\n",
    "fig_config(latex=True, scaler=2)\n",
    "fig = plt.figure()\n",
    "ax = fig.add_subplot()\n",
    "cs = ax.scatter(r_c_calc['x'], r_c_calc['z'], c=np.abs(r_c_calc['S_abs']))\n",
    "cbar = fig.colorbar(cs, ax=ax)\n",
    "cbar.ax.set_ylabel('$S$ [W/m$^2$]')\n",
    "ax.plot(xs, zs, linestyle='-', c='r',\n",
    "        label=(f'$\\\\lambda/2$ dipole antenna\\n'\n",
    "               f'$d = {-d * 1000}$ mm\\n'\n",
    "               f'$f = {f / 1e9}$ GHz'))\n",
    "ax.add_patch(Rectangle(xy_area, area[0], area[1], ec='w', fc='None',\n",
    "                       label=f'effective area\\n$A = {A * 1e4}$ cm$^2$'))\n",
    "ax.set(xlabel='$x$', ylabel='z')\n",
    "plt.legend(facecolor='darkslateblue', labelcolor='white', framealpha=0.9)\n",
    "plt.show()"
   ]
  },
  {
   "cell_type": "code",
   "execution_count": null,
   "id": "related-tournament",
   "metadata": {},
   "outputs": [],
   "source": [
    "r_c_calc_ta = r_c_calc[\n",
    "    (r_c_calc['y'] < 0) &\n",
    "    (r_c_calc['x'] > xy_area[0]) & (r_c_calc['x'] < xy_area[0] * -1) &\n",
    "    (r_c_calc['z'] > xy_area[1]) & (r_c_calc['z'] < xy_area[1] * -1)]\n",
    "r_c_calc_ta.reset_index(drop=True, inplace=True)"
   ]
  },
  {
   "cell_type": "code",
   "execution_count": null,
   "id": "written-glance",
   "metadata": {},
   "outputs": [],
   "source": [
    "r_c_calc_ta"
   ]
  },
  {
   "cell_type": "code",
   "execution_count": null,
   "id": "lucky-drawing",
   "metadata": {},
   "outputs": [],
   "source": []
  },
  {
   "cell_type": "code",
   "execution_count": null,
   "id": "wired-leader",
   "metadata": {},
   "outputs": [],
   "source": []
  },
  {
   "cell_type": "code",
   "execution_count": null,
   "id": "labeled-payment",
   "metadata": {},
   "outputs": [],
   "source": []
  }
 ],
 "metadata": {
  "kernelspec": {
   "display_name": "Python 3",
   "language": "python",
   "name": "python3"
  },
  "language_info": {
   "codemirror_mode": {
    "name": "ipython",
    "version": 3
   },
   "file_extension": ".py",
   "mimetype": "text/x-python",
   "name": "python",
   "nbconvert_exporter": "python",
   "pygments_lexer": "ipython3",
   "version": "3.8.5"
  }
 },
 "nbformat": 4,
 "nbformat_minor": 5
}
