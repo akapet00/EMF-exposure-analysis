{
 "cells": [
  {
   "cell_type": "code",
   "execution_count": null,
   "id": "saved-player",
   "metadata": {},
   "outputs": [],
   "source": [
    "## imports\n",
    "import os\n",
    "\n",
    "import matplotlib.pyplot as plt\n",
    "import jax.numpy as np\n",
    "import pandas as pd\n",
    "from scipy.interpolate import CloughTocher2DInterpolator\n",
    "\n",
    "from pycbem.field import efield, hfield\n",
    "from pycbem.utils.dataloader import load_antenna_el_properties\n",
    "from pycbem.utils.viz import fig_config"
   ]
  },
  {
   "cell_type": "code",
   "execution_count": null,
   "id": "offensive-luxembourg",
   "metadata": {},
   "outputs": [],
   "source": [
    "# frequency\n",
    "f = 10e9\n",
    "\n",
    "# effective radiated skin area\n",
    "target_area = (0.02, 0.02)  # 2 x 2 cm2\n",
    "A = target_area[0] * target_area[1]\n",
    "d = - 15 / 1000  # distance from the antenna\n",
    "\n",
    "# human head\n",
    "head_coords = pd.read_csv(os.path.join('data', 'head_ijnme_simpl.csv'),\n",
    "                          names=['y', 'x', 'z'])\n",
    "head_coords = head_coords + 0.05\n",
    "target_area_coords = head_coords[\n",
    "    (head_coords['y'] < 0) &\n",
    "    (head_coords['x'] > 0) & (head_coords['x'] < target_area[0]) &\n",
    "    (head_coords['z'] > 0) & (head_coords['z'] < target_area[1])]\n",
    "target_area_coords.reset_index(drop=True, inplace=True)\n",
    "\n",
    "# antenna electric properties (Poljak 2005)\n",
    "antenna_data = load_antenna_el_properties(f)\n",
    "Is = antenna_data.ireal.to_numpy() + antenna_data.iimag.to_numpy() * 1j\n",
    "\n",
    "# antenna position -- coordinates\n",
    "xs = antenna_data.x.to_numpy() \n",
    "xs = xs + (target_area[0] - xs[-1]) / 2.\n",
    "ys = np.zeros_like(xs) + target_area_coords['y'].min() + d\n",
    "zs = np.zeros_like(xs)\n",
    "zs = zs + (target_area[1] - zs[-1]) / 2."
   ]
  },
  {
   "cell_type": "code",
   "execution_count": null,
   "id": "emerging-finnish",
   "metadata": {},
   "outputs": [],
   "source": [
    "# efield\n",
    "E = target_area_coords.apply(\n",
    "    lambda row: efield(row['x'], row['y'], row['z'], xs, ys, zs, Is, f),\n",
    "    axis=1, result_type='expand')\n",
    "E.columns = ['Ex', 'Ey', 'Ez']\n",
    "E_abs = E.apply(\n",
    "    lambda row: np.sqrt(row['Ex'] ** 2 + row['Ey'] ** 2 + row['Ez'] ** 2),\n",
    "    axis=1)\n",
    "E.loc[:, 'E_abs'] = E_abs\n",
    "\n",
    "# hfield\n",
    "H = target_area_coords.apply(\n",
    "    lambda row: hfield(row['x'], row['y'], row['z'], xs, ys, zs, Is, f),\n",
    "    axis=1, result_type='expand')\n",
    "H.columns = ['Hx', 'Hy', 'Hz']\n",
    "H_abs = H.apply(\n",
    "    lambda row: np.sqrt(row['Hx'] ** 2 + row['Hy'] ** 2 + row['Hz'] ** 2),\n",
    "    axis=1)\n",
    "H.loc[:, 'H_abs'] = H_abs\n",
    "\n",
    "# update dataframe\n",
    "target_area_calc = pd.concat([target_area_coords, E, H], axis=1)\n",
    "\n",
    "# power density\n",
    "def power_density_magnitude(row):\n",
    "    return (row.Ey * row.Hz.conjugate() - row.Ez * row.Hy.conjugate(),\n",
    "            row.Ex * row.Hz.conjugate(),\n",
    "            row.Ex * row.Hy.conjugate())\n",
    "I0 = target_area_calc.apply(power_density_magnitude, axis=1, result_type='expand')\n",
    "I0.columns = ['I0x', 'I0y', 'I0z']\n",
    "I0_abs = I0.apply(\n",
    "    lambda row: np.sqrt(row['I0x'] ** 2 + row['I0y'] ** 2 + row['I0z'] ** 2),\n",
    "    axis=1)\n",
    "I0.loc[:, 'I0_abs'] = I0_abs \n",
    "\n",
    "# update dataframe\n",
    "target_area_calc = pd.concat([target_area_calc, I0], axis=1)"
   ]
  },
  {
   "cell_type": "code",
   "execution_count": null,
   "id": "handed-behalf",
   "metadata": {},
   "outputs": [],
   "source": [
    "x = target_area_calc.x.to_numpy().reshape(-1, 1)\n",
    "y = target_area_calc.y.to_numpy().reshape(-1, 1)\n",
    "z = target_area_calc.z.to_numpy().reshape(-1, 1)\n",
    "xz_plane_inp = np.hstack((x, z))\n",
    "i = np.abs(target_area_calc.I0_abs.to_numpy(dtype=np.complex128))\n",
    "xz_interp_fn = CloughTocher2DInterpolator(xz_plane_inp, i)\n",
    "\n",
    "xz_grid = np.meshgrid(np.linspace(x.min(), x.max(), 101),\n",
    "                      np.linspace(z.min(), z.max(), 101))\n",
    "i_xz = xz_interp_fn(*xz_grid)"
   ]
  },
  {
   "cell_type": "code",
   "execution_count": null,
   "id": "skilled-occurrence",
   "metadata": {},
   "outputs": [],
   "source": [
    "fig_config(nrows=1, ncols=1, scaler=2)\n",
    "fig = plt.figure()\n",
    "ax = fig.add_subplot()\n",
    "cs = ax.imshow(i_xz, origin='lower', extent=(x.min(), x.max(), z.min(), z.max()))\n",
    "ax.plot(xs, zs, 'r-', linewidth=2, label='dipole antenna')\n",
    "cbar = fig.colorbar(cs, ax=ax)\n",
    "cbar.ax.set_ylabel(r'I0 [W/m$^2$]')\n",
    "ax.set_xlabel('$x$ [m]')\n",
    "ax.set_ylabel('$z$ [m]')\n",
    "ax.legend()\n",
    "plt.tight_layout()\n",
    "plt.show()"
   ]
  },
  {
   "cell_type": "code",
   "execution_count": null,
   "id": "universal-antarctica",
   "metadata": {},
   "outputs": [],
   "source": [
    "fig_config(nrows=1, ncols=2, scaler=2)\n",
    "fig, ax = plt.subplots(1, 2, sharey=True, squeeze=True)\n",
    "ax[0].scatter(head_coords['x'], head_coords['z'], color='k', alpha=0.03)\n",
    "ax[0].contourf(*xz_grid, i_xz, levels=11)\n",
    "ax[0].plot(xs, zs, 'r-', linewidth=2, label='1/2 dipole (xz-plane)')\n",
    "ax[0].set_xlabel('$x$ [m]')\n",
    "ax[0].set_ylabel('$z$ [m]')\n",
    "ax[1].scatter(head_coords['y'], head_coords['z'], color='k', alpha=0.03)\n",
    "im = ax[1].scatter(target_area_calc['y'], target_area_calc['z'], c=np.abs(target_area_calc['I0_abs'].to_numpy(dtype='complex128')))\n",
    "ax[1].plot(ys[0], zs[0], 'ro', label='1/2 wave dipole (yz-plane)')\n",
    "ax[1].set_xlabel('$y$ [m]')\n",
    "\n",
    "fig.colorbar(im, ax=ax, label=r'I0 [W/m$^2$]')\n",
    "fig.legend(bbox_to_anchor=(0.51, 1.01), ncol=1, frameon=True, edgecolor='k')\n",
    "\n",
    "plt.show()"
   ]
  },
  {
   "cell_type": "code",
   "execution_count": null,
   "id": "apparent-guarantee",
   "metadata": {},
   "outputs": [],
   "source": [
    "# singular value decomposition\n",
    "a = target_area_calc[['I0x', 'I0y', 'I0z']].to_numpy(dtype='complex128')\n",
    "u, s, vh = np.linalg.svd(a, full_matrices=False)\n",
    "s = np.diag(s)"
   ]
  },
  {
   "cell_type": "code",
   "execution_count": null,
   "id": "forward-houston",
   "metadata": {},
   "outputs": [],
   "source": [
    "# singular values\n",
    "fig_config(nrows=1, ncols=2, scaler=1.5)\n",
    "fig = plt.figure()\n",
    "\n",
    "ax1 = fig.add_subplot(1, 2, 1)\n",
    "ax1.semilogy(np.diag(s), '.-')\n",
    "ax1.set_title('singular values')\n",
    "ax1.set_xticks([0, 1, 2])\n",
    "\n",
    "ax2 = fig.add_subplot(1, 2, 2)\n",
    "ax2.plot(np.cumsum(np.diag(s)) / np.sum(s), '.-')\n",
    "ax2.set_title('signular value total energy')\n",
    "ax2.set_xticks([0, 1, 2])\n",
    "\n",
    "plt.show()"
   ]
  },
  {
   "cell_type": "code",
   "execution_count": null,
   "id": "digital-rhythm",
   "metadata": {},
   "outputs": [],
   "source": [
    "# truncation: 3d -> 2d\n",
    "rank = 2\n",
    "a_trunc = u[:, :rank] @ s[:rank, :rank] @ vh[:rank, :rank]"
   ]
  },
  {
   "cell_type": "code",
   "execution_count": null,
   "id": "optical-blond",
   "metadata": {},
   "outputs": [],
   "source": []
  }
 ],
 "metadata": {
  "kernelspec": {
   "display_name": "Python 3",
   "language": "python",
   "name": "python3"
  },
  "language_info": {
   "codemirror_mode": {
    "name": "ipython",
    "version": 3
   },
   "file_extension": ".py",
   "mimetype": "text/x-python",
   "name": "python",
   "nbconvert_exporter": "python",
   "pygments_lexer": "ipython3",
   "version": "3.8.5"
  }
 },
 "nbformat": 4,
 "nbformat_minor": 5
}
