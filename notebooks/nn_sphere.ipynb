{
 "cells": [
  {
   "cell_type": "code",
   "execution_count": null,
   "id": "boolean-thinking",
   "metadata": {},
   "outputs": [],
   "source": [
    "import itertools\n",
    "import os\n",
    "if os.getcwd().split(\"/\")[-1] == \"notebooks\":\n",
    "    os.chdir(os.pardir)\n",
    "import time\n",
    "\n",
    "import jax\n",
    "import jax.numpy as jnp\n",
    "import jax.nn as nn\n",
    "from jax import random, vmap, jit, grad\n",
    "from jax.experimental import optimizers\n",
    "import matplotlib.pyplot as plt\n",
    "import numpy as np\n",
    "import numpy.random as npr\n",
    "from scipy.special import roots_legendre\n",
    "import seaborn\n",
    "from sklearn.model_selection import train_test_split\n",
    "from sklearn.preprocessing import MinMaxScaler\n",
    "from tqdm.notebook import trange\n",
    "\n",
    "from pycbem.field import efield, hfield, poynting, poynting_parallel\n",
    "from pycbem.utils.dataloader import (load_antenna_el_properties,\n",
    "                                     load_sphere_coords)\n",
    "from pycbem.utils.derive import holoborodko"
   ]
  },
  {
   "cell_type": "code",
   "execution_count": null,
   "id": "continuous-ethernet",
   "metadata": {},
   "outputs": [],
   "source": [
    "# jax.config.update(\"jax_enable_x64\", True)"
   ]
  },
  {
   "cell_type": "code",
   "execution_count": null,
   "id": "radical-badge",
   "metadata": {},
   "outputs": [],
   "source": [
    "seaborn.set(style='whitegrid', context='paper', palette='colorblind', font='serif', font_scale=1)"
   ]
  },
  {
   "cell_type": "code",
   "execution_count": null,
   "id": "union-signature",
   "metadata": {},
   "outputs": [],
   "source": [
    "%config InlineBackend.figure_format = 'retina'"
   ]
  },
  {
   "cell_type": "markdown",
   "id": "minute-treat",
   "metadata": {},
   "source": [
    "# Head model"
   ]
  },
  {
   "cell_type": "code",
   "execution_count": null,
   "id": "trained-history",
   "metadata": {},
   "outputs": [],
   "source": [
    "data = load_sphere_coords(2312)  # spherical head model coordinates\n",
    "\n",
    "target_area = (2 / 100, 2 / 100)  # effective irradiated surface area\n",
    "A = target_area[0] * target_area[1]  # area of the effective irradiated surface\n",
    "d = -5 / 1000  # distance from the antenna\n",
    "\n",
    "target_area_origin = (-target_area[0]/2, -target_area[1]/2)\n",
    "\n",
    "data_target = data[  # effective irradiated skin surface\n",
    "    (data['y'] < 0) &\n",
    "    (data['x'] > target_area_origin[0]) &\n",
    "    (data['x'] < target_area_origin[0] * -1) &\n",
    "    (data['z'] > target_area_origin[1]) &\n",
    "    (data['z'] < target_area_origin[1] * -1)]\n",
    "data_target.reset_index(drop=True, inplace=True)\n",
    "data_target.head()"
   ]
  },
  {
   "cell_type": "code",
   "execution_count": null,
   "id": "straight-mortality",
   "metadata": {},
   "outputs": [],
   "source": [
    "# coordinates\n",
    "\n",
    "X = data_target[['x', 'z']].to_numpy()\n",
    "y = data_target['y'].to_numpy()"
   ]
  },
  {
   "cell_type": "code",
   "execution_count": null,
   "id": "specific-texture",
   "metadata": {},
   "outputs": [],
   "source": [
    "# visualize the observed irradiated skin surface\n",
    "\n",
    "fig = plt.figure(figsize=(6, 6))\n",
    "ax = plt.axes(projection ='3d')\n",
    "ax.scatter(X[:, 0], y, X[:, 1], alpha=0.3)\n",
    "ax.set(xlabel='x', ylabel='y', zlabel='z',\n",
    "       xticks=jnp.mgrid[X[:, 0].min():X[:, 0].max():4j], \n",
    "       yticks=jnp.mgrid[y.min():y.max():4j],\n",
    "       zticks=jnp.mgrid[X[:, 1].min():X[:, 1].max():4j])\n",
    "plt.tight_layout();"
   ]
  },
  {
   "cell_type": "code",
   "execution_count": null,
   "id": "pleased-yorkshire",
   "metadata": {},
   "outputs": [],
   "source": [
    "# generating new coordinates withing a given boundaries\n",
    "\n",
    "def cart2sph(x, y, z):\n",
    "    \"\"\"Return spherical given Cartesain coordinates.\"\"\"\n",
    "    r = jnp.sqrt(x ** 2 + y ** 2 + z ** 2)\n",
    "    theta = jnp.arccos(z / r)\n",
    "    phi = jnp.arctan2(y, x)\n",
    "    return r, theta, phi\n",
    "\n",
    "\n",
    "def sph2cart(r, theta, phi):\n",
    "    \"\"\"Return Cartesian given Spherical coordinates.\"\"\"\n",
    "    x = r * jnp.cos(phi) * jnp.sin(theta)\n",
    "    y = r * jnp.sin(phi) * jnp.sin(theta)\n",
    "    z = r * jnp.cos(theta)\n",
    "    return x, y, z\n",
    "\n",
    "\n",
    "# generate Gaussian points in spherical c.s. and convert to Cartesian c.s.\n",
    "_, theta, phi = cart2sph(X[:, 0], y, X[:, 1])\n",
    "theta_a = theta.min()\n",
    "theta_b = theta.max()\n",
    "phi_a = phi.min()\n",
    "phi_b = phi.max()\n",
    "theta_points, theta_weights = roots_legendre(21)\n",
    "phi_points, phi_weights = roots_legendre(21)\n",
    "theta_points = 0.5 * (theta_points + 1.) * (theta_b - theta_a) + theta_a\n",
    "theta_weights = 0.5 * theta_weights * (theta_b - theta_a)\n",
    "phi_points = 0.5 * (phi_points + 1.) * (phi_b - phi_a) + phi_a\n",
    "phi_weights = 0.5 * phi_weights * (phi_b - phi_a)\n",
    "\n",
    "r = 0.09\n",
    "phi_grid, theta_grid = jnp.meshgrid(phi_points, theta_points)\n",
    "xt, yt, zt = sph2cart(r, theta_grid.ravel(), phi_grid.ravel())"
   ]
  },
  {
   "cell_type": "code",
   "execution_count": null,
   "id": "alternate-selection",
   "metadata": {},
   "outputs": [],
   "source": [
    "# new coordinates\n",
    "\n",
    "X = jnp.hstack((xt.reshape(-1, 1), zt.reshape(-1, 1)))\n",
    "y = jnp.array(yt).reshape(-1, 1)"
   ]
  },
  {
   "cell_type": "code",
   "execution_count": null,
   "id": "spectacular-shoulder",
   "metadata": {},
   "outputs": [],
   "source": [
    "# visualize the observed irradiated skin surface\n",
    "\n",
    "fig = plt.figure(figsize=(6, 6))\n",
    "ax = plt.axes(projection ='3d')\n",
    "ax.scatter(X[:, 0], y, X[:, 1], alpha=0.3)\n",
    "ax.set(xlabel='x', ylabel='y', zlabel='z',\n",
    "       xticks=jnp.mgrid[X[:, 0].min():X[:, 0].max():4j], \n",
    "       yticks=jnp.mgrid[y.min():y.max():4j],\n",
    "       zticks=jnp.mgrid[X[:, 1].min():X[:, 1].max():4j])\n",
    "plt.tight_layout();"
   ]
  },
  {
   "cell_type": "markdown",
   "id": "metropolitan-mystery",
   "metadata": {},
   "source": [
    "# Antenna model"
   ]
  },
  {
   "cell_type": "code",
   "execution_count": null,
   "id": "oriental-democracy",
   "metadata": {},
   "outputs": [],
   "source": [
    "# antenna electric properties (Poljak 2005)\n",
    "\n",
    "f = 10e9  # operating frequency\n",
    "\n",
    "antenna_data = load_antenna_el_properties(f)\n",
    "\n",
    "Is = antenna_data.ireal.to_numpy() + antenna_data.iimag.to_numpy() * 1j\n",
    "Is = jnp.asarray(Is)\n",
    "xs = antenna_data.x.to_numpy()\n",
    "xs = jnp.asarray(xs) - xs.max() / 2\n",
    "ys = jnp.zeros_like(xs) + data_target['y'].min() + d\n",
    "zs = jnp.zeros_like(xs)"
   ]
  },
  {
   "cell_type": "code",
   "execution_count": null,
   "id": "failing-frank",
   "metadata": {},
   "outputs": [],
   "source": [
    "# visualize the antenna position w.r.t. the surface of the head\n",
    "\n",
    "fig = plt.figure(figsize=(6, 6))\n",
    "ax = plt.axes(projection ='3d')\n",
    "ax.scatter(X[:, 0], y, X[:, 1], alpha=0.3)\n",
    "ax.plot(xs, ys, zs, lw=4, linestyle='-', c='r',\n",
    "        label=(f'$\\\\lambda/2$ dipole antenna\\n'\n",
    "               f'$d = {-d * 1000}$ mm\\n'\n",
    "               f'$f = {f / 1e9}$ GHz'))\n",
    "ax.set(xlabel='x', ylabel='y', zlabel='z');\n",
    "ax.legend()\n",
    "plt.tight_layout();"
   ]
  },
  {
   "cell_type": "markdown",
   "id": "differential-wholesale",
   "metadata": {},
   "source": [
    "# Incident power density"
   ]
  },
  {
   "cell_type": "code",
   "execution_count": null,
   "id": "ordinary-cleaner",
   "metadata": {},
   "outputs": [],
   "source": [
    "# spatial distribution of current derivative\n",
    "\n",
    "dx = xs[1] - xs[0]\n",
    "Is_x = holoborodko(Is, dx)"
   ]
  },
  {
   "cell_type": "code",
   "execution_count": null,
   "id": "manufactured-upper",
   "metadata": {},
   "outputs": [],
   "source": [
    "# compute the power density on the surface of the skin\n",
    "\n",
    "Sx, Sy, Sz = [], [], []\n",
    "for _xt, _yt, _zt in zip(X[:, 0], y.ravel(), X[:, 1]):\n",
    "    _Sx, _Sy, _Sz = poynting(_xt, _yt, _zt, xs, ys, zs, f, Is, Is_x)\n",
    "    Sx.append(_Sx)\n",
    "    Sy.append(_Sy)\n",
    "    Sz.append(_Sz)\n",
    "Sx = jnp.asarray(Sx)\n",
    "Sy = jnp.asarray(Sy)\n",
    "Sz = jnp.asarray(Sz)\n",
    "\n",
    "S = jnp.sqrt(Sx ** 2 + Sy ** 2 + Sz ** 2)"
   ]
  },
  {
   "cell_type": "code",
   "execution_count": null,
   "id": "mounted-density",
   "metadata": {},
   "outputs": [],
   "source": [
    "# visualize the power density on the surface of the skin\n",
    "\n",
    "fig = plt.figure(figsize=(6, 6))\n",
    "ax = plt.axes(projection ='3d')\n",
    "ax.plot(xs, ys, zs, lw=4, linestyle='-', c='r',\n",
    "        label=(f'$\\\\lambda/2$ dipole antenna\\n'\n",
    "               f'$d = {-d * 1000}$ mm\\n'\n",
    "               f'$f = {f / 1e9}$ GHz'))\n",
    "ax.scatter(X[:, 0], y.ravel(), X[:, 1], alpha=0.3)\n",
    "ax.quiver(X[:, 0][::3], y.ravel()[::3], X[:, 1][::3],\n",
    "          jnp.abs(Sx[::3]), jnp.abs(Sy[::3]), jnp.abs(Sz[::3]),\n",
    "          length=0.001, normalize=True, color='black',\n",
    "          label='$\\\\vec{P}(x, y, z)$')\n",
    "ax.set(xlabel='x', ylabel='y', zlabel='z')\n",
    "ax.legend()\n",
    "plt.tight_layout();"
   ]
  },
  {
   "cell_type": "code",
   "execution_count": null,
   "id": "about-graphics",
   "metadata": {},
   "outputs": [],
   "source": [
    "# incident power density\n",
    "\n",
    "poynting_mag = 0\n",
    "for _theta, _w_theta in zip(theta_points, theta_weights):\n",
    "    for _phi, _w_phi in zip(phi_points, phi_weights):\n",
    "        # normal vector components\n",
    "        nx = r ** 2 * jnp.cos(_phi) * jnp.sin(_theta) ** 2 \n",
    "        ny = r ** 2 * jnp.sin(_phi) * jnp.sin(_theta) ** 2\n",
    "        nz = r ** 2 * jnp.cos(_theta) * jnp.sin(_theta)\n",
    "        # power density vector field\n",
    "        _xt, _yt, _zt = sph2cart(r, _theta, _phi)\n",
    "        _Sx, _Sy, _Sz = poynting(_xt, _yt, _zt, xs, ys, zs, f, Is, Is_x)\n",
    "        # dot product between power density and normal vector\n",
    "        Fn = _Sx.real * nx + _Sy.real * ny + _Sz.real * nz\n",
    "        poynting_mag += Fn * _w_theta * _w_phi\n",
    "Sab = poynting_mag / (2 * A)"
   ]
  },
  {
   "cell_type": "code",
   "execution_count": null,
   "id": "younger-supplier",
   "metadata": {},
   "outputs": [],
   "source": [
    "print(f'IPD = {Sab:.4f} W/m2')"
   ]
  },
  {
   "cell_type": "markdown",
   "id": "professional-thomas",
   "metadata": {},
   "source": [
    "# Neural network parametrization"
   ]
  },
  {
   "cell_type": "code",
   "execution_count": null,
   "id": "olympic-cream",
   "metadata": {},
   "outputs": [],
   "source": [
    "# prepare the data for the training of the neural network for an approximation\n",
    "# of y-coordinate: y = nn(x, z)\n",
    "\n",
    "X_scaled = X * 100\n",
    "scaler = MinMaxScaler()\n",
    "y_scaled = scaler.fit_transform(y)\n",
    "\n",
    "X_train, X_test, y_train, y_test = train_test_split(X_scaled, y_scaled)\n",
    "\n",
    "# convert numpy arrays to jax.numpy arrays\n",
    "X_train = jnp.asarray(X_train)\n",
    "X_test = jnp.asarray(X_test)\n",
    "y_train = jnp.asarray(y_train)\n",
    "y_test = jnp.asarray(y_test)"
   ]
  },
  {
   "cell_type": "code",
   "execution_count": null,
   "id": "controversial-stack",
   "metadata": {},
   "outputs": [],
   "source": [
    "# visualize train and test data\n",
    "\n",
    "fig = plt.figure(figsize=(6, 6))\n",
    "ax = plt.axes(projection ='3d')\n",
    "ax.scatter(X_train[:, 0], y_train, X_train[:, 1], c='C0', label='train data', alpha=0.3)\n",
    "ax.scatter(X_test[:, 0], y_test, X_test[:, 1], c='C1', label='test data', alpha=0.5)\n",
    "ax.set(xlabel='x', ylabel='y', zlabel='z',\n",
    "       xticks=jnp.mgrid[-1:1:5j], zticks=jnp.mgrid[-1:1:5j])\n",
    "ax.legend()\n",
    "plt.tight_layout();"
   ]
  },
  {
   "cell_type": "code",
   "execution_count": null,
   "id": "inner-application",
   "metadata": {},
   "outputs": [],
   "source": [
    "rng = random.PRNGKey(0)\n",
    "\n",
    "\n",
    "def init_network_params(sizes, key):\n",
    "    keys = random.split(key, len(sizes))\n",
    "    def random_layer_params(m, n, key, scale=1e-2):\n",
    "        w_key, b_key = random.split(key)\n",
    "        return (scale * random.normal(w_key, (n, m)),\n",
    "                scale * random.normal(b_key, (n, )))\n",
    "    return [random_layer_params(m, n, key)\n",
    "            for m, n, key in zip(sizes[:-1], sizes[1:], keys)]\n",
    "\n",
    "\n",
    "def forward(params, X):\n",
    "    output = X\n",
    "    for w, b in params[:-1]:\n",
    "        output = nn.relu(w @ output + b)\n",
    "    w, b = params[-1]\n",
    "    output = w @ output + b\n",
    "    return output\n",
    "\n",
    "\n",
    "batch_forward = vmap(forward, in_axes=(None, 0))\n",
    "\n",
    "\n",
    "@jit\n",
    "def loss_fn(params, batch):\n",
    "    X, y = batch\n",
    "    y_pred = batch_forward(params, X)\n",
    "    return jnp.sum(jnp.square(y_pred - y))\n",
    "\n",
    "\n",
    "grad_fn = jit(grad(loss_fn))\n",
    "\n",
    "\n",
    "@jit\n",
    "def update(step, optim_state, batch):\n",
    "    params = optim_params(optim_state)\n",
    "    grads = grad_fn(params, batch)\n",
    "    optim_state = optim_update(step, grads, optim_state)\n",
    "    return optim_state\n",
    "\n",
    "\n",
    "def data_stream(num_train, num_batches):\n",
    "    rng = npr.RandomState(0)\n",
    "    while True:\n",
    "        perm = rng.permutation(num_train)\n",
    "        for i in range(num_batches):\n",
    "            batch_idx = perm[i * batch_size:(i + 1) * batch_size]\n",
    "            yield X_train[batch_idx], y_train[batch_idx]"
   ]
  },
  {
   "cell_type": "code",
   "execution_count": null,
   "id": "waiting-atmosphere",
   "metadata": {},
   "outputs": [],
   "source": [
    "step_size = 0.001\n",
    "n_epochs = 10000\n",
    "printout = int(n_epochs / 10.)\n",
    "batch_size = 256\n",
    "# momentum_mass = 0.9  # for momentum and adagrad\n",
    "sizes = [2, 128, 256, 128, 1]\n",
    "\n",
    "num_train = X_train.shape[0]\n",
    "num_complete_batches, leftover = divmod(num_train, batch_size)\n",
    "num_batches = num_complete_batches + bool(leftover)\n",
    "\n",
    "batches = data_stream(num_train, num_batches)\n",
    "\n",
    "optim_init, optim_update, optim_params = optimizers.adam(step_size)\n",
    "init_params = init_network_params(sizes, rng)\n",
    "optim_state = optim_init(init_params)\n",
    "itercount = itertools.count()\n",
    "\n",
    "loss_train, loss_test = [], []\n",
    "best_params = []\n",
    "for epoch in trange(n_epochs):\n",
    "    start_time = time.time()\n",
    "    for _ in range(num_batches):\n",
    "        optim_state = update(next(itercount), optim_state, next(batches))\n",
    "    epoch_time = time.time() - start_time\n",
    "    \n",
    "    params = optim_params(optim_state)\n",
    "    if (epoch == 0) or (epoch % printout == (printout - 1)):\n",
    "        if epoch == 0:\n",
    "            print('epoch \\t| loss on test set')\n",
    "            print('----- \\t| ----------------')\n",
    "        loss_train.append(loss_fn(params, (X_train, y_train)))\n",
    "        best_params.append(params)\n",
    "        l = loss_fn(params, (X_test, y_test))\n",
    "        loss_test.append(l)\n",
    "        print(f'{epoch + 1} \\t| {l}')"
   ]
  },
  {
   "cell_type": "code",
   "execution_count": null,
   "id": "interracial-blackberry",
   "metadata": {},
   "outputs": [],
   "source": [
    "plt.plot(jnp.arange(0, n_epochs+1, printout), loss_train, label='train loss')\n",
    "plt.plot(jnp.arange(0, n_epochs+1, printout), loss_test, label='test loss')\n",
    "plt.yscale('log')\n",
    "plt.legend();"
   ]
  },
  {
   "cell_type": "code",
   "execution_count": null,
   "id": "legislative-tiffany",
   "metadata": {},
   "outputs": [],
   "source": [
    "best_params_idx = loss_test.index(min(loss_test))\n",
    "params = best_params[best_params_idx]"
   ]
  },
  {
   "cell_type": "code",
   "execution_count": null,
   "id": "prescribed-county",
   "metadata": {},
   "outputs": [],
   "source": [
    "fig = plt.figure(figsize=(6, 6))\n",
    "plt.plot(y_test.flatten(), 'o', label='test values')\n",
    "plt.plot(batch_forward(best_params[7], X_test).flatten(), 'x', label='predicted values')\n",
    "plt.legend()\n",
    "plt.tight_layout();"
   ]
  },
  {
   "cell_type": "code",
   "execution_count": null,
   "id": "controversial-creation",
   "metadata": {},
   "outputs": [],
   "source": [
    "fig = plt.figure(figsize=(6, 6))\n",
    "ax = plt.axes(projection ='3d')\n",
    "ax.scatter(X_scaled[:, 0], y_scaled, X_scaled[:, 1], alpha=0.3, label='ground truth')\n",
    "ax.scatter(X_scaled[:, 0], batch_forward(params, X_scaled), X_scaled[:, 1], marker='x', alpha=0.3, label='nn representation')\n",
    "ax.set(xlabel='x', ylabel='y', zlabel='z',\n",
    "       xticks=jnp.mgrid[-1:1:5j], zticks=jnp.mgrid[-1:1:5j])\n",
    "ax.legend()\n",
    "plt.tight_layout();"
   ]
  },
  {
   "cell_type": "code",
   "execution_count": null,
   "id": "correct-exchange",
   "metadata": {},
   "outputs": [],
   "source": [
    "fig = plt.figure(figsize=(6, 6))\n",
    "ax = plt.axes(projection ='3d')\n",
    "ax.scatter(X[:, 0], y, X[:, 1], alpha=0.3, label='ground truth')\n",
    "ax.scatter(X[:, 0], scaler.inverse_transform(batch_forward(params, X_scaled)), X[:, 1], marker='x', alpha=0.3, label='nn representation - rescaled')\n",
    "ax.set(xlabel='x', ylabel='y', zlabel='z',\n",
    "       xticks=jnp.mgrid[X[:, 0].min():X[:, 0].max():4j], \n",
    "       yticks=jnp.mgrid[y.min():y.max():4j],\n",
    "       zticks=jnp.mgrid[X[:, 1].min():X[:, 1].max():4j]);\n",
    "ax.legend()\n",
    "plt.tight_layout();"
   ]
  },
  {
   "cell_type": "code",
   "execution_count": null,
   "id": "innocent-ordinance",
   "metadata": {},
   "outputs": [],
   "source": [
    "def y_nn(X):\n",
    "    return forward(params, X * 100)[0]\n",
    "\n",
    "\n",
    "grad_y_nn = jit(vmap(grad(y_nn)))"
   ]
  },
  {
   "cell_type": "code",
   "execution_count": null,
   "id": "arabic-inquiry",
   "metadata": {},
   "outputs": [],
   "source": [
    "x_a = X[:, 0].min()\n",
    "x_b = X[:, 0].max()\n",
    "z_a = X[:, 1].min()\n",
    "z_b = X[:, 1].max()\n",
    "x_points, x_weights = roots_legendre(33)\n",
    "z_points, z_weights = roots_legendre(33)\n",
    "x_points = 0.5 * (x_points + 1.) * (x_b - x_a) + x_a\n",
    "x_weights = 0.5 * x_weights * (x_b - x_a)\n",
    "z_points = 0.5 * (z_points + 1.) * (z_b - z_a) + z_a\n",
    "z_weights = 0.5 * z_weights * (z_b - z_a)"
   ]
  },
  {
   "cell_type": "code",
   "execution_count": null,
   "id": "severe-boost",
   "metadata": {},
   "outputs": [],
   "source": [
    "poynting_mag = 0\n",
    "for xt, w_xt in zip(x_points, x_weights):\n",
    "    for zt, w_zt in zip(z_points, z_weights):\n",
    "        xtzt = jnp.atleast_2d(jnp.r_[xt, zt])\n",
    "        yt_scaled = batch_forward(params, xtzt)\n",
    "        yt = scaler.inverse_transform(yt_scaled)[0][0]\n",
    "        grad_yt_scaled = grad_y_nn(xtzt)\n",
    "        grad_yt = scaler.inverse_transform(grad_yt_scaled)\n",
    "        Sx, Sy, Sz = poynting(xt, yt, zt, xs, ys, zs, f, Is, Is_x)\n",
    "        # dot product between power density and vector normal to dA (not unit vector)\n",
    "        Sn = Sx.real * grad_yt[0][0] + Sz.real * grad_yt[0][1] - Sy.real\n",
    "        poynting_mag += Sn * w_xt * w_zt\n",
    "Sab = poynting_mag / (2 * A)"
   ]
  },
  {
   "cell_type": "code",
   "execution_count": null,
   "id": "certain-excerpt",
   "metadata": {},
   "outputs": [],
   "source": [
    "print(f'IPD = {Sab:.4f} W/m2')"
   ]
  },
  {
   "cell_type": "code",
   "execution_count": null,
   "id": "failing-vegetation",
   "metadata": {},
   "outputs": [],
   "source": []
  }
 ],
 "metadata": {
  "kernelspec": {
   "display_name": "Python 3",
   "language": "python",
   "name": "python3"
  },
  "language_info": {
   "codemirror_mode": {
    "name": "ipython",
    "version": 3
   },
   "file_extension": ".py",
   "mimetype": "text/x-python",
   "name": "python",
   "nbconvert_exporter": "python",
   "pygments_lexer": "ipython3",
   "version": "3.8.5"
  }
 },
 "nbformat": 4,
 "nbformat_minor": 5
}
