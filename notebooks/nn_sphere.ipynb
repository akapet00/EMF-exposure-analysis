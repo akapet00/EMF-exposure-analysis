{
 "cells": [
  {
   "cell_type": "code",
   "execution_count": null,
   "id": "danish-ability",
   "metadata": {},
   "outputs": [],
   "source": [
    "import itertools\n",
    "import os\n",
    "if os.getcwd().split(\"/\")[-1] == \"notebooks\":\n",
    "    os.chdir(os.pardir)\n",
    "import time\n",
    "\n",
    "import jax\n",
    "import jax.numpy as jnp\n",
    "import jax.nn as nn\n",
    "from jax import random, vmap, jit, grad\n",
    "from jax.experimental import optimizers\n",
    "import matplotlib.pyplot as plt\n",
    "import numpy.random as npr\n",
    "from scipy.special import roots_legendre\n",
    "from sklearn.model_selection import train_test_split\n",
    "from sklearn.preprocessing import MinMaxScaler\n",
    "from tqdm.notebook import trange\n",
    "\n",
    "from pycbem.utils.dataloader import load_sphere_coords"
   ]
  },
  {
   "cell_type": "code",
   "execution_count": null,
   "id": "collective-nirvana",
   "metadata": {},
   "outputs": [],
   "source": [
    "%config InlineBackend.figure_format = 'retina'"
   ]
  },
  {
   "cell_type": "code",
   "execution_count": null,
   "id": "molecular-condition",
   "metadata": {},
   "outputs": [],
   "source": [
    "data = load_sphere_coords(2312)\n",
    "data.head()"
   ]
  },
  {
   "cell_type": "code",
   "execution_count": null,
   "id": "thermal-mileage",
   "metadata": {},
   "outputs": [],
   "source": [
    "target_area = (2 / 100, 2 / 100)\n",
    "target_area_origin = (-target_area[0]/2, -target_area[1]/2)\n",
    "data_target = data[\n",
    "    (data['y'] < 0) &\n",
    "    (data['x'] > target_area_origin[0]) &\n",
    "    (data['x'] < target_area_origin[0] * -1) &\n",
    "    (data['z'] > target_area_origin[1]) &\n",
    "    (data['z'] < target_area_origin[1] * -1)]\n",
    "data_target.reset_index(drop=True, inplace=True)\n",
    "data_target.head()"
   ]
  },
  {
   "cell_type": "code",
   "execution_count": null,
   "id": "disciplinary-literacy",
   "metadata": {},
   "outputs": [],
   "source": [
    "X = data_target[['x', 'z']].to_numpy()\n",
    "y = data_target['y'].to_numpy()"
   ]
  },
  {
   "cell_type": "code",
   "execution_count": null,
   "id": "exciting-march",
   "metadata": {},
   "outputs": [],
   "source": [
    "fig = plt.figure(figsize=(6, 6))\n",
    "ax = plt.axes(projection ='3d')\n",
    "ax.scatter(X[:, 0], y, X[:, 1], alpha=0.3)\n",
    "ax.set(xlabel='x', ylabel='y', zlabel='z',\n",
    "       xticks=jnp.mgrid[X[:, 0].min():X[:, 0].max():4j], \n",
    "       yticks=jnp.mgrid[y.min():y.max():4j],\n",
    "       zticks=jnp.mgrid[X[:, 1].min():X[:, 1].max():4j]);"
   ]
  },
  {
   "cell_type": "code",
   "execution_count": null,
   "id": "virtual-advertiser",
   "metadata": {},
   "outputs": [],
   "source": [
    "def cart2sph(x, y, z):\n",
    "    r = jnp.sqrt(x ** 2 + y ** 2 + z ** 2)\n",
    "    theta = jnp.arccos(z / r)\n",
    "    phi = jnp.arctan2(y, x)\n",
    "    return (r, theta, phi)\n",
    "\n",
    "\n",
    "def sph2cart(r, theta, phi):\n",
    "    x = r * jnp.cos(phi) * jnp.sin(theta)\n",
    "    y = r * jnp.sin(phi) * jnp.sin(theta)\n",
    "    z = r * jnp.cos(theta)\n",
    "    return (x, y, z)"
   ]
  },
  {
   "cell_type": "code",
   "execution_count": null,
   "id": "middle-zoning",
   "metadata": {},
   "outputs": [],
   "source": [
    "_, theta, phi = cart2sph(X[:, 0], y, X[:, 1])\n",
    "theta_a = theta.min()\n",
    "theta_b = theta.max()\n",
    "phi_a = phi.min()\n",
    "phi_b = phi.max()\n",
    "theta_points, theta_weights = roots_legendre(100)\n",
    "phi_points, phi_weights = roots_legendre(100)\n",
    "theta_points = 0.5 * (theta_points + 1.) * (theta_b - theta_a) + theta_a\n",
    "theta_weights = 0.5 * theta_weights * (theta_b - theta_a)\n",
    "phi_points = 0.5 * (phi_points + 1.) * (phi_b - phi_a) + phi_a\n",
    "phi_weights = 0.5 * phi_weights * (phi_b - phi_a)\n",
    "\n",
    "r = 0.09\n",
    "phi_grid, theta_grid = jnp.meshgrid(phi_points, theta_points)\n",
    "xt, yt, zt = sph2cart(r, theta_grid.ravel(), phi_grid.ravel())"
   ]
  },
  {
   "cell_type": "code",
   "execution_count": null,
   "id": "extreme-cemetery",
   "metadata": {},
   "outputs": [],
   "source": [
    "X = jnp.hstack((xt.reshape(-1, 1), zt.reshape(-1, 1)))\n",
    "y = jnp.array(yt).reshape(-1, 1)"
   ]
  },
  {
   "cell_type": "code",
   "execution_count": null,
   "id": "handed-python",
   "metadata": {},
   "outputs": [],
   "source": [
    "X = X * 100\n",
    "scaler = MinMaxScaler()\n",
    "y_scaled = scaler.fit_transform(y)"
   ]
  },
  {
   "cell_type": "code",
   "execution_count": null,
   "id": "foster-accordance",
   "metadata": {},
   "outputs": [],
   "source": [
    "X_train, X_test, y_train, y_test = train_test_split(X, y_scaled)"
   ]
  },
  {
   "cell_type": "code",
   "execution_count": null,
   "id": "israeli-embassy",
   "metadata": {},
   "outputs": [],
   "source": [
    "fig = plt.figure(figsize=(6, 6))\n",
    "ax = plt.axes(projection ='3d')\n",
    "ax.scatter(X_train[:, 0], y_train, X_train[:, 1], c='C0', label='train data', alpha=0.3)\n",
    "ax.scatter(X_test[:, 0], y_test, X_test[:, 1], c='C1', label='test data', alpha=0.5)\n",
    "ax.set(xlabel='x', ylabel='y', zlabel='z',\n",
    "       xticks=jnp.mgrid[-1:1:5j], zticks=jnp.mgrid[-1:1:5j])\n",
    "ax.legend();"
   ]
  },
  {
   "cell_type": "code",
   "execution_count": null,
   "id": "israeli-medication",
   "metadata": {},
   "outputs": [],
   "source": [
    "rng = random.PRNGKey(0)"
   ]
  },
  {
   "cell_type": "code",
   "execution_count": null,
   "id": "bacterial-shade",
   "metadata": {},
   "outputs": [],
   "source": [
    "def init_network_params(sizes, key):\n",
    "    keys = random.split(key, len(sizes))\n",
    "    def random_layer_params(m, n, key, scale=1e-2):\n",
    "        w_key, b_key = random.split(key)\n",
    "        return (scale * random.normal(w_key, (n, m)),\n",
    "                scale * random.normal(b_key, (n, )))\n",
    "    return [random_layer_params(m, n, key)\n",
    "            for m, n, key in zip(sizes[:-1], sizes[1:], keys)]"
   ]
  },
  {
   "cell_type": "code",
   "execution_count": null,
   "id": "hindu-separate",
   "metadata": {},
   "outputs": [],
   "source": [
    "def forward(params, X):\n",
    "    output = X\n",
    "    for w, b in params[:-1]:\n",
    "        output = nn.relu(w @ output + b)\n",
    "    w, b = params[-1]\n",
    "    output = w @ output + b\n",
    "    return output"
   ]
  },
  {
   "cell_type": "code",
   "execution_count": null,
   "id": "distributed-minute",
   "metadata": {},
   "outputs": [],
   "source": [
    "batch_forward = vmap(forward, in_axes=(None, 0))"
   ]
  },
  {
   "cell_type": "code",
   "execution_count": null,
   "id": "painful-replica",
   "metadata": {},
   "outputs": [],
   "source": [
    "@jit\n",
    "def loss_fn(params, batch):\n",
    "    X, y = batch\n",
    "    y_pred = batch_forward(params, X)\n",
    "    return jnp.sum(jnp.square(y_pred - y))"
   ]
  },
  {
   "cell_type": "code",
   "execution_count": null,
   "id": "specific-military",
   "metadata": {},
   "outputs": [],
   "source": [
    "grad_fn = jit(grad(loss_fn))"
   ]
  },
  {
   "cell_type": "code",
   "execution_count": null,
   "id": "funny-recipient",
   "metadata": {},
   "outputs": [],
   "source": [
    "@jit\n",
    "def update(step, optim_state, batch):\n",
    "    params = optim_params(optim_state)\n",
    "    grads = grad_fn(params, batch)\n",
    "    optim_state = optim_update(step, grads, optim_state)\n",
    "    return optim_state"
   ]
  },
  {
   "cell_type": "code",
   "execution_count": null,
   "id": "neutral-aluminum",
   "metadata": {},
   "outputs": [],
   "source": [
    "def data_stream(num_train, num_batches):\n",
    "    rng = npr.RandomState(0)\n",
    "    while True:\n",
    "        perm = rng.permutation(num_train)\n",
    "        for i in range(num_batches):\n",
    "            batch_idx = perm[i * batch_size:(i + 1) * batch_size]\n",
    "            yield X_train[batch_idx], y_train[batch_idx]"
   ]
  },
  {
   "cell_type": "code",
   "execution_count": null,
   "id": "referenced-assets",
   "metadata": {},
   "outputs": [],
   "source": [
    "step_size = 0.001\n",
    "n_epochs = 500\n",
    "printout = int(n_epochs / 10.)\n",
    "batch_size = 128\n",
    "# momentum_mass = 0.9  # for momentum and adagrad\n",
    "sizes = [2, 30, 60, 30, 1]\n",
    "\n",
    "num_train = X_train.shape[0]\n",
    "num_complete_batches, leftover = divmod(num_train, batch_size)\n",
    "num_batches = num_complete_batches + bool(leftover)\n",
    "\n",
    "batches = data_stream(num_train, num_batches)\n",
    "\n",
    "optim_init, optim_update, optim_params = optimizers.adam(step_size)\n",
    "init_params = init_network_params(sizes, rng)\n",
    "optim_state = optim_init(init_params)\n",
    "itercount = itertools.count()"
   ]
  },
  {
   "cell_type": "code",
   "execution_count": null,
   "id": "valued-pizza",
   "metadata": {},
   "outputs": [],
   "source": [
    "loss_train, loss_test = [], []\n",
    "for epoch in trange(n_epochs):\n",
    "    start_time = time.time()\n",
    "    for _ in range(num_batches):\n",
    "        optim_state = update(next(itercount), optim_state, next(batches))\n",
    "    epoch_time = time.time() - start_time\n",
    "    \n",
    "    params = optim_params(optim_state)\n",
    "    if (epoch == 0) or (epoch % printout == (printout - 1)):\n",
    "        if epoch == 0:\n",
    "            print('epoch \\t| loss on test set')\n",
    "            print('----- \\t| ----------------')\n",
    "        loss_train.append(loss_fn(params, (X_train, y_train)))\n",
    "        l = loss_fn(params, (X_test, y_test))\n",
    "        loss_test.append(l)\n",
    "        print(f'{epoch + 1} \\t| {l}')"
   ]
  },
  {
   "cell_type": "code",
   "execution_count": null,
   "id": "advanced-attendance",
   "metadata": {},
   "outputs": [],
   "source": [
    "plt.plot(jnp.arange(0, n_epochs+1, printout), loss_train, label='train loss')\n",
    "plt.plot(jnp.arange(0, n_epochs+1, printout), loss_test, label='test loss')\n",
    "plt.yscale('log')\n",
    "plt.legend();"
   ]
  },
  {
   "cell_type": "code",
   "execution_count": null,
   "id": "structured-while",
   "metadata": {},
   "outputs": [],
   "source": [
    "fig = plt.figure(figsize=(6, 6))\n",
    "plt.plot(y_test.flatten(), 'o', label='test values')\n",
    "plt.plot(batch_forward(params, X_test).flatten(), 'x', label='predicted values')\n",
    "fig.legend();"
   ]
  },
  {
   "cell_type": "code",
   "execution_count": null,
   "id": "quiet-binary",
   "metadata": {},
   "outputs": [],
   "source": [
    "fig = plt.figure(figsize=(6, 6))\n",
    "ax = plt.axes(projection ='3d')\n",
    "ax.scatter(X[:, 0], y_scaled, X[:, 1], alpha=0.3, label='ground truth')\n",
    "ax.scatter(X[:, 0], batch_forward(params, X), X[:, 1], marker='x', alpha=0.3, label='nn representation')\n",
    "ax.set(xlabel='x', ylabel='y', zlabel='z',\n",
    "       xticks=jnp.mgrid[-1:1:5j], zticks=jnp.mgrid[-1:1:5j])\n",
    "ax.legend();"
   ]
  },
  {
   "cell_type": "code",
   "execution_count": null,
   "id": "classified-crime",
   "metadata": {},
   "outputs": [],
   "source": []
  }
 ],
 "metadata": {
  "kernelspec": {
   "display_name": "Python 3",
   "language": "python",
   "name": "python3"
  },
  "language_info": {
   "codemirror_mode": {
    "name": "ipython",
    "version": 3
   },
   "file_extension": ".py",
   "mimetype": "text/x-python",
   "name": "python",
   "nbconvert_exporter": "python",
   "pygments_lexer": "ipython3",
   "version": "3.8.5"
  }
 },
 "nbformat": 4,
 "nbformat_minor": 5
}
