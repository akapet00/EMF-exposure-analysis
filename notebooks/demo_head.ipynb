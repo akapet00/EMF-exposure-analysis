{
 "cells": [
  {
   "cell_type": "code",
   "execution_count": null,
   "id": "exclusive-affair",
   "metadata": {},
   "outputs": [],
   "source": [
    "## imports\n",
    "import os\n",
    "os.chdir(os.pardir)\n",
    "\n",
    "import matplotlib.pyplot as plt\n",
    "from mpl_toolkits.mplot3d.art3d import Poly3DCollection\n",
    "from mpl_toolkits.mplot3d import Axes3D  \n",
    "import jax\n",
    "import jax.numpy as np\n",
    "import pandas as pd\n",
    "from scipy.interpolate import CloughTocher2DInterpolator\n",
    "\n",
    "from pycbem.field import efield, hfield\n",
    "from pycbem.utils.dataloader import (load_antenna_el_properties,\n",
    "                                     load_head_coords)\n",
    "from pycbem.utils.viz import fig_config"
   ]
  },
  {
   "cell_type": "code",
   "execution_count": null,
   "id": "supposed-huntington",
   "metadata": {},
   "outputs": [],
   "source": [
    "jax.config.update(\"jax_enable_x64\", True)"
   ]
  },
  {
   "cell_type": "code",
   "execution_count": null,
   "id": "active-harrison",
   "metadata": {},
   "outputs": [],
   "source": [
    "%config InlineBackend.figure_format = 'retina'"
   ]
  },
  {
   "cell_type": "code",
   "execution_count": null,
   "id": "under-lobby",
   "metadata": {},
   "outputs": [],
   "source": [
    "# frequency\n",
    "f = 10e9\n",
    "\n",
    "# effective radiated skin area\n",
    "target_area = (0.02, 0.02)  # 2 x 2 cm2\n",
    "A = target_area[0] * target_area[1]\n",
    "d = - 15 / 1000  # distance from the antenna\n",
    "\n",
    "# human head\n",
    "head_coords = load_head_coords()\n",
    "target_area_coords = head_coords[\n",
    "    (head_coords['y'] < 0) &\n",
    "    (head_coords['x'] > 0) & (head_coords['x'] < target_area[0]) &\n",
    "    (head_coords['z'] > 0) & (head_coords['z'] < target_area[1])]\n",
    "target_area_coords.reset_index(drop=True, inplace=True)\n",
    "\n",
    "# antenna electric properties (Poljak 2005)\n",
    "antenna_data = load_antenna_el_properties(f)\n",
    "Is = antenna_data.ireal.to_numpy() + antenna_data.iimag.to_numpy() * 1j\n",
    "\n",
    "# antenna position -- coordinates\n",
    "xs = antenna_data.x.to_numpy() \n",
    "xs = xs + (target_area[0] - xs[-1]) / 2.\n",
    "ys = np.zeros_like(xs) + target_area_coords['y'].min() + d\n",
    "zs = np.zeros_like(xs)\n",
    "zs = zs + (target_area[1] - zs[-1]) / 2."
   ]
  },
  {
   "cell_type": "code",
   "execution_count": null,
   "id": "complete-result",
   "metadata": {},
   "outputs": [],
   "source": [
    "# E field\n",
    "E = target_area_coords.apply(\n",
    "    lambda row: efield(row['x'], row['y'], row['z'], xs, ys, zs, Is, f),\n",
    "    axis=1, result_type='expand')\n",
    "E.columns = ['Ex', 'Ey', 'Ez']\n",
    "E_abs = E.apply(\n",
    "    lambda row: np.sqrt(row['Ex'] ** 2 + row['Ey'] ** 2 + row['Ez'] ** 2),\n",
    "    axis=1)\n",
    "E.loc[:, 'E_abs'] = E_abs\n",
    "\n",
    "# H field\n",
    "H = target_area_coords.apply(\n",
    "    lambda row: hfield(row['x'], row['y'], row['z'], xs, ys, zs, Is, f),\n",
    "    axis=1, result_type='expand')\n",
    "H.columns = ['Hx', 'Hy', 'Hz']\n",
    "H_abs = H.apply(\n",
    "    lambda row: np.sqrt(row['Hx'] ** 2 + row['Hy'] ** 2 + row['Hz'] ** 2),\n",
    "    axis=1)\n",
    "H.loc[:, 'H_abs'] = H_abs\n",
    "\n",
    "# update dataframe\n",
    "target_area_calc = pd.concat([target_area_coords, E, H], axis=1)\n",
    "\n",
    "# power density\n",
    "def _pd(row):\n",
    "    return (row['Ey'] * row['Hz'].conjugate()\n",
    "            - row['Ez'] * row['Hy'].conjugate(),\n",
    "            row['Ex'] * row['Hz'].conjugate(),\n",
    "            row['Ex'] * row['Hy'].conjugate())\n",
    "\n",
    "S = target_area_calc.apply(_pd, axis=1, result_type='expand')\n",
    "S.columns = ['Sx', 'Sy', 'Sz']\n",
    "S_abs = S.apply(\n",
    "    lambda row: np.sqrt(row['Sx'] ** 2 + row['Sy'] ** 2 + row['Sz'] ** 2),\n",
    "    axis=1)\n",
    "S.loc[:, 'S_abs'] = S_abs \n",
    "\n",
    "# update dataframe\n",
    "target_area_calc = pd.concat([target_area_calc, S], axis=1)"
   ]
  },
  {
   "cell_type": "code",
   "execution_count": null,
   "id": "suited-disabled",
   "metadata": {},
   "outputs": [],
   "source": [
    "x = target_area_calc['x'].to_numpy().reshape(-1, 1)\n",
    "y = target_area_calc['y'].to_numpy().reshape(-1, 1)\n",
    "z = target_area_calc['z'].to_numpy().reshape(-1, 1)\n",
    "xz_plane_inp = np.hstack((x, z))\n",
    "i = np.abs(target_area_calc['S_abs'].to_numpy(dtype=np.complex128))\n",
    "xz_interp_fn = CloughTocher2DInterpolator(xz_plane_inp, i)\n",
    "xz_grid = np.meshgrid(np.linspace(x.min(), x.max(), 101),\n",
    "                      np.linspace(z.min(), z.max(), 101))\n",
    "i_xz = xz_interp_fn(*xz_grid)"
   ]
  },
  {
   "cell_type": "code",
   "execution_count": null,
   "id": "successful-defense",
   "metadata": {},
   "outputs": [],
   "source": [
    "fig_config(latex=True, scaler=2.5)\n",
    "fig = plt.figure(figsize=(7, 6))\n",
    "ax = plt.axes(projection ='3d')\n",
    "\n",
    "# head point cloud\n",
    "cs = ax.scatter(head_coords['x'], head_coords['y'], head_coords['z'], color='black', alpha=0.02, zorder=-1)\n",
    "\n",
    "# dipole\n",
    "ax.plot(xs, ys, zs, linewidth=3, linestyle='-', c='r', zorder=1,\n",
    "        label=(f'$\\\\lambda/2$ dipole antenna\\n'\n",
    "               f'$d = {-d * 1000}$ mm\\n'\n",
    "               f'$f = {f / 1e9}$ GHz'))\n",
    "\n",
    "ax.set(xlabel='$x$ [m]', ylabel='$y$ [m]', zlabel='$z$ [m]',\n",
    "       xticks=[-0.05, 0.05, 0.15],\n",
    "       yticks=[0.0, 0.075, 0.15],\n",
    "       zticks=[-0.05, 0.05, 0.15])\n",
    "ax.xaxis.pane.fill = False\n",
    "ax.yaxis.pane.fill = False\n",
    "ax.zaxis.pane.fill = False\n",
    "ax.xaxis.pane.set_edgecolor('w')\n",
    "ax.yaxis.pane.set_edgecolor('w')\n",
    "ax.zaxis.pane.set_edgecolor('w')\n",
    "\n",
    "ax.view_init(15, -45)\n",
    "fig.legend(bbox_to_anchor=(0.5, 0.9), ncol=1, frameon=True, edgecolor='k')\n",
    "plt.tight_layout()\n",
    "plt.show()"
   ]
  },
  {
   "cell_type": "code",
   "execution_count": null,
   "id": "second-concentration",
   "metadata": {},
   "outputs": [],
   "source": [
    "fig_config(latex=True)\n",
    "fig = plt.figure(figsize=(7, 6))\n",
    "ax = fig.add_subplot()\n",
    "ax.scatter(head_coords['x'], head_coords['z'], color='black', alpha=0.01)\n",
    "ax.contourf(*xz_grid, i_xz,)\n",
    "ax.plot(xs, zs, 'r-', linewidth=3)\n",
    "ax.set_xlabel('$x$ [m]')\n",
    "ax.set_ylabel('$z$ [m]')\n",
    "plt.show()"
   ]
  },
  {
   "cell_type": "code",
   "execution_count": null,
   "id": "hidden-adaptation",
   "metadata": {},
   "outputs": [],
   "source": [
    "fig_config(latex=True, scaler=1.5)\n",
    "fig = plt.figure(figsize=(7, 5))\n",
    "ax = fig.add_subplot()\n",
    "cs = ax.imshow(i_xz, origin='lower', extent=(x.min(), x.max(), z.min(), z.max()))\n",
    "ax.plot(xs, zs, 'r-', linewidth=3)\n",
    "cbar = fig.colorbar(cs, ax=ax)\n",
    "cbar.ax.set_ylabel(r'S [W/m$^2$]')\n",
    "ax.set(xlabel='$x$ [m]', ylabel='$z$ [m]',\n",
    "       xticks=[0.005, 0.01, 0.015],\n",
    "       yticks=[0.0025, 0.01, 0.0175])\n",
    "plt.tight_layout()\n",
    "plt.show()"
   ]
  },
  {
   "cell_type": "code",
   "execution_count": null,
   "id": "abandoned-tsunami",
   "metadata": {},
   "outputs": [],
   "source": []
  }
 ],
 "metadata": {
  "kernelspec": {
   "display_name": "Python 3",
   "language": "python",
   "name": "python3"
  },
  "language_info": {
   "codemirror_mode": {
    "name": "ipython",
    "version": 3
   },
   "file_extension": ".py",
   "mimetype": "text/x-python",
   "name": "python",
   "nbconvert_exporter": "python",
   "pygments_lexer": "ipython3",
   "version": "3.8.5"
  }
 },
 "nbformat": 4,
 "nbformat_minor": 5
}
