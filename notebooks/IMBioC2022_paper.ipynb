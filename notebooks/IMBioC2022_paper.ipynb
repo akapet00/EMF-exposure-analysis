{
 "cells": [
  {
   "cell_type": "code",
   "execution_count": null,
   "metadata": {},
   "outputs": [],
   "source": [
    "import os\n",
    "if os.getcwd().split(\"/\")[-1] == \"notebooks\":\n",
    "    os.chdir(os.pardir)\n",
    "\n",
    "import matplotlib.pyplot as plt\n",
    "from matplotlib import cm\n",
    "import numpy as np\n",
    "import open3d as o3d\n",
    "import seaborn as sns\n",
    "\n",
    "from src.utils.dataloader import load_ear_data\n",
    "from src.utils.viz import set_axes_equal"
   ]
  },
  {
   "cell_type": "code",
   "execution_count": null,
   "metadata": {},
   "outputs": [],
   "source": [
    "sns.set(style='ticks', palette='colorblind')"
   ]
  },
  {
   "cell_type": "code",
   "execution_count": null,
   "metadata": {},
   "outputs": [],
   "source": [
    "%config InlineBackend.figure_format = 'retina'"
   ]
  },
  {
   "cell_type": "code",
   "execution_count": null,
   "metadata": {},
   "outputs": [],
   "source": [
    "PROJECT_NAME = 'IMBioC2022_paper'"
   ]
  },
  {
   "cell_type": "code",
   "execution_count": null,
   "metadata": {},
   "outputs": [],
   "source": [
    "def clean_df(df):\n",
    "    df = df[(df['x [mm]'] != df['x [mm]'].min())\n",
    "            & (df['x [mm]'] != df['x [mm]'].max())\n",
    "            & (df['y [mm]'] != df['y [mm]'].min())\n",
    "            & (df['y [mm]'] != df['y [mm]'].max())\n",
    "            & (df['z [mm]'] != df['z [mm]'].min())\n",
    "            & (df['z [mm]'] != df['z [mm]'].max())]\n",
    "    df.reset_index(drop=True, inplace=True)\n",
    "    return df\n",
    "\n",
    "\n",
    "def export_pcd(df, area=False):\n",
    "    if area:\n",
    "        pcd = np.c_[df['x [mm]'].to_numpy(),\n",
    "                    df['y [mm]'].to_numpy(),\n",
    "                    df['z [mm]'].to_numpy(),\n",
    "                    df['area [mm^2]'].to_numpy()]\n",
    "    else:\n",
    "        pcd = np.c_[df['x [mm]'].to_numpy(),\n",
    "                    df['y [mm]'].to_numpy(),\n",
    "                    df['z [mm]'].to_numpy()]\n",
    "    return pcd\n",
    "\n",
    "\n",
    "def export_fields(df):\n",
    "    Ex = df['ExRe [V/m]'].to_numpy() + 1j * df['ExIm [V/m]'].to_numpy()\n",
    "    Ey = df['EyRe [V/m]'].to_numpy() + 1j * df['EyIm [V/m]'].to_numpy()\n",
    "    Ez = df['EzRe [V/m]'].to_numpy() + 1j * df['EzIm [V/m]'].to_numpy()\n",
    "    Hx = df['HxRe [A/m]'].to_numpy() + 1j * df['HxIm [A/m]'].to_numpy()\n",
    "    Hy = df['HyRe [A/m]'].to_numpy() + 1j * df['HyIm [A/m]'].to_numpy()\n",
    "    Hz = df['HzRe [A/m]'].to_numpy() + 1j * df['HzIm [A/m]'].to_numpy()\n",
    "    return ((Ex, Ey, Ez), (Hx, Hy, Hz))\n",
    "\n",
    "\n",
    "def poynting_vector(E, H):\n",
    "    return (E[1] * H[2].conjugate() - E[2] * H[1].conjugate(),\n",
    "            E[2] * H[0].conjugate() - E[0] * H[2].conjugate(),\n",
    "            E[0] * H[1].conjugate() - E[1] * H[0].conjugate())\n",
    "\n",
    "\n",
    "def plot_2d(xy_dict, figsize=plt.rcParams['figure.figsize'], c=None, alpha=1):\n",
    "    fig = plt.figure(figsize=figsize)\n",
    "    ax = plt.axes()\n",
    "    keys = list(xy_dict.keys())\n",
    "    values = list(xy_dict.values())\n",
    "    if (len(values) == 3) and not(c):\n",
    "        cs = ax.scatter(values[0], values[1], c=values[2], cmap='viridis')\n",
    "        cbar = fig.colorbar(cs)\n",
    "        cbar.ax.set_ylabel(keys[2])\n",
    "    else:\n",
    "        if not(c):\n",
    "            c = 'k'\n",
    "        cs = ax.scatter(values[0], values[1], c=c, alpha=alpha)\n",
    "    ax.set(xlabel=keys[0], ylabel=keys[1])\n",
    "    \n",
    "    ax.axis('equal')\n",
    "    fig.tight_layout()\n",
    "    return fig, ax\n",
    "\n",
    "\n",
    "def plot_3d(xyz_dict, figsize=(7, 7), elev=20, azim=45, c=None, alpha=1):\n",
    "    fig = plt.figure(figsize=figsize)\n",
    "    ax = plt.axes(projection ='3d')\n",
    "    keys = list(xyz_dict.keys())\n",
    "    values = list(xyz_dict.values())\n",
    "    if (len(values) == 4) and not(c):\n",
    "        cs = ax.scatter(values[0], values[1], values[2],\n",
    "                        c=values[3], cmap='viridis')\n",
    "        cbar = fig.colorbar(cs, shrink=0.5)\n",
    "        cbar.ax.set_ylabel(keys[3])\n",
    "    else:\n",
    "        if not(c):\n",
    "            c = 'k'\n",
    "        cs = ax.plot(values[0], values[1], values[2], '.', c=c, alpha=alpha)\n",
    "    ax.set(xlabel=keys[0], ylabel=keys[1], zlabel=keys[2])\n",
    "    ax = set_axes_equal(ax)\n",
    "    ax.view_init(elev, azim)\n",
    "    fig.tight_layout()\n",
    "    return fig, ax\n",
    "\n",
    "\n",
    "def estimate_normals(xyz, knn, down_sampling_ratio=1, orient_normals=False):\n",
    "    pcd = o3d.geometry.PointCloud()\n",
    "    pcd.points = o3d.utility.Vector3dVector(xyz)\n",
    "    pcd.paint_uniform_color(np.array([1, 0, 0]))\n",
    "    pcd = pcd.random_down_sample(down_sampling_ratio)\n",
    "    pcd.estimate_normals(search_param=o3d.geometry.KDTreeSearchParamKNN(knn))\n",
    "    if orient_normals is True:\n",
    "        pcd.orient_normals_consistent_tangent_plane(knn)\n",
    "    elif orient_normals:\n",
    "        pcd.orient_normals_consistent_tangent_plane(int(orient_normals))\n",
    "    return np.asarray(pcd.points), np.asarray(pcd.normals)"
   ]
  },
  {
   "cell_type": "code",
   "execution_count": null,
   "metadata": {},
   "outputs": [],
   "source": [
    "df = load_ear_data('te', 60)\n",
    "df = clean_df(df)\n",
    "df"
   ]
  },
  {
   "cell_type": "code",
   "execution_count": null,
   "metadata": {},
   "outputs": [],
   "source": [
    "xyz = export_pcd(df)\n",
    "xyz.shape"
   ]
  },
  {
   "cell_type": "code",
   "execution_count": null,
   "metadata": {},
   "outputs": [],
   "source": [
    "E, H = export_fields(df)\n",
    "len(E), len(H)"
   ]
  },
  {
   "cell_type": "code",
   "execution_count": null,
   "metadata": {},
   "outputs": [],
   "source": [
    "Sx, Sy, Sz = poynting_vector(E, H)\n",
    "S_dist_cpx = np.sqrt(Sx ** 2 + Sy ** 2 + Sz ** 2)\n",
    "S_dist_abs = np.abs(S_dist_cpx)"
   ]
  },
  {
   "cell_type": "code",
   "execution_count": null,
   "metadata": {},
   "outputs": [],
   "source": [
    "fig, ax = plot_3d({'x [mm]': xyz[:, 0],\n",
    "                   'y [mm]': xyz[:, 1],\n",
    "                   'z [mm]': xyz[:, 2],\n",
    "                   'S [W/m2]': S_dist_abs[:]})"
   ]
  },
  {
   "cell_type": "code",
   "execution_count": null,
   "metadata": {},
   "outputs": [],
   "source": [
    "# downsample dataset\n",
    "skip = 1\n",
    "xyz_ds = xyz[::skip, :]\n",
    "S_dist_abs_ds = S_dist_abs[::skip]"
   ]
  },
  {
   "cell_type": "code",
   "execution_count": null,
   "metadata": {},
   "outputs": [],
   "source": [
    "# define coordinate frame\n",
    "cframe = o3d.geometry.TriangleMesh.create_coordinate_frame(size=10,\n",
    "                                                           origin=[0] * 3)\n",
    "# define colors for open3d\n",
    "colors = cm.viridis((S_dist_abs_ds - S_dist_abs_ds.min())\n",
    "                    / (S_dist_abs_ds.max() - S_dist_abs_ds.min()))[:, :3]\n",
    "color_vec = o3d.utility.Vector3dVector(colors)"
   ]
  },
  {
   "cell_type": "code",
   "execution_count": null,
   "metadata": {},
   "outputs": [],
   "source": [
    "# create opend3d pcd\n",
    "pcd_ds = o3d.geometry.PointCloud()\n",
    "pcd_ds.points = o3d.utility.Vector3dVector(xyz_ds)\n",
    "pcd_ds.colors = color_vec\n",
    "\n",
    "o3d.visualization.draw_geometries([pcd_ds, cframe])"
   ]
  },
  {
   "cell_type": "code",
   "execution_count": null,
   "metadata": {},
   "outputs": [],
   "source": [
    "# translate pcd to have a (0, 0, 0) center\n",
    "center = pcd_ds.get_center()\n",
    "xyz_ds_t = np.c_[xyz_ds[:, 0] - center[0],\n",
    "                 xyz_ds[:, 1] - center[1],\n",
    "                 xyz_ds[:, 2] - center[2]]\n",
    "pcd_ds_t = o3d.geometry.PointCloud()\n",
    "pcd_ds_t.points = o3d.utility.Vector3dVector(xyz_ds_t)\n",
    "pcd_ds_t.colors = color_vec\n",
    "\n",
    "o3d.visualization.draw_geometries([pcd_ds_t, cframe])"
   ]
  },
  {
   "cell_type": "code",
   "execution_count": null,
   "metadata": {},
   "outputs": [],
   "source": [
    "# select x-visible indices\n",
    "diameter = np.linalg.norm(pcd_ds_t.get_max_bound() - pcd_ds_t.get_min_bound())\n",
    "radius = 10 ** 6\n",
    "camera = [diameter, 0, 0]\n",
    "\n",
    "_, pt_map = pcd_ds_t.hidden_point_removal(camera, radius)\n",
    "pcd_ds_t_visible = pcd_ds_t.select_by_index(pt_map)\n",
    "\n",
    "o3d.visualization.draw_geometries([pcd_ds_t_visible, cframe])"
   ]
  },
  {
   "cell_type": "code",
   "execution_count": null,
   "metadata": {},
   "outputs": [],
   "source": [
    "# estimate normals on x-visible indices\n",
    "pcd_ds_t_visible.estimate_normals()\n",
    "pcd_ds_t_visible.orient_normals_consistent_tangent_plane(30)\n",
    "\n",
    "o3d.visualization.draw_geometries([pcd_ds_t_visible], point_show_normal=True)"
   ]
  },
  {
   "cell_type": "code",
   "execution_count": null,
   "metadata": {},
   "outputs": [],
   "source": []
  }
 ],
 "metadata": {
  "kernelspec": {
   "display_name": "Python 3",
   "language": "python",
   "name": "python3"
  },
  "language_info": {
   "codemirror_mode": {
    "name": "ipython",
    "version": 3
   },
   "file_extension": ".py",
   "mimetype": "text/x-python",
   "name": "python",
   "nbconvert_exporter": "python",
   "pygments_lexer": "ipython3",
   "version": "3.8.5"
  }
 },
 "nbformat": 4,
 "nbformat_minor": 4
}
