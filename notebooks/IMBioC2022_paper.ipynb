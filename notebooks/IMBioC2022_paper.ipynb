{
 "cells": [
  {
   "cell_type": "code",
   "execution_count": null,
   "metadata": {},
   "outputs": [],
   "source": [
    "import os\n",
    "if os.getcwd().split(\"/\")[-1] == \"notebooks\":\n",
    "    os.chdir(os.pardir)\n",
    "\n",
    "import matplotlib.pyplot as plt\n",
    "import numpy as np\n",
    "\n",
    "from src.utils.dataloader import load_ear_data\n",
    "from src.utils.viz import set_axes_equal"
   ]
  },
  {
   "cell_type": "code",
   "execution_count": null,
   "metadata": {},
   "outputs": [],
   "source": [
    "def clean_df(df):\n",
    "    df = df[(df['x [mm]'] != df['x [mm]'].min())\n",
    "            & (df['x [mm]'] != df['x [mm]'].max())\n",
    "            & (df['y [mm]'] != df['y [mm]'].min())\n",
    "            & (df['y [mm]'] != df['y [mm]'].max())\n",
    "            & (df['z [mm]'] != df['z [mm]'].min())\n",
    "            & (df['z [mm]'] != df['z [mm]'].max())]\n",
    "    df.reset_index(drop=True, inplace=True)\n",
    "    return df\n",
    "\n",
    "\n",
    "def export_pcd(df, area=False):\n",
    "    if area:\n",
    "        pcd = np.c_[df['x [mm]'].to_numpy(),\n",
    "                    df['y [mm]'].to_numpy(),\n",
    "                    df['z [mm]'].to_numpy(),\n",
    "                    df['area [mm^2]'].to_numpy()]\n",
    "    else:\n",
    "        pcd = np.c_[df['x [mm]'].to_numpy(),\n",
    "                    df['y [mm]'].to_numpy(),\n",
    "                    df['z [mm]'].to_numpy()]\n",
    "    return pcd\n",
    "\n",
    "\n",
    "def export_fields(df):\n",
    "    Ex = df['ExRe [V/m]'].to_numpy() + 1j * df['ExIm [V/m]'].to_numpy()\n",
    "    Ey = df['EyRe [V/m]'].to_numpy() + 1j * df['EyIm [V/m]'].to_numpy()\n",
    "    Ez = df['EzRe [V/m]'].to_numpy() + 1j * df['EzIm [V/m]'].to_numpy()\n",
    "    Hx = df['HxRe [A/m]'].to_numpy() + 1j * df['HxIm [A/m]'].to_numpy()\n",
    "    Hy = df['HyRe [A/m]'].to_numpy() + 1j * df['HyIm [A/m]'].to_numpy()\n",
    "    Hz = df['HzRe [A/m]'].to_numpy() + 1j * df['HzIm [A/m]'].to_numpy()\n",
    "    return (Ex, Ey, Ez), (Hx, Hy, Hz)\n",
    "\n",
    "\n",
    "def poynting_vector(E, H):\n",
    "    Sx = 0.5 * (E[1] * H[2].conjugate() - E[2] * H[1].conjugate())\n",
    "    Sy = 0.5 * (E[2] * H[0].conjugate() - E[0] * H[2].conjugate())\n",
    "    Sz = 0.5 * (E[0] * H[1].conjugate() - E[1] * H[0].conjugate())\n",
    "    return Sx, Sy, Sz\n",
    "\n",
    "\n",
    "def prettify_viz():\n",
    "    import seaborn as sns\n",
    "    sns.set(style='ticks', palette='colorblind')\n",
    "    %config InlineBackend.figure_format = 'retina'\n",
    "\n",
    "\n",
    "def plot_2d(xy_dict, figsize=plt.rcParams['figure.figsize'], c=None, alpha=1):\n",
    "    fig = plt.figure(figsize=figsize)\n",
    "    ax = plt.axes()\n",
    "    keys = list(xy_dict.keys())\n",
    "    values = list(xy_dict.values())\n",
    "    if (len(values) == 3) and not(c):\n",
    "        cs = ax.scatter(values[0], values[1], c=values[2], cmap='viridis')\n",
    "        cbar = fig.colorbar(cs)\n",
    "        cbar.ax.set_ylabel(keys[2])\n",
    "    else:\n",
    "        if not(c):\n",
    "            c = 'k'\n",
    "        cs = ax.scatter(values[0], values[1], c=c, alpha=alpha)\n",
    "    ax.set(xlabel=keys[0], ylabel=keys[1])\n",
    "    \n",
    "    ax.axis('equal')\n",
    "    fig.tight_layout()\n",
    "    return fig, ax\n",
    "\n",
    "\n",
    "def plot_3d(xyz_dict, figsize=(7, 7), elev=[20], azim=[45], c=None, alpha=1):\n",
    "    from itertools import product\n",
    "    num_figs = len(elev) * len(azim)\n",
    "    if num_figs > 4:\n",
    "        raise ValueError('The max number of subplots is 4.')\n",
    "    if num_figs != 1:\n",
    "        figsize = (figsize[0], figsize[1] * num_figs / 2)\n",
    "    fig = plt.figure(figsize=figsize)\n",
    "    keys = list(xyz_dict.keys())\n",
    "    values = list(xyz_dict.values())\n",
    "    for i, (e, a) in enumerate(product(elev, azim)):\n",
    "        ax = fig.add_subplot(num_figs, 1, i+1, projection='3d')\n",
    "        if (len(values) == 4) and not(c):\n",
    "            cs = ax.scatter(values[0], values[1], values[2],\n",
    "                            c=values[3], cmap='viridis')\n",
    "            cbar = fig.colorbar(cs, shrink=0.5, pad=0.1)\n",
    "            cbar.ax.set_ylabel(keys[3])\n",
    "        else:\n",
    "            if not(c):\n",
    "                c = 'k'\n",
    "            cs = ax.plot(values[0], values[1], values[2], '.', c=c, alpha=alpha)\n",
    "        ax.set(xlabel=keys[0], ylabel=keys[1], zlabel=keys[2])\n",
    "        ax = set_axes_equal(ax)\n",
    "        ax.view_init(elev=e, azim=a)\n",
    "    fig.tight_layout()\n",
    "    return fig, ax\n",
    "\n",
    "\n",
    "def minmax_scale(x, range_=(0, 1)):\n",
    "    scaler = (x - x.min()) / (x.max() - x.min())\n",
    "    x_scaled = scaler * (range_[1] - range_[0]) + range_([0])\n",
    "\n",
    "\n",
    "def colormap_from_array(x, cmap='viridis', alpha=None, bytes=False):\n",
    "    from matplotlib import cm\n",
    "    x_scaled = minmax_scale(x)\n",
    "    try:\n",
    "        cs = eval(f'cm.{cmap}')(x_scaled, alpha, bytes)\n",
    "    except Exception as e:\n",
    "        print(e, 'Falling to default colormap')\n",
    "        cs = cm.viridis(x_scaled, alpha, bytes)\n",
    "    finally:\n",
    "        if alpha is None:\n",
    "            cs = cs[:, :3]\n",
    "    return cs\n",
    "\n",
    "\n",
    "def estimate_normals(xyz, take_every=1, knn=30, fast=True):\n",
    "    import open3d as o3d\n",
    "    xyz = xyz[::take_every, :]\n",
    "    pcd = o3d.geometry.PointCloud()\n",
    "    pcd.points = o3d.utility.Vector3dVector(xyz)\n",
    "    pcd.estimate_normals(search_param=o3d.geometry.KDTreeSearchParamKNN(knn),\n",
    "                         fast_normal_computation=fast)\n",
    "    pcd.normalize_normals()\n",
    "    n = np.asarray(pcd.normals)\n",
    "    return n"
   ]
  },
  {
   "cell_type": "code",
   "execution_count": null,
   "metadata": {},
   "outputs": [],
   "source": [
    "prettify_viz()"
   ]
  },
  {
   "cell_type": "code",
   "execution_count": null,
   "metadata": {},
   "outputs": [],
   "source": [
    "PROJECT_NAME = 'IMBioC2022_paper'"
   ]
  },
  {
   "cell_type": "code",
   "execution_count": null,
   "metadata": {},
   "outputs": [],
   "source": [
    "df = load_ear_data('te', 26)\n",
    "df = clean_df(df)\n",
    "df"
   ]
  },
  {
   "cell_type": "code",
   "execution_count": null,
   "metadata": {},
   "outputs": [],
   "source": [
    "xyz = export_pcd(df)\n",
    "E, H = export_fields(df)"
   ]
  },
  {
   "cell_type": "code",
   "execution_count": null,
   "metadata": {},
   "outputs": [],
   "source": [
    "Sx, Sy, Sz = poynting_vector(E, H)"
   ]
  },
  {
   "cell_type": "code",
   "execution_count": null,
   "metadata": {},
   "outputs": [],
   "source": [
    "S_dist = np.sqrt(Sx.real ** 2 + Sy.real ** 2 + Sz.real ** 2)\n",
    "fig, ax = plot_3d({'z [mm]': xyz[:, 2],\n",
    "                   'x [mm]': xyz[:, 0],\n",
    "                   'y [mm]': xyz[:, 1],\n",
    "                   'Re[S] [W/m2]': S_dist},\n",
    "                  elev=[15], azim=[120])"
   ]
  },
  {
   "cell_type": "code",
   "execution_count": null,
   "metadata": {},
   "outputs": [],
   "source": [
    "n = estimate_normals(xyz, knn=300, fast=True)\n",
    "APD = Sx.real * n[:, 0] + Sy.real * n[:, 1] + Sz.real * n[:, 2]\n",
    "fig, ax = plot_3d({'z [mm]': xyz[:, 2],\n",
    "                   'x [mm]': xyz[:, 0],\n",
    "                   'y [mm]': xyz[:, 1],\n",
    "                   'Re[S] [W/m2]': abs(APD)},\n",
    "                  elev=[15], azim=[200])"
   ]
  },
  {
   "cell_type": "code",
   "execution_count": null,
   "metadata": {},
   "outputs": [],
   "source": []
  },
  {
   "cell_type": "code",
   "execution_count": null,
   "metadata": {},
   "outputs": [],
   "source": []
  },
  {
   "cell_type": "code",
   "execution_count": null,
   "metadata": {},
   "outputs": [],
   "source": []
  },
  {
   "cell_type": "code",
   "execution_count": null,
   "metadata": {},
   "outputs": [],
   "source": [
    "import open3d as o3d"
   ]
  },
  {
   "cell_type": "code",
   "execution_count": null,
   "metadata": {},
   "outputs": [],
   "source": [
    "# define coordinate frame\n",
    "cframe = o3d.geometry.TriangleMesh.create_coordinate_frame(size=10, origin=[0] * 3)"
   ]
  },
  {
   "cell_type": "code",
   "execution_count": null,
   "metadata": {},
   "outputs": [],
   "source": [
    "# downscale data uniformly\n",
    "skip = 10\n",
    "xyz_ds = xyz[::skip, :]\n",
    "pcd_ds = o3d.geometry.PointCloud()\n",
    "pcd_ds.points = o3d.utility.Vector3dVector(xyz_ds)\n",
    "pcd_ds.paint_uniform_color([0.5, 0.5, 0.5]);"
   ]
  },
  {
   "cell_type": "code",
   "execution_count": null,
   "metadata": {},
   "outputs": [],
   "source": [
    "o3d.visualization.draw_geometries([pcd_ds, cframe])"
   ]
  },
  {
   "cell_type": "code",
   "execution_count": null,
   "metadata": {},
   "outputs": [],
   "source": [
    "# translate data to have a center at (0, 0, 0)\n",
    "center = pcd_ds.get_center()\n",
    "xyz_ds_t = np.c_[xyz_ds[:, 0] - center[0],\n",
    "                 xyz_ds[:, 1] - center[1],\n",
    "                 xyz_ds[:, 2] - center[2]]\n",
    "pcd_ds_t = o3d.geometry.PointCloud()\n",
    "pcd_ds_t.points = o3d.utility.Vector3dVector(xyz_ds_t)\n",
    "pcd_ds_t.paint_uniform_color([0.5, 0.5, 0.5]);"
   ]
  },
  {
   "cell_type": "code",
   "execution_count": null,
   "metadata": {},
   "outputs": [],
   "source": [
    "o3d.visualization.draw_geometries([pcd_ds_t, cframe])"
   ]
  },
  {
   "cell_type": "code",
   "execution_count": null,
   "metadata": {},
   "outputs": [],
   "source": [
    "# select x-visible indices\n",
    "diameter = np.linalg.norm(pcd_ds_t.get_max_bound() - pcd_ds_t.get_min_bound())\n",
    "radius = 10 ** 3.8\n",
    "camera = [0, 0, -diameter]\n",
    "\n",
    "_, pt_map = pcd_ds_t.hidden_point_removal(camera, radius)\n",
    "pcd_ds_t_visible = pcd_ds_t.select_by_index(pt_map)"
   ]
  },
  {
   "cell_type": "code",
   "execution_count": null,
   "metadata": {},
   "outputs": [],
   "source": [
    "o3d.visualization.draw_geometries([pcd_ds_t_visible, cframe])"
   ]
  },
  {
   "cell_type": "code",
   "execution_count": null,
   "metadata": {},
   "outputs": [],
   "source": []
  }
 ],
 "metadata": {
  "kernelspec": {
   "display_name": "Python 3",
   "language": "python",
   "name": "python3"
  },
  "language_info": {
   "codemirror_mode": {
    "name": "ipython",
    "version": 3
   },
   "file_extension": ".py",
   "mimetype": "text/x-python",
   "name": "python",
   "nbconvert_exporter": "python",
   "pygments_lexer": "ipython3",
   "version": "3.8.5"
  }
 },
 "nbformat": 4,
 "nbformat_minor": 4
}
