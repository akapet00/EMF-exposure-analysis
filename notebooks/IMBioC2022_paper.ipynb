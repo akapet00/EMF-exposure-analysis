{
 "cells": [
  {
   "cell_type": "code",
   "execution_count": null,
   "metadata": {},
   "outputs": [],
   "source": [
    "import os\n",
    "if os.getcwd().split(\"/\")[-1] == \"notebooks\":\n",
    "    os.chdir(os.pardir)\n",
    "\n",
    "import matplotlib.pyplot as plt\n",
    "import numpy as np\n",
    "# import seaborn as sns\n",
    "\n",
    "from src.utils.dataloader import load_ear_data\n",
    "from src.utils.viz import set_axes_equal"
   ]
  },
  {
   "cell_type": "code",
   "execution_count": null,
   "metadata": {},
   "outputs": [],
   "source": [
    "# sns.set(style='ticks', palette='colorblind')"
   ]
  },
  {
   "cell_type": "code",
   "execution_count": null,
   "metadata": {},
   "outputs": [],
   "source": [
    "%config InlineBackend.figure_format = 'retina'"
   ]
  },
  {
   "cell_type": "code",
   "execution_count": null,
   "metadata": {},
   "outputs": [],
   "source": [
    "PROJECT_NAME = 'IMBioC2022_paper'"
   ]
  },
  {
   "cell_type": "code",
   "execution_count": null,
   "metadata": {},
   "outputs": [],
   "source": [
    "def export_pcd(df, area=False):\n",
    "    if area:\n",
    "        pcd = np.c_[df['x [mm]'].to_numpy(),\n",
    "                 df['y [mm]'].to_numpy(),\n",
    "                 df['z [mm]'].to_numpy(),\n",
    "                 df['area [mm^2]'].to_numpy()]\n",
    "    else:\n",
    "        pcd = np.c_[df['x [mm]'].to_numpy(),\n",
    "                    df['y [mm]'].to_numpy(),\n",
    "                    df['z [mm]'].to_numpy()]\n",
    "    return pcd\n",
    "\n",
    "\n",
    "def export_fields(df):\n",
    "    Ex = df['ExRe [V/m]'].to_numpy() + 1j * df['ExIm [V/m]'].to_numpy()\n",
    "    Ey = df['EyRe [V/m]'].to_numpy() + 1j * df['EyIm [V/m]'].to_numpy()\n",
    "    Ez = df['EzRe [V/m]'].to_numpy() + 1j * df['EzIm [V/m]'].to_numpy()\n",
    "    Hx = df['HxRe [A/m]'].to_numpy() + 1j * df['HxIm [A/m]'].to_numpy()\n",
    "    Hy = df['HyRe [A/m]'].to_numpy() + 1j * df['HyIm [A/m]'].to_numpy()\n",
    "    Hz = df['HzRe [A/m]'].to_numpy() + 1j * df['HzIm [A/m]'].to_numpy()\n",
    "    return ((Ex, Ey, Ez), (Hx, Hy, Hz))\n",
    "\n",
    "\n",
    "def poynting_vector(E, H):\n",
    "    return (E[1] * H[2].conjugate() - E[2] * H[1].conjugate(),\n",
    "            E[2] * H[0].conjugate() - E[0] * H[2].conjugate(),\n",
    "            E[0] * H[1].conjugate() - E[1] * H[0].conjugate())\n",
    "\n",
    "\n",
    "def plot_2d(xy_dict, figsize=plt.rcParams['figure.figsize'], c=None, alpha=1):\n",
    "    fig = plt.figure(figsize=figsize)\n",
    "    ax = plt.axes()\n",
    "    keys = list(xy_dict.keys())\n",
    "    values = list(xy_dict.values())\n",
    "    if (len(values) == 3) and not(c):\n",
    "        cs = ax.scatter(values[0], values[1], c=values[2])\n",
    "        cbar = fig.colorbar(cs)\n",
    "        cbar.ax.set_ylabel(keys[2])\n",
    "    else:\n",
    "        if not(c):\n",
    "            c = 'k'\n",
    "        cs = ax.scatter(values[0], values[1], c=c, alpha=alpha)\n",
    "    ax.set(xlabel=keys[0], ylabel=keys[1])\n",
    "    \n",
    "    ax.axis('equal')\n",
    "    fig.tight_layout()\n",
    "    return fig, ax\n",
    "\n",
    "\n",
    "def plot_3d(xyz_dict, figsize=(7, 7), elev=20, azim=45, c=None, alpha=1):\n",
    "    fig = plt.figure(figsize=figsize)\n",
    "    ax = plt.axes(projection ='3d')\n",
    "    keys = list(xyz_dict.keys())\n",
    "    values = list(xyz_dict.values())\n",
    "    if (len(values) == 4) and not(c):\n",
    "        cs = ax.scatter(values[0], values[1], values[2], c=values[3])\n",
    "        cbar = fig.colorbar(cs, shrink=0.5)\n",
    "        cbar.ax.set_ylabel(keys[3])\n",
    "    else:\n",
    "        if not(c):\n",
    "            c = 'k'\n",
    "        cs = ax.plot(values[0], values[1], values[2], '.', c=c, alpha=alpha)\n",
    "    ax.set(xlabel=keys[0], ylabel=keys[1], zlabel=keys[2])\n",
    "    ax = set_axes_equal(ax)\n",
    "    ax.view_init(elev, azim)\n",
    "    fig.tight_layout()\n",
    "    return fig, ax\n",
    "\n",
    "\n",
    "def estimate_normals(xyz, knn, down_sampling_ratio=1, orient_normals=False):\n",
    "    import open3d as o3d\n",
    "    pcd = o3d.geometry.PointCloud()\n",
    "    pcd.points = o3d.utility.Vector3dVector(xyz)\n",
    "    pcd.paint_uniform_color(np.array([1, 0, 0]))\n",
    "    pcd = pcd.random_down_sample(down_sampling_ratio)\n",
    "    pcd.estimate_normals(search_param=o3d.geometry.KDTreeSearchParamKNN(knn))\n",
    "    if orient_normals is True:\n",
    "        pcd.orient_normals_consistent_tangent_plane(knn)\n",
    "    elif orient_normals:\n",
    "        pcd.orient_normals_consistent_tangent_plane(int(orient_normals))\n",
    "    return np.asarray(pcd.points), np.asarray(pcd.normals)"
   ]
  },
  {
   "cell_type": "code",
   "execution_count": null,
   "metadata": {},
   "outputs": [],
   "source": [
    "df = load_ear_data('te', 60)\n",
    "df"
   ]
  },
  {
   "cell_type": "code",
   "execution_count": null,
   "metadata": {},
   "outputs": [],
   "source": [
    "xyz = export_pcd(df)\n",
    "xyz.shape"
   ]
  },
  {
   "cell_type": "code",
   "execution_count": null,
   "metadata": {},
   "outputs": [],
   "source": [
    "E, H = export_fields(df)\n",
    "len(E), len(H)"
   ]
  },
  {
   "cell_type": "code",
   "execution_count": null,
   "metadata": {},
   "outputs": [],
   "source": [
    "Sx, Sy, Sz = poynting_vector(E, H)\n",
    "S_dist_cpx = np.sqrt(Sx ** 2 + Sy ** 2 + Sz ** 2)\n",
    "S_dist_abs = np.abs(S_dist_cpx)"
   ]
  },
  {
   "cell_type": "code",
   "execution_count": null,
   "metadata": {},
   "outputs": [],
   "source": [
    "fig, ax = plot_3d({'z [mm]': xyz[:, 2],\n",
    "                   'x [mm]': xyz[:, 0],\n",
    "                   'y [mm]': xyz[:, 1],\n",
    "                   'S [W/m2]': S_dist_abs[:]}, elev=20)"
   ]
  },
  {
   "cell_type": "code",
   "execution_count": null,
   "metadata": {},
   "outputs": [],
   "source": [
    "xyz_ds, n = estimate_normals(xyz, knn=10, down_sampling_ratio=0.1, orient_normals=True)\n",
    "\n",
    "fig, ax = plot_3d(xyz_dict={'x [mm]': xyz_ds[:, 0],\n",
    "                            'y [mm]': xyz_ds[:, 1],\n",
    "                            'z [mm]': xyz_ds[:, 2]},\n",
    "                  c='k')\n",
    "ax.quiver3D(xyz_ds[:, 0], xyz_ds[:, 1], xyz_ds[:, 2],\n",
    "            n[:, 0], n[:, 1], n[:, 2],\n",
    "            length=5, normalize=True, alpha=0.5);"
   ]
  },
  {
   "cell_type": "code",
   "execution_count": null,
   "metadata": {},
   "outputs": [],
   "source": []
  }
 ],
 "metadata": {
  "kernelspec": {
   "display_name": "Python 3",
   "language": "python",
   "name": "python3"
  },
  "language_info": {
   "codemirror_mode": {
    "name": "ipython",
    "version": 3
   },
   "file_extension": ".py",
   "mimetype": "text/x-python",
   "name": "python",
   "nbconvert_exporter": "python",
   "pygments_lexer": "ipython3",
   "version": "3.8.5"
  }
 },
 "nbformat": 4,
 "nbformat_minor": 4
}
