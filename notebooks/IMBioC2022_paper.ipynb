{
 "cells": [
  {
   "cell_type": "code",
   "execution_count": null,
   "metadata": {},
   "outputs": [],
   "source": [
    "import os\n",
    "if os.getcwd().split(\"/\")[-1] == \"notebooks\":\n",
    "    os.chdir(os.pardir)\n",
    "\n",
    "import matplotlib.pyplot as plt\n",
    "import numpy as np\n",
    "\n",
    "from src.utils.dataloader import load_ear_data\n",
    "from src.utils.viz import set_axes_equal"
   ]
  },
  {
   "cell_type": "code",
   "execution_count": null,
   "metadata": {},
   "outputs": [],
   "source": [
    "def export_pc(df):\n",
    "    return np.c_[df['x [mm]'].to_numpy(),\n",
    "                 df['y [mm]'].to_numpy(),\n",
    "                 df['z [mm]'].to_numpy()]\n",
    "\n",
    "\n",
    "def scale_pc(xyz, scaler):\n",
    "    start_point = np.min(xyz, axis=0)\n",
    "    d_xyz = np.diff(xyz, axis=0)\n",
    "    return np.cumsum(np.vstack((start_point, d_xyz * scaler)), axis=0)\n",
    "\n",
    "\n",
    "def export_fields(df):\n",
    "    Ex = df['ExRe [V/m]'].to_numpy() + 1j * df['ExIm [V/m]'].to_numpy()\n",
    "    Ey = df['EyRe [V/m]'].to_numpy() + 1j * df['EyIm [V/m]'].to_numpy()\n",
    "    Ez = df['EzRe [V/m]'].to_numpy() + 1j * df['EzIm [V/m]'].to_numpy()\n",
    "    Hx = df['HxRe [A/m]'].to_numpy() + 1j * df['HxIm [A/m]'].to_numpy()\n",
    "    Hy = df['HyRe [A/m]'].to_numpy() + 1j * df['HyIm [A/m]'].to_numpy()\n",
    "    Hz = df['HzRe [A/m]'].to_numpy() + 1j * df['HzIm [A/m]'].to_numpy()\n",
    "    return ((Ex, Ey, Ez), (Hx, Hy, Hz))\n",
    "\n",
    "\n",
    "def poynting_vector(E, H):\n",
    "    return (E[1] * H[2].conjugate() - E[2] * H[1].conjugate(),\n",
    "            E[2] * H[0].conjugate() - E[0] * H[2].conjugate(),\n",
    "            E[0] * H[1].conjugate() - E[1] * H[0].conjugate())\n",
    "\n",
    "\n",
    "def plot_2d(xy_dict, figsize=plt.rcParams['figure.figsize']):\n",
    "    fig = plt.figure(figsize=figsize)\n",
    "    ax = plt.axes()\n",
    "    keys = list(xy_dict.keys())\n",
    "    values = list(xy_dict.values())\n",
    "    cs = ax.scatter(values[0], values[1], c=values[2])\n",
    "    cbar = fig.colorbar(cs)\n",
    "    ax.set(xlabel=keys[0], ylabel=keys[1])\n",
    "    cbar.ax.set_ylabel(keys[2])\n",
    "    ax.axis('equal')\n",
    "    fig.tight_layout()\n",
    "    return fig\n",
    "\n",
    "\n",
    "def plot_3d(xyz_dict, figsize=(7, 7), elev=20, azim=45, c=None):\n",
    "    fig = plt.figure(figsize=figsize)\n",
    "    ax = plt.axes(projection ='3d')\n",
    "    keys = list(xyz_dict.keys())\n",
    "    values = list(xyz_dict.values())\n",
    "    if (len(values) == 4) and not(c):\n",
    "        cs = ax.scatter(values[0], values[1], values[2], c=values[3])\n",
    "        cbar = fig.colorbar(cs, shrink=0.5)\n",
    "        cbar.ax.set_ylabel(keys[3])\n",
    "    else:\n",
    "        if not(c):\n",
    "            c = 'k'\n",
    "        cs = ax.scatter(values[0], values[1], values[2], c=c)\n",
    "    ax.set(xlabel=keys[0], ylabel=keys[1], zlabel=keys[2])\n",
    "    ax = set_axes_equal(ax)\n",
    "    ax.view_init(elev, azim)\n",
    "    fig.tight_layout()\n",
    "    return fig"
   ]
  },
  {
   "cell_type": "code",
   "execution_count": null,
   "metadata": {},
   "outputs": [],
   "source": [
    "df = load_ear_data('te', 26, 1e-3)\n",
    "df"
   ]
  },
  {
   "cell_type": "code",
   "execution_count": null,
   "metadata": {},
   "outputs": [],
   "source": [
    "xyz = export_pc(df)\n",
    "xyz.shape"
   ]
  },
  {
   "cell_type": "code",
   "execution_count": null,
   "metadata": {},
   "outputs": [],
   "source": [
    "E, H = export_fields(df)\n",
    "len(E), len(H)"
   ]
  },
  {
   "cell_type": "code",
   "execution_count": null,
   "metadata": {},
   "outputs": [],
   "source": [
    "Sx, Sy, Sz = poynting_vector(E, H)\n",
    "S_dist_cpx = np.sqrt(Sx ** 2 + Sy ** 2 + Sz ** 2)\n",
    "S_dist_abs = np.abs(S_dist_cpx)"
   ]
  },
  {
   "cell_type": "code",
   "execution_count": null,
   "metadata": {},
   "outputs": [],
   "source": [
    "fig = plot_3d({'x [mm]': xyz[:, 0],\n",
    "               'y [mm]': xyz[:, 1],\n",
    "               'z [mm]': xyz[:, 2],\n",
    "               'S [W/m2]': S_dist_abs})"
   ]
  },
  {
   "cell_type": "code",
   "execution_count": null,
   "metadata": {},
   "outputs": [],
   "source": [
    "fig = plot_2d({'y [mm]': xyz[:, 1],\n",
    "               'z [mm]': xyz[:, 2],\n",
    "               'S [W/m2]': S_dist_abs})"
   ]
  },
  {
   "cell_type": "code",
   "execution_count": null,
   "metadata": {},
   "outputs": [],
   "source": [
    "current_ear_length = xyz[:, 1].max() - xyz[:, 1].min()\n",
    "target_ear_length = lambda age: 59.17 + 0.239 * age  # JPRAS (2011) 64, 41--47\n",
    "scaler = target_ear_length(age=35) / current_ear_length\n",
    "xyz_scaled = scale_pc(xyz, scaler)\n",
    "fig = plot_3d({'x [mm]': xyz_scaled[:, 0],\n",
    "               'y [mm]': xyz_scaled[:, 1],\n",
    "               'z [mm]': xyz_scaled[:, 2],\n",
    "               'S [W/m2]': S_dist_abs})"
   ]
  },
  {
   "cell_type": "code",
   "execution_count": null,
   "metadata": {},
   "outputs": [],
   "source": []
  }
 ],
 "metadata": {
  "kernelspec": {
   "display_name": "Python 3",
   "language": "python",
   "name": "python3"
  },
  "language_info": {
   "codemirror_mode": {
    "name": "ipython",
    "version": 3
   },
   "file_extension": ".py",
   "mimetype": "text/x-python",
   "name": "python",
   "nbconvert_exporter": "python",
   "pygments_lexer": "ipython3",
   "version": "3.8.5"
  }
 },
 "nbformat": 4,
 "nbformat_minor": 4
}
