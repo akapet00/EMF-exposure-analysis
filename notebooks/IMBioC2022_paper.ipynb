{
 "cells": [
  {
   "cell_type": "code",
   "execution_count": null,
   "metadata": {},
   "outputs": [],
   "source": [
    "import os\n",
    "if os.getcwd().split(\"/\")[-1] == \"notebooks\":\n",
    "    os.chdir(os.pardir)\n",
    "\n",
    "import matplotlib.pyplot as plt\n",
    "import numpy as np\n",
    "\n",
    "from src.utils.dataloader import load_ear_data\n",
    "from src.utils.viz import set_axes_equal"
   ]
  },
  {
   "cell_type": "code",
   "execution_count": null,
   "metadata": {},
   "outputs": [],
   "source": [
    "def export_pcd(df):\n",
    "    return np.c_[df['x [mm]'].to_numpy(),\n",
    "                 df['y [mm]'].to_numpy(),\n",
    "                 df['z [mm]'].to_numpy()]\n",
    "\n",
    "\n",
    "def scale_pcd(xyz, scaler):\n",
    "    start_point = np.min(xyz, axis=0)\n",
    "    d_xyz = np.diff(xyz, axis=0)\n",
    "    return np.cumsum(np.vstack((start_point, d_xyz * scaler)), axis=0)\n",
    "\n",
    "\n",
    "def export_fields(df):\n",
    "    Ex = df['ExRe [V/m]'].to_numpy() + 1j * df['ExIm [V/m]'].to_numpy()\n",
    "    Ey = df['EyRe [V/m]'].to_numpy() + 1j * df['EyIm [V/m]'].to_numpy()\n",
    "    Ez = df['EzRe [V/m]'].to_numpy() + 1j * df['EzIm [V/m]'].to_numpy()\n",
    "    Hx = df['HxRe [A/m]'].to_numpy() + 1j * df['HxIm [A/m]'].to_numpy()\n",
    "    Hy = df['HyRe [A/m]'].to_numpy() + 1j * df['HyIm [A/m]'].to_numpy()\n",
    "    Hz = df['HzRe [A/m]'].to_numpy() + 1j * df['HzIm [A/m]'].to_numpy()\n",
    "    return ((Ex, Ey, Ez), (Hx, Hy, Hz))\n",
    "\n",
    "\n",
    "def poynting_vector(E, H):\n",
    "    return (E[1] * H[2].conjugate() - E[2] * H[1].conjugate(),\n",
    "            E[2] * H[0].conjugate() - E[0] * H[2].conjugate(),\n",
    "            E[0] * H[1].conjugate() - E[1] * H[0].conjugate())\n",
    "\n",
    "\n",
    "def plot_2d(xy_dict, figsize=plt.rcParams['figure.figsize'], c=None, alpha=1):\n",
    "    fig = plt.figure(figsize=figsize)\n",
    "    ax = plt.axes()\n",
    "    keys = list(xy_dict.keys())\n",
    "    values = list(xy_dict.values())\n",
    "    if (len(values) == 3) and not(c):\n",
    "        cs = ax.scatter(values[0], values[1], c=values[2])\n",
    "        cbar = fig.colorbar(cs)\n",
    "        cbar.ax.set_ylabel(keys[2])\n",
    "    else:\n",
    "        if not(c):\n",
    "            c = 'k'\n",
    "        cs = ax.scatter(values[0], values[1], c=c, alpha=alpha)\n",
    "    ax.set(xlabel=keys[0], ylabel=keys[1])\n",
    "    \n",
    "    ax.axis('equal')\n",
    "    fig.tight_layout()\n",
    "    return fig, ax\n",
    "\n",
    "\n",
    "def plot_3d(xyz_dict, figsize=(7, 7), elev=20, azim=45, c=None, alpha=1):\n",
    "    fig = plt.figure(figsize=figsize)\n",
    "    ax = plt.axes(projection ='3d')\n",
    "    keys = list(xyz_dict.keys())\n",
    "    values = list(xyz_dict.values())\n",
    "    if (len(values) == 4) and not(c):\n",
    "        cs = ax.scatter(values[0], values[1], values[2], c=values[3])\n",
    "        cbar = fig.colorbar(cs, shrink=0.5)\n",
    "        cbar.ax.set_ylabel(keys[3])\n",
    "    else:\n",
    "        if not(c):\n",
    "            c = 'k'\n",
    "        cs = ax.plot(values[0], values[1], values[2], '.', c=c, alpha=alpha)\n",
    "    ax.set(xlabel=keys[0], ylabel=keys[1], zlabel=keys[2])\n",
    "    ax = set_axes_equal(ax)\n",
    "    ax.view_init(elev, azim)\n",
    "    fig.tight_layout()\n",
    "    return fig, ax\n",
    "\n",
    "\n",
    "def estimate_normals(xyz, knn, down_sampling_ratio=1, orient_normals=False):\n",
    "    import open3d as o3d\n",
    "    pcd = o3d.geometry.PointCloud()\n",
    "    pcd.points = o3d.utility.Vector3dVector(xyz)\n",
    "    pcd.paint_uniform_color(np.array([1, 0, 0]))\n",
    "    pcd = pcd.random_down_sample(down_sampling_ratio)\n",
    "    pcd.estimate_normals(search_param=o3d.geometry.KDTreeSearchParamKNN(knn))\n",
    "    if orient_normals is True:\n",
    "        pcd.orient_normals_consistent_tangent_plane(knn)\n",
    "    elif orient_normals:\n",
    "        pcd.orient_normals_consistent_tangent_plane(int(orient_normals))\n",
    "    return np.asarray(pcd.points), np.asarray(pcd.normals)"
   ]
  },
  {
   "cell_type": "code",
   "execution_count": null,
   "metadata": {},
   "outputs": [],
   "source": [
    "df = load_ear_data('te', 26, 1e-3)\n",
    "df"
   ]
  },
  {
   "cell_type": "code",
   "execution_count": null,
   "metadata": {},
   "outputs": [],
   "source": [
    "xyz = export_pcd(df)\n",
    "xyz.shape"
   ]
  },
  {
   "cell_type": "code",
   "execution_count": null,
   "metadata": {},
   "outputs": [],
   "source": [
    "E, H = export_fields(df)\n",
    "len(E), len(H)"
   ]
  },
  {
   "cell_type": "code",
   "execution_count": null,
   "metadata": {},
   "outputs": [],
   "source": [
    "Sx, Sy, Sz = poynting_vector(E, H)\n",
    "S_dist_cpx = np.sqrt(Sx ** 2 + Sy ** 2 + Sz ** 2)\n",
    "S_dist_abs = np.abs(S_dist_cpx)"
   ]
  },
  {
   "cell_type": "code",
   "execution_count": null,
   "metadata": {},
   "outputs": [],
   "source": [
    "fig, ax = plot_3d({'z [mm]': xyz[:, 2],\n",
    "                   'x [mm]': xyz[:, 0],\n",
    "                   'y [mm]': xyz[:, 1],\n",
    "                   'S [W/m2]': S_dist_abs})"
   ]
  },
  {
   "cell_type": "code",
   "execution_count": null,
   "metadata": {},
   "outputs": [],
   "source": [
    "max_length_idx = np.where(xyz[:, 1] == xyz[:, 1].max())[0]\n",
    "projection_start_idx = np.where(xyz[:, 0] == xyz[:, 0].min())[0]\n",
    "current_projection = xyz[max_length_idx, 0] - xyz[projection_start_idx[0], 0]\n",
    "current_ear_total_length = xyz[:, 1].max() - xyz[:, 1].min()  # y-range\n",
    "current_ear_auricle_width = xyz[:, 2].max() - xyz[:, 2].min()  # z-range\n",
    "target_projection = 6.51\n",
    "target_ear_total_length = 61.93\n",
    "target_ear_auricle_width = 33.54\n",
    "scaler = np.c_[target_projection / current_projection,\n",
    "              target_ear_total_length / current_ear_total_length,\n",
    "              target_ear_auricle_width / current_ear_auricle_width]\n",
    "xyz_scaled = scale_pcd(xyz, scaler)"
   ]
  },
  {
   "cell_type": "code",
   "execution_count": null,
   "metadata": {},
   "outputs": [],
   "source": [
    "for azim in [80, 180]:\n",
    "    fig, ax = plot_3d({'z [mm]': xyz_scaled[:, 2],\n",
    "                       'x [mm]': xyz_scaled[:, 0],\n",
    "                       'y [mm]': xyz_scaled[:, 1],\n",
    "                       'projection [mm]': xyz_scaled[:, 0] - xyz_scaled[:, 0].min()},\n",
    "                       elev=20, azim=azim)"
   ]
  },
  {
   "cell_type": "code",
   "execution_count": null,
   "metadata": {},
   "outputs": [],
   "source": [
    "xyz_ds, n = estimate_normals(xyz_scaled, knn=30, orient_normals=True)\n",
    "\n",
    "fig, ax = plot_3d(xyz_dict={'x [mm]': xyz_ds[:, 0],\n",
    "                            'y [mm]': xyz_ds[:, 1],\n",
    "                            'z [mm]': xyz_ds[:, 2]},\n",
    "                  c='k')\n",
    "ax.quiver3D(xyz_ds[:, 0], xyz_ds[:, 1], xyz_ds[:, 2],\n",
    "            n[:, 0], n[:, 1], n[:, 2],\n",
    "            length=5, normalize=True, alpha=1);"
   ]
  },
  {
   "cell_type": "code",
   "execution_count": null,
   "metadata": {},
   "outputs": [],
   "source": []
  }
 ],
 "metadata": {
  "kernelspec": {
   "display_name": "Python 3",
   "language": "python",
   "name": "python3"
  },
  "language_info": {
   "codemirror_mode": {
    "name": "ipython",
    "version": 3
   },
   "file_extension": ".py",
   "mimetype": "text/x-python",
   "name": "python",
   "nbconvert_exporter": "python",
   "pygments_lexer": "ipython3",
   "version": "3.8.5"
  }
 },
 "nbformat": 4,
 "nbformat_minor": 4
}
