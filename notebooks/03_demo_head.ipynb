{
 "cells": [
  {
   "cell_type": "code",
   "execution_count": null,
   "id": "altered-schedule",
   "metadata": {},
   "outputs": [],
   "source": [
    "import os\n",
    "if os.getcwd().split(\"/\")[-1] == \"notebooks\":\n",
    "    os.chdir(os.pardir)\n",
    "\n",
    "import matplotlib.pyplot as plt\n",
    "from mpl_toolkits.mplot3d.art3d import Poly3DCollection\n",
    "from mpl_toolkits.mplot3d import Axes3D  \n",
    "import jax\n",
    "import jax.numpy as np\n",
    "import pandas as pd\n",
    "from scipy.interpolate import CloughTocher2DInterpolator\n",
    "import seaborn as sns\n",
    "\n",
    "from src.field import efield, hfield\n",
    "from src.utils.dataloader import (load_antenna_el_properties,\n",
    "                                  load_head_coords)\n",
    "from src.utils.viz import fig_config, set_axes_equal"
   ]
  },
  {
   "cell_type": "code",
   "execution_count": null,
   "id": "f1f8784c-7dfd-4650-8a92-6354f9b5ea78",
   "metadata": {},
   "outputs": [],
   "source": [
    "print(f'platform: {jax.lib.xla_bridge.get_backend().platform}')"
   ]
  },
  {
   "cell_type": "code",
   "execution_count": null,
   "id": "bronze-traveler",
   "metadata": {},
   "outputs": [],
   "source": [
    "jax.config.update(\"jax_enable_x64\", True)"
   ]
  },
  {
   "cell_type": "code",
   "execution_count": null,
   "id": "cd6dbc1c-2fb5-4071-a0ee-cd413c6e6c27",
   "metadata": {},
   "outputs": [],
   "source": [
    "sns.set(style='ticks', palette='colorblind')"
   ]
  },
  {
   "cell_type": "code",
   "execution_count": null,
   "id": "ranking-silicon",
   "metadata": {},
   "outputs": [],
   "source": [
    "%config InlineBackend.figure_format = 'retina'"
   ]
  },
  {
   "cell_type": "code",
   "execution_count": null,
   "id": "whole-thickness",
   "metadata": {},
   "outputs": [],
   "source": [
    "# frequency\n",
    "f = 10e9\n",
    "\n",
    "# effective radiated skin area\n",
    "target_area = (0.02, 0.02)  # 2 x 2 cm2\n",
    "A = target_area[0] * target_area[1]\n",
    "d = - 15 / 1000  # distance from the antenna\n",
    "\n",
    "# human head\n",
    "head_coords = load_head_coords()\n",
    "target_area_coords = head_coords[\n",
    "    (head_coords['y'] < 0) &\n",
    "    (head_coords['x'] > 0) & (head_coords['x'] < target_area[0]) &\n",
    "    (head_coords['z'] > 0) & (head_coords['z'] < target_area[1])]\n",
    "target_area_coords.reset_index(drop=True, inplace=True)\n",
    "\n",
    "# antenna electric properties (Poljak 2005)\n",
    "antenna_data = load_antenna_el_properties(f)\n",
    "Is = antenna_data.ireal.to_numpy() + antenna_data.iimag.to_numpy() * 1j\n",
    "\n",
    "# antenna position -- coordinates\n",
    "xs = antenna_data.x.to_numpy() \n",
    "xs = xs + (target_area[0] - xs[-1]) / 2.\n",
    "ys = np.zeros_like(xs) + target_area_coords['y'].min() + d\n",
    "zs = np.zeros_like(xs)\n",
    "zs = zs + (target_area[1] - zs[-1]) / 2."
   ]
  },
  {
   "cell_type": "code",
   "execution_count": null,
   "id": "amended-accessory",
   "metadata": {},
   "outputs": [],
   "source": [
    "# visualize the exposure scenario\n",
    "\n",
    "fig_config(latex=True, scaler=2)\n",
    "fig = plt.figure()\n",
    "ax = plt.axes(projection ='3d')\n",
    "ax.plot(head_coords['x'], head_coords['y'], head_coords['z'], 'k.', alpha=0.02)\n",
    "ax.plot(xs, ys, zs, c='r',\n",
    "        label=(f'$\\\\lambda/2$ dipole antenna\\n'\n",
    "               f'$d = {-d * 1000}$ mm\\n'\n",
    "               f'$f = {f / 1e9}$ GHz'))\n",
    "ax.set(xlabel='$x$ [m]', ylabel='$y$ [m]', zlabel='$z$ [m]',\n",
    "       xticks=[-0.05, 0.05, 0.15],\n",
    "       yticks=[0.0, 0.075, 0.15],\n",
    "       zticks=[-0.05, 0.05, 0.15])\n",
    "ax.xaxis.pane.fill = False\n",
    "ax.yaxis.pane.fill = False\n",
    "ax.zaxis.pane.fill = False\n",
    "ax.view_init(20, -40)\n",
    "ax.legend()\n",
    "ax = set_axes_equal(ax)\n",
    "plt.tight_layout()\n",
    "plt.show()"
   ]
  },
  {
   "cell_type": "code",
   "execution_count": null,
   "id": "adult-nancy",
   "metadata": {},
   "outputs": [],
   "source": [
    "# compute E field\n",
    "E = target_area_coords.apply(\n",
    "    lambda row: efield(row['x'], row['y'], row['z'], xs, ys, zs, Is, f),\n",
    "    axis=1, result_type='expand')\n",
    "E.columns = ['Ex', 'Ey', 'Ez']\n",
    "E_abs = E.apply(\n",
    "    lambda row: np.sqrt(row['Ex'] ** 2 + row['Ey'] ** 2 + row['Ez'] ** 2),\n",
    "    axis=1)\n",
    "E.loc[:, 'E_abs'] = E_abs\n",
    "\n",
    "# compute H field\n",
    "H = target_area_coords.apply(\n",
    "    lambda row: hfield(row['x'], row['y'], row['z'], xs, ys, zs, Is, f),\n",
    "    axis=1, result_type='expand')\n",
    "H.columns = ['Hx', 'Hy', 'Hz']\n",
    "H_abs = H.apply(\n",
    "    lambda row: np.sqrt(row['Hx'] ** 2 + row['Hy'] ** 2 + row['Hz'] ** 2),\n",
    "    axis=1)\n",
    "H.loc[:, 'H_abs'] = H_abs\n",
    "\n",
    "# update dataframe\n",
    "target_area_calc = pd.concat([target_area_coords, E, H], axis=1)\n",
    "\n",
    "# compute power density\n",
    "def _pd(row):\n",
    "    return (row['Ey'] * row['Hz'].conjugate()\n",
    "            - row['Ez'] * row['Hy'].conjugate(),\n",
    "            row['Ex'] * row['Hz'].conjugate(),\n",
    "            row['Ex'] * row['Hy'].conjugate())\n",
    "\n",
    "S = target_area_calc.apply(_pd, axis=1, result_type='expand')\n",
    "S.columns = ['Sx', 'Sy', 'Sz']\n",
    "S_abs = S.apply(\n",
    "    lambda row: np.sqrt(row['Sx'] ** 2 + row['Sy'] ** 2 + row['Sz'] ** 2),\n",
    "    axis=1)\n",
    "S.loc[:, 'S_abs'] = S_abs \n",
    "\n",
    "# update dataframe\n",
    "target_area_calc = pd.concat([target_area_calc, S], axis=1)"
   ]
  },
  {
   "cell_type": "code",
   "execution_count": null,
   "id": "analyzed-desktop",
   "metadata": {},
   "outputs": [],
   "source": [
    "# interpolate xz distribution of power density by using Clough-Tocher interpolation\n",
    "\n",
    "x = target_area_calc['x'].to_numpy().reshape(-1, 1)\n",
    "y = target_area_calc['y'].to_numpy().reshape(-1, 1)\n",
    "z = target_area_calc['z'].to_numpy().reshape(-1, 1)\n",
    "xz_plane_inp = np.hstack((x, z))\n",
    "i = np.abs(target_area_calc['S_abs'].to_numpy(dtype=np.complex128))\n",
    "xz_interp_fn = CloughTocher2DInterpolator(xz_plane_inp, i)\n",
    "xz_grid = np.meshgrid(np.linspace(x.min(), x.max(), 101),\n",
    "                      np.linspace(z.min(), z.max(), 101))\n",
    "i_xz = xz_interp_fn(*xz_grid)"
   ]
  },
  {
   "cell_type": "code",
   "execution_count": null,
   "id": "modular-colonial",
   "metadata": {},
   "outputs": [],
   "source": [
    "# visualize the power density distribution over the target area of interest\n",
    "\n",
    "fig_config(latex=True, scaler=2)\n",
    "fig = plt.figure()\n",
    "ax = plt.axes(projection ='3d')\n",
    "cs = ax.scatter(x, y, z, c=i, cmap='viridis')\n",
    "cbar = fig.colorbar(cs, ax=ax, pad=0.1)\n",
    "cbar.ax.set_ylabel(r'S [W/m$^2$]')\n",
    "\n",
    "ax.plot(xs, ys, zs, c='r',\n",
    "        label=(f'$\\\\lambda/2$ dipole antenna\\n'\n",
    "               f'$d = {-d * 1000}$ mm\\n'\n",
    "               f'$f = {f / 1e9}$ GHz'))\n",
    "ax.set(xlabel='$x$ [m]', ylabel='$y$ [m]', zlabel='$z$ [m]',\n",
    "       xticks=[0.0, 0.01, 0.02],\n",
    "       yticks=[-0.04, -0.03, -0.02],\n",
    "       zticks=[0.0, 0.01, 0.02])\n",
    "ax.xaxis.pane.fill = False\n",
    "ax.yaxis.pane.fill = False\n",
    "ax.zaxis.pane.fill = False\n",
    "\n",
    "ax.view_init(20, -40)\n",
    "ax.legend()\n",
    "fig.tight_layout();"
   ]
  },
  {
   "cell_type": "code",
   "execution_count": null,
   "id": "awful-mistress",
   "metadata": {},
   "outputs": [],
   "source": [
    "# visualize the interpolated distribution from the antenna point of view\n",
    "\n",
    "fig_config(latex=True, scaler=2)\n",
    "fig = plt.figure()\n",
    "ax = fig.add_subplot()\n",
    "ax.plot(head_coords['x'], head_coords['z'], 'k.', alpha=0.05, zorder=-1)\n",
    "ax.contourf(*xz_grid, i_xz, cmap='viridis')\n",
    "ax.plot(xs, zs, 'r-')\n",
    "ax.set(xlabel='$x$ [m]', ylabel='$z$ [m]',\n",
    "       aspect='equal')\n",
    "plt.show()"
   ]
  },
  {
   "cell_type": "code",
   "execution_count": null,
   "id": "twenty-positive",
   "metadata": {},
   "outputs": [],
   "source": [
    "# zoom in\n",
    "\n",
    "fig_config(latex=True, scaler=2)\n",
    "fig = plt.figure()\n",
    "ax = fig.add_subplot()\n",
    "cs = ax.imshow(i_xz, origin='lower', cmap='viridis',\n",
    "               extent=(x.min(), x.max(), z.min(), z.max()))\n",
    "ax.plot(xs, zs, 'r-')\n",
    "cbar = fig.colorbar(cs, ax=ax)\n",
    "cbar.ax.set_ylabel(r'S [W/m$^2$]')\n",
    "ax.set(xlabel='$x$ [m]', ylabel='$z$ [m]',\n",
    "       xticks=[0.005, 0.01, 0.015],\n",
    "       yticks=[0.0025, 0.01, 0.0175])\n",
    "fig.tight_layout();"
   ]
  },
  {
   "cell_type": "code",
   "execution_count": null,
   "id": "legitimate-seating",
   "metadata": {},
   "outputs": [],
   "source": []
  }
 ],
 "metadata": {
  "kernelspec": {
   "display_name": "Python 3",
   "language": "python",
   "name": "python3"
  },
  "language_info": {
   "codemirror_mode": {
    "name": "ipython",
    "version": 3
   },
   "file_extension": ".py",
   "mimetype": "text/x-python",
   "name": "python",
   "nbconvert_exporter": "python",
   "pygments_lexer": "ipython3",
   "version": "3.8.5"
  }
 },
 "nbformat": 4,
 "nbformat_minor": 5
}
