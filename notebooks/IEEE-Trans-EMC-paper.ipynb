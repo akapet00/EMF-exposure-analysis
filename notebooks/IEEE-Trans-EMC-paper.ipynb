{
 "cells": [
  {
   "cell_type": "markdown",
   "id": "thousand-equality",
   "metadata": {},
   "source": [
    "# Assessment of the incident power density on realistic spherical human head model\n",
    "\n",
    "## TO-DO\n",
    "\n",
    "- [ ] ~~adjustment of the automatic differentiation on Green's function in free space~~\n",
    "- [x] generate current for frequencies: [3.5, 6., 26., 30., 60.] GHz\n",
    "- [ ] for each frequency set the dipole-to-skin distance to: [5, 10, 15, 25, 45] mm\n",
    "- [ ] divide surface on 21x21 collocation points (Gauss-Legendre points)\n",
    "- [ ] compute E and H field for the surface area of 1 or 4 cm2\n",
    "- [ ] compute complex-valued power density distribution\n",
    "\n",
    "### Summary\n",
    "\n",
    "For frequencies below 30 GHz compute EM field values and power density over the surface of 4 cm2, for frequencies of 30 GHz and up over the surface of 1 cm2. For 26 GHz, both averaging surfaces should be taken into account.\n",
    "\n",
    "Simulations should be performed on both spherical (curved) model and planar model. Absolute difference should be plotted against frequencies in range 1 to 100 GHz."
   ]
  },
  {
   "cell_type": "code",
   "execution_count": null,
   "id": "interracial-stationery",
   "metadata": {},
   "outputs": [],
   "source": []
  }
 ],
 "metadata": {
  "kernelspec": {
   "display_name": "Python 3",
   "language": "python",
   "name": "python3"
  },
  "language_info": {
   "codemirror_mode": {
    "name": "ipython",
    "version": 3
   },
   "file_extension": ".py",
   "mimetype": "text/x-python",
   "name": "python",
   "nbconvert_exporter": "python",
   "pygments_lexer": "ipython3",
   "version": "3.8.5"
  }
 },
 "nbformat": 4,
 "nbformat_minor": 5
}
