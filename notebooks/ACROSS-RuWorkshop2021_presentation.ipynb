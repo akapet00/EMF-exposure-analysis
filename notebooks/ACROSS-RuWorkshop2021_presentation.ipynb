{
 "cells": [
  {
   "cell_type": "code",
   "execution_count": null,
   "id": "56566586-a581-49bc-9c7b-334ec3225571",
   "metadata": {},
   "outputs": [],
   "source": [
    "import os\n",
    "if os.getcwd().split(\"/\")[-1] == \"notebooks\":\n",
    "    os.chdir(os.pardir)\n",
    "\n",
    "import jax\n",
    "import jax.numpy as jnp\n",
    "from jax import grad, value_and_grad, jit, vmap\n",
    "import matplotlib.pyplot as plt\n",
    "import numpy as np\n",
    "import seaborn as sns\n",
    "from tqdm.auto import trange\n",
    "\n",
    "from src.utils.viz import fig_config, set_axes_equal"
   ]
  },
  {
   "cell_type": "code",
   "execution_count": null,
   "id": "ffab52d4-6901-4faa-9141-f991413b4671",
   "metadata": {},
   "outputs": [],
   "source": [
    "print(f'platform: {jax.lib.xla_bridge.get_backend().platform}')"
   ]
  },
  {
   "cell_type": "code",
   "execution_count": null,
   "id": "5b46f189-3580-4002-8742-758eb905a66d",
   "metadata": {},
   "outputs": [],
   "source": [
    "# jax.config.update(\"jax_enable_x64\", True)"
   ]
  },
  {
   "cell_type": "code",
   "execution_count": null,
   "id": "35912a23-899f-4351-8b70-5208d79ab8a8",
   "metadata": {},
   "outputs": [],
   "source": [
    "sns.set(style='ticks', palette='colorblind')"
   ]
  },
  {
   "cell_type": "code",
   "execution_count": null,
   "id": "17e9e96d-40bc-495d-b0c5-a089e20ef020",
   "metadata": {},
   "outputs": [],
   "source": [
    "%config InlineBackend.figure_format = 'retina'"
   ]
  },
  {
   "cell_type": "code",
   "execution_count": null,
   "id": "3d861d85-d811-45bf-8561-33d942fe3e1c",
   "metadata": {},
   "outputs": [],
   "source": [
    "PROJECT_NAME = 'ACROSS-RuWorkshop2021_presentation'"
   ]
  },
  {
   "cell_type": "code",
   "execution_count": null,
   "id": "e99773fa-9dd5-46e9-940f-96912f26b097",
   "metadata": {},
   "outputs": [],
   "source": [
    "# utils\n",
    "\n",
    "def plot_2d(xy_dict, ms=10, c=None, alpha=1):\n",
    "    \"\"\"Return figure of 2-d scatter plot.\"\"\"\n",
    "    fig = plt.figure()\n",
    "    ax = plt.axes()\n",
    "    keys = list(xy_dict.keys())\n",
    "    values = list(xy_dict.values())\n",
    "    if (len(values) == 3) and not(c):\n",
    "        cs = ax.scatter(values[0], values[1],\n",
    "                        s=ms, c=values[2], cmap='viridis')\n",
    "        cbar = fig.colorbar(cs)\n",
    "        cbar.ax.set_ylabel(keys[2])\n",
    "    else:\n",
    "        if not(c):\n",
    "            c = 'k'\n",
    "        cs = ax.scatter(values[0], values[1], s=ms, c=c, alpha=alpha)\n",
    "    ax.set(xlabel=keys[0], ylabel=keys[1])\n",
    "    \n",
    "    ax.axis('equal')\n",
    "    fig.tight_layout()\n",
    "    return fig, ax\n",
    "\n",
    "\n",
    "def plot_3d(xyz_dict, elev=20, azim=-30, ms=10, c=None, alpha=1):\n",
    "    \"\"\"Return figure of 2-d scatter plot.\"\"\"\n",
    "    fig = plt.figure()\n",
    "    ax = plt.axes(projection ='3d')\n",
    "    keys = list(xyz_dict.keys())\n",
    "    values = list(xyz_dict.values())\n",
    "    if (len(values) == 4) and not(c):\n",
    "        cs = ax.scatter(values[0], values[1], values[2],\n",
    "                        s=ms, c=values[3], cmap='viridis')\n",
    "        cbar = fig.colorbar(cs, shrink=0.5, pad=0.1)\n",
    "        cbar.ax.set_ylabel(keys[3])\n",
    "    else:\n",
    "        if not(c):\n",
    "            c = 'k'\n",
    "        cs = ax.scatter(values[0], values[1], values[2], s=ms, c=c, alpha=alpha)\n",
    "    ax.set(xlabel=keys[0], ylabel=keys[1], zlabel=keys[2])\n",
    "    ax.xaxis.pane.fill = False\n",
    "    ax.yaxis.pane.fill = False\n",
    "    ax.zaxis.pane.fill = False\n",
    "    ax = set_axes_equal(ax)\n",
    "    ax.view_init(elev, azim)\n",
    "    fig.tight_layout()\n",
    "    return fig, ax"
   ]
  },
  {
   "cell_type": "markdown",
   "id": "de7361cf-12b8-4a2d-8a3d-c0ada9941d2c",
   "metadata": {},
   "source": [
    "# Surface integral\n",
    "\n",
    "tba: opis problema"
   ]
  },
  {
   "cell_type": "code",
   "execution_count": null,
   "id": "3e077e3e-3743-4a59-8d70-129862bc876c",
   "metadata": {},
   "outputs": [],
   "source": [
    "def Z_fn(X, Y):\n",
    "    \"\"\"Return the parametrization of a paraboloid.\"\"\"\n",
    "    return 1 - X ** 2 - Y ** 2"
   ]
  },
  {
   "cell_type": "code",
   "execution_count": null,
   "id": "e174aebc-bba0-4c6f-bbe7-cdf0dc791d73",
   "metadata": {},
   "outputs": [],
   "source": [
    "# initial problem domain\n",
    "x = np.linspace(-1, 1)\n",
    "y = np.linspace(-1, 1)\n",
    "X, Y = np.meshgrid(x, y)\n",
    "Z = Z_fn(X, Y)"
   ]
  },
  {
   "cell_type": "code",
   "execution_count": null,
   "id": "b0c4eed5-78d7-46ad-a26a-621e48c24c17",
   "metadata": {},
   "outputs": [],
   "source": [
    "# visualize the domain in 3-D\n",
    "xyz_dict = {'$x$': X.flatten(),\n",
    "            '$y$': Y.flatten(),\n",
    "            '$z(x, y)$': Z.flatten()}\n",
    "fig_config(latex=True, scaler=2)\n",
    "fig, ax = plot_3d(xyz_dict)"
   ]
  },
  {
   "cell_type": "code",
   "execution_count": null,
   "id": "5b3ee3b2-1f53-4a2f-acf8-d5515c631603",
   "metadata": {},
   "outputs": [],
   "source": [
    "# visualize from the xy-plane point of view\n",
    "fig_config(latex=True, scaler=1.5)\n",
    "fig, ax = plot_2d(xyz_dict)"
   ]
  },
  {
   "cell_type": "code",
   "execution_count": null,
   "id": "0447f90a-5bd4-4de8-93c0-bede04bd9756",
   "metadata": {},
   "outputs": [],
   "source": [
    "def model(x, params):\n",
    "    \"\"\"Return the polynomial approximation over `x`.\"\"\"\n",
    "    x = jnp.atleast_2d(x)\n",
    "    degrees = [jnp.array([i, j]) for i in range(DEG+1) for j in range(DEG+1)]\n",
    "    design_matrix = jnp.stack([jnp.prod(x ** d, axis=1)\n",
    "                               for d in degrees], axis=-1)\n",
    "    y = design_matrix @ params\n",
    "    return y.flatten()\n",
    "\n",
    "\n",
    "def metric(y_true, y_pred):\n",
    "    \"\"\"Return mean squared error between true and predicted data.\"\"\"\n",
    "    return jnp.mean((y_true - y_pred) ** 2)\n",
    "\n",
    "\n",
    "def loss_fn(params, x, y):\n",
    "    \"\"\"Return loss function value for current state of parameters.\"\"\"\n",
    "    y_pred = model(x, params)\n",
    "    return metric(y, y_pred)\n",
    "\n",
    "\n",
    "# gradient of the loss function with regards to parameters\n",
    "value_and_grad_loss_fn = jit(value_and_grad(loss_fn))"
   ]
  },
  {
   "cell_type": "code",
   "execution_count": null,
   "id": "db049485-f03d-4ffd-81a3-f18f4e38c64b",
   "metadata": {},
   "outputs": [],
   "source": [
    "# surface reconstruction via polynomial fitting\n",
    "points = np.c_[X.flatten(), Y.flatten()]\n",
    "values = Z.flatten()\n",
    "DEG = 2\n",
    "init_params = np.random.randn((DEG+1) ** points.shape[1])\n",
    "lr = 0.01\n",
    "n_epochs = 10_000\n",
    "\n",
    "# fitting loop - gradient descent\n",
    "loss_value_list = []\n",
    "loss_grad_list = []\n",
    "opt_params = init_params\n",
    "for epoch in trange(n_epochs):\n",
    "    loss_value, loss_grad = value_and_grad_loss_fn(opt_params, points, values)\n",
    "    loss_value_list.append(loss_value)\n",
    "    loss_grad_list.append(loss_grad)\n",
    "    opt_params = opt_params - lr * loss_grad"
   ]
  },
  {
   "cell_type": "code",
   "execution_count": null,
   "id": "3d366b87-46a4-471f-a0fc-727b6e4d3e04",
   "metadata": {},
   "outputs": [],
   "source": [
    "# visualize in 3-D\n",
    "fig_config(latex=True, scaler=1.5)\n",
    "fig = plt.figure()\n",
    "ax = fig.add_subplot()\n",
    "ax.plot(loss_value_list, 'k')\n",
    "ax.set(xlabel='epochs', ylabel='loss', yscale='log')\n",
    "fig.tight_layout();"
   ]
  },
  {
   "cell_type": "code",
   "execution_count": null,
   "id": "e78cd446-76ea-4c8b-9821-78416194136d",
   "metadata": {},
   "outputs": [],
   "source": [
    "# generate roots and weights using Legendre polynomials\n",
    "r, w = np.polynomial.legendre.leggauss(21)\n",
    "xr = 0.5 * (r + 1.) * (x.max() - x.min()) + x.min()\n",
    "xw = 0.5 * w * (X.max() - X.min())\n",
    "yr = 0.5 * (r + 1.) * (y.max() - y.min()) + y.min()\n",
    "yw = 0.5 * w * (Y.max() - Y.min())\n",
    "Xr, Yr = np.meshgrid(xr, yr)\n",
    "Xw, Yw = np.meshgrid(xw, yw)\n",
    "Zr = model(np.c_[Xr.flatten(), Yr.flatten()], opt_params)\n",
    "\n",
    "# extract point cloud for positive z(x, y)\n",
    "mask = np.where(Zr >= 0)[0]\n",
    "Xr_target = Xr.flatten()[mask]\n",
    "Yr_target = Yr.flatten()[mask]\n",
    "Xw_target = Xw.flatten()[mask]\n",
    "Yw_target = Yw.flatten()[mask]\n",
    "Zr_target = Zr[mask]"
   ]
  },
  {
   "cell_type": "code",
   "execution_count": null,
   "id": "0fb3fdff-ee89-42da-8409-e846e022eb14",
   "metadata": {},
   "outputs": [],
   "source": [
    "# visualize from the xy-plane point of view\n",
    "xyz_dict = {'$x$': Xr_target,\n",
    "            '$y$': Yr_target,\n",
    "            r'$\\tilde{z}(x, y)$': Zr_target}\n",
    "fig_config(latex=True, scaler=1.5)\n",
    "fig, ax = plot_2d(xyz_dict)"
   ]
  },
  {
   "cell_type": "code",
   "execution_count": null,
   "id": "8058f163-eadd-4c7d-94ae-4023ae0e0e2e",
   "metadata": {},
   "outputs": [],
   "source": [
    "def z_fit(xy, params):\n",
    "    \"\"\"Return a z-value for corresponding xy-pair.\"\"\"\n",
    "    xy = jnp.atleast_2d(xy)\n",
    "    degrees = [jnp.array([i, j]) for i in range(DEG+1) for j in range(DEG+1)]\n",
    "    design_matrix = jnp.stack([jnp.prod(xy ** d, axis=1)\n",
    "                               for d in degrees], axis=-1)\n",
    "    z = design_matrix @ params\n",
    "    return z[0]\n",
    "\n",
    "\n",
    "# jacobian matrix (dz/dx, dz/dy)\n",
    "Jz = vmap(grad(z_fit), in_axes=(0, None))"
   ]
  },
  {
   "cell_type": "code",
   "execution_count": null,
   "id": "f4a7b159-565f-4754-937d-be36f6116962",
   "metadata": {},
   "outputs": [],
   "source": [
    "# normal vectors and associated absolute values\n",
    "jac = Jz(jnp.c_[Xr_target, Yr_target], opt_params)\n",
    "nx = jac[:, 0]\n",
    "ny = jac[:, 1]\n",
    "nz = np.ones_like(nx)\n",
    "n_abs = np.sqrt(nx ** 2 + ny ** 2 + 1)\n",
    "\n",
    "# unit normal vectors\n",
    "n0x = -nx / n_abs\n",
    "n0y = -ny / n_abs\n",
    "n0z = nz / n_abs\n",
    "\n",
    "# surface area\n",
    "I = sum(n_abs * Xw_target * Yw_target)\n",
    "I_theor = np.pi / 6 * (5 * np.sqrt(5) - 1)"
   ]
  },
  {
   "cell_type": "code",
   "execution_count": null,
   "id": "d2b1a402-66e6-4f54-af9c-2071d7d0f27b",
   "metadata": {},
   "outputs": [],
   "source": [
    "# 3-D visualization\n",
    "fig_config(latex=True, scaler=2)\n",
    "fig, ax = plot_3d(xyz_dict)\n",
    "\n",
    "# add normals to visualization\n",
    "ax.quiver3D(Xr_target, Yr_target, Zr_target,\n",
    "            n0x, n0y, n0z,\n",
    "            lw=0.75, arrow_length_ratio=0.25, length=0.35,\n",
    "            color='red');"
   ]
  },
  {
   "cell_type": "markdown",
   "id": "f373f6bc-62a3-4df4-9540-09f98b3656af",
   "metadata": {},
   "source": [
    "# Flux\n",
    "\n",
    "tba: opis problema"
   ]
  },
  {
   "cell_type": "code",
   "execution_count": null,
   "id": "877757bb-d117-4230-890d-4f17e20523ff",
   "metadata": {},
   "outputs": [],
   "source": [
    "def F_fn(x, y, z):\n",
    "    \"\"\"Return 3-D vector field given x, y and z coordinates.\"\"\"\n",
    "    return np.vstack((x ** 2, y ** 2, z ** 2)).T"
   ]
  },
  {
   "cell_type": "code",
   "execution_count": null,
   "id": "9023bd00-dc84-454c-a0c4-7d5786886281",
   "metadata": {},
   "outputs": [],
   "source": [
    "# vector field components in target points\n",
    "F_field = F_fn(Xr_target, Yr_target, Zr_target)\n",
    "\n",
    "# magnitude of the vector field in each point\n",
    "F_magnitude = np.linalg.norm(F_field, axis=1)"
   ]
  },
  {
   "cell_type": "code",
   "execution_count": null,
   "id": "05f3d211-99e3-48ce-a2ff-b419084460e0",
   "metadata": {},
   "outputs": [],
   "source": [
    "# 3-D visualization\n",
    "xyz_dict[r'$|\\vec{F}(x, y, z)|$'] = F_magnitude\n",
    "fig_config(latex=True, scaler=2)\n",
    "fig, ax = plot_3d(xyz_dict, ms=150, elev=35, azim=-35)\n",
    "\n",
    "# add normals to visualization\n",
    "ax.quiver3D(Xr_target, Yr_target, Zr_target,\n",
    "            n0x, n0y, n0z,\n",
    "            lw=1.5, arrow_length_ratio=0.25, length=0.35,\n",
    "            color='red');"
   ]
  },
  {
   "cell_type": "code",
   "execution_count": null,
   "id": "9c685cab-d624-405a-a9c6-b248735bdc52",
   "metadata": {},
   "outputs": [],
   "source": [
    "# scalar product between field and associated normals\n",
    "Fn = F_field[:, 0] * nx + F_field[:, 1] * ny + F_field[:, 2] * nz\n",
    "\n",
    "# Gauss quadrature\n",
    "I = sum(Fn * Xw_target * Yw_target)"
   ]
  },
  {
   "cell_type": "code",
   "execution_count": null,
   "id": "a2774315-59e6-43c1-b785-ef281bb0b478",
   "metadata": {},
   "outputs": [],
   "source": []
  }
 ],
 "metadata": {
  "kernelspec": {
   "display_name": "Python 3",
   "language": "python",
   "name": "python3"
  },
  "language_info": {
   "codemirror_mode": {
    "name": "ipython",
    "version": 3
   },
   "file_extension": ".py",
   "mimetype": "text/x-python",
   "name": "python",
   "nbconvert_exporter": "python",
   "pygments_lexer": "ipython3",
   "version": "3.8.5"
  }
 },
 "nbformat": 4,
 "nbformat_minor": 5
}
