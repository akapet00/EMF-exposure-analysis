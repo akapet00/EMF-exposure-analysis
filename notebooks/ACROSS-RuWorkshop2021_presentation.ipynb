{
 "cells": [
  {
   "cell_type": "markdown",
   "id": "c6d02f77-8625-4001-8db9-cfb4ad2d2413",
   "metadata": {},
   "source": [
    "ideja:\n",
    "- plosna integracije skalarnog i vektorskog polja na proizvoljnoj plohi\n",
    "- primjeri iz knjige Vektorska analiza - analiticka rjesenja\n",
    "- numericka rjesenja koristeci MLP\n",
    "- numericka rjesenja koristeci MLP u noisy situacijama"
   ]
  },
  {
   "cell_type": "code",
   "execution_count": null,
   "id": "56566586-a581-49bc-9c7b-334ec3225571",
   "metadata": {},
   "outputs": [],
   "source": []
  }
 ],
 "metadata": {
  "kernelspec": {
   "display_name": "Python 3",
   "language": "python",
   "name": "python3"
  },
  "language_info": {
   "codemirror_mode": {
    "name": "ipython",
    "version": 3
   },
   "file_extension": ".py",
   "mimetype": "text/x-python",
   "name": "python",
   "nbconvert_exporter": "python",
   "pygments_lexer": "ipython3",
   "version": "3.8.5"
  }
 },
 "nbformat": 4,
 "nbformat_minor": 5
}
