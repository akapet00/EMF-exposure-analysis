{
 "cells": [
  {
   "cell_type": "code",
   "execution_count": null,
   "id": "retired-visit",
   "metadata": {},
   "outputs": [],
   "source": [
    "## imports\n",
    "import os\n",
    "os.chdir(os.pardir)\n",
    "\n",
    "import matplotlib.pyplot as plt\n",
    "from matplotlib.patches import Rectangle\n",
    "import jax\n",
    "import jax.numpy as jnp\n",
    "import numpy as np\n",
    "import pandas as pd\n",
    "from scipy.io import loadmat\n",
    "\n",
    "from pycbem.field import efield, hfield\n",
    "from pycbem.utils.dataloader import (load_antenna_el_properties,\n",
    "                                     load_sphere_coords)\n",
    "from pycbem.utils.viz import fig_config"
   ]
  },
  {
   "cell_type": "code",
   "execution_count": null,
   "id": "revolutionary-monitor",
   "metadata": {},
   "outputs": [],
   "source": [
    "jax.config.update(\"jax_enable_x64\", True)"
   ]
  },
  {
   "cell_type": "code",
   "execution_count": null,
   "id": "appointed-safety",
   "metadata": {},
   "outputs": [],
   "source": [
    "%config InlineBackend.figure_format = 'retina'"
   ]
  },
  {
   "cell_type": "code",
   "execution_count": null,
   "id": "strategic-hospital",
   "metadata": {},
   "outputs": [],
   "source": [
    "# frequency\n",
    "f = 10e9\n",
    "\n",
    "# effective radiated skin area\n",
    "target_area = (0.02, 0.02)  # 2 x 2 cm2\n",
    "A = target_area[0] * target_area[1]\n",
    "d = - 15 / 1000  # distance from the antenna\n",
    "target_area_origin = (-target_area[0]/2, -target_area[1]/2)\n",
    "\n",
    "# human head -- homogenous sphere model\n",
    "r_c = load_sphere_coords(1304)\n",
    "\n",
    "# antenna electric properties (Poljak 2005)\n",
    "antenna_data = load_antenna_el_properties(f)\n",
    "Is = antenna_data.ireal.to_numpy() + antenna_data.iimag.to_numpy() * 1j\n",
    "xs = antenna_data.x.to_numpy()\n",
    "xs = xs - xs.max() / 2\n",
    "ys = np.zeros_like(xs) + r_c['y'].min() + d\n",
    "zs = np.zeros_like(xs)"
   ]
  },
  {
   "cell_type": "code",
   "execution_count": null,
   "id": "brave-plastic",
   "metadata": {},
   "outputs": [],
   "source": [
    "# E field\n",
    "E = r_c.apply(\n",
    "    lambda row: efield(row['x'], row['y'], row['z'], xs, ys, zs, Is, f),\n",
    "    axis=1, result_type='expand')\n",
    "E.columns = ['Ex', 'Ey', 'Ez']\n",
    "E_abs = E.apply(\n",
    "    lambda row: np.sqrt(row['Ex'] ** 2 + row['Ey'] ** 2 + row['Ez'] ** 2),\n",
    "    axis=1)\n",
    "E.loc[:, 'E_abs'] = E_abs\n",
    "\n",
    "# H field\n",
    "H = r_c.apply(\n",
    "    lambda row: hfield(row['x'], row['y'], row['z'], xs, ys, zs, Is, f),\n",
    "    axis=1, result_type='expand')\n",
    "H.columns = ['Hx', 'Hy', 'Hz']\n",
    "H_abs = H.apply(\n",
    "    lambda row: np.sqrt(row['Hx'] ** 2 + row['Hy'] ** 2 + row['Hz'] ** 2),\n",
    "    axis=1)\n",
    "H.loc[:, 'H_abs'] = H_abs\n",
    "\n",
    "# update dataframe\n",
    "r_c_calc = pd.concat([r_c, E, H], axis=1)\n",
    "\n",
    "# power density\n",
    "def _pd(row):\n",
    "    return (row['Ey'] * row['Hz'].conjugate()\n",
    "            - row['Ez'] * row['Hy'].conjugate(),\n",
    "            row['Ex'] * row['Hz'].conjugate(),\n",
    "            row['Ex'] * row['Hy'].conjugate())\n",
    "\n",
    "S = r_c_calc.apply(_pd, axis=1, result_type='expand')\n",
    "S.columns = ['Sx', 'Sy', 'Sz']\n",
    "S_abs = S.apply(\n",
    "    lambda row: np.sqrt(row['Sx'] ** 2 + row['Sy'] ** 2 + row['Sz'] ** 2),\n",
    "    axis=1)\n",
    "S.loc[:, 'S_abs'] = S_abs \n",
    "\n",
    "# update dataframe\n",
    "r_c_calc = pd.concat([r_c_calc, S], axis=1)\n",
    "\n",
    "# effective area\n",
    "r_c_calc_ta = r_c_calc[\n",
    "    (r_c_calc['y'] < 0) &\n",
    "    (r_c_calc['x'] > target_area_origin[0]) &\n",
    "    (r_c_calc['x'] < target_area_origin[0] * -1) &\n",
    "    (r_c_calc['z'] > target_area_origin[1]) &\n",
    "    (r_c_calc['z'] < target_area_origin[1] * -1)]\n",
    "r_c_calc_ta.reset_index(drop=True, inplace=True)"
   ]
  },
  {
   "cell_type": "code",
   "execution_count": null,
   "id": "pointed-funeral",
   "metadata": {},
   "outputs": [],
   "source": [
    "fig_config(latex=True, scaler=2.5)\n",
    "fig = plt.figure()\n",
    "ax = plt.axes(projection ='3d')\n",
    "\n",
    "cs = ax.scatter(r_c_calc['x'], r_c_calc['y'], r_c_calc['z'],\n",
    "                c=np.abs(r_c_calc['S_abs']))\n",
    "cbar = fig.colorbar(cs, ax=ax)\n",
    "cbar.ax.set_ylabel('$S$ [W/m$^2$]')\n",
    "\n",
    "ax.plot(xs, ys, zs, linestyle='-', c='r', zorder=3,\n",
    "        label=(f'$\\\\lambda/2$ dipole antenna\\n'\n",
    "               f'$d = {-d * 1000}$ mm\\n'\n",
    "               f'$f = {f / 1e9}$ GHz'))\n",
    "\n",
    "ax.set(xlabel='$x$', ylabel='$y$', zlabel='z')\n",
    "fig.legend(bbox_to_anchor=(0.5, 0.9), ncol=1, frameon=True, edgecolor='k')\n",
    "plt.show()"
   ]
  },
  {
   "cell_type": "code",
   "execution_count": null,
   "id": "stretch-trout",
   "metadata": {},
   "outputs": [],
   "source": [
    "fig_config(latex=True, scaler=2)\n",
    "fig = plt.figure()\n",
    "ax = fig.add_subplot()\n",
    "cs = ax.scatter(r_c_calc['x'], r_c_calc['z'], c=np.abs(r_c_calc['S_abs']))\n",
    "cbar = fig.colorbar(cs, ax=ax)\n",
    "cbar.ax.set_ylabel('$S$ [W/m$^2$]')\n",
    "ax.plot(xs, zs, linestyle='-', c='r',\n",
    "        label=f'$\\\\lambda/2$ dipole antenna')\n",
    "ax.add_patch(Rectangle(target_area_origin, target_area[0], target_area[1],\n",
    "                       ec='w', fc='None',\n",
    "                       label=f'effective area\\n$A = {A * 1e4}$ cm$^2$'))\n",
    "ax.set(xlabel='$x$', ylabel='z')\n",
    "ax.legend(facecolor='darkslateblue', labelcolor='white', framealpha=0.9)\n",
    "plt.show()"
   ]
  },
  {
   "cell_type": "code",
   "execution_count": null,
   "id": "wireless-employee",
   "metadata": {},
   "outputs": [],
   "source": []
  }
 ],
 "metadata": {
  "kernelspec": {
   "display_name": "Python 3",
   "language": "python",
   "name": "python3"
  },
  "language_info": {
   "codemirror_mode": {
    "name": "ipython",
    "version": 3
   },
   "file_extension": ".py",
   "mimetype": "text/x-python",
   "name": "python",
   "nbconvert_exporter": "python",
   "pygments_lexer": "ipython3",
   "version": "3.8.5"
  }
 },
 "nbformat": 4,
 "nbformat_minor": 5
}
