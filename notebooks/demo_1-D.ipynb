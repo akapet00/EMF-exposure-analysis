{
 "cells": [
  {
   "cell_type": "markdown",
   "metadata": {},
   "source": [
    "# 1-D"
   ]
  },
  {
   "cell_type": "code",
   "execution_count": null,
   "metadata": {},
   "outputs": [],
   "source": [
    "import os\n",
    "if os.getcwd().split(\"/\")[-1] == \"notebooks\":\n",
    "    os.chdir(os.pardir)\n",
    "\n",
    "import matplotlib.pyplot as plt\n",
    "import numpy as np\n",
    "\n",
    "from pycbem.bhte import init_temp, delta_temp_analytic, delta_temp\n",
    "from pycbem.constants import eps_0, mu_0\n",
    "from pycbem.utils.dataloader import load_tissue_diel_properties\n",
    "from pycbem.utils.viz import fig_config"
   ]
  },
  {
   "cell_type": "code",
   "execution_count": null,
   "metadata": {},
   "outputs": [],
   "source": [
    "%config InlineBackend.figure_format = 'retina'"
   ]
  },
  {
   "cell_type": "code",
   "execution_count": null,
   "metadata": {},
   "outputs": [],
   "source": [
    "## constants\n",
    "# dry skin bhte parameters from IT'IS database\n",
    "# https://itis.swiss/virtual-population/tissue-properties/database/\n",
    "k = 0.37       # thermal conductivity [W/m/°C]\n",
    "rho = 1109.    # dry skin density [kg/m^3]\n",
    "C = 3391.      # specific heat of dry skin [Ws/kg/°C]\n",
    "m_b = 1.76e-6  # blood perfusion [m^3/kg/s], equivalent to 106 mL/min/kg\n",
    "\n",
    "# for blood\n",
    "k_b = 0.52     # thermal conductivity [W/m/°C]\n",
    "rho_b = 1000.  # kg/m^3\n",
    "C_b = 3617.    # specific heat of blood [J/kg/°C]\n",
    "\n",
    "# additional parameters\n",
    "h_0 = 10.      # heat convection coefficient skin surface - air [W/m^2/°C]\n",
    "T_a = 37.      # arterial temperature [°C]     \n",
    "T_c = 37.      # body core temperature [°C]\n",
    "T_f = 25.      # surrounding air temperature [°C]\n",
    "Q_m = 33800.   # metabolic heat generation [W/m^3]"
   ]
  },
  {
   "cell_type": "markdown",
   "metadata": {},
   "source": [
    "## 1-D bioheat transfer equation in time\n",
    "\n",
    "Comparisson of the spectral method time domain solution and the analytic solution proposed in Foster et al. 2016.\\\n",
    "Initial temperature distribution is obtained via an analytic expression proposed in Deng et al. 2002."
   ]
  },
  {
   "cell_type": "markdown",
   "metadata": {},
   "source": [
    "### Setup"
   ]
  },
  {
   "cell_type": "code",
   "execution_count": null,
   "metadata": {},
   "outputs": [],
   "source": [
    "# frequency\n",
    "f = 6e9\n",
    "\n",
    "# conductivity, relative permitivity, tangent loss and penetration depth\n",
    "# from Gabriel et al. 1996\n",
    "sigma, eps_r, tan_loss, pen_depth = load_tissue_diel_properties('skin_dry', f)\n",
    "\n",
    "# `pen_depth` is the energy penetration depth into tissue, which is defined as\n",
    "# the distance beneath the surface at which the SAR has fallen to a factor of\n",
    "# 1/e below that at the surface; one-half of the more commonly reported wave\n",
    "# penetration depth\n",
    "pen_depth = pen_depth / 2\n",
    "\n",
    "# air (vacuum) resistance \n",
    "Z_air = np.sqrt(mu_0 / eps_0)\n",
    "\n",
    "# dry skin resistance\n",
    "Z_skin_dry = np.sqrt(mu_0 / (eps_r * eps_0))\n",
    "\n",
    "# energy (Fresnel) transmission coefficient into the tissue\n",
    "T_tr = 2 * Z_skin_dry / (Z_air + Z_skin_dry)\n",
    "\n",
    "# I0 T_Tr = 10 W/m^2 at 6 GHz\n",
    "I0 = 10. / T_tr"
   ]
  },
  {
   "cell_type": "markdown",
   "metadata": {},
   "source": [
    "### Simulation"
   ]
  },
  {
   "cell_type": "code",
   "execution_count": null,
   "metadata": {},
   "outputs": [],
   "source": [
    "# exposure time in seconds\n",
    "sim_time = 360\n",
    "t = np.linspace(0, sim_time, 101)\n",
    "\n",
    "# number of collocation points for domain discretization\n",
    "N = 101\n",
    "\n",
    "# run\n",
    "deltaT = delta_temp(t, N, pen_depth, k, rho, C, m_b, I0, T_tr)"
   ]
  },
  {
   "cell_type": "markdown",
   "metadata": {},
   "source": [
    "### Visualizations"
   ]
  },
  {
   "cell_type": "markdown",
   "metadata": {},
   "source": [
    "Temperature change on dry skin surface during a constant mmWave exposure."
   ]
  },
  {
   "cell_type": "code",
   "execution_count": null,
   "metadata": {},
   "outputs": [],
   "source": [
    "fig_config(scaler=1.25)\n",
    "fig = plt.figure()\n",
    "ax = fig.add_subplot()\n",
    "ax.plot(t, delta_temp_analytic(t, pen_depth, k, rho, C, I0, T_tr), 'k--',\n",
    "        label='$\\\\Delta T(t, z=0)$, Foster et al.')\n",
    "ax.plot(t, deltaT[:, 0], 'k-', label='$\\\\Delta T(t, z=0)$, 1-D PSTD')\n",
    "ax.set_xlabel('$t$ [s]')\n",
    "ax.set_ylabel('$\\\\Delta T$ [°C]')\n",
    "ax.legend()\n",
    "ax.grid()\n",
    "plt.tight_layout()\n",
    "plt.show()"
   ]
  },
  {
   "cell_type": "markdown",
   "metadata": {},
   "source": [
    "Temperature evolution on the surface and the distribution of temperature before (Deng2002) and after the exposure."
   ]
  },
  {
   "cell_type": "code",
   "execution_count": null,
   "metadata": {},
   "outputs": [],
   "source": [
    "dx = pen_depth / N\n",
    "z = np.linspace(0, pen_depth, N)\n",
    "T0 = init_temp(z, k, rho, C, rho_b, C_b, m_b, h_0, T_a, T_c, T_f, Q_m)\n",
    "T = T0 + deltaT\n",
    "\n",
    "fig_config(nrows=1, ncols=2, scaler=1.25)\n",
    "fig = plt.figure()\n",
    "ax1 = fig.add_subplot(1, 2, 1)\n",
    "ax1.plot(t, np.ones_like(t) * T0[0], 'k--', label='$T(z=0)$, Deng et al.')\n",
    "ax1.plot(t, T[:, 0], 'k-', label='$T(t, z=0)$, 1-D PSTD')\n",
    "ax1.set_xlabel('$t$ [s]')\n",
    "ax1.set_ylabel('$T$ [°C]')\n",
    "ax1.legend()\n",
    "ax1.grid()\n",
    "\n",
    "ax2 = fig.add_subplot(1, 2, 2)\n",
    "ax2.plot(z * 1e3, T0, 'k--',label='$T(z)$, Deng et al.')\n",
    "ax2.plot(z * 1e3, T[-1, :], 'k-', label=f'$T(t={int(t[-1])}, z)$, 1-D PSTD')\n",
    "ax2.set_xlabel('$z$ [mm]')\n",
    "ax2.set_ylabel('$T$ [°C]')\n",
    "ax2.legend()\n",
    "ax2.grid()\n",
    "plt.tight_layout()\n",
    "plt.show()"
   ]
  },
  {
   "cell_type": "markdown",
   "metadata": {},
   "source": [
    "### Proper orthogonal decomposition of the system dynamics"
   ]
  },
  {
   "cell_type": "code",
   "execution_count": null,
   "metadata": {},
   "outputs": [],
   "source": [
    "U, S, VT = np.linalg.svd(deltaT.T)\n",
    "\n",
    "# the most significant orthogonal modes in the model\n",
    "fig_config(nrows=1, ncols=2, scaler=1.25)\n",
    "fig = plt.figure()\n",
    "ax1 = fig.add_subplot(1, 2, 1)\n",
    "ax1.semilogy(100 * S / np.sum(S), 'k.')\n",
    "ax1.semilogy(0, 100 * S[0] / np.sum(S), 'ro')\n",
    "ax1.semilogy(1, 100 * S[1] / np.sum(S), 'go')\n",
    "ax1.semilogy(2, 100 * S[2] / np.sum(S), 'bo')\n",
    "ax1.set_xlabel('k')\n",
    "ax1.set_ylabel('$\\\\sigma_k$')\n",
    "ax1.grid()\n",
    "\n",
    "n_modes = 3\n",
    "color = ['r', 'g', 'b']\n",
    "linewidth = [2.5, 2, 1.5]\n",
    "alpha = [1, 0.9, 0.8]\n",
    "ax2 = fig.add_subplot(1, 2, 2)\n",
    "for idx in range(n_modes):\n",
    "    ax2.plot(z * 1e3, np.real(U[:, idx]), c=color[idx],\n",
    "             linewidth=linewidth[idx], alpha=alpha[idx], label=f'{idx + 1}')\n",
    "ax2.set_ylim(1.1 * np.min(U[:, 1].real), 1.1 * np.max(U[:, 1].real))\n",
    "ax2.set_xlabel('tissue depth [mm]')\n",
    "ax2.set_ylabel('$\\\\Psi_k$')\n",
    "ax2.grid()\n",
    "ax2.legend(loc='lower right')\n",
    "\n",
    "plt.tight_layout()\n",
    "plt.show()"
   ]
  },
  {
   "cell_type": "code",
   "execution_count": null,
   "metadata": {},
   "outputs": [],
   "source": []
  }
 ],
 "metadata": {
  "kernelspec": {
   "display_name": "Python 3",
   "language": "python",
   "name": "python3"
  },
  "language_info": {
   "codemirror_mode": {
    "name": "ipython",
    "version": 3
   },
   "file_extension": ".py",
   "mimetype": "text/x-python",
   "name": "python",
   "nbconvert_exporter": "python",
   "pygments_lexer": "ipython3",
   "version": "3.8.5"
  }
 },
 "nbformat": 4,
 "nbformat_minor": 4
}
